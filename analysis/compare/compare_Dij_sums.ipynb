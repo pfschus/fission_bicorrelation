{
 "cells": [
  {
   "cell_type": "markdown",
   "metadata": {},
   "source": [
    "# Compare $D_{ij}$ sums\n",
    "\n",
    "Calculate for Table 1 in the paper."
   ]
  },
  {
   "cell_type": "code",
   "execution_count": 1,
   "metadata": {},
   "outputs": [],
   "source": [
    "%matplotlib notebook"
   ]
  },
  {
   "cell_type": "code",
   "execution_count": 2,
   "metadata": {},
   "outputs": [],
   "source": [
    "import os\n",
    "import sys\n",
    "import numpy as np\n",
    "import scipy.io as sio\n",
    "import matplotlib.pyplot as plt\n",
    "from matplotlib.ticker import (MultipleLocator, FormatStrFormatter, AutoMinorLocator)\n",
    "import pandas as pd"
   ]
  },
  {
   "cell_type": "code",
   "execution_count": 3,
   "metadata": {},
   "outputs": [
    {
     "data": {
      "text/plain": [
       "'C:\\\\Users\\\\pfschus\\\\Box Sync\\\\Projects\\\\fnpc\\\\analysis'"
      ]
     },
     "execution_count": 3,
     "metadata": {},
     "output_type": "execute_result"
    }
   ],
   "source": [
    "os.chdir('..')\n",
    "os.getcwd()"
   ]
  },
  {
   "cell_type": "code",
   "execution_count": 4,
   "metadata": {},
   "outputs": [],
   "source": [
    "sys.path.append('../scripts/')"
   ]
  },
  {
   "cell_type": "code",
   "execution_count": 5,
   "metadata": {},
   "outputs": [],
   "source": [
    "import bicorr as bicorr\n",
    "import bicorr_e as bicorr_e\n",
    "import bicorr_plot as bicorr_plot\n",
    "import bicorr_math as bicorr_math\n",
    "import bicorr_sums as bicorr_sums"
   ]
  },
  {
   "cell_type": "markdown",
   "metadata": {},
   "source": [
    "# Load `det_df`"
   ]
  },
  {
   "cell_type": "code",
   "execution_count": 6,
   "metadata": {},
   "outputs": [
    {
     "data": {
      "text/html": [
       "<div>\n",
       "<style scoped>\n",
       "    .dataframe tbody tr th:only-of-type {\n",
       "        vertical-align: middle;\n",
       "    }\n",
       "\n",
       "    .dataframe tbody tr th {\n",
       "        vertical-align: top;\n",
       "    }\n",
       "\n",
       "    .dataframe thead th {\n",
       "        text-align: right;\n",
       "    }\n",
       "</style>\n",
       "<table border=\"1\" class=\"dataframe\">\n",
       "  <thead>\n",
       "    <tr style=\"text-align: right;\">\n",
       "      <th></th>\n",
       "      <th>d1</th>\n",
       "      <th>d2</th>\n",
       "      <th>d1d2</th>\n",
       "      <th>angle</th>\n",
       "    </tr>\n",
       "  </thead>\n",
       "  <tbody>\n",
       "    <tr>\n",
       "      <th>0</th>\n",
       "      <td>1</td>\n",
       "      <td>2</td>\n",
       "      <td>102</td>\n",
       "      <td>15.0</td>\n",
       "    </tr>\n",
       "    <tr>\n",
       "      <th>1</th>\n",
       "      <td>1</td>\n",
       "      <td>3</td>\n",
       "      <td>103</td>\n",
       "      <td>30.0</td>\n",
       "    </tr>\n",
       "    <tr>\n",
       "      <th>2</th>\n",
       "      <td>1</td>\n",
       "      <td>4</td>\n",
       "      <td>104</td>\n",
       "      <td>45.0</td>\n",
       "    </tr>\n",
       "    <tr>\n",
       "      <th>3</th>\n",
       "      <td>1</td>\n",
       "      <td>5</td>\n",
       "      <td>105</td>\n",
       "      <td>60.0</td>\n",
       "    </tr>\n",
       "    <tr>\n",
       "      <th>4</th>\n",
       "      <td>1</td>\n",
       "      <td>6</td>\n",
       "      <td>106</td>\n",
       "      <td>75.0</td>\n",
       "    </tr>\n",
       "  </tbody>\n",
       "</table>\n",
       "</div>"
      ],
      "text/plain": [
       "   d1  d2  d1d2  angle\n",
       "0   1   2   102   15.0\n",
       "1   1   3   103   30.0\n",
       "2   1   4   104   45.0\n",
       "3   1   5   105   60.0\n",
       "4   1   6   106   75.0"
      ]
     },
     "execution_count": 6,
     "metadata": {},
     "output_type": "execute_result"
    }
   ],
   "source": [
    "det_df = bicorr.load_det_df('../meas_info/det_df_pairs_angles.csv')\n",
    "det_df.head()"
   ]
  },
  {
   "cell_type": "markdown",
   "metadata": {},
   "source": [
    "# Set energy range"
   ]
  },
  {
   "cell_type": "code",
   "execution_count": 7,
   "metadata": {},
   "outputs": [],
   "source": [
    "e_min = 1\n",
    "e_max = 4"
   ]
  },
  {
   "cell_type": "markdown",
   "metadata": {},
   "source": [
    "# Load `bhm_e` data"
   ]
  },
  {
   "cell_type": "code",
   "execution_count": 8,
   "metadata": {},
   "outputs": [],
   "source": [
    "legends =['Experiment', 'CGMF',      'FREYA',      'PoliMi',    'PoliMi-No CT']\n",
    "fmts   = ['x',          's',         'D',          'o',         '^']\n",
    "colors = ['#5d269b',    '#dd673b',   '#80bc31',    '#3cbfe0',   '#4242f4']\n",
    "\n",
    "to_plot = [0,1,2,3,4]"
   ]
  },
  {
   "cell_type": "code",
   "execution_count": 9,
   "metadata": {},
   "outputs": [
    {
     "name": "stdout",
     "output_type": "stream",
     "text": [
      "Combined across folders\n",
      "Original file: bicorrCGMF\n",
      "Original file: bicorrFREYAaf\n",
      "Original file: bicorrIPOLac\n",
      "Original file: bicorrIPOLac\n"
     ]
    }
   ],
   "source": [
    "bhm_e_meas, e_bin_edges, note = bicorr_e.load_bhm_e('../analysis/Cf072115_to_Cf072215b/datap'); print(note)\n",
    "bhm_e_cgmf, e_bin_edges, note = bicorr_e.load_bhm_e('../analysis/cgmf/datap'); print(note)\n",
    "bhm_e_freya,e_bin_edges, note = bicorr_e.load_bhm_e('../analysis/freya/datap'); print(note)\n",
    "bhm_e_ipol, e_bin_edges, note = bicorr_e.load_bhm_e('../analysis/ipol/datap'); print(note)\n",
    "bhm_e_ipol_noct, e_bin_edges, note = bicorr_e.load_bhm_e('../analysis/ipol_noct/datap'); print(note)"
   ]
  },
  {
   "cell_type": "code",
   "execution_count": 10,
   "metadata": {},
   "outputs": [
    {
     "name": "stdout",
     "output_type": "stream",
     "text": [
      "(990,)\n"
     ]
    }
   ],
   "source": [
    "index = bicorr.generate_pair_is(det_df, ignore_fc_neighbors_flag=False)\n",
    "print(index.shape)\n",
    "bhp_e_meas = bicorr_e.build_bhp_e(bhm_e_meas, e_bin_edges, pair_is = index)[0]\n",
    "bhp_e_cgmf = bicorr_e.build_bhp_e(bhm_e_cgmf, e_bin_edges, pair_is = index)[0]\n",
    "bhp_e_freya= bicorr_e.build_bhp_e(bhm_e_freya,e_bin_edges, pair_is = index)[0]\n",
    "bhp_e_ipol = bicorr_e.build_bhp_e(bhm_e_ipol, e_bin_edges, pair_is = index)[0]\n",
    "bhp_e_ipol_noct = bicorr_e.build_bhp_e(bhm_e_ipol_noct, e_bin_edges, pair_is = index)[0]\n",
    "bhp_es = [bhp_e_meas,\n",
    "          bhp_e_cgmf, \n",
    "          bhp_e_freya, \n",
    "          bhp_e_ipol, \n",
    "          bhp_e_ipol_noct]"
   ]
  },
  {
   "cell_type": "markdown",
   "metadata": {},
   "source": [
    "Load `num_fission`"
   ]
  },
  {
   "cell_type": "code",
   "execution_count": 11,
   "metadata": {},
   "outputs": [
    {
     "name": "stdout",
     "output_type": "stream",
     "text": [
      "[1422133977, 192000000, 1000000000, 1000000000, 1000000000]\n"
     ]
    }
   ],
   "source": [
    "num_fission_meas = int(int(sio.loadmat('Cf072115_to_Cf072215b/datap/num_fissions.mat')['num_fissions'])*float(sio.loadmat('Cf072115_to_Cf072215b/datap/fc_efficiency.mat')['fc_efficiency']))\n",
    "num_fission_cgmf = int(sio.loadmat('cgmf/datap/num_fissions.mat')['num_fissions'])\n",
    "num_fission_freya= int(sio.loadmat('freya/datap/num_fissions.mat')['num_fissions'])\n",
    "num_fission_ipol = int(sio.loadmat('ipol/datap/num_fissions.mat')['num_fissions'])\n",
    "num_fission_ipol_noct = int(sio.loadmat('ipol_noct/datap/num_fissions.mat')['num_fissions'])\n",
    "num_fissions = [num_fission_meas,\n",
    "                num_fission_cgmf,\n",
    "                num_fission_freya,\n",
    "                num_fission_ipol,\n",
    "                num_fission_ipol_noct]\n",
    "print(num_fissions)"
   ]
  },
  {
   "cell_type": "markdown",
   "metadata": {},
   "source": [
    "# Set up a table for storing data"
   ]
  },
  {
   "cell_type": "code",
   "execution_count": 12,
   "metadata": {},
   "outputs": [
    {
     "data": {
      "text/html": [
       "<div>\n",
       "<style scoped>\n",
       "    .dataframe tbody tr th:only-of-type {\n",
       "        vertical-align: middle;\n",
       "    }\n",
       "\n",
       "    .dataframe tbody tr th {\n",
       "        vertical-align: top;\n",
       "    }\n",
       "\n",
       "    .dataframe thead th {\n",
       "        text-align: right;\n",
       "    }\n",
       "</style>\n",
       "<table border=\"1\" class=\"dataframe\">\n",
       "  <thead>\n",
       "    <tr style=\"text-align: right;\">\n",
       "      <th></th>\n",
       "      <th>dataset</th>\n",
       "      <th>num_fissions</th>\n",
       "      <th>Cd</th>\n",
       "      <th>Cd_err</th>\n",
       "    </tr>\n",
       "  </thead>\n",
       "  <tbody>\n",
       "    <tr>\n",
       "      <th>0</th>\n",
       "      <td>Experiment</td>\n",
       "      <td>1422133977</td>\n",
       "      <td>NaN</td>\n",
       "      <td>NaN</td>\n",
       "    </tr>\n",
       "    <tr>\n",
       "      <th>1</th>\n",
       "      <td>CGMF</td>\n",
       "      <td>192000000</td>\n",
       "      <td>NaN</td>\n",
       "      <td>NaN</td>\n",
       "    </tr>\n",
       "    <tr>\n",
       "      <th>2</th>\n",
       "      <td>FREYA</td>\n",
       "      <td>1000000000</td>\n",
       "      <td>NaN</td>\n",
       "      <td>NaN</td>\n",
       "    </tr>\n",
       "    <tr>\n",
       "      <th>3</th>\n",
       "      <td>PoliMi</td>\n",
       "      <td>1000000000</td>\n",
       "      <td>NaN</td>\n",
       "      <td>NaN</td>\n",
       "    </tr>\n",
       "    <tr>\n",
       "      <th>4</th>\n",
       "      <td>PoliMi-No CT</td>\n",
       "      <td>1000000000</td>\n",
       "      <td>NaN</td>\n",
       "      <td>NaN</td>\n",
       "    </tr>\n",
       "  </tbody>\n",
       "</table>\n",
       "</div>"
      ],
      "text/plain": [
       "        dataset  num_fissions  Cd  Cd_err\n",
       "0    Experiment    1422133977 NaN     NaN\n",
       "1          CGMF     192000000 NaN     NaN\n",
       "2         FREYA    1000000000 NaN     NaN\n",
       "3        PoliMi    1000000000 NaN     NaN\n",
       "4  PoliMi-No CT    1000000000 NaN     NaN"
      ]
     },
     "execution_count": 12,
     "metadata": {},
     "output_type": "execute_result"
    }
   ],
   "source": [
    "counts_df = pd.DataFrame({'dataset':legends,'num_fissions':num_fissions},index=to_plot)\n",
    "counts_df['Cd'] = np.nan\n",
    "counts_df['Cd_err'] = np.nan\n",
    "counts_df.head()"
   ]
  },
  {
   "cell_type": "code",
   "execution_count": 13,
   "metadata": {},
   "outputs": [
    {
     "data": {
      "text/html": [
       "<div>\n",
       "<style scoped>\n",
       "    .dataframe tbody tr th:only-of-type {\n",
       "        vertical-align: middle;\n",
       "    }\n",
       "\n",
       "    .dataframe tbody tr th {\n",
       "        vertical-align: top;\n",
       "    }\n",
       "\n",
       "    .dataframe thead th {\n",
       "        text-align: right;\n",
       "    }\n",
       "</style>\n",
       "<table border=\"1\" class=\"dataframe\">\n",
       "  <thead>\n",
       "    <tr style=\"text-align: right;\">\n",
       "      <th></th>\n",
       "      <th>dataset</th>\n",
       "      <th>num_fissions</th>\n",
       "      <th>Cd</th>\n",
       "      <th>Cd_err</th>\n",
       "    </tr>\n",
       "  </thead>\n",
       "  <tbody>\n",
       "    <tr>\n",
       "      <th>0</th>\n",
       "      <td>Experiment</td>\n",
       "      <td>1422133977</td>\n",
       "      <td>3941986.0</td>\n",
       "      <td>1985.443527</td>\n",
       "    </tr>\n",
       "    <tr>\n",
       "      <th>1</th>\n",
       "      <td>CGMF</td>\n",
       "      <td>192000000</td>\n",
       "      <td>726824.0</td>\n",
       "      <td>852.539735</td>\n",
       "    </tr>\n",
       "    <tr>\n",
       "      <th>2</th>\n",
       "      <td>FREYA</td>\n",
       "      <td>1000000000</td>\n",
       "      <td>2978063.0</td>\n",
       "      <td>1725.706522</td>\n",
       "    </tr>\n",
       "    <tr>\n",
       "      <th>3</th>\n",
       "      <td>PoliMi</td>\n",
       "      <td>1000000000</td>\n",
       "      <td>3409458.0</td>\n",
       "      <td>1846.471771</td>\n",
       "    </tr>\n",
       "    <tr>\n",
       "      <th>4</th>\n",
       "      <td>PoliMi-No CT</td>\n",
       "      <td>1000000000</td>\n",
       "      <td>3276436.0</td>\n",
       "      <td>1810.092815</td>\n",
       "    </tr>\n",
       "  </tbody>\n",
       "</table>\n",
       "</div>"
      ],
      "text/plain": [
       "        dataset  num_fissions         Cd       Cd_err\n",
       "0    Experiment    1422133977  3941986.0  1985.443527\n",
       "1          CGMF     192000000   726824.0   852.539735\n",
       "2         FREYA    1000000000  2978063.0  1725.706522\n",
       "3        PoliMi    1000000000  3409458.0  1846.471771\n",
       "4  PoliMi-No CT    1000000000  3276436.0  1810.092815"
      ]
     },
     "execution_count": 13,
     "metadata": {},
     "output_type": "execute_result"
    }
   ],
   "source": [
    "for i in to_plot:\n",
    "    bhp_e = bhp_es[i]\n",
    "    counts_df.loc[i,'Cd'], counts_df.loc[i,'Cd_err'], energies_real = bicorr_sums.calc_nn_sum_e(bhp_e, e_bin_edges, e_min = e_min, e_max = e_max, return_real_energies_flag=True)\n",
    "counts_df"
   ]
  },
  {
   "cell_type": "code",
   "execution_count": 15,
   "metadata": {},
   "outputs": [],
   "source": [
    "counts_df['Cd per million fission'] = 10**6 * counts_df['Cd'] / counts_df['num_fissions']\n",
    "counts_df['Cd_err per million fission'] = 10**6 * counts_df['Cd_err'] / counts_df['num_fissions']"
   ]
  },
  {
   "cell_type": "code",
   "execution_count": 16,
   "metadata": {},
   "outputs": [
    {
     "data": {
      "text/html": [
       "<div>\n",
       "<style scoped>\n",
       "    .dataframe tbody tr th:only-of-type {\n",
       "        vertical-align: middle;\n",
       "    }\n",
       "\n",
       "    .dataframe tbody tr th {\n",
       "        vertical-align: top;\n",
       "    }\n",
       "\n",
       "    .dataframe thead th {\n",
       "        text-align: right;\n",
       "    }\n",
       "</style>\n",
       "<table border=\"1\" class=\"dataframe\">\n",
       "  <thead>\n",
       "    <tr style=\"text-align: right;\">\n",
       "      <th></th>\n",
       "      <th>dataset</th>\n",
       "      <th>num_fissions</th>\n",
       "      <th>Cd</th>\n",
       "      <th>Cd_err</th>\n",
       "      <th>Cd per million fission</th>\n",
       "      <th>Cd_err per million fission</th>\n",
       "    </tr>\n",
       "  </thead>\n",
       "  <tbody>\n",
       "    <tr>\n",
       "      <th>0</th>\n",
       "      <td>Experiment</td>\n",
       "      <td>1422133977</td>\n",
       "      <td>3941986.0</td>\n",
       "      <td>1985.443527</td>\n",
       "      <td>2771.880894</td>\n",
       "      <td>1.396102</td>\n",
       "    </tr>\n",
       "    <tr>\n",
       "      <th>1</th>\n",
       "      <td>CGMF</td>\n",
       "      <td>192000000</td>\n",
       "      <td>726824.0</td>\n",
       "      <td>852.539735</td>\n",
       "      <td>3785.541667</td>\n",
       "      <td>4.440311</td>\n",
       "    </tr>\n",
       "    <tr>\n",
       "      <th>2</th>\n",
       "      <td>FREYA</td>\n",
       "      <td>1000000000</td>\n",
       "      <td>2978063.0</td>\n",
       "      <td>1725.706522</td>\n",
       "      <td>2978.063000</td>\n",
       "      <td>1.725707</td>\n",
       "    </tr>\n",
       "    <tr>\n",
       "      <th>3</th>\n",
       "      <td>PoliMi</td>\n",
       "      <td>1000000000</td>\n",
       "      <td>3409458.0</td>\n",
       "      <td>1846.471771</td>\n",
       "      <td>3409.458000</td>\n",
       "      <td>1.846472</td>\n",
       "    </tr>\n",
       "    <tr>\n",
       "      <th>4</th>\n",
       "      <td>PoliMi-No CT</td>\n",
       "      <td>1000000000</td>\n",
       "      <td>3276436.0</td>\n",
       "      <td>1810.092815</td>\n",
       "      <td>3276.436000</td>\n",
       "      <td>1.810093</td>\n",
       "    </tr>\n",
       "  </tbody>\n",
       "</table>\n",
       "</div>"
      ],
      "text/plain": [
       "        dataset  num_fissions         Cd       Cd_err  Cd per million fission  \\\n",
       "0    Experiment    1422133977  3941986.0  1985.443527             2771.880894   \n",
       "1          CGMF     192000000   726824.0   852.539735             3785.541667   \n",
       "2         FREYA    1000000000  2978063.0  1725.706522             2978.063000   \n",
       "3        PoliMi    1000000000  3409458.0  1846.471771             3409.458000   \n",
       "4  PoliMi-No CT    1000000000  3276436.0  1810.092815             3276.436000   \n",
       "\n",
       "   Cd_err per million fission  \n",
       "0                    1.396102  \n",
       "1                    4.440311  \n",
       "2                    1.725707  \n",
       "3                    1.846472  \n",
       "4                    1.810093  "
      ]
     },
     "execution_count": 16,
     "metadata": {},
     "output_type": "execute_result"
    }
   ],
   "source": [
    "counts_df"
   ]
  },
  {
   "cell_type": "code",
   "execution_count": 17,
   "metadata": {},
   "outputs": [],
   "source": [
    "counts_df.to_csv(r'compare/doubles_counts_df.csv')"
   ]
  },
  {
   "cell_type": "code",
   "execution_count": 20,
   "metadata": {},
   "outputs": [
    {
     "name": "stdout",
     "output_type": "stream",
     "text": [
      "\\begin{tabular}{lrrrrr}\n",
      "\\toprule\n",
      "      dataset &  num\\_fissions &         Cd &       Cd\\_err &  Cd per million fission &  Cd\\_err per million fission \\\\\n",
      "\\midrule\n",
      "   Experiment &    1422133977 &  3941986.0 &  1985.443527 &             2771.880894 &                    1.396102 \\\\\n",
      "         CGMF &     192000000 &   726824.0 &   852.539735 &             3785.541667 &                    4.440311 \\\\\n",
      "        FREYA &    1000000000 &  2978063.0 &  1725.706522 &             2978.063000 &                    1.725707 \\\\\n",
      "       PoliMi &    1000000000 &  3409458.0 &  1846.471771 &             3409.458000 &                    1.846472 \\\\\n",
      " PoliMi-No CT &    1000000000 &  3276436.0 &  1810.092815 &             3276.436000 &                    1.810093 \\\\\n",
      "\\bottomrule\n",
      "\\end{tabular}\n",
      "\n"
     ]
    }
   ],
   "source": [
    "print(counts_df.to_latex(columns=['dataset','num_fissions','Cd','Cd_err','Cd per million fission','Cd_err per million fission'],index=False))"
   ]
  },
  {
   "cell_type": "code",
   "execution_count": null,
   "metadata": {},
   "outputs": [],
   "source": []
  }
 ],
 "metadata": {
  "kernelspec": {
   "display_name": "Python [conda env:Anaconda3]",
   "language": "python",
   "name": "conda-env-Anaconda3-py"
  },
  "language_info": {
   "codemirror_mode": {
    "name": "ipython",
    "version": 3
   },
   "file_extension": ".py",
   "mimetype": "text/x-python",
   "name": "python",
   "nbconvert_exporter": "python",
   "pygments_lexer": "ipython3",
   "version": "3.5.5"
  }
 },
 "nbformat": 4,
 "nbformat_minor": 2
}
