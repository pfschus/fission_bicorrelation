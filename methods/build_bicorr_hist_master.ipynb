{
 "cells": [
  {
   "cell_type": "markdown",
   "metadata": {},
   "source": [
    "<div id=\"toc\"></div>"
   ]
  },
  {
   "cell_type": "markdown",
   "metadata": {},
   "source": [
    "<div id=\"toc\"></div>"
   ]
  },
  {
   "cell_type": "code",
   "execution_count": 1,
   "metadata": {
    "collapsed": false
   },
   "outputs": [
    {
     "data": {
      "application/javascript": [
       "$.getScript('https://kmahelona.github.io/ipython_notebook_goodies/ipython_notebook_toc.js')"
      ],
      "text/plain": [
       "<IPython.core.display.Javascript object>"
      ]
     },
     "metadata": {},
     "output_type": "display_data"
    }
   ],
   "source": [
    "%%javascript\n",
    "$.getScript('https://kmahelona.github.io/ipython_notebook_goodies/ipython_notebook_toc.js')"
   ]
  },
  {
   "cell_type": "markdown",
   "metadata": {},
   "source": [
    "# Build Bicorrelation Histogram\n",
    "Author: Patricia Schuster  \n",
    "Affiliation: University of Michigan  \n",
    "Date: January 2017\n",
    "\n",
    "Updates:  \n",
    "* 6/30/2017: Implement usage of `det_df` for `alloc_bhm` and `fill_bhm` (Steps 4, 5)  \n",
    "* 7/5/2017: Update `built_bhm` to use `det_df`, take `dt_bin_edges` as input (Functionalize)"
   ]
  },
  {
   "cell_type": "markdown",
   "metadata": {},
   "source": [
    "# Goal\n",
    "My goal is to build a script or notebook that will produce bicorrelation plots for the FNPC fission CVT project.\n",
    "\n",
    "The plots will be 2d histograms of $\\Delta t_1$ vs. $\\Delta t_2$ for two detectors, where $\\Delta t$ for each detector is the time of an interaction relative to the time of the corresponding fission chamber interaction. \n",
    "\n",
    "Steps in the analysis:\n",
    "\n",
    "1) Load the data from `bicorr1` (produced by `bicorr.generate_bicorr`)  \n",
    "2) Make some benchmark plots to make sure the `bicorr1` data looks like what we expect  \n",
    "3) Fill a giant matrix with histogram information about detector pair interactions  "
   ]
  },
  {
   "cell_type": "code",
   "execution_count": 1,
   "metadata": {
    "collapsed": false
   },
   "outputs": [],
   "source": [
    "import matplotlib.pyplot as plt\n",
    "import matplotlib.colors\n",
    "import numpy as np\n",
    "import os\n",
    "import scipy.io as sio\n",
    "import sys\n",
    "import time\n",
    "import inspect\n",
    "import pandas as pd\n",
    "from tqdm import *\n",
    "\n",
    "# Plot entire array\n",
    "np.set_printoptions(threshold=np.nan)"
   ]
  },
  {
   "cell_type": "code",
   "execution_count": 2,
   "metadata": {
    "collapsed": false
   },
   "outputs": [],
   "source": [
    "import seaborn as sns\n",
    "sns.set_palette('spectral')"
   ]
  },
  {
   "cell_type": "code",
   "execution_count": 3,
   "metadata": {
    "collapsed": false
   },
   "outputs": [],
   "source": [
    "sys.path.append('../scripts/')\n",
    "import bicorr as bicorr"
   ]
  },
  {
   "cell_type": "code",
   "execution_count": 4,
   "metadata": {
    "collapsed": false
   },
   "outputs": [],
   "source": [
    "%load_ext autoreload\n",
    "%autoreload 2"
   ]
  },
  {
   "cell_type": "markdown",
   "metadata": {},
   "source": [
    "# Step 1) Load the data from `bicorr1`\n",
    "\n",
    "I need to load the `bicorr#` file from each subfolder. Start by using the same technique I used to import the `cced` file. I built this into a function called `bicorr.load_bicorr`."
   ]
  },
  {
   "cell_type": "code",
   "execution_count": 5,
   "metadata": {
    "collapsed": false
   },
   "outputs": [
    {
     "name": "stdout",
     "output_type": "stream",
     "text": [
      "Help on function load_bicorr in module bicorr:\n",
      "\n",
      "load_bicorr(folder_number=None, bicorr_path=None, root_path=None)\n",
      "    Load a data matrix of bicorr data into current python session\n",
      "    \n",
      "    Parameters\n",
      "    ----------\n",
      "    folder_number : int, optional\n",
      "        Folder from which to load bicorr file\n",
      "        Bicorr filename will be bicorr# (with folder_number)\n",
      "    bicorr_path : str, optional\n",
      "        Full path of bicorr file, including filename\n",
      "    root_path : int, optional\n",
      "        Relative path to folder where data folders exist (1, 2, 3, etc.). default = cwd\n",
      "    \n",
      "    \n",
      "    Returns\n",
      "    -------\n",
      "    bicorr_data : ndarray\n",
      "        Each element contains the following info for one bicorrelation pair\n",
      "        Columns are 0: event, np.int32\n",
      "                    1: det1ch, np.int8\n",
      "                    2: det1par, np.int8\n",
      "                    3: det1t, np.float16\n",
      "                    4: det2ch, np.int8\n",
      "                    5: det2par, np.int8\n",
      "                    6: det2t, np.float16\n",
      "\n"
     ]
    }
   ],
   "source": [
    "help(bicorr.load_bicorr)"
   ]
  },
  {
   "cell_type": "code",
   "execution_count": 5,
   "metadata": {
    "collapsed": false
   },
   "outputs": [],
   "source": [
    "bicorr_data = bicorr.load_bicorr(1, root_path = '../datar')"
   ]
  },
  {
   "cell_type": "code",
   "execution_count": 6,
   "metadata": {
    "collapsed": false
   },
   "outputs": [
    {
     "data": {
      "text/plain": [
       "(695,)"
      ]
     },
     "execution_count": 6,
     "metadata": {},
     "output_type": "execute_result"
    }
   ],
   "source": [
    "bicorr_data.shape"
   ]
  },
  {
   "cell_type": "markdown",
   "metadata": {},
   "source": [
    "I want to work with larger data, so I'm going to pull 10000 lines from the `bicorr1` file from flux (rather than the tiny `bicorr1` file produced from `cced1_part`. \n",
    "\n",
    "I used the same technique as before on flux:\n",
    "\n",
    "`head -n 10000 bicorr1 > bicorr1_part`\n",
    "\n",
    "And then I copied that to `datar > 1`"
   ]
  },
  {
   "cell_type": "code",
   "execution_count": 5,
   "metadata": {
    "collapsed": true
   },
   "outputs": [],
   "source": [
    "bicorr_data = bicorr.load_bicorr(bicorr_path = '../datar/1/bicorr1_part')"
   ]
  },
  {
   "cell_type": "code",
   "execution_count": 6,
   "metadata": {
    "collapsed": false
   },
   "outputs": [
    {
     "data": {
      "text/plain": [
       "(10000,)"
      ]
     },
     "execution_count": 6,
     "metadata": {},
     "output_type": "execute_result"
    }
   ],
   "source": [
    "bicorr_data.shape"
   ]
  },
  {
   "cell_type": "markdown",
   "metadata": {},
   "source": [
    "I can parse this array in the same way I did with the `cced` file. "
   ]
  },
  {
   "cell_type": "code",
   "execution_count": 9,
   "metadata": {
    "collapsed": false
   },
   "outputs": [
    {
     "name": "stdout",
     "output_type": "stream",
     "text": [
      "(22, 18, 1, 57.5, 19, 2, 2.84375)\n",
      "22\n"
     ]
    }
   ],
   "source": [
    "# Print all info from first line\n",
    "print(bicorr_data[:][0])\n",
    "# Print event number from line 0\n",
    "print(bicorr_data['event'][0])"
   ]
  },
  {
   "cell_type": "markdown",
   "metadata": {},
   "source": [
    "# Step 2) Make some benchmark plots of the `1/bicorr1` data\n",
    "\n",
    "* Which pairs had bicorrelation events?\n",
    "* Count rates for each detector pair\n",
    "* Event number vs. line\n",
    "\n",
    "I wrote myself a convenient function for saving plots to file:"
   ]
  },
  {
   "cell_type": "code",
   "execution_count": 11,
   "metadata": {
    "collapsed": false
   },
   "outputs": [
    {
     "name": "stdout",
     "output_type": "stream",
     "text": [
      "Help on function save_fig_to_folder in module bicorr:\n",
      "\n",
      "save_fig_to_folder(fig_filename, fig_folder='fig')\n",
      "    Summary: Save .png of current matplotlib plot to fig_folder / fig_filename\n",
      "    Code will check to make sure fig_folder exists. If not, create folder then save .png to folder\n",
      "    \n",
      "    Parameters\n",
      "    ----------\n",
      "    fig_filename : str\n",
      "        Filename to use for saving the figure\n",
      "    fig_folder : str, optional\n",
      "        Folder where to save the image, relative to cwd\n",
      "    \n",
      "    Returns\n",
      "    -------\n",
      "    n/a\n",
      "\n"
     ]
    }
   ],
   "source": [
    "help(bicorr.save_fig_to_folder)"
   ]
  },
  {
   "cell_type": "code",
   "execution_count": 7,
   "metadata": {
    "collapsed": true
   },
   "outputs": [],
   "source": [
    "fig_folder = 'fig'"
   ]
  },
  {
   "cell_type": "markdown",
   "metadata": {},
   "source": [
    "## Detector pairs that had bicorrelation events"
   ]
  },
  {
   "cell_type": "code",
   "execution_count": 13,
   "metadata": {
    "collapsed": false,
    "scrolled": true
   },
   "outputs": [
    {
     "data": {
      "image/png": "[encoded data removed]",
      "text/plain": [
       "<matplotlib.figure.Figure at 0xba195c0>"
      ]
     },
     "metadata": {},
     "output_type": "display_data"
    }
   ],
   "source": [
    "# Which detector pairs fired?\n",
    "plt.plot(bicorr_data['det1ch'],bicorr_data['det2ch'],'.k')\n",
    "plt.xlabel('Detector 1 channel')\n",
    "plt.ylabel('Detector 2 channel')\n",
    "plt.title('Detector pairs with bicorrelation events')\n",
    "bicorr.save_fig_to_folder('bicorr_pairs_scatter',fig_folder)\n",
    "plt.show()"
   ]
  },
  {
   "cell_type": "markdown",
   "metadata": {},
   "source": [
    "## Count rate for each detector pair"
   ]
  },
  {
   "cell_type": "code",
   "execution_count": 14,
   "metadata": {
    "collapsed": false,
    "scrolled": true
   },
   "outputs": [
    {
     "data": {
      "image/png": "[encoded data removed]",
      "text/plain": [
       "<matplotlib.figure.Figure at 0xb6c4518>"
      ]
     },
     "metadata": {},
     "output_type": "display_data"
    }
   ],
   "source": [
    "plt.figure(figsize=(7,5))\n",
    "plt.hist2d(bicorr_data['det1ch'],bicorr_data['det2ch'],bins=np.arange(-0.5,46.5,1),cmin=1,cmap='viridis')\n",
    "plt.ylim([-.5,46.5])\n",
    "plt.colorbar()\n",
    "plt.grid(True, which='both')\n",
    "plt.xticks([i for i in np.arange(0,46,4)])\n",
    "plt.yticks([i for i in np.arange(0,46,4)])\n",
    "plt.xlabel('Detector 1 channel')\n",
    "plt.ylabel('Detector 2 channel')\n",
    "plt.title('Frequency of detector pair interactions')\n",
    "bicorr.save_fig_to_folder('bicorr_pairs_2dhist',fig_folder)\n",
    "plt.show()"
   ]
  },
  {
   "cell_type": "markdown",
   "metadata": {},
   "source": [
    "I should take some time to explain the features on this plot. There are a few interesting observables:\n",
    "\n",
    "* The first detector channel on each board has a noticeably smaller count rate (blue bands). This is because of an electronics issue that the first channel on each board will only write out if there is a trigger in a detector on the same board. Thus, if the bicorrelation event happens on that channel and a detector on another board, it won't be counted.\n",
    "* The highest values along the diagonal correspond to detectors that are directly adjacent to one another, and will therefore experience more cross talk. "
   ]
  },
  {
   "cell_type": "code",
   "execution_count": 18,
   "metadata": {
    "collapsed": false
   },
   "outputs": [
    {
     "data": {
      "image/png": "[encoded data removed]",
      "text/plain": [
       "<matplotlib.figure.Figure at 0xbb18208>"
      ]
     },
     "metadata": {},
     "output_type": "display_data"
    }
   ],
   "source": [
    "# Plot event number vs. line in\n",
    "plt.plot(bicorr_data['event'])\n",
    "plt.xlabel('Line number')\n",
    "plt.ylabel('Event number')\n",
    "plt.title('Event number vs. line number')\n",
    "bicorr.save_fig_to_folder('/bicorr_all_evnum',fig_folder)\n",
    "plt.show()"
   ]
  },
  {
   "cell_type": "markdown",
   "metadata": {},
   "source": [
    "Try it as a function"
   ]
  },
  {
   "cell_type": "code",
   "execution_count": 20,
   "metadata": {
    "collapsed": false
   },
   "outputs": [
    {
     "data": {
      "image/png": "[encoded data removed]",
      "text/plain": [
       "<matplotlib.figure.Figure at 0xbac64e0>"
      ]
     },
     "metadata": {},
     "output_type": "display_data"
    },
    {
     "data": {
      "text/plain": [
       "<matplotlib.figure.Figure at 0xb5909e8>"
      ]
     },
     "metadata": {},
     "output_type": "display_data"
    },
    {
     "data": {
      "image/png": "[encoded data removed]",
      "text/plain": [
       "<matplotlib.figure.Figure at 0xbc53e48>"
      ]
     },
     "metadata": {},
     "output_type": "display_data"
    },
    {
     "data": {
      "image/png": "[encoded data removed]",
      "text/plain": [
       "<matplotlib.figure.Figure at 0xb8cb358>"
      ]
     },
     "metadata": {},
     "output_type": "display_data"
    }
   ],
   "source": [
    "bicorr.bicorr_checkpoint_plots(bicorr_data, show_flag=True)"
   ]
  },
  {
   "cell_type": "markdown",
   "metadata": {},
   "source": [
    "# Step 3) Preallocate massive matrix\n",
    "\n",
    "We are going to store the `bicorr` events in a giant array of histograms called `bicorr_hist_master`, or `bhm` for short. The dimensions in the matrix will be:\n",
    "\n",
    "0: 990 in length: detector pair index (indicated using dictionary `det_pair_dict`)  \n",
    "1: 4 in length: interaction type (0=nn, 1=np, 2=pn, 3=pp)  \n",
    "2: $\\Delta t_1$ for detector 1  \n",
    "3: $\\Delta t_2$ for detector 2  \n",
    "\n",
    "Thus, calling `bicorr_hist_master[0][0][:][:]` will produce the 2-d histogram for the 0th detector pair (ch 1 and ch 2) for nn interactions.\n",
    "\n",
    "Set up this matrix."
   ]
  },
  {
   "cell_type": "markdown",
   "metadata": {},
   "source": [
    "## Time bins\n",
    "\n",
    "Write a function that will generate `dt_bin_edges`. The length of this array will govern the number of bins in dimensions 2 ($\\Delta t_1$) and 3 ($\\Delta t_2$)."
   ]
  },
  {
   "cell_type": "code",
   "execution_count": 21,
   "metadata": {
    "collapsed": false
   },
   "outputs": [
    {
     "name": "stdout",
     "output_type": "stream",
     "text": [
      "Help on function build_dt_bin_edges in module bicorr:\n",
      "\n",
      "build_dt_bin_edges(dt_min=-50, dt_max=200, dt_step=0.25, print_flag=False)\n",
      "    Construct dt_bin_edges for the two-dimensional bicorrelation histograms. \n",
      "    \n",
      "    Use as: dt_bin_edges, num_dt_bins = bicorr.build_dt_bin_edges()\n",
      "    \n",
      "    Parameters\n",
      "    ----------\n",
      "    dt_min : int, optional\n",
      "        Lower time boundary\n",
      "    dt_max : int, optional\n",
      "        Upper time boundary\n",
      "    dt_step : float, optional\n",
      "        Time bin size\n",
      "    print_flag : bool, optional\n",
      "        Whether to print array details\n",
      "        \n",
      "    Returns\n",
      "    -------\n",
      "    dt_bin_edges : ndarray\n",
      "        One-dimensional array of time bin edges\n",
      "    num_dt_bins : ndarray\n",
      "        Number of bins in time dimension\n",
      "\n"
     ]
    }
   ],
   "source": [
    "help(bicorr.build_dt_bin_edges)"
   ]
  },
  {
   "cell_type": "code",
   "execution_count": 6,
   "metadata": {
    "collapsed": false
   },
   "outputs": [
    {
     "name": "stdout",
     "output_type": "stream",
     "text": [
      "Built array of dt bin edges from -50 to 200 in 1000 steps of 0.25 ns.\n"
     ]
    }
   ],
   "source": [
    "dt_bin_edges, num_dt_bins = bicorr.build_dt_bin_edges(print_flag=True)"
   ]
  },
  {
   "cell_type": "markdown",
   "metadata": {},
   "source": [
    "## Interaction type bins"
   ]
  },
  {
   "cell_type": "code",
   "execution_count": 7,
   "metadata": {
    "collapsed": true
   },
   "outputs": [],
   "source": [
    "# Number of bins in interaction type\n",
    "num_intn_types = 4 #(0=nn, 1=np, 2=pn, 3=pp)"
   ]
  },
  {
   "cell_type": "markdown",
   "metadata": {},
   "source": [
    "## Detector pair bins"
   ]
  },
  {
   "cell_type": "code",
   "execution_count": 8,
   "metadata": {
    "collapsed": false
   },
   "outputs": [
    {
     "name": "stdout",
     "output_type": "stream",
     "text": [
      "Fission chamber channels: [ 0 16 32]\n",
      "Detector channels: [ 1  2  3  4  5  6  7  8  9 10 11 12 13 14 15 17 18 19 20 21 22 23 24 25 26\n",
      " 27 28 29 30 31 33 34 35 36 37 38 39 40 41 42 43 44 45 46 47]\n",
      "Number of detectors: 45\n",
      "Number of detector pairs: 990\n"
     ]
    }
   ],
   "source": [
    "# What are the unique detector numbers? Use same technique as in bicorr.py\n",
    "chList, fcList, detList, num_dets, num_det_pairs = bicorr.build_ch_lists(print_flag=True)"
   ]
  },
  {
   "cell_type": "code",
   "execution_count": 25,
   "metadata": {
    "collapsed": false
   },
   "outputs": [],
   "source": [
    "# Pre-allocate matrix\n",
    "# Note: This is very memory intensive... can't run it too many times or python crashes.\n",
    "bicorr_hist_master = np.zeros((num_det_pairs,num_intn_types,num_dt_bins,num_dt_bins),dtype=np.uint32)"
   ]
  },
  {
   "cell_type": "code",
   "execution_count": 14,
   "metadata": {
    "collapsed": false
   },
   "outputs": [
    {
     "data": {
      "text/plain": [
       "(990, 4, 1000, 1000)"
      ]
     },
     "execution_count": 14,
     "metadata": {},
     "output_type": "execute_result"
    }
   ],
   "source": [
    "bicorr_hist_master.shape"
   ]
  },
  {
   "cell_type": "markdown",
   "metadata": {},
   "source": [
    "How large will this be when we store it to disk?"
   ]
  },
  {
   "cell_type": "code",
   "execution_count": 15,
   "metadata": {
    "collapsed": false
   },
   "outputs": [
    {
     "data": {
      "text/plain": [
       "15.84"
      ]
     },
     "execution_count": 15,
     "metadata": {},
     "output_type": "execute_result"
    }
   ],
   "source": [
    "bicorr_hist_master.nbytes/1e9"
   ]
  },
  {
   "cell_type": "markdown",
   "metadata": {},
   "source": [
    "I had originally made the time range go from -200 to 200 ns, making for a 37 GB array. Now I am going from -50 to 200 which cuts it down to 15.84 GB. Now I can have two loaded in memory at a time. The further option still exists to make the time binning coarser to .5 ns instead of .25 ns."
   ]
  },
  {
   "cell_type": "markdown",
   "metadata": {},
   "source": [
    "## Functionalize this\n",
    "\n",
    "Create a general method for allocating `bicorr_hist_master` based on default settings."
   ]
  },
  {
   "cell_type": "code",
   "execution_count": 11,
   "metadata": {
    "collapsed": false
   },
   "outputs": [],
   "source": [
    "bicorr_hist_master = bicorr.alloc_bhm(num_det_pairs,num_intn_types,num_dt_bins)"
   ]
  },
  {
   "cell_type": "markdown",
   "metadata": {},
   "source": [
    "# Step 4) Fill the histogram\n",
    "\n",
    "I'm updating this with latest methods. I am not going to rerun the first two attempts, so they may not work in the future. I'm only going to update the third attempt, filling the histogram line-by-line.\n",
    "\n",
    "## First attempt: use `np.where` to find indices, fill with `np.histogram2d`\n",
    "\n",
    "Find the indices of the lines that will fill each detector type (based on detector pair and interaction type).\n",
    "\n",
    "If this doesn't work, go line by line and fill the bins one at a time. But that's so boring."
   ]
  },
  {
   "cell_type": "code",
   "execution_count": 10,
   "metadata": {
    "collapsed": true
   },
   "outputs": [],
   "source": [
    "# Pre-allocate matrix\n",
    "# Note: This is very memory intensive... can't run it too many times or python crashes.\n",
    "bicorr_hist_master = bicorr.alloc_bicorr_hist_master(num_det_pairs,num_intn_types,num_dt_bins)"
   ]
  },
  {
   "cell_type": "code",
   "execution_count": 23,
   "metadata": {
    "collapsed": false
   },
   "outputs": [
    {
     "data": {
      "text/plain": [
       "(3611942,)"
      ]
     },
     "execution_count": 23,
     "metadata": {},
     "output_type": "execute_result"
    }
   ],
   "source": [
    "# Loaded above in Step 1\n",
    "bicorr_data.shape"
   ]
  },
  {
   "cell_type": "code",
   "execution_count": 24,
   "metadata": {
    "collapsed": false
   },
   "outputs": [],
   "source": [
    "# Store a bunch of indices. Hopefully I won't run out of memory...\n",
    "# Find event indices for each event type\n",
    "type0_indices = np.where(np.logical_and(bicorr_data['det1par']==1,bicorr_data['det2par']==1))\n",
    "type1_indices = np.where(np.logical_and(bicorr_data['det1par']==1,bicorr_data['det2par']==2))\n",
    "type2_indices = np.where(np.logical_and(bicorr_data['det1par']==2,bicorr_data['det2par']==1))\n",
    "type3_indices = np.where(np.logical_and(bicorr_data['det1par']==2,bicorr_data['det2par']==2))"
   ]
  },
  {
   "cell_type": "code",
   "execution_count": 25,
   "metadata": {
    "collapsed": false
   },
   "outputs": [
    {
     "data": {
      "text/plain": [
       "3611942"
      ]
     },
     "execution_count": 25,
     "metadata": {},
     "output_type": "execute_result"
    }
   ],
   "source": [
    "np.sum(type0_indices[0].shape+type1_indices[0].shape+type2_indices[0].shape+type3_indices[0].shape)"
   ]
  },
  {
   "cell_type": "markdown",
   "metadata": {},
   "source": [
    "How can I quickly return the index?"
   ]
  },
  {
   "cell_type": "code",
   "execution_count": 27,
   "metadata": {
    "collapsed": false
   },
   "outputs": [
    {
     "name": "stdout",
     "output_type": "stream",
     "text": [
      "1---\n"
     ]
    },
    {
     "name": "stderr",
     "output_type": "stream",
     "text": [
      "C:\\Users\\pfschus\\AppData\\Local\\Continuum\\Anaconda3\\lib\\site-packages\\numpy\\core\\fromnumeric.py:2822: RuntimeWarning: overflow encountered in multiply\n",
      "  return round(decimals, out)\n"
     ]
    },
    {
     "name": "stdout",
     "output_type": "stream",
     "text": [
      "2---\n",
      "3---\n",
      "4---\n",
      "5---\n",
      "6---\n",
      "7---\n",
      "8---\n",
      "9---\n",
      "10---\n",
      "11---\n",
      "12---\n",
      "13---\n",
      "14---\n",
      "15---\n",
      "17---\n",
      "18---\n",
      "19---\n",
      "20---\n",
      "21---\n",
      "22---\n",
      "23---\n",
      "24---\n",
      "25---\n",
      "26---\n",
      "27---\n",
      "28---\n",
      "29---\n",
      "30---\n",
      "31---\n",
      "33---\n",
      "34---\n",
      "35---\n",
      "36---\n",
      "37---\n",
      "38---\n",
      "39---\n",
      "40---\n",
      "41---\n",
      "42---\n",
      "43---\n",
      "44---\n",
      "45---\n",
      "46---\n",
      "47---\n",
      "Run time:  212.27839994430542\n",
      "Sum of bicorr_hist_master:  3188297\n",
      "Running total of type_indices_#:  3611942\n",
      "Running total of histogram sum:  3188297.0\n"
     ]
    }
   ],
   "source": [
    "# Set up dictionary for returning detector pair index\n",
    "det_df = bicorr.load_det_df()\n",
    "dict_index_to_pair = det_df['d1d2'].to_dict()\n",
    "dict_pair_to_index = {v: k for k, v in dict_index_to_pair.items()}\n",
    "\n",
    "# Loop through all pairs and fill the histogram\n",
    "start_time = time.time()\n",
    "count = 0   # Running total of selected indices \n",
    "count2 = 0  # Running sum of histogram counts\n",
    "for i1 in np.arange(0, num_dets): # Just run det1ch = 1 for the time being due to memory constraints.\n",
    "    det1ch = detList[i1]\n",
    "    print(str(det1ch)+'---')\n",
    "    for i2 in np.arange(i1+1,num_dets):\n",
    "        det2ch = detList[i2]\n",
    "        det_pair_indices = np.where(np.logical_and(bicorr_data['det1ch']==det1ch,bicorr_data['det2ch']==det2ch))\n",
    "        \n",
    "        # type interactions\n",
    "        selected_type0 = np.intersect1d(det_pair_indices, type0_indices)\n",
    "        selected_type1 = np.intersect1d(det_pair_indices, type1_indices)\n",
    "        selected_type2 = np.intersect1d(det_pair_indices, type2_indices)\n",
    "        selected_type3 = np.intersect1d(det_pair_indices, type3_indices)\n",
    "        count = count + np.sum(selected_type0.shape+selected_type1.shape+selected_type2.shape+selected_type3.shape)\n",
    "        \n",
    "        # Adding these count2 lines for debugging to search for the error\n",
    "        count2 += np.sum(np.histogram2d(bicorr_data['det1t'][selected_type0],bicorr_data['det2t'][selected_type0],bins=dt_bin_edges)[0])\n",
    "        count2 += np.sum(np.histogram2d(bicorr_data['det1t'][selected_type1],bicorr_data['det2t'][selected_type1],bins=dt_bin_edges)[0])\n",
    "        count2 += np.sum(np.histogram2d(bicorr_data['det1t'][selected_type2],bicorr_data['det2t'][selected_type2],bins=dt_bin_edges)[0])\n",
    "        count2 += np.sum(np.histogram2d(bicorr_data['det1t'][selected_type3],bicorr_data['det2t'][selected_type3],bins=dt_bin_edges)[0])\n",
    "       \n",
    "        bicorr_hist_master[dict_pair_to_index[100*det1ch+det2ch],0,:,:] = np.histogram2d(bicorr_data['det1t'][selected_type0],bicorr_data['det2t'][selected_type0],bins=dt_bin_edges)[0]\n",
    "        bicorr_hist_master[dict_pair_to_index[100*det1ch+det2ch],1,:,:] = np.histogram2d(bicorr_data['det1t'][selected_type1],bicorr_data['det2t'][selected_type1],bins=dt_bin_edges)[0]\n",
    "        bicorr_hist_master[dict_pair_to_index[100*det1ch+det2ch],2,:,:] = np.histogram2d(bicorr_data['det1t'][selected_type2],bicorr_data['det2t'][selected_type2],bins=dt_bin_edges)[0]\n",
    "        bicorr_hist_master[dict_pair_to_index[100*det1ch+det2ch],3,:,:] = np.histogram2d(bicorr_data['det1t'][selected_type3],bicorr_data['det2t'][selected_type3],bins=dt_bin_edges)[0]\n",
    "\n",
    "print('Run time: ', time.time()-start_time)        \n",
    "print('Sum of bicorr_hist_master: ', np.sum(bicorr_hist_master))\n",
    "print('Running total of type_indices_#: ', count)\n",
    "print('Running total of histogram sum: ', count2)"
   ]
  },
  {
   "cell_type": "markdown",
   "metadata": {},
   "source": [
    "This shows that events are getting lost at some point. The total number of events in the histogram do not match the number of events in `bicorr_data`. Where are they going? It is possible that those are events outside of the boundaries of `dt_bin_edges`. How many events are getting lost?"
   ]
  },
  {
   "cell_type": "code",
   "execution_count": 28,
   "metadata": {
    "collapsed": false
   },
   "outputs": [
    {
     "data": {
      "text/plain": [
       "423645.0"
      ]
     },
     "execution_count": 28,
     "metadata": {},
     "output_type": "execute_result"
    }
   ],
   "source": [
    "# How many lines are left out of the histogram?\n",
    "count-count2"
   ]
  },
  {
   "cell_type": "markdown",
   "metadata": {},
   "source": [
    "Are the missing events those in which the time is out of range of the time axes?"
   ]
  },
  {
   "cell_type": "code",
   "execution_count": 32,
   "metadata": {
    "collapsed": false
   },
   "outputs": [
    {
     "name": "stdout",
     "output_type": "stream",
     "text": [
      "-50.0 200.0\n"
     ]
    },
    {
     "data": {
      "text/plain": [
       "(741761,)"
      ]
     },
     "execution_count": 32,
     "metadata": {},
     "output_type": "execute_result"
    }
   ],
   "source": [
    "t_min = dt_bin_edges[0]; t_max = dt_bin_edges[-1]\n",
    "print(t_min,t_max)\n",
    "\n",
    "over1 =  np.ndarray.flatten(np.argwhere(bicorr_data['det1t']>=t_max))\n",
    "under1 = np.ndarray.flatten(np.argwhere(bicorr_data['det1t']<=t_min))\n",
    "over2 =  np.ndarray.flatten(np.argwhere(bicorr_data['det2t']>=t_max))\n",
    "under2 = np.ndarray.flatten(np.argwhere(bicorr_data['det2t']<=t_min))\n",
    "\n",
    "overunder = np.concatenate([over1, under1, over2, under2])\n",
    "np.unique(overunder).shape"
   ]
  },
  {
   "cell_type": "markdown",
   "metadata": {},
   "source": [
    "There are more events outside of the range of `dt_bin_edges` than are being left out of the histogram. So I am not sure what this means. Last time the numbers were exactly the same.\n",
    "\n",
    "I believe the problem is in using np.histogram2d, which returns a overflow warning. I believe the problem is in passing in the time stamps as floats, there is an overflow error, which is causing some counts to be lost. \n",
    "\n",
    "I am not going to spend any more time on this because the next section shows that the line-by-line method is much faster and I will use that method instead."
   ]
  },
  {
   "cell_type": "markdown",
   "metadata": {},
   "source": [
    "## Second attempt: Fill the array all at once using `np.histogramdd`\n",
    "\n",
    "`np.histogramdd`, documentation here: <https://docs.scipy.org/doc/numpy/reference/generated/numpy.histogramdd.html#numpy.histogramdd>\n",
    "\n",
    "Compute the multidimensional histogram of some data.\n",
    "\n",
    "The four dimensions are:\n",
    "\n",
    "* Detector pair.\n",
    "* Interaction type\n",
    "* `det1t`\n",
    "* `det2t`\n",
    "\n",
    "This will take some work, since I will have to figure out how to provide the bins of the first two dimensions. Keep this in mind, but move on to the next method."
   ]
  },
  {
   "cell_type": "markdown",
   "metadata": {},
   "source": [
    "## Third attempt: Fill line-by-line by calculating bin index\n",
    "\n",
    "Instead of filling time histograms for given event type and detector pair, simply go through line by line and increase the count in the corresponding bin from `bicorr_hist_master`. "
   ]
  },
  {
   "cell_type": "code",
   "execution_count": 9,
   "metadata": {
    "collapsed": false
   },
   "outputs": [],
   "source": [
    "bhm = bicorr.alloc_bhm(num_det_pairs,num_intn_types,num_dt_bins)"
   ]
  },
  {
   "cell_type": "code",
   "execution_count": 10,
   "metadata": {
    "collapsed": true
   },
   "outputs": [],
   "source": [
    "# Set up dictionary for returning detector pair index\n",
    "det_df = bicorr.load_det_df()\n",
    "dict_pair_to_index, dict_index_to_pair = bicorr.build_dict_det_pair(det_df)"
   ]
  },
  {
   "cell_type": "code",
   "execution_count": 11,
   "metadata": {
    "collapsed": false
   },
   "outputs": [],
   "source": [
    "# Type index\n",
    "dict_type_to_index = {11:0, 12:1, 21:2, 22:3}\n",
    "\n",
    "# Time indices\n",
    "dt_min = np.min(dt_bin_edges); dt_max = np.max(dt_bin_edges)\n",
    "dt_step = dt_bin_edges[1]-dt_bin_edges[0]"
   ]
  },
  {
   "cell_type": "markdown",
   "metadata": {},
   "source": [
    "I will use the following equation to determine the time bin. \n",
    "\n",
    "$$ \\text{bin}(t) = \\lfloor \\frac{t-t_{min}}{\\Delta t}\\rfloor$$\n"
   ]
  },
  {
   "cell_type": "code",
   "execution_count": 35,
   "metadata": {
    "collapsed": false
   },
   "outputs": [
    {
     "name": "stderr",
     "output_type": "stream",
     "text": [
      "100%|##########| 10000/10000 [00:00<00:00, 40719.34it/s]\n"
     ]
    },
    {
     "name": "stdout",
     "output_type": "stream",
     "text": [
      "16096\n",
      "13.99218487739563\n"
     ]
    }
   ],
   "source": [
    "count_loss = 0\n",
    "start_time = time.time()\n",
    "for i in tqdm(np.arange(bicorr_data.shape[0]),ascii=True):\n",
    "    # What is the corresponding bin number for the four dimensions?\n",
    "    ## Detector pair index\n",
    "    pair_i = dict_pair_to_index[bicorr_data[i]['det1ch']*100+bicorr_data[i]['det2ch']]\n",
    "    ## Event type index\n",
    "    type_i = dict_type_to_index[bicorr_data[i]['det1par']*10+bicorr_data[i]['det2par']]\n",
    "    ## Time 1 index\n",
    "    t1_i = int(np.floor((bicorr_data[i]['det1t']-dt_min)/dt_step))\n",
    "    t1_i_check = np.logical_and(t1_i>=0, t1_i<num_dt_bins) # Within range?\n",
    "    ## Time 2 index\n",
    "    t2_i = int(np.floor((bicorr_data[i]['det2t']-dt_min)/dt_step))\n",
    "    t2_i_check = np.logical_and(t2_i>=0, t2_i<num_dt_bins) # Within range?\n",
    "    \n",
    "    if np.logical_and(t1_i_check, t2_i_check):    \n",
    "        # Increment the corresponding bin\n",
    "        bhm[pair_i,type_i,t1_i,t2_i] += 1\n",
    "    else:\n",
    "        count_loss += 1\n",
    "        \n",
    "    \n",
    "print(np.sum(bhm))\n",
    "print(time.time()-start_time)"
   ]
  },
  {
   "cell_type": "code",
   "execution_count": 36,
   "metadata": {
    "collapsed": false
   },
   "outputs": [
    {
     "data": {
      "text/plain": [
       "1952"
      ]
     },
     "execution_count": 36,
     "metadata": {},
     "output_type": "execute_result"
    }
   ],
   "source": [
    "count_loss"
   ]
  },
  {
   "cell_type": "markdown",
   "metadata": {},
   "source": [
    "This method is much faster so we will use it."
   ]
  },
  {
   "cell_type": "markdown",
   "metadata": {},
   "source": [
    "## Functionalize this with default settings"
   ]
  },
  {
   "cell_type": "code",
   "execution_count": 37,
   "metadata": {
    "collapsed": false
   },
   "outputs": [
    {
     "name": "stdout",
     "output_type": "stream",
     "text": [
      "def fill_bhm(bicorr_hist_master, bicorr_data, det_df, dt_bin_edges, disable_tqdm = False):\n",
      "    \"\"\"\n",
      "    Fill bicorr_hist_master. Structure:\n",
      "        Dimension 0: detector pair, use dictionary `dict_pair_to_index`  \n",
      "        Dimension 1: interaction type, length 4. (0=nn, 1=np, 2=pn, 3=pp)  \n",
      "        Dimension 2: dt bin for detector 1\n",
      "        Dimension 3: dt bin for detector 2\n",
      "    \n",
      "    Must have allocated bicorr_hist_master and loaded bicorr_data\n",
      "    \n",
      "    Parameters\n",
      "    ----------\n",
      "    bicorr_hist_master : ndarray\n",
      "        Master histogram of bicorrelation histograms across all detector pairs and interaction types.\n",
      "        Dimension 0: detector pair, use dictionary `dict_pair_to_index` where pair is (100*det1ch+det2ch)  \n",
      "        Dimension 1: interaction type, length 4. (0=nn, 1=np, 2=pn, 3=pp)  \n",
      "        Dimension 2: dt bin for detector 1\n",
      "        Dimension 3: dt bin for detector 2\n",
      "    bicorr_data : ndarray\n",
      "        Each element contains the following info for one bicorrelation pair\n",
      "        Columns are 0: event, np.int32\n",
      "                    1: det1ch, np.int8\n",
      "                    2: det1par, np.int8\n",
      "                    3: det1t, np.float16\n",
      "                    4: det2ch, np.int8\n",
      "                    5: det2par, np.int8\n",
      "                    6: det2t, np.float16\n",
      "    det_df : pandas dataFrame\n",
      "        dataFrame of detector pair indices and angles      \n",
      "    dt_bin_edges : ndarray\n",
      "        One-dimensional array of time bin edges\n",
      "    disable_tqdm : bool, optional\n",
      "        Flag to disable tqdm progress bar\n",
      "    \n",
      "    Returns\n",
      "    -------\n",
      "    bicorr_hist_master : ndarray\n",
      "        Same as input, but filled with event information from bicorr_data\n",
      "    \"\"\"\n",
      "    # Set up dictionary for returning detector pair index\n",
      "    dict_pair_to_index, dict_index_to_pair = build_dict_det_pair(det_df)\n",
      "\n",
      "    # Type index\n",
      "    dict_type_to_index = {11:0, 12:1, 21:2, 22:3}\n",
      "\n",
      "    # Time indices\n",
      "    dt_min = np.min(dt_bin_edges); dt_max = np.max(dt_bin_edges)\n",
      "    dt_step = dt_bin_edges[1]-dt_bin_edges[0]\n",
      "    num_dt_bins = len(dt_bin_edges)-1\n",
      "    \n",
      "    for i in tqdm(np.arange(bicorr_data.shape[0]),ascii=True,disable = disable_tqdm):\n",
      "        # What is the corresponding bin number for the four dimensions?\n",
      "        ## Detector pair index\n",
      "        pair_i = dict_pair_to_index[bicorr_data[i]['det1ch']*100+bicorr_data[i]['det2ch']]\n",
      "        ## Event type index\n",
      "        type_i = dict_type_to_index[bicorr_data[i]['det1par']*10+bicorr_data[i]['det2par']]\n",
      "        ## Time 1 index\n",
      "        t1_i = int(np.floor((bicorr_data[i]['det1t']-dt_min)/dt_step))\n",
      "        t1_i_check = np.logical_and(t1_i>=0, t1_i<num_dt_bins) # Within range?\n",
      "        ## Time 2 index\n",
      "        t2_i = int(np.floor((bicorr_data[i]['det2t']-dt_min)/dt_step))\n",
      "        t2_i_check = np.logical_and(t2_i>=0, t2_i<num_dt_bins) # Within range?\n",
      "        if np.logical_and(t1_i_check, t2_i_check):    \n",
      "            # Increment the corresponding bin\n",
      "            bicorr_hist_master[pair_i,type_i,t1_i,t2_i] += 1 \n",
      "        # Next part seems to be taking forever.... leave it out for now\n",
      "        #if np.max(bicorr_hist_master) > 2e9: \n",
      "        #    print('Warning: Counts in bicorr_hist_master exceed 2e9. Will face dtype range limitations.')\n",
      "    \n",
      "    return bicorr_hist_master\n",
      "\n"
     ]
    }
   ],
   "source": [
    "print(inspect.getsource(bicorr.fill_bhm))"
   ]
  },
  {
   "cell_type": "code",
   "execution_count": 12,
   "metadata": {
    "collapsed": true
   },
   "outputs": [],
   "source": [
    "bhm = bicorr.alloc_bhm(num_det_pairs,num_intn_types,num_dt_bins)"
   ]
  },
  {
   "cell_type": "code",
   "execution_count": 13,
   "metadata": {
    "collapsed": false
   },
   "outputs": [
    {
     "name": "stderr",
     "output_type": "stream",
     "text": [
      "100%|##########| 10000/10000 [00:00<00:00, 53763.41it/s]\n"
     ]
    }
   ],
   "source": [
    "bhm = bicorr.fill_bhm(bhm, bicorr_data, det_df, dt_bin_edges)"
   ]
  },
  {
   "cell_type": "markdown",
   "metadata": {},
   "source": [
    "# Step 5) Convert to sparse matrix\n",
    "\n",
    "As developed in my notebook [implement_sparse_matrix](implement_sparse_matrix.ipynb)."
   ]
  },
  {
   "cell_type": "code",
   "execution_count": 14,
   "metadata": {
    "collapsed": false
   },
   "outputs": [
    {
     "name": "stderr",
     "output_type": "stream",
     "text": [
      "100%|##########| 8026/8026 [00:00<00:00, 236059.38it/s]\n"
     ]
    }
   ],
   "source": [
    "sparse_bhm = bicorr.generate_sparse_bhm(bhm)"
   ]
  },
  {
   "cell_type": "markdown",
   "metadata": {},
   "source": [
    "# Step 6) Save the histogram and related vectors to disk\n",
    "\n",
    "## The full `bicorr_hist_master` array"
   ]
  },
  {
   "cell_type": "markdown",
   "metadata": {
    "collapsed": false,
    "scrolled": true
   },
   "source": [
    "I'm going to use `np.savez` to save several arrays in the same `.npz` file.\n",
    "\n",
    "CAUTION: This will store at 15 GB file to your hard drive. I can verify that it works. No need to repeat it. Instead, use the sparse matrix technique."
   ]
  },
  {
   "cell_type": "code",
   "execution_count": null,
   "metadata": {
    "collapsed": false
   },
   "outputs": [],
   "source": [
    "# np.savez('../datar/1/bicorr_hist_master', bicorr_hist_master = bicorr_hist_master, dict_pair_to_index=dict_pair_to_index, dt_bin_edges=dt_bin_edges)"
   ]
  },
  {
   "cell_type": "markdown",
   "metadata": {},
   "source": [
    "## The sparse `bicorr_hist_master` array\n",
    "\n",
    "I also developed a method for storing the `bicorr_hist_master` as a sparse array, which requires much less space. Save that to disk instead."
   ]
  },
  {
   "cell_type": "code",
   "execution_count": 15,
   "metadata": {
    "collapsed": true
   },
   "outputs": [],
   "source": [
    "bicorr.save_sparse_bhm(sparse_bhm, det_df, dt_bin_edges, save_folder = '../datar/1')"
   ]
  },
  {
   "cell_type": "markdown",
   "metadata": {},
   "source": [
    "# Functionalize it\n",
    "\n",
    " Put it all together in a function with default settings\n",
    "\n",
    "It will be convenient to generate the bicorrelation histogram for data in one step based on default settings. "
   ]
  },
  {
   "cell_type": "markdown",
   "metadata": {
    "collapsed": true
   },
   "source": [
    "The steps are:\n",
    "\n",
    "* Load relevant information\n",
    "    * `det_df`\n",
    "    * `root_path`\n",
    "    * `dt_bin_edges`\n",
    "    * `num_det_pairs`, `num_intn_types`\n",
    "* Allocate empty bicorr hist master: `bhm`\n",
    "* Loop through all folders\n",
    "    * Load `bicorr_data`\n",
    "    * Create checkpoint plots\n",
    "    * Fill `bhm`\n",
    "* If `save_flag`\n",
    "    * Build sparse matrix\n",
    "    * Save sparse matrix to file\n",
    "* Return `bhm`, `dt_bin_edges`"
   ]
  },
  {
   "cell_type": "code",
   "execution_count": 5,
   "metadata": {
    "collapsed": false
   },
   "outputs": [
    {
     "name": "stdout",
     "output_type": "stream",
     "text": [
      "Help on function build_bhm in module bicorr:\n",
      "\n",
      "build_bhm(det_df=None, folder_start=1, folder_end=2, dt_bin_edges=None, checkpoint_flag=True, save_flag=True, root_path=None, disable_tqdm=False, print_flag=True)\n",
      "    Load bicorr_data from folder's bicorr# file and fill histogram. Loop through folders specified by `folder_start` and `folder_end`. Built for dt_bin_edges generated using default settings in bicorr.build_dt_bin_edges().\n",
      "    \n",
      "    Parameters\n",
      "    ----------\n",
      "    det_df : pandas dataFrame, optional\n",
      "        dataFrame of detector pair indices and angles   \n",
      "        Default is to look for the file in '../meas_info/det_df_pairs_angles.csv'\n",
      "    folder_start : int, optional\n",
      "        First folder\n",
      "    folder_end : int, optional\n",
      "        Last folder + 1 (for example, folder_end = 2 will end at folder 1)\n",
      "    dt_bin_edges : ndarray, optional\n",
      "        Edges of time bin array in ns\n",
      "        If None, use default settings from build_dt_bin_edges()\n",
      "    checkpoint_flag : bool, optional\n",
      "        Generate checkpoint plots?\n",
      "    save_flag : bool, optional\n",
      "        Save sparse matrix to disk?    \n",
      "    root_path : int, optional\n",
      "        Relative path to folder where data folders exist (1, 2, 3, etc.). default = cwd\n",
      "    disable_tqdm : bool, optional\n",
      "        Flag to disable tqdm progress bar\n",
      "    print_flag : bool, optional\n",
      "        Print status updates along the way?\n",
      "    \n",
      "    Returns\n",
      "    -------\n",
      "    bhm : ndarray\n",
      "        Master histogram of bicorrelation histograms across all detector pairs and interaction types.\n",
      "        Dimension 0: detector pair, use dictionary `dict_pair_to_index` where pair is (100*det1ch+det2ch)  \n",
      "        Dimension 1: interaction type, length 4. (0=nn, 1=np, 2=pn, 3=pp)  \n",
      "        Dimension 2: dt bin for detector 1\n",
      "        Dimension 3: dt bin for detector 2\n",
      "    dt_bin_edges : ndarray\n",
      "        One-dimensional array of time bin edges\n",
      "\n"
     ]
    }
   ],
   "source": [
    "help(bicorr.build_bhm)"
   ]
  },
  {
   "cell_type": "code",
   "execution_count": 58,
   "metadata": {
    "collapsed": false
   },
   "outputs": [
    {
     "name": "stdout",
     "output_type": "stream",
     "text": [
      "Generating bicorr histogram for bicorr data in folders:  [1]\n",
      "Loading data in folder  1\n",
      "Building bicorr_hist_master in folder  1\n"
     ]
    },
    {
     "data": {
      "text/plain": [
       "(990, 4, 800, 800)"
      ]
     },
     "execution_count": 58,
     "metadata": {},
     "output_type": "execute_result"
    }
   ],
   "source": [
    "bhm, dt_bin_edges = bicorr.build_bhm(det_df,1,2,dt_bin_edges =dt_bin_edges, checkpoint_flag = True,save_flag = False, disable_tqdm = True)\n",
    "bicorr_hist_master.shape"
   ]
  },
  {
   "cell_type": "code",
   "execution_count": 6,
   "metadata": {
    "collapsed": false
   },
   "outputs": [
    {
     "name": "stdout",
     "output_type": "stream",
     "text": [
      "Generating bicorr histogram for bicorr data in folders:  [1]\n",
      "Loading data in folder  1\n",
      "Building bhm in folder  1\n"
     ]
    },
    {
     "name": "stderr",
     "output_type": "stream",
     "text": [
      "100%|##########| 695/695 [00:00<00:00, 695050.38it/s]\n"
     ]
    },
    {
     "name": "stdout",
     "output_type": "stream",
     "text": [
      "Generating sparse matrix\n"
     ]
    },
    {
     "name": "stderr",
     "output_type": "stream",
     "text": [
      "100%|##########| 531/531 [00:00<?, ?it/s]\n"
     ]
    },
    {
     "name": "stdout",
     "output_type": "stream",
     "text": [
      "Saving sparse matrix data to .npz file\n",
      "Bicorr hist master bhm build complete\n"
     ]
    }
   ],
   "source": [
    "bhm, dt_bin_edges = bicorr.build_bhm(root_path = '../datar/')"
   ]
  },
  {
   "cell_type": "code",
   "execution_count": 8,
   "metadata": {
    "collapsed": false
   },
   "outputs": [
    {
     "name": "stdout",
     "output_type": "stream",
     "text": [
      "Generating bicorr histogram for bicorr data in folders:  [1 2]\n",
      "Loading data in folder  1\n",
      "Building bhm in folder  1\n"
     ]
    },
    {
     "name": "stderr",
     "output_type": "stream",
     "text": [
      "100%|##########| 695/695 [00:00<00:00, 46333.01it/s]\n"
     ]
    },
    {
     "name": "stdout",
     "output_type": "stream",
     "text": [
      "Loading data in folder  2\n",
      "Building bhm in folder  2\n"
     ]
    },
    {
     "name": "stderr",
     "output_type": "stream",
     "text": [
      "100%|##########| 695/695 [00:00<00:00, 57916.26it/s]\n"
     ]
    },
    {
     "name": "stdout",
     "output_type": "stream",
     "text": [
      "Generating sparse matrix\n"
     ]
    },
    {
     "name": "stderr",
     "output_type": "stream",
     "text": [
      "100%|##########| 531/531 [00:00<00:00, 265487.59it/s]\n"
     ]
    },
    {
     "name": "stdout",
     "output_type": "stream",
     "text": [
      "Saving sparse matrix data to .npz file\n",
      "Bicorr hist master bhm build complete\n"
     ]
    }
   ],
   "source": [
    "bhm, dt_bin_edges = bicorr.build_bhm(folder_end = 3, root_path = '../datar/')"
   ]
  }
 ],
 "metadata": {
  "anaconda-cloud": {},
  "kernelspec": {
   "display_name": "Python [conda root]",
   "language": "python",
   "name": "conda-root-py"
  },
  "language_info": {
   "codemirror_mode": {
    "name": "ipython",
    "version": 3
   },
   "file_extension": ".py",
   "mimetype": "text/x-python",
   "name": "python",
   "nbconvert_exporter": "python",
   "pygments_lexer": "ipython3",
   "version": "3.5.2"
  }
 },
 "nbformat": 4,
 "nbformat_minor": 1
}
