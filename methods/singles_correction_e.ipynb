{
 "cells": [
  {
   "cell_type": "markdown",
   "metadata": {},
   "source": [
    "# Goal: Correct for singles rate with $W$ calculation\n",
    "In order to correct for differences in detection efficiencies and solid angles, we will divide all of the doubles rates by the singles rates of the two detectors as follows:\n",
    "\n",
    "$ W_{i,j} = \\frac{D_{i,j}}{S_i*S_j}$\n",
    "\n",
    "This requires calculating $S_i$ and $S_j$ from the `cced` files. I need to rewrite my analysis from the beginning, or write another function that parses the `cced` file.\n",
    "\n",
    "In this file, I will import the singles and bicorr data and calculate all  $D_{i,j}$, $S_i$, $S_j$, and $W_{i,j}$. \n",
    "\n",
    "This notebook does the analysis in energy space."
   ]
  },
  {
   "cell_type": "code",
   "execution_count": 1,
   "metadata": {},
   "outputs": [],
   "source": [
    "import os\n",
    "import sys\n",
    "import matplotlib.pyplot as plt\n",
    "import numpy as np\n",
    "import imageio"
   ]
  },
  {
   "cell_type": "code",
   "execution_count": 2,
   "metadata": {},
   "outputs": [],
   "source": [
    "import pandas as pd"
   ]
  },
  {
   "cell_type": "code",
   "execution_count": 3,
   "metadata": {},
   "outputs": [],
   "source": [
    "import seaborn as sns\n",
    "sns.set(style='ticks')"
   ]
  },
  {
   "cell_type": "code",
   "execution_count": 4,
   "metadata": {},
   "outputs": [],
   "source": [
    "sys.path.append('../scripts/')"
   ]
  },
  {
   "cell_type": "code",
   "execution_count": 5,
   "metadata": {},
   "outputs": [],
   "source": [
    "import bicorr as bicorr\n",
    "import bicorr_e as bicorr_e\n",
    "import bicorr_plot as bicorr_plot\n",
    "import bicorr_sums as bicorr_sums\n",
    "import bicorr_math as bicorr_math"
   ]
  },
  {
   "cell_type": "code",
   "execution_count": 6,
   "metadata": {},
   "outputs": [],
   "source": [
    "%load_ext autoreload\n",
    "%autoreload 2"
   ]
  },
  {
   "cell_type": "markdown",
   "metadata": {},
   "source": [
    "# Load some data\n",
    "\n",
    "I'm going to work with the data from the combined data sets. The analysis for this data set is in `analysis\\Cf072115_to_Cf072215b`.\n",
    "\n",
    "The one limitation here is that this data has already cut out the fission chamber neighbors. "
   ]
  },
  {
   "cell_type": "markdown",
   "metadata": {},
   "source": [
    "## `det_df` without fission chamber neighbors"
   ]
  },
  {
   "cell_type": "code",
   "execution_count": 7,
   "metadata": {},
   "outputs": [
    {
     "data": {
      "text/html": [
       "<div>\n",
       "<style scoped>\n",
       "    .dataframe tbody tr th:only-of-type {\n",
       "        vertical-align: middle;\n",
       "    }\n",
       "\n",
       "    .dataframe tbody tr th {\n",
       "        vertical-align: top;\n",
       "    }\n",
       "\n",
       "    .dataframe thead th {\n",
       "        text-align: right;\n",
       "    }\n",
       "</style>\n",
       "<table border=\"1\" class=\"dataframe\">\n",
       "  <thead>\n",
       "    <tr style=\"text-align: right;\">\n",
       "      <th></th>\n",
       "      <th>d1</th>\n",
       "      <th>d2</th>\n",
       "      <th>d1d2</th>\n",
       "      <th>angle</th>\n",
       "    </tr>\n",
       "  </thead>\n",
       "  <tbody>\n",
       "    <tr>\n",
       "      <th>0</th>\n",
       "      <td>1</td>\n",
       "      <td>2</td>\n",
       "      <td>102</td>\n",
       "      <td>15.0</td>\n",
       "    </tr>\n",
       "    <tr>\n",
       "      <th>1</th>\n",
       "      <td>1</td>\n",
       "      <td>3</td>\n",
       "      <td>103</td>\n",
       "      <td>30.0</td>\n",
       "    </tr>\n",
       "    <tr>\n",
       "      <th>2</th>\n",
       "      <td>1</td>\n",
       "      <td>4</td>\n",
       "      <td>104</td>\n",
       "      <td>45.0</td>\n",
       "    </tr>\n",
       "    <tr>\n",
       "      <th>3</th>\n",
       "      <td>1</td>\n",
       "      <td>5</td>\n",
       "      <td>105</td>\n",
       "      <td>60.0</td>\n",
       "    </tr>\n",
       "    <tr>\n",
       "      <th>4</th>\n",
       "      <td>1</td>\n",
       "      <td>6</td>\n",
       "      <td>106</td>\n",
       "      <td>75.0</td>\n",
       "    </tr>\n",
       "  </tbody>\n",
       "</table>\n",
       "</div>"
      ],
      "text/plain": [
       "   d1  d2  d1d2  angle\n",
       "0   1   2   102   15.0\n",
       "1   1   3   103   30.0\n",
       "2   1   4   104   45.0\n",
       "3   1   5   105   60.0\n",
       "4   1   6   106   75.0"
      ]
     },
     "execution_count": 7,
     "metadata": {},
     "output_type": "execute_result"
    }
   ],
   "source": [
    "det_df = bicorr.load_det_df('../meas_info/det_df_pairs_angles.csv')\n",
    "det_df.head()"
   ]
  },
  {
   "cell_type": "code",
   "execution_count": 8,
   "metadata": {},
   "outputs": [],
   "source": [
    "chList, fcList, detList, num_dets, num_det_pairs = bicorr.build_ch_lists()\n",
    "dict_pair_to_index, dict_index_to_pair, dict_pair_to_angle = bicorr.build_dict_det_pair(det_df)"
   ]
  },
  {
   "cell_type": "code",
   "execution_count": 9,
   "metadata": {},
   "outputs": [],
   "source": [
    "num_fissions = 2194651200.00"
   ]
  },
  {
   "cell_type": "markdown",
   "metadata": {},
   "source": [
    "## Specify energy range"
   ]
  },
  {
   "cell_type": "code",
   "execution_count": 10,
   "metadata": {},
   "outputs": [],
   "source": [
    "e_min = 0.62\n",
    "e_max = 12"
   ]
  },
  {
   "cell_type": "markdown",
   "metadata": {},
   "source": [
    "## `singles_hist_e_n.npz`"
   ]
  },
  {
   "cell_type": "code",
   "execution_count": 11,
   "metadata": {},
   "outputs": [
    {
     "data": {
      "image/png": "[encoded data removed]",
      "text/plain": [
       "<Figure size 288x216 with 1 Axes>"
      ]
     },
     "metadata": {},
     "output_type": "display_data"
    },
    {
     "data": {
      "text/plain": [
       "<Figure size 576x396 with 0 Axes>"
      ]
     },
     "metadata": {},
     "output_type": "display_data"
    }
   ],
   "source": [
    "singles_hist_e_n, e_bin_edges, dict_det_to_index, dict_index_to_det = bicorr_e.load_singles_hist_both(filepath = '../analysis/Cf072115_to_Cf072215b/datap/',plot_flag=True, show_flag=True)"
   ]
  },
  {
   "cell_type": "code",
   "execution_count": 12,
   "metadata": {},
   "outputs": [
    {
     "data": {
      "image/png": "[encoded data removed]",
      "text/plain": [
       "<Figure size 288x216 with 1 Axes>"
      ]
     },
     "metadata": {},
     "output_type": "display_data"
    }
   ],
   "source": [
    "bicorr_plot.plot_singles_hist_e_n(singles_hist_e_n, e_bin_edges, show_flag=False, clear_flag=False)\n",
    "for e in [e_min, e_max]:\n",
    "    plt.axvline(e,c='r') \n",
    "plt.show()"
   ]
  },
  {
   "cell_type": "code",
   "execution_count": 13,
   "metadata": {},
   "outputs": [
    {
     "data": {
      "text/plain": [
       "(45, 600)"
      ]
     },
     "execution_count": 13,
     "metadata": {},
     "output_type": "execute_result"
    }
   ],
   "source": [
    "singles_hist_e_n.shape"
   ]
  },
  {
   "cell_type": "markdown",
   "metadata": {},
   "source": [
    "## Load `bhp_nn_e` for all pairs\n",
    "\n",
    "I'm going to skip a few steps in order to save memory. This data was produced in `analysis_build_bhp_nn_by_pair_1_ns.ipynb` and is stored in `datap\\bhp_nn_by_pair_1ns.npz`. Load it now, as explained in the notebook."
   ]
  },
  {
   "cell_type": "code",
   "execution_count": 14,
   "metadata": {},
   "outputs": [],
   "source": [
    "bhm_e, e_bin_edges, note = bicorr_e.load_bhm_e('../analysis/Cf072115_to_Cf072215b/datap')"
   ]
  },
  {
   "cell_type": "code",
   "execution_count": 15,
   "metadata": {},
   "outputs": [
    {
     "data": {
      "text/plain": [
       "(990, 1, 600, 600)"
      ]
     },
     "execution_count": 15,
     "metadata": {},
     "output_type": "execute_result"
    }
   ],
   "source": [
    "bhm_e.shape"
   ]
  },
  {
   "cell_type": "code",
   "execution_count": 16,
   "metadata": {},
   "outputs": [
    {
     "data": {
      "text/plain": [
       "(990, 600, 600)"
      ]
     },
     "execution_count": 16,
     "metadata": {},
     "output_type": "execute_result"
    }
   ],
   "source": [
    "bhp_e = np.zeros((len(det_df),len(e_bin_edges)-1,len(e_bin_edges)-1))\n",
    "bhp_e.shape"
   ]
  },
  {
   "cell_type": "code",
   "execution_count": 17,
   "metadata": {},
   "outputs": [],
   "source": [
    "for index in det_df.index.values: # index is same as in `bhm`\n",
    "    bhp_e[index,:,:] = bicorr_e.build_bhp_e(bhm_e,e_bin_edges,pair_is=[index])[0]"
   ]
  },
  {
   "cell_type": "code",
   "execution_count": 18,
   "metadata": {},
   "outputs": [
    {
     "name": "stderr",
     "output_type": "stream",
     "text": [
      "C:\\Users\\pfschus\\AppData\\Local\\Continuum\\Anaconda3\\lib\\site-packages\\matplotlib\\cbook\\deprecation.py:107: MatplotlibDeprecationWarning: Adding an axes using the same arguments as a previous axes currently reuses the earlier instance.  In a future version, a new instance will always be created and returned.  Meanwhile, this warning can be suppressed, and the future behavior ensured, by passing a unique label to each axes instance.\n",
      "  warnings.warn(message, mplDeprecation, stacklevel=1)\n"
     ]
    },
    {
     "data": {
      "image/png": "[encoded data removed]",
      "text/plain": [
       "<Figure size 288x288 with 2 Axes>"
      ]
     },
     "metadata": {},
     "output_type": "display_data"
    },
    {
     "data": {
      "text/plain": [
       "<Figure size 576x396 with 0 Axes>"
      ]
     },
     "metadata": {},
     "output_type": "display_data"
    }
   ],
   "source": [
    "bicorr_plot.bhp_e_plot(np.sum(bhp_e,axis=0),e_bin_edges, show_flag=True)"
   ]
  },
  {
   "cell_type": "markdown",
   "metadata": {},
   "source": [
    "## Set up `det_df` columns and `singles_df`"
   ]
  },
  {
   "cell_type": "code",
   "execution_count": 19,
   "metadata": {},
   "outputs": [
    {
     "data": {
      "text/html": [
       "<div>\n",
       "<style scoped>\n",
       "    .dataframe tbody tr th:only-of-type {\n",
       "        vertical-align: middle;\n",
       "    }\n",
       "\n",
       "    .dataframe tbody tr th {\n",
       "        vertical-align: top;\n",
       "    }\n",
       "\n",
       "    .dataframe thead th {\n",
       "        text-align: right;\n",
       "    }\n",
       "</style>\n",
       "<table border=\"1\" class=\"dataframe\">\n",
       "  <thead>\n",
       "    <tr style=\"text-align: right;\">\n",
       "      <th></th>\n",
       "      <th>d1</th>\n",
       "      <th>d2</th>\n",
       "      <th>d1d2</th>\n",
       "      <th>angle</th>\n",
       "    </tr>\n",
       "  </thead>\n",
       "  <tbody>\n",
       "    <tr>\n",
       "      <th>0</th>\n",
       "      <td>1</td>\n",
       "      <td>2</td>\n",
       "      <td>102</td>\n",
       "      <td>15.0</td>\n",
       "    </tr>\n",
       "    <tr>\n",
       "      <th>1</th>\n",
       "      <td>1</td>\n",
       "      <td>3</td>\n",
       "      <td>103</td>\n",
       "      <td>30.0</td>\n",
       "    </tr>\n",
       "    <tr>\n",
       "      <th>2</th>\n",
       "      <td>1</td>\n",
       "      <td>4</td>\n",
       "      <td>104</td>\n",
       "      <td>45.0</td>\n",
       "    </tr>\n",
       "    <tr>\n",
       "      <th>3</th>\n",
       "      <td>1</td>\n",
       "      <td>5</td>\n",
       "      <td>105</td>\n",
       "      <td>60.0</td>\n",
       "    </tr>\n",
       "    <tr>\n",
       "      <th>4</th>\n",
       "      <td>1</td>\n",
       "      <td>6</td>\n",
       "      <td>106</td>\n",
       "      <td>75.0</td>\n",
       "    </tr>\n",
       "  </tbody>\n",
       "</table>\n",
       "</div>"
      ],
      "text/plain": [
       "   d1  d2  d1d2  angle\n",
       "0   1   2   102   15.0\n",
       "1   1   3   103   30.0\n",
       "2   1   4   104   45.0\n",
       "3   1   5   105   60.0\n",
       "4   1   6   106   75.0"
      ]
     },
     "execution_count": 19,
     "metadata": {},
     "output_type": "execute_result"
    }
   ],
   "source": [
    "det_df.head()"
   ]
  },
  {
   "cell_type": "code",
   "execution_count": 20,
   "metadata": {
    "scrolled": true
   },
   "outputs": [
    {
     "data": {
      "text/html": [
       "<div>\n",
       "<style scoped>\n",
       "    .dataframe tbody tr th:only-of-type {\n",
       "        vertical-align: middle;\n",
       "    }\n",
       "\n",
       "    .dataframe tbody tr th {\n",
       "        vertical-align: top;\n",
       "    }\n",
       "\n",
       "    .dataframe thead th {\n",
       "        text-align: right;\n",
       "    }\n",
       "</style>\n",
       "<table border=\"1\" class=\"dataframe\">\n",
       "  <thead>\n",
       "    <tr style=\"text-align: right;\">\n",
       "      <th></th>\n",
       "      <th>d1</th>\n",
       "      <th>d2</th>\n",
       "      <th>d1d2</th>\n",
       "      <th>angle</th>\n",
       "      <th>Cd</th>\n",
       "      <th>Cd_err</th>\n",
       "      <th>Sd1</th>\n",
       "      <th>Sd1_err</th>\n",
       "      <th>Sd2</th>\n",
       "      <th>Sd2_err</th>\n",
       "      <th>W</th>\n",
       "      <th>W_err</th>\n",
       "    </tr>\n",
       "  </thead>\n",
       "  <tbody>\n",
       "    <tr>\n",
       "      <th>0</th>\n",
       "      <td>1</td>\n",
       "      <td>2</td>\n",
       "      <td>102</td>\n",
       "      <td>15.0</td>\n",
       "      <td>NaN</td>\n",
       "      <td>NaN</td>\n",
       "      <td>NaN</td>\n",
       "      <td>NaN</td>\n",
       "      <td>NaN</td>\n",
       "      <td>NaN</td>\n",
       "      <td>NaN</td>\n",
       "      <td>NaN</td>\n",
       "    </tr>\n",
       "    <tr>\n",
       "      <th>1</th>\n",
       "      <td>1</td>\n",
       "      <td>3</td>\n",
       "      <td>103</td>\n",
       "      <td>30.0</td>\n",
       "      <td>NaN</td>\n",
       "      <td>NaN</td>\n",
       "      <td>NaN</td>\n",
       "      <td>NaN</td>\n",
       "      <td>NaN</td>\n",
       "      <td>NaN</td>\n",
       "      <td>NaN</td>\n",
       "      <td>NaN</td>\n",
       "    </tr>\n",
       "    <tr>\n",
       "      <th>2</th>\n",
       "      <td>1</td>\n",
       "      <td>4</td>\n",
       "      <td>104</td>\n",
       "      <td>45.0</td>\n",
       "      <td>NaN</td>\n",
       "      <td>NaN</td>\n",
       "      <td>NaN</td>\n",
       "      <td>NaN</td>\n",
       "      <td>NaN</td>\n",
       "      <td>NaN</td>\n",
       "      <td>NaN</td>\n",
       "      <td>NaN</td>\n",
       "    </tr>\n",
       "    <tr>\n",
       "      <th>3</th>\n",
       "      <td>1</td>\n",
       "      <td>5</td>\n",
       "      <td>105</td>\n",
       "      <td>60.0</td>\n",
       "      <td>NaN</td>\n",
       "      <td>NaN</td>\n",
       "      <td>NaN</td>\n",
       "      <td>NaN</td>\n",
       "      <td>NaN</td>\n",
       "      <td>NaN</td>\n",
       "      <td>NaN</td>\n",
       "      <td>NaN</td>\n",
       "    </tr>\n",
       "    <tr>\n",
       "      <th>4</th>\n",
       "      <td>1</td>\n",
       "      <td>6</td>\n",
       "      <td>106</td>\n",
       "      <td>75.0</td>\n",
       "      <td>NaN</td>\n",
       "      <td>NaN</td>\n",
       "      <td>NaN</td>\n",
       "      <td>NaN</td>\n",
       "      <td>NaN</td>\n",
       "      <td>NaN</td>\n",
       "      <td>NaN</td>\n",
       "      <td>NaN</td>\n",
       "    </tr>\n",
       "  </tbody>\n",
       "</table>\n",
       "</div>"
      ],
      "text/plain": [
       "   d1  d2  d1d2  angle  Cd  Cd_err  Sd1  Sd1_err  Sd2  Sd2_err   W  W_err\n",
       "0   1   2   102   15.0 NaN     NaN  NaN      NaN  NaN      NaN NaN    NaN\n",
       "1   1   3   103   30.0 NaN     NaN  NaN      NaN  NaN      NaN NaN    NaN\n",
       "2   1   4   104   45.0 NaN     NaN  NaN      NaN  NaN      NaN NaN    NaN\n",
       "3   1   5   105   60.0 NaN     NaN  NaN      NaN  NaN      NaN NaN    NaN\n",
       "4   1   6   106   75.0 NaN     NaN  NaN      NaN  NaN      NaN NaN    NaN"
      ]
     },
     "execution_count": 20,
     "metadata": {},
     "output_type": "execute_result"
    }
   ],
   "source": [
    "det_df = bicorr_sums.init_det_df_sums(det_df)\n",
    "det_df.head()"
   ]
  },
  {
   "cell_type": "code",
   "execution_count": 21,
   "metadata": {},
   "outputs": [
    {
     "data": {
      "text/html": [
       "<div>\n",
       "<style scoped>\n",
       "    .dataframe tbody tr th:only-of-type {\n",
       "        vertical-align: middle;\n",
       "    }\n",
       "\n",
       "    .dataframe tbody tr th {\n",
       "        vertical-align: top;\n",
       "    }\n",
       "\n",
       "    .dataframe thead th {\n",
       "        text-align: right;\n",
       "    }\n",
       "</style>\n",
       "<table border=\"1\" class=\"dataframe\">\n",
       "  <thead>\n",
       "    <tr style=\"text-align: right;\">\n",
       "      <th></th>\n",
       "      <th>ch</th>\n",
       "      <th>Sd</th>\n",
       "      <th>Sd_err</th>\n",
       "    </tr>\n",
       "  </thead>\n",
       "  <tbody>\n",
       "    <tr>\n",
       "      <th>0</th>\n",
       "      <td>1</td>\n",
       "      <td>NaN</td>\n",
       "      <td>NaN</td>\n",
       "    </tr>\n",
       "    <tr>\n",
       "      <th>1</th>\n",
       "      <td>2</td>\n",
       "      <td>NaN</td>\n",
       "      <td>NaN</td>\n",
       "    </tr>\n",
       "    <tr>\n",
       "      <th>2</th>\n",
       "      <td>3</td>\n",
       "      <td>NaN</td>\n",
       "      <td>NaN</td>\n",
       "    </tr>\n",
       "    <tr>\n",
       "      <th>3</th>\n",
       "      <td>4</td>\n",
       "      <td>NaN</td>\n",
       "      <td>NaN</td>\n",
       "    </tr>\n",
       "    <tr>\n",
       "      <th>4</th>\n",
       "      <td>5</td>\n",
       "      <td>NaN</td>\n",
       "      <td>NaN</td>\n",
       "    </tr>\n",
       "  </tbody>\n",
       "</table>\n",
       "</div>"
      ],
      "text/plain": [
       "   ch  Sd  Sd_err\n",
       "0   1 NaN     NaN\n",
       "1   2 NaN     NaN\n",
       "2   3 NaN     NaN\n",
       "3   4 NaN     NaN\n",
       "4   5 NaN     NaN"
      ]
     },
     "execution_count": 21,
     "metadata": {},
     "output_type": "execute_result"
    }
   ],
   "source": [
    "singles_e_df = bicorr_sums.init_singles_e_df(dict_index_to_det)\n",
    "singles_e_df.head()"
   ]
  },
  {
   "cell_type": "markdown",
   "metadata": {},
   "source": [
    "## Calculate and fill doubles sums"
   ]
  },
  {
   "cell_type": "code",
   "execution_count": 22,
   "metadata": {},
   "outputs": [
    {
     "data": {
      "text/plain": [
       "(990, 600, 600)"
      ]
     },
     "execution_count": 22,
     "metadata": {},
     "output_type": "execute_result"
    }
   ],
   "source": [
    "bhp_e.shape"
   ]
  },
  {
   "cell_type": "code",
   "execution_count": 23,
   "metadata": {},
   "outputs": [
    {
     "data": {
      "text/html": [
       "<div>\n",
       "<style scoped>\n",
       "    .dataframe tbody tr th:only-of-type {\n",
       "        vertical-align: middle;\n",
       "    }\n",
       "\n",
       "    .dataframe tbody tr th {\n",
       "        vertical-align: top;\n",
       "    }\n",
       "\n",
       "    .dataframe thead th {\n",
       "        text-align: right;\n",
       "    }\n",
       "</style>\n",
       "<table border=\"1\" class=\"dataframe\">\n",
       "  <thead>\n",
       "    <tr style=\"text-align: right;\">\n",
       "      <th></th>\n",
       "      <th>d1</th>\n",
       "      <th>d2</th>\n",
       "      <th>d1d2</th>\n",
       "      <th>angle</th>\n",
       "      <th>Cd</th>\n",
       "      <th>Cd_err</th>\n",
       "      <th>Sd1</th>\n",
       "      <th>Sd1_err</th>\n",
       "      <th>Sd2</th>\n",
       "      <th>Sd2_err</th>\n",
       "      <th>W</th>\n",
       "      <th>W_err</th>\n",
       "    </tr>\n",
       "  </thead>\n",
       "  <tbody>\n",
       "    <tr>\n",
       "      <th>0</th>\n",
       "      <td>1</td>\n",
       "      <td>2</td>\n",
       "      <td>102</td>\n",
       "      <td>15.0</td>\n",
       "      <td>23776.0</td>\n",
       "      <td>154.194682</td>\n",
       "      <td>NaN</td>\n",
       "      <td>NaN</td>\n",
       "      <td>NaN</td>\n",
       "      <td>NaN</td>\n",
       "      <td>NaN</td>\n",
       "      <td>NaN</td>\n",
       "    </tr>\n",
       "    <tr>\n",
       "      <th>1</th>\n",
       "      <td>1</td>\n",
       "      <td>3</td>\n",
       "      <td>103</td>\n",
       "      <td>30.0</td>\n",
       "      <td>14170.0</td>\n",
       "      <td>119.037809</td>\n",
       "      <td>NaN</td>\n",
       "      <td>NaN</td>\n",
       "      <td>NaN</td>\n",
       "      <td>NaN</td>\n",
       "      <td>NaN</td>\n",
       "      <td>NaN</td>\n",
       "    </tr>\n",
       "    <tr>\n",
       "      <th>2</th>\n",
       "      <td>1</td>\n",
       "      <td>4</td>\n",
       "      <td>104</td>\n",
       "      <td>45.0</td>\n",
       "      <td>13777.0</td>\n",
       "      <td>117.375466</td>\n",
       "      <td>NaN</td>\n",
       "      <td>NaN</td>\n",
       "      <td>NaN</td>\n",
       "      <td>NaN</td>\n",
       "      <td>NaN</td>\n",
       "      <td>NaN</td>\n",
       "    </tr>\n",
       "    <tr>\n",
       "      <th>3</th>\n",
       "      <td>1</td>\n",
       "      <td>5</td>\n",
       "      <td>105</td>\n",
       "      <td>60.0</td>\n",
       "      <td>13033.0</td>\n",
       "      <td>114.162165</td>\n",
       "      <td>NaN</td>\n",
       "      <td>NaN</td>\n",
       "      <td>NaN</td>\n",
       "      <td>NaN</td>\n",
       "      <td>NaN</td>\n",
       "      <td>NaN</td>\n",
       "    </tr>\n",
       "    <tr>\n",
       "      <th>4</th>\n",
       "      <td>1</td>\n",
       "      <td>6</td>\n",
       "      <td>106</td>\n",
       "      <td>75.0</td>\n",
       "      <td>11558.0</td>\n",
       "      <td>107.508139</td>\n",
       "      <td>NaN</td>\n",
       "      <td>NaN</td>\n",
       "      <td>NaN</td>\n",
       "      <td>NaN</td>\n",
       "      <td>NaN</td>\n",
       "      <td>NaN</td>\n",
       "    </tr>\n",
       "  </tbody>\n",
       "</table>\n",
       "</div>"
      ],
      "text/plain": [
       "   d1  d2  d1d2  angle       Cd      Cd_err  Sd1  Sd1_err  Sd2  Sd2_err   W  \\\n",
       "0   1   2   102   15.0  23776.0  154.194682  NaN      NaN  NaN      NaN NaN   \n",
       "1   1   3   103   30.0  14170.0  119.037809  NaN      NaN  NaN      NaN NaN   \n",
       "2   1   4   104   45.0  13777.0  117.375466  NaN      NaN  NaN      NaN NaN   \n",
       "3   1   5   105   60.0  13033.0  114.162165  NaN      NaN  NaN      NaN NaN   \n",
       "4   1   6   106   75.0  11558.0  107.508139  NaN      NaN  NaN      NaN NaN   \n",
       "\n",
       "   W_err  \n",
       "0    NaN  \n",
       "1    NaN  \n",
       "2    NaN  \n",
       "3    NaN  \n",
       "4    NaN  "
      ]
     },
     "execution_count": 23,
     "metadata": {},
     "output_type": "execute_result"
    }
   ],
   "source": [
    "det_df, energies_real = bicorr_sums.fill_det_df_doubles_e_sums(det_df, bhp_e, e_bin_edges, e_min, e_max, True)\n",
    "det_df.head()"
   ]
  },
  {
   "cell_type": "code",
   "execution_count": 24,
   "metadata": {},
   "outputs": [
    {
     "data": {
      "image/png": "[encoded data removed]",
      "text/plain": [
       "<Figure size 288x216 with 1 Axes>"
      ]
     },
     "metadata": {},
     "output_type": "display_data"
    },
    {
     "data": {
      "text/plain": [
       "<Figure size 576x396 with 0 Axes>"
      ]
     },
     "metadata": {},
     "output_type": "display_data"
    }
   ],
   "source": [
    "bicorr_plot.counts_vs_angle_all(det_df, save_flag=False)"
   ]
  },
  {
   "cell_type": "markdown",
   "metadata": {},
   "source": [
    "## Calculate singles sums"
   ]
  },
  {
   "cell_type": "code",
   "execution_count": 25,
   "metadata": {},
   "outputs": [
    {
     "data": {
      "text/html": [
       "<div>\n",
       "<style scoped>\n",
       "    .dataframe tbody tr th:only-of-type {\n",
       "        vertical-align: middle;\n",
       "    }\n",
       "\n",
       "    .dataframe tbody tr th {\n",
       "        vertical-align: top;\n",
       "    }\n",
       "\n",
       "    .dataframe thead th {\n",
       "        text-align: right;\n",
       "    }\n",
       "</style>\n",
       "<table border=\"1\" class=\"dataframe\">\n",
       "  <thead>\n",
       "    <tr style=\"text-align: right;\">\n",
       "      <th></th>\n",
       "      <th>ch</th>\n",
       "      <th>Sd</th>\n",
       "      <th>Sd_err</th>\n",
       "    </tr>\n",
       "  </thead>\n",
       "  <tbody>\n",
       "    <tr>\n",
       "      <th>0</th>\n",
       "      <td>1</td>\n",
       "      <td>788117.0</td>\n",
       "      <td>887.759540</td>\n",
       "    </tr>\n",
       "    <tr>\n",
       "      <th>1</th>\n",
       "      <td>2</td>\n",
       "      <td>5227204.0</td>\n",
       "      <td>2286.307941</td>\n",
       "    </tr>\n",
       "    <tr>\n",
       "      <th>2</th>\n",
       "      <td>3</td>\n",
       "      <td>5083312.0</td>\n",
       "      <td>2254.620145</td>\n",
       "    </tr>\n",
       "    <tr>\n",
       "      <th>3</th>\n",
       "      <td>4</td>\n",
       "      <td>5450655.0</td>\n",
       "      <td>2334.663787</td>\n",
       "    </tr>\n",
       "    <tr>\n",
       "      <th>4</th>\n",
       "      <td>5</td>\n",
       "      <td>5765819.0</td>\n",
       "      <td>2401.211986</td>\n",
       "    </tr>\n",
       "  </tbody>\n",
       "</table>\n",
       "</div>"
      ],
      "text/plain": [
       "   ch         Sd       Sd_err\n",
       "0   1   788117.0   887.759540\n",
       "1   2  5227204.0  2286.307941\n",
       "2   3  5083312.0  2254.620145\n",
       "3   4  5450655.0  2334.663787\n",
       "4   5  5765819.0  2401.211986"
      ]
     },
     "execution_count": 25,
     "metadata": {},
     "output_type": "execute_result"
    }
   ],
   "source": [
    "singles_e_df.head()"
   ]
  },
  {
   "cell_type": "code",
   "execution_count": 26,
   "metadata": {},
   "outputs": [
    {
     "data": {
      "image/png": "[encoded data removed]",
      "text/plain": [
       "<Figure size 288x216 with 1 Axes>"
      ]
     },
     "metadata": {},
     "output_type": "display_data"
    },
    {
     "data": {
      "text/plain": [
       "<Figure size 576x396 with 0 Axes>"
      ]
     },
     "metadata": {},
     "output_type": "display_data"
    }
   ],
   "source": [
    "bicorr_plot.Sd_vs_ch_all(singles_e_df, save_flag=False)"
   ]
  },
  {
   "cell_type": "code",
   "execution_count": 27,
   "metadata": {},
   "outputs": [
    {
     "data": {
      "text/html": [
       "<div>\n",
       "<style scoped>\n",
       "    .dataframe tbody tr th:only-of-type {\n",
       "        vertical-align: middle;\n",
       "    }\n",
       "\n",
       "    .dataframe tbody tr th {\n",
       "        vertical-align: top;\n",
       "    }\n",
       "\n",
       "    .dataframe thead th {\n",
       "        text-align: right;\n",
       "    }\n",
       "</style>\n",
       "<table border=\"1\" class=\"dataframe\">\n",
       "  <thead>\n",
       "    <tr style=\"text-align: right;\">\n",
       "      <th></th>\n",
       "      <th>d1</th>\n",
       "      <th>d2</th>\n",
       "      <th>d1d2</th>\n",
       "      <th>angle</th>\n",
       "      <th>Cd</th>\n",
       "      <th>Cd_err</th>\n",
       "      <th>Sd1</th>\n",
       "      <th>Sd1_err</th>\n",
       "      <th>Sd2</th>\n",
       "      <th>Sd2_err</th>\n",
       "      <th>W</th>\n",
       "      <th>W_err</th>\n",
       "    </tr>\n",
       "  </thead>\n",
       "  <tbody>\n",
       "    <tr>\n",
       "      <th>0</th>\n",
       "      <td>1</td>\n",
       "      <td>2</td>\n",
       "      <td>102</td>\n",
       "      <td>15.0</td>\n",
       "      <td>23776.0</td>\n",
       "      <td>154.194682</td>\n",
       "      <td>788117.0</td>\n",
       "      <td>887.75954</td>\n",
       "      <td>5227204.0</td>\n",
       "      <td>2286.307941</td>\n",
       "      <td>NaN</td>\n",
       "      <td>NaN</td>\n",
       "    </tr>\n",
       "    <tr>\n",
       "      <th>1</th>\n",
       "      <td>1</td>\n",
       "      <td>3</td>\n",
       "      <td>103</td>\n",
       "      <td>30.0</td>\n",
       "      <td>14170.0</td>\n",
       "      <td>119.037809</td>\n",
       "      <td>788117.0</td>\n",
       "      <td>887.75954</td>\n",
       "      <td>5083312.0</td>\n",
       "      <td>2254.620145</td>\n",
       "      <td>NaN</td>\n",
       "      <td>NaN</td>\n",
       "    </tr>\n",
       "    <tr>\n",
       "      <th>2</th>\n",
       "      <td>1</td>\n",
       "      <td>4</td>\n",
       "      <td>104</td>\n",
       "      <td>45.0</td>\n",
       "      <td>13777.0</td>\n",
       "      <td>117.375466</td>\n",
       "      <td>788117.0</td>\n",
       "      <td>887.75954</td>\n",
       "      <td>5450655.0</td>\n",
       "      <td>2334.663787</td>\n",
       "      <td>NaN</td>\n",
       "      <td>NaN</td>\n",
       "    </tr>\n",
       "    <tr>\n",
       "      <th>3</th>\n",
       "      <td>1</td>\n",
       "      <td>5</td>\n",
       "      <td>105</td>\n",
       "      <td>60.0</td>\n",
       "      <td>13033.0</td>\n",
       "      <td>114.162165</td>\n",
       "      <td>788117.0</td>\n",
       "      <td>887.75954</td>\n",
       "      <td>5765819.0</td>\n",
       "      <td>2401.211986</td>\n",
       "      <td>NaN</td>\n",
       "      <td>NaN</td>\n",
       "    </tr>\n",
       "    <tr>\n",
       "      <th>4</th>\n",
       "      <td>1</td>\n",
       "      <td>6</td>\n",
       "      <td>106</td>\n",
       "      <td>75.0</td>\n",
       "      <td>11558.0</td>\n",
       "      <td>107.508139</td>\n",
       "      <td>788117.0</td>\n",
       "      <td>887.75954</td>\n",
       "      <td>5492867.0</td>\n",
       "      <td>2343.686626</td>\n",
       "      <td>NaN</td>\n",
       "      <td>NaN</td>\n",
       "    </tr>\n",
       "  </tbody>\n",
       "</table>\n",
       "</div>"
      ],
      "text/plain": [
       "   d1  d2  d1d2  angle       Cd      Cd_err       Sd1    Sd1_err        Sd2  \\\n",
       "0   1   2   102   15.0  23776.0  154.194682  788117.0  887.75954  5227204.0   \n",
       "1   1   3   103   30.0  14170.0  119.037809  788117.0  887.75954  5083312.0   \n",
       "2   1   4   104   45.0  13777.0  117.375466  788117.0  887.75954  5450655.0   \n",
       "3   1   5   105   60.0  13033.0  114.162165  788117.0  887.75954  5765819.0   \n",
       "4   1   6   106   75.0  11558.0  107.508139  788117.0  887.75954  5492867.0   \n",
       "\n",
       "       Sd2_err   W  W_err  \n",
       "0  2286.307941 NaN    NaN  \n",
       "1  2254.620145 NaN    NaN  \n",
       "2  2334.663787 NaN    NaN  \n",
       "3  2401.211986 NaN    NaN  \n",
       "4  2343.686626 NaN    NaN  "
      ]
     },
     "execution_count": 27,
     "metadata": {},
     "output_type": "execute_result"
    }
   ],
   "source": [
    "det_df = bicorr_sums.fill_det_df_singles_sums(det_df, singles_e_df)\n",
    "det_df.head()"
   ]
  },
  {
   "cell_type": "code",
   "execution_count": 28,
   "metadata": {},
   "outputs": [
    {
     "data": {
      "image/png": "[encoded data removed]",
      "text/plain": [
       "<Figure size 288x288 with 2 Axes>"
      ]
     },
     "metadata": {},
     "output_type": "display_data"
    },
    {
     "data": {
      "image/png": "[encoded data removed]",
      "text/plain": [
       "<Figure size 288x288 with 2 Axes>"
      ]
     },
     "metadata": {},
     "output_type": "display_data"
    },
    {
     "data": {
      "image/png": "[encoded data removed]",
      "text/plain": [
       "<Figure size 288x288 with 2 Axes>"
      ]
     },
     "metadata": {},
     "output_type": "display_data"
    }
   ],
   "source": [
    "plt.figure(figsize=(4,4))\n",
    "ax = plt.gca()\n",
    "sc = ax.scatter(det_df['d1'],det_df['d2'],s=13,marker='s',\n",
    "                edgecolor = 'none', c=det_df['Cd'],cmap='viridis')\n",
    "ax.set_xlabel('d1 channel')\n",
    "ax.set_ylabel('d2 channel')\n",
    "ax.set_title('Doubles counts')\n",
    "cbar = plt.colorbar(sc,fraction=0.043,pad=0.1)\n",
    "cbar.set_label('Doubles counts')\n",
    "plt.show()\n",
    "\n",
    "plt.figure(figsize=(4,4))\n",
    "ax = plt.gca()\n",
    "sc = ax.scatter(det_df['d1'],det_df['d2'],s=13,marker='s',\n",
    "                edgecolor = 'none', c=det_df['Sd1'],cmap='viridis')\n",
    "ax.set_xlabel('d1 channel')\n",
    "ax.set_ylabel('d2 channel')\n",
    "ax.set_title('D1 singles counts')\n",
    "cbar = plt.colorbar(sc,fraction=0.043,pad=0.1)\n",
    "cbar.set_label('D1 singles counts')\n",
    "plt.show()\n",
    "\n",
    "plt.figure(figsize=(4,4))\n",
    "ax = plt.gca()\n",
    "sc = ax.scatter(det_df['d1'],det_df['d2'],s=13,marker='s',\n",
    "                edgecolor = 'none', c=det_df['Sd2'],cmap='viridis')\n",
    "ax.set_xlabel('d1 channel')\n",
    "ax.set_ylabel('d2 channel')\n",
    "ax.set_title('D2 singles counts')\n",
    "cbar = plt.colorbar(sc,fraction=0.043,pad=0.1)\n",
    "cbar.set_label('D2 Singles counts')\n",
    "plt.show()"
   ]
  },
  {
   "cell_type": "markdown",
   "metadata": {},
   "source": [
    "## Calculate W values"
   ]
  },
  {
   "cell_type": "code",
   "execution_count": 29,
   "metadata": {},
   "outputs": [
    {
     "data": {
      "text/html": [
       "<div>\n",
       "<style scoped>\n",
       "    .dataframe tbody tr th:only-of-type {\n",
       "        vertical-align: middle;\n",
       "    }\n",
       "\n",
       "    .dataframe tbody tr th {\n",
       "        vertical-align: top;\n",
       "    }\n",
       "\n",
       "    .dataframe thead th {\n",
       "        text-align: right;\n",
       "    }\n",
       "</style>\n",
       "<table border=\"1\" class=\"dataframe\">\n",
       "  <thead>\n",
       "    <tr style=\"text-align: right;\">\n",
       "      <th></th>\n",
       "      <th>d1</th>\n",
       "      <th>d2</th>\n",
       "      <th>d1d2</th>\n",
       "      <th>angle</th>\n",
       "      <th>Cd</th>\n",
       "      <th>Cd_err</th>\n",
       "      <th>Sd1</th>\n",
       "      <th>Sd1_err</th>\n",
       "      <th>Sd2</th>\n",
       "      <th>Sd2_err</th>\n",
       "      <th>W</th>\n",
       "      <th>W_err</th>\n",
       "    </tr>\n",
       "  </thead>\n",
       "  <tbody>\n",
       "    <tr>\n",
       "      <th>0</th>\n",
       "      <td>1</td>\n",
       "      <td>2</td>\n",
       "      <td>102</td>\n",
       "      <td>15.0</td>\n",
       "      <td>23776.0</td>\n",
       "      <td>154.194682</td>\n",
       "      <td>788117.0</td>\n",
       "      <td>887.75954</td>\n",
       "      <td>5227204.0</td>\n",
       "      <td>2286.307941</td>\n",
       "      <td>5.771366e-09</td>\n",
       "      <td>3.807325e-11</td>\n",
       "    </tr>\n",
       "    <tr>\n",
       "      <th>1</th>\n",
       "      <td>1</td>\n",
       "      <td>3</td>\n",
       "      <td>103</td>\n",
       "      <td>30.0</td>\n",
       "      <td>14170.0</td>\n",
       "      <td>119.037809</td>\n",
       "      <td>788117.0</td>\n",
       "      <td>887.75954</td>\n",
       "      <td>5083312.0</td>\n",
       "      <td>2254.620145</td>\n",
       "      <td>3.536978e-09</td>\n",
       "      <td>3.002001e-11</td>\n",
       "    </tr>\n",
       "    <tr>\n",
       "      <th>2</th>\n",
       "      <td>1</td>\n",
       "      <td>4</td>\n",
       "      <td>104</td>\n",
       "      <td>45.0</td>\n",
       "      <td>13777.0</td>\n",
       "      <td>117.375466</td>\n",
       "      <td>788117.0</td>\n",
       "      <td>887.75954</td>\n",
       "      <td>5450655.0</td>\n",
       "      <td>2334.663787</td>\n",
       "      <td>3.207120e-09</td>\n",
       "      <td>2.759560e-11</td>\n",
       "    </tr>\n",
       "    <tr>\n",
       "      <th>3</th>\n",
       "      <td>1</td>\n",
       "      <td>5</td>\n",
       "      <td>105</td>\n",
       "      <td>60.0</td>\n",
       "      <td>13033.0</td>\n",
       "      <td>114.162165</td>\n",
       "      <td>788117.0</td>\n",
       "      <td>887.75954</td>\n",
       "      <td>5765819.0</td>\n",
       "      <td>2401.211986</td>\n",
       "      <td>2.868089e-09</td>\n",
       "      <td>2.535796e-11</td>\n",
       "    </tr>\n",
       "    <tr>\n",
       "      <th>4</th>\n",
       "      <td>1</td>\n",
       "      <td>6</td>\n",
       "      <td>106</td>\n",
       "      <td>75.0</td>\n",
       "      <td>11558.0</td>\n",
       "      <td>107.508139</td>\n",
       "      <td>788117.0</td>\n",
       "      <td>887.75954</td>\n",
       "      <td>5492867.0</td>\n",
       "      <td>2343.686626</td>\n",
       "      <td>2.669887e-09</td>\n",
       "      <td>2.504164e-11</td>\n",
       "    </tr>\n",
       "  </tbody>\n",
       "</table>\n",
       "</div>"
      ],
      "text/plain": [
       "   d1  d2  d1d2  angle       Cd      Cd_err       Sd1    Sd1_err        Sd2  \\\n",
       "0   1   2   102   15.0  23776.0  154.194682  788117.0  887.75954  5227204.0   \n",
       "1   1   3   103   30.0  14170.0  119.037809  788117.0  887.75954  5083312.0   \n",
       "2   1   4   104   45.0  13777.0  117.375466  788117.0  887.75954  5450655.0   \n",
       "3   1   5   105   60.0  13033.0  114.162165  788117.0  887.75954  5765819.0   \n",
       "4   1   6   106   75.0  11558.0  107.508139  788117.0  887.75954  5492867.0   \n",
       "\n",
       "       Sd2_err             W         W_err  \n",
       "0  2286.307941  5.771366e-09  3.807325e-11  \n",
       "1  2254.620145  3.536978e-09  3.002001e-11  \n",
       "2  2334.663787  3.207120e-09  2.759560e-11  \n",
       "3  2401.211986  2.868089e-09  2.535796e-11  \n",
       "4  2343.686626  2.669887e-09  2.504164e-11  "
      ]
     },
     "execution_count": 29,
     "metadata": {},
     "output_type": "execute_result"
    }
   ],
   "source": [
    "det_df = bicorr_sums.calc_det_df_W(det_df)\n",
    "det_df.head()"
   ]
  },
  {
   "cell_type": "code",
   "execution_count": 30,
   "metadata": {},
   "outputs": [
    {
     "data": {
      "image/png": "[encoded data removed]",
      "text/plain": [
       "<Figure size 288x288 with 2 Axes>"
      ]
     },
     "metadata": {},
     "output_type": "display_data"
    }
   ],
   "source": [
    "plt.figure(figsize=(4,4))\n",
    "ax = plt.gca()\n",
    "sc = ax.scatter(det_df['d1'],det_df['d2'],s=13,marker='s',\n",
    "                edgecolor = 'none', c=det_df['W'],cmap='viridis')\n",
    "ax.set_xlabel('d1 channel')\n",
    "ax.set_ylabel('d2 channel')\n",
    "ax.set_title('W')\n",
    "cbar = plt.colorbar(sc,fraction=0.043,pad=0.1)\n",
    "cbar.set_label('W')\n",
    "plt.show()"
   ]
  },
  {
   "cell_type": "code",
   "execution_count": 31,
   "metadata": {},
   "outputs": [
    {
     "data": {
      "image/png": "[encoded data removed]",
      "text/plain": [
       "<Figure size 288x216 with 1 Axes>"
      ]
     },
     "metadata": {},
     "output_type": "display_data"
    },
    {
     "data": {
      "text/plain": [
       "<Figure size 576x396 with 0 Axes>"
      ]
     },
     "metadata": {},
     "output_type": "display_data"
    }
   ],
   "source": [
    "chIgnore = [1,17,33]\n",
    "det_df_ignore = det_df[~det_df['d1'].isin(chIgnore) & ~det_df['d2'].isin(chIgnore)]\n",
    "bicorr_plot.W_vs_angle_all(det_df_ignore, save_flag=False)"
   ]
  },
  {
   "cell_type": "code",
   "execution_count": 18,
   "metadata": {},
   "outputs": [],
   "source": [
    "bicorr_plot.W_vs_angle_all?"
   ]
  },
  {
   "cell_type": "markdown",
   "metadata": {},
   "source": [
    "## Condense to angle bin"
   ]
  },
  {
   "cell_type": "code",
   "execution_count": 32,
   "metadata": {},
   "outputs": [
    {
     "name": "stdout",
     "output_type": "stream",
     "text": [
      "[  8  18  28  38  48  58  68  78  88  98 108 118 128 138 148 158 168 178\n",
      " 188]\n"
     ]
    }
   ],
   "source": [
    "angle_bin_edges = np.arange(8,190,10)\n",
    "print(angle_bin_edges)"
   ]
  },
  {
   "cell_type": "code",
   "execution_count": 33,
   "metadata": {},
   "outputs": [
    {
     "data": {
      "text/html": [
       "<div>\n",
       "<style scoped>\n",
       "    .dataframe tbody tr th:only-of-type {\n",
       "        vertical-align: middle;\n",
       "    }\n",
       "\n",
       "    .dataframe tbody tr th {\n",
       "        vertical-align: top;\n",
       "    }\n",
       "\n",
       "    .dataframe thead th {\n",
       "        text-align: right;\n",
       "    }\n",
       "</style>\n",
       "<table border=\"1\" class=\"dataframe\">\n",
       "  <thead>\n",
       "    <tr style=\"text-align: right;\">\n",
       "      <th></th>\n",
       "      <th>angle_bin_centers</th>\n",
       "      <th>angle_bin_max</th>\n",
       "      <th>angle_bin_min</th>\n",
       "      <th>len pair_is</th>\n",
       "      <th>std_angle</th>\n",
       "      <th>W</th>\n",
       "      <th>W_err</th>\n",
       "      <th>std W</th>\n",
       "    </tr>\n",
       "  </thead>\n",
       "  <tbody>\n",
       "    <tr>\n",
       "      <th>0</th>\n",
       "      <td>13.0</td>\n",
       "      <td>18</td>\n",
       "      <td>8</td>\n",
       "      <td>40.0</td>\n",
       "      <td>0.439220</td>\n",
       "      <td>8.943096e-10</td>\n",
       "      <td>8.920461e-13</td>\n",
       "      <td>2.850903e-11</td>\n",
       "    </tr>\n",
       "    <tr>\n",
       "      <th>1</th>\n",
       "      <td>23.0</td>\n",
       "      <td>28</td>\n",
       "      <td>18</td>\n",
       "      <td>17.0</td>\n",
       "      <td>0.705868</td>\n",
       "      <td>6.664925e-10</td>\n",
       "      <td>1.190272e-12</td>\n",
       "      <td>1.355515e-11</td>\n",
       "    </tr>\n",
       "    <tr>\n",
       "      <th>2</th>\n",
       "      <td>33.0</td>\n",
       "      <td>38</td>\n",
       "      <td>28</td>\n",
       "      <td>84.0</td>\n",
       "      <td>2.934340</td>\n",
       "      <td>5.755158e-10</td>\n",
       "      <td>4.906239e-13</td>\n",
       "      <td>2.164828e-11</td>\n",
       "    </tr>\n",
       "    <tr>\n",
       "      <th>3</th>\n",
       "      <td>43.0</td>\n",
       "      <td>48</td>\n",
       "      <td>38</td>\n",
       "      <td>57.0</td>\n",
       "      <td>1.684873</td>\n",
       "      <td>5.163925e-10</td>\n",
       "      <td>5.618214e-13</td>\n",
       "      <td>1.306246e-11</td>\n",
       "    </tr>\n",
       "    <tr>\n",
       "      <th>4</th>\n",
       "      <td>53.0</td>\n",
       "      <td>58</td>\n",
       "      <td>48</td>\n",
       "      <td>53.0</td>\n",
       "      <td>2.414525</td>\n",
       "      <td>4.882797e-10</td>\n",
       "      <td>5.731019e-13</td>\n",
       "      <td>2.717532e-11</td>\n",
       "    </tr>\n",
       "  </tbody>\n",
       "</table>\n",
       "</div>"
      ],
      "text/plain": [
       "   angle_bin_centers  angle_bin_max  angle_bin_min  len pair_is  std_angle  \\\n",
       "0               13.0             18              8         40.0   0.439220   \n",
       "1               23.0             28             18         17.0   0.705868   \n",
       "2               33.0             38             28         84.0   2.934340   \n",
       "3               43.0             48             38         57.0   1.684873   \n",
       "4               53.0             58             48         53.0   2.414525   \n",
       "\n",
       "              W         W_err         std W  \n",
       "0  8.943096e-10  8.920461e-13  2.850903e-11  \n",
       "1  6.664925e-10  1.190272e-12  1.355515e-11  \n",
       "2  5.755158e-10  4.906239e-13  2.164828e-11  \n",
       "3  5.163925e-10  5.618214e-13  1.306246e-11  \n",
       "4  4.882797e-10  5.731019e-13  2.717532e-11  "
      ]
     },
     "execution_count": 33,
     "metadata": {},
     "output_type": "execute_result"
    }
   ],
   "source": [
    "by_angle_df = bicorr_sums.condense_det_df_by_angle(det_df_ignore, angle_bin_edges)\n",
    "by_angle_df.head()"
   ]
  },
  {
   "cell_type": "markdown",
   "metadata": {},
   "source": [
    "## Plot it"
   ]
  },
  {
   "cell_type": "code",
   "execution_count": 34,
   "metadata": {},
   "outputs": [
    {
     "data": {
      "image/png": "[encoded data removed]",
      "text/plain": [
       "<Figure size 288x216 with 1 Axes>"
      ]
     },
     "metadata": {},
     "output_type": "display_data"
    },
    {
     "data": {
      "text/plain": [
       "<Figure size 576x396 with 0 Axes>"
      ]
     },
     "metadata": {},
     "output_type": "display_data"
    }
   ],
   "source": [
    "bicorr_plot.W_vs_angle(det_df_ignore, by_angle_df, save_flag=False)"
   ]
  },
  {
   "cell_type": "markdown",
   "metadata": {},
   "source": [
    "# Save to disk\n",
    "\n",
    "In order to compare datasets, it would be nice to save these results to disk and reload in another notebook for comparison. These results are pretty easy, format-wise, so I'll just use the built-in pandas methods."
   ]
  },
  {
   "cell_type": "code",
   "execution_count": 39,
   "metadata": {},
   "outputs": [],
   "source": [
    "singles_e_df.to_csv('singles_e_df_filled.csv')"
   ]
  },
  {
   "cell_type": "code",
   "execution_count": 40,
   "metadata": {},
   "outputs": [],
   "source": [
    "det_df.to_csv(r'det_df_e_filled.csv')"
   ]
  },
  {
   "cell_type": "code",
   "execution_count": 41,
   "metadata": {},
   "outputs": [],
   "source": [
    "by_angle_df.to_csv(r'by_angle_e_df.csv')"
   ]
  },
  {
   "cell_type": "markdown",
   "metadata": {},
   "source": [
    "# Reload"
   ]
  },
  {
   "cell_type": "code",
   "execution_count": 12,
   "metadata": {},
   "outputs": [
    {
     "data": {
      "text/html": [
       "<div>\n",
       "<style scoped>\n",
       "    .dataframe tbody tr th:only-of-type {\n",
       "        vertical-align: middle;\n",
       "    }\n",
       "\n",
       "    .dataframe tbody tr th {\n",
       "        vertical-align: top;\n",
       "    }\n",
       "\n",
       "    .dataframe thead th {\n",
       "        text-align: right;\n",
       "    }\n",
       "</style>\n",
       "<table border=\"1\" class=\"dataframe\">\n",
       "  <thead>\n",
       "    <tr style=\"text-align: right;\">\n",
       "      <th></th>\n",
       "      <th>d1</th>\n",
       "      <th>d2</th>\n",
       "      <th>d1d2</th>\n",
       "      <th>angle</th>\n",
       "      <th>Cd</th>\n",
       "      <th>Cd_err</th>\n",
       "      <th>Sd1</th>\n",
       "      <th>Sd1_err</th>\n",
       "      <th>Sd2</th>\n",
       "      <th>Sd2_err</th>\n",
       "      <th>W</th>\n",
       "      <th>W_err</th>\n",
       "    </tr>\n",
       "  </thead>\n",
       "  <tbody>\n",
       "    <tr>\n",
       "      <th>0</th>\n",
       "      <td>1</td>\n",
       "      <td>2</td>\n",
       "      <td>102</td>\n",
       "      <td>15.0</td>\n",
       "      <td>23776.0</td>\n",
       "      <td>154.194682</td>\n",
       "      <td>788117.0</td>\n",
       "      <td>887.75954</td>\n",
       "      <td>5227204.0</td>\n",
       "      <td>2286.307941</td>\n",
       "      <td>5.771366e-09</td>\n",
       "      <td>3.807325e-11</td>\n",
       "    </tr>\n",
       "    <tr>\n",
       "      <th>1</th>\n",
       "      <td>1</td>\n",
       "      <td>3</td>\n",
       "      <td>103</td>\n",
       "      <td>30.0</td>\n",
       "      <td>14170.0</td>\n",
       "      <td>119.037809</td>\n",
       "      <td>788117.0</td>\n",
       "      <td>887.75954</td>\n",
       "      <td>5083312.0</td>\n",
       "      <td>2254.620145</td>\n",
       "      <td>3.536978e-09</td>\n",
       "      <td>3.002001e-11</td>\n",
       "    </tr>\n",
       "    <tr>\n",
       "      <th>2</th>\n",
       "      <td>1</td>\n",
       "      <td>4</td>\n",
       "      <td>104</td>\n",
       "      <td>45.0</td>\n",
       "      <td>13777.0</td>\n",
       "      <td>117.375466</td>\n",
       "      <td>788117.0</td>\n",
       "      <td>887.75954</td>\n",
       "      <td>5450655.0</td>\n",
       "      <td>2334.663787</td>\n",
       "      <td>3.207120e-09</td>\n",
       "      <td>2.759560e-11</td>\n",
       "    </tr>\n",
       "    <tr>\n",
       "      <th>3</th>\n",
       "      <td>1</td>\n",
       "      <td>5</td>\n",
       "      <td>105</td>\n",
       "      <td>60.0</td>\n",
       "      <td>13033.0</td>\n",
       "      <td>114.162165</td>\n",
       "      <td>788117.0</td>\n",
       "      <td>887.75954</td>\n",
       "      <td>5765819.0</td>\n",
       "      <td>2401.211986</td>\n",
       "      <td>2.868089e-09</td>\n",
       "      <td>2.535796e-11</td>\n",
       "    </tr>\n",
       "    <tr>\n",
       "      <th>4</th>\n",
       "      <td>1</td>\n",
       "      <td>6</td>\n",
       "      <td>106</td>\n",
       "      <td>75.0</td>\n",
       "      <td>11558.0</td>\n",
       "      <td>107.508139</td>\n",
       "      <td>788117.0</td>\n",
       "      <td>887.75954</td>\n",
       "      <td>5492867.0</td>\n",
       "      <td>2343.686626</td>\n",
       "      <td>2.669887e-09</td>\n",
       "      <td>2.504164e-11</td>\n",
       "    </tr>\n",
       "  </tbody>\n",
       "</table>\n",
       "</div>"
      ],
      "text/plain": [
       "   d1  d2  d1d2  angle       Cd      Cd_err       Sd1    Sd1_err        Sd2  \\\n",
       "0   1   2   102   15.0  23776.0  154.194682  788117.0  887.75954  5227204.0   \n",
       "1   1   3   103   30.0  14170.0  119.037809  788117.0  887.75954  5083312.0   \n",
       "2   1   4   104   45.0  13777.0  117.375466  788117.0  887.75954  5450655.0   \n",
       "3   1   5   105   60.0  13033.0  114.162165  788117.0  887.75954  5765819.0   \n",
       "4   1   6   106   75.0  11558.0  107.508139  788117.0  887.75954  5492867.0   \n",
       "\n",
       "       Sd2_err             W         W_err  \n",
       "0  2286.307941  5.771366e-09  3.807325e-11  \n",
       "1  2254.620145  3.536978e-09  3.002001e-11  \n",
       "2  2334.663787  3.207120e-09  2.759560e-11  \n",
       "3  2401.211986  2.868089e-09  2.535796e-11  \n",
       "4  2343.686626  2.669887e-09  2.504164e-11  "
      ]
     },
     "execution_count": 12,
     "metadata": {},
     "output_type": "execute_result"
    }
   ],
   "source": [
    "det_df_filled = pd.read_csv(r'det_df_e_filled.csv',index_col=0)\n",
    "det_df_filled.head()"
   ]
  },
  {
   "cell_type": "code",
   "execution_count": 14,
   "metadata": {},
   "outputs": [
    {
     "data": {
      "text/html": [
       "<div>\n",
       "<style scoped>\n",
       "    .dataframe tbody tr th:only-of-type {\n",
       "        vertical-align: middle;\n",
       "    }\n",
       "\n",
       "    .dataframe tbody tr th {\n",
       "        vertical-align: top;\n",
       "    }\n",
       "\n",
       "    .dataframe thead th {\n",
       "        text-align: right;\n",
       "    }\n",
       "</style>\n",
       "<table border=\"1\" class=\"dataframe\">\n",
       "  <thead>\n",
       "    <tr style=\"text-align: right;\">\n",
       "      <th></th>\n",
       "      <th>d1</th>\n",
       "      <th>d2</th>\n",
       "      <th>d1d2</th>\n",
       "      <th>angle</th>\n",
       "      <th>Cd</th>\n",
       "      <th>Cd_err</th>\n",
       "      <th>Sd1</th>\n",
       "      <th>Sd1_err</th>\n",
       "      <th>Sd2</th>\n",
       "      <th>Sd2_err</th>\n",
       "      <th>W</th>\n",
       "      <th>W_err</th>\n",
       "    </tr>\n",
       "  </thead>\n",
       "  <tbody>\n",
       "    <tr>\n",
       "      <th>44</th>\n",
       "      <td>2</td>\n",
       "      <td>3</td>\n",
       "      <td>203</td>\n",
       "      <td>15.0</td>\n",
       "      <td>24306.0</td>\n",
       "      <td>155.903817</td>\n",
       "      <td>5227204.0</td>\n",
       "      <td>2286.307941</td>\n",
       "      <td>5083312.0</td>\n",
       "      <td>2254.620145</td>\n",
       "      <td>9.147392e-10</td>\n",
       "      <td>5.894934e-12</td>\n",
       "    </tr>\n",
       "    <tr>\n",
       "      <th>45</th>\n",
       "      <td>2</td>\n",
       "      <td>4</td>\n",
       "      <td>204</td>\n",
       "      <td>30.0</td>\n",
       "      <td>16141.0</td>\n",
       "      <td>127.047235</td>\n",
       "      <td>5227204.0</td>\n",
       "      <td>2286.307941</td>\n",
       "      <td>5450655.0</td>\n",
       "      <td>2334.663787</td>\n",
       "      <td>5.665161e-10</td>\n",
       "      <td>4.472565e-12</td>\n",
       "    </tr>\n",
       "    <tr>\n",
       "      <th>46</th>\n",
       "      <td>2</td>\n",
       "      <td>5</td>\n",
       "      <td>205</td>\n",
       "      <td>45.0</td>\n",
       "      <td>15363.0</td>\n",
       "      <td>123.947570</td>\n",
       "      <td>5227204.0</td>\n",
       "      <td>2286.307941</td>\n",
       "      <td>5765819.0</td>\n",
       "      <td>2401.211986</td>\n",
       "      <td>5.097363e-10</td>\n",
       "      <td>4.124022e-12</td>\n",
       "    </tr>\n",
       "    <tr>\n",
       "      <th>47</th>\n",
       "      <td>2</td>\n",
       "      <td>6</td>\n",
       "      <td>206</td>\n",
       "      <td>60.0</td>\n",
       "      <td>13146.0</td>\n",
       "      <td>114.656007</td>\n",
       "      <td>5227204.0</td>\n",
       "      <td>2286.307941</td>\n",
       "      <td>5492867.0</td>\n",
       "      <td>2343.686626</td>\n",
       "      <td>4.578520e-10</td>\n",
       "      <td>4.003054e-12</td>\n",
       "    </tr>\n",
       "    <tr>\n",
       "      <th>48</th>\n",
       "      <td>2</td>\n",
       "      <td>7</td>\n",
       "      <td>207</td>\n",
       "      <td>75.0</td>\n",
       "      <td>12933.0</td>\n",
       "      <td>113.723349</td>\n",
       "      <td>5227204.0</td>\n",
       "      <td>2286.307941</td>\n",
       "      <td>5730066.0</td>\n",
       "      <td>2393.755627</td>\n",
       "      <td>4.317876e-10</td>\n",
       "      <td>3.805796e-12</td>\n",
       "    </tr>\n",
       "  </tbody>\n",
       "</table>\n",
       "</div>"
      ],
      "text/plain": [
       "    d1  d2  d1d2  angle       Cd      Cd_err        Sd1      Sd1_err  \\\n",
       "44   2   3   203   15.0  24306.0  155.903817  5227204.0  2286.307941   \n",
       "45   2   4   204   30.0  16141.0  127.047235  5227204.0  2286.307941   \n",
       "46   2   5   205   45.0  15363.0  123.947570  5227204.0  2286.307941   \n",
       "47   2   6   206   60.0  13146.0  114.656007  5227204.0  2286.307941   \n",
       "48   2   7   207   75.0  12933.0  113.723349  5227204.0  2286.307941   \n",
       "\n",
       "          Sd2      Sd2_err             W         W_err  \n",
       "44  5083312.0  2254.620145  9.147392e-10  5.894934e-12  \n",
       "45  5450655.0  2334.663787  5.665161e-10  4.472565e-12  \n",
       "46  5765819.0  2401.211986  5.097363e-10  4.124022e-12  \n",
       "47  5492867.0  2343.686626  4.578520e-10  4.003054e-12  \n",
       "48  5730066.0  2393.755627  4.317876e-10  3.805796e-12  "
      ]
     },
     "execution_count": 14,
     "metadata": {},
     "output_type": "execute_result"
    }
   ],
   "source": [
    "chIgnore = [1,17,33]\n",
    "det_df_ignore = det_df_filled[~det_df_filled['d1'].isin(chIgnore) & ~det_df_filled['d2'].isin(chIgnore)]\n",
    "det_df_ignore.head()"
   ]
  },
  {
   "cell_type": "code",
   "execution_count": 7,
   "metadata": {},
   "outputs": [
    {
     "data": {
      "text/html": [
       "<div>\n",
       "<style scoped>\n",
       "    .dataframe tbody tr th:only-of-type {\n",
       "        vertical-align: middle;\n",
       "    }\n",
       "\n",
       "    .dataframe tbody tr th {\n",
       "        vertical-align: top;\n",
       "    }\n",
       "\n",
       "    .dataframe thead th {\n",
       "        text-align: right;\n",
       "    }\n",
       "</style>\n",
       "<table border=\"1\" class=\"dataframe\">\n",
       "  <thead>\n",
       "    <tr style=\"text-align: right;\">\n",
       "      <th></th>\n",
       "      <th>ch</th>\n",
       "      <th>Sd</th>\n",
       "      <th>Sd_err</th>\n",
       "    </tr>\n",
       "  </thead>\n",
       "  <tbody>\n",
       "    <tr>\n",
       "      <th>0</th>\n",
       "      <td>1</td>\n",
       "      <td>788117.0</td>\n",
       "      <td>887.759540</td>\n",
       "    </tr>\n",
       "    <tr>\n",
       "      <th>1</th>\n",
       "      <td>2</td>\n",
       "      <td>5227204.0</td>\n",
       "      <td>2286.307941</td>\n",
       "    </tr>\n",
       "    <tr>\n",
       "      <th>2</th>\n",
       "      <td>3</td>\n",
       "      <td>5083312.0</td>\n",
       "      <td>2254.620145</td>\n",
       "    </tr>\n",
       "    <tr>\n",
       "      <th>3</th>\n",
       "      <td>4</td>\n",
       "      <td>5450655.0</td>\n",
       "      <td>2334.663787</td>\n",
       "    </tr>\n",
       "    <tr>\n",
       "      <th>4</th>\n",
       "      <td>5</td>\n",
       "      <td>5765819.0</td>\n",
       "      <td>2401.211986</td>\n",
       "    </tr>\n",
       "  </tbody>\n",
       "</table>\n",
       "</div>"
      ],
      "text/plain": [
       "   ch         Sd       Sd_err\n",
       "0   1   788117.0   887.759540\n",
       "1   2  5227204.0  2286.307941\n",
       "2   3  5083312.0  2254.620145\n",
       "3   4  5450655.0  2334.663787\n",
       "4   5  5765819.0  2401.211986"
      ]
     },
     "execution_count": 7,
     "metadata": {},
     "output_type": "execute_result"
    }
   ],
   "source": [
    "singles_e_df_filled = pd.read_csv(r'singles_e_df_filled.csv',index_col=0)\n",
    "singles_e_df_filled.head()"
   ]
  },
  {
   "cell_type": "code",
   "execution_count": 8,
   "metadata": {},
   "outputs": [
    {
     "data": {
      "text/html": [
       "<div>\n",
       "<style scoped>\n",
       "    .dataframe tbody tr th:only-of-type {\n",
       "        vertical-align: middle;\n",
       "    }\n",
       "\n",
       "    .dataframe tbody tr th {\n",
       "        vertical-align: top;\n",
       "    }\n",
       "\n",
       "    .dataframe thead th {\n",
       "        text-align: right;\n",
       "    }\n",
       "</style>\n",
       "<table border=\"1\" class=\"dataframe\">\n",
       "  <thead>\n",
       "    <tr style=\"text-align: right;\">\n",
       "      <th></th>\n",
       "      <th>angle_bin_centers</th>\n",
       "      <th>angle_bin_max</th>\n",
       "      <th>angle_bin_min</th>\n",
       "      <th>len pair_is</th>\n",
       "      <th>std_angle</th>\n",
       "      <th>W</th>\n",
       "      <th>W_err</th>\n",
       "      <th>std W</th>\n",
       "    </tr>\n",
       "  </thead>\n",
       "  <tbody>\n",
       "    <tr>\n",
       "      <th>0</th>\n",
       "      <td>13.0</td>\n",
       "      <td>18</td>\n",
       "      <td>8</td>\n",
       "      <td>40.0</td>\n",
       "      <td>0.439220</td>\n",
       "      <td>8.943096e-10</td>\n",
       "      <td>8.920461e-13</td>\n",
       "      <td>2.850903e-11</td>\n",
       "    </tr>\n",
       "    <tr>\n",
       "      <th>1</th>\n",
       "      <td>23.0</td>\n",
       "      <td>28</td>\n",
       "      <td>18</td>\n",
       "      <td>17.0</td>\n",
       "      <td>0.705868</td>\n",
       "      <td>6.664925e-10</td>\n",
       "      <td>1.190272e-12</td>\n",
       "      <td>1.355515e-11</td>\n",
       "    </tr>\n",
       "    <tr>\n",
       "      <th>2</th>\n",
       "      <td>33.0</td>\n",
       "      <td>38</td>\n",
       "      <td>28</td>\n",
       "      <td>84.0</td>\n",
       "      <td>2.934340</td>\n",
       "      <td>5.755158e-10</td>\n",
       "      <td>4.906239e-13</td>\n",
       "      <td>2.164828e-11</td>\n",
       "    </tr>\n",
       "    <tr>\n",
       "      <th>3</th>\n",
       "      <td>43.0</td>\n",
       "      <td>48</td>\n",
       "      <td>38</td>\n",
       "      <td>57.0</td>\n",
       "      <td>1.684873</td>\n",
       "      <td>5.163925e-10</td>\n",
       "      <td>5.618214e-13</td>\n",
       "      <td>1.306246e-11</td>\n",
       "    </tr>\n",
       "    <tr>\n",
       "      <th>4</th>\n",
       "      <td>53.0</td>\n",
       "      <td>58</td>\n",
       "      <td>48</td>\n",
       "      <td>53.0</td>\n",
       "      <td>2.414525</td>\n",
       "      <td>4.882797e-10</td>\n",
       "      <td>5.731019e-13</td>\n",
       "      <td>2.717532e-11</td>\n",
       "    </tr>\n",
       "  </tbody>\n",
       "</table>\n",
       "</div>"
      ],
      "text/plain": [
       "   angle_bin_centers  angle_bin_max  angle_bin_min  len pair_is  std_angle  \\\n",
       "0               13.0             18              8         40.0   0.439220   \n",
       "1               23.0             28             18         17.0   0.705868   \n",
       "2               33.0             38             28         84.0   2.934340   \n",
       "3               43.0             48             38         57.0   1.684873   \n",
       "4               53.0             58             48         53.0   2.414525   \n",
       "\n",
       "              W         W_err         std W  \n",
       "0  8.943096e-10  8.920461e-13  2.850903e-11  \n",
       "1  6.664925e-10  1.190272e-12  1.355515e-11  \n",
       "2  5.755158e-10  4.906239e-13  2.164828e-11  \n",
       "3  5.163925e-10  5.618214e-13  1.306246e-11  \n",
       "4  4.882797e-10  5.731019e-13  2.717532e-11  "
      ]
     },
     "execution_count": 8,
     "metadata": {},
     "output_type": "execute_result"
    }
   ],
   "source": [
    "by_angle_e_df = pd.read_csv(r'by_angle_e_df.csv',index_col=0)\n",
    "by_angle_e_df.head()"
   ]
  },
  {
   "cell_type": "code",
   "execution_count": 16,
   "metadata": {},
   "outputs": [
    {
     "data": {
      "image/png": "[encoded data removed]",
      "text/plain": [
       "<Figure size 288x216 with 1 Axes>"
      ]
     },
     "metadata": {},
     "output_type": "display_data"
    },
    {
     "data": {
      "text/plain": [
       "<Figure size 576x396 with 0 Axes>"
      ]
     },
     "metadata": {},
     "output_type": "display_data"
    }
   ],
   "source": [
    "bicorr_plot.W_vs_angle(det_df_ignore, by_angle_e_df, save_flag=False)"
   ]
  },
  {
   "cell_type": "code",
   "execution_count": null,
   "metadata": {},
   "outputs": [],
   "source": []
  }
 ],
 "metadata": {
  "anaconda-cloud": {},
  "kernelspec": {
   "display_name": "Python [conda env:Anaconda3]",
   "language": "python",
   "name": "conda-env-Anaconda3-py"
  },
  "language_info": {
   "codemirror_mode": {
    "name": "ipython",
    "version": 3
   },
   "file_extension": ".py",
   "mimetype": "text/x-python",
   "name": "python",
   "nbconvert_exporter": "python",
   "pygments_lexer": "ipython3",
   "version": "3.5.5"
  }
 },
 "nbformat": 4,
 "nbformat_minor": 1
}
