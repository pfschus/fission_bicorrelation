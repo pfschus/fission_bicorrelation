{
 "cells": [
  {
   "cell_type": "markdown",
   "metadata": {},
   "source": [
    "# Goal: Modify script to build `bhm` and `bhm_e` together\n",
    "\n",
    "Rather than reloading all of the `bicorr_data`, build them at the same time.\n",
    "\n",
    "P. Schuster  \n",
    "University of Michigan  \n",
    "June 2018  \n"
   ]
  },
  {
   "cell_type": "code",
   "execution_count": 1,
   "metadata": {
    "collapsed": true
   },
   "outputs": [],
   "source": [
    "import os\n",
    "import sys\n",
    "import numpy as np"
   ]
  },
  {
   "cell_type": "code",
   "execution_count": 2,
   "metadata": {
    "collapsed": true
   },
   "outputs": [],
   "source": [
    "sys.path.append('../scripts')"
   ]
  },
  {
   "cell_type": "code",
   "execution_count": 3,
   "metadata": {
    "collapsed": true
   },
   "outputs": [],
   "source": [
    "import bicorr as bicorr\n",
    "import bicorr_e as bicorr_e"
   ]
  },
  {
   "cell_type": "code",
   "execution_count": 4,
   "metadata": {
    "collapsed": true
   },
   "outputs": [],
   "source": [
    "%load_ext autoreload\n",
    "%autoreload 2"
   ]
  },
  {
   "cell_type": "code",
   "execution_count": 5,
   "metadata": {
    "collapsed": false
   },
   "outputs": [
    {
     "data": {
      "text/plain": [
       "['1',\n",
       " '2',\n",
       " 'bhm_e.npz',\n",
       " 'cced1',\n",
       " 'cced1_note.md',\n",
       " 'cced1_part',\n",
       " 'cced1_part_note.md',\n",
       " 'singles_hist.npz',\n",
       " 'sparse_bhm.npz',\n",
       " 'timeOffset.txt',\n",
       " 'timeOffset_note.txt']"
      ]
     },
     "execution_count": 5,
     "metadata": {},
     "output_type": "execute_result"
    }
   ],
   "source": [
    "os.listdir('../datar')"
   ]
  },
  {
   "cell_type": "code",
   "execution_count": 6,
   "metadata": {
    "collapsed": false
   },
   "outputs": [
    {
     "name": "stdout",
     "output_type": "stream",
     "text": [
      "Generating bicorr histograms for bicorr data in folders:  [1 2]\n",
      "Loading data in folder  1\n",
      "Building bhms in folder  1\n"
     ]
    },
    {
     "name": "stderr",
     "output_type": "stream",
     "text": [
      "100%|##########| 695/695 [00:00<00:00, 16997.23it/s]\n",
      "100%|##########| 695/695 [00:00<00:00, 23230.01it/s]\n"
     ]
    },
    {
     "name": "stdout",
     "output_type": "stream",
     "text": [
      "Loading data in folder  2\n",
      "Building bhms in folder  2\n"
     ]
    },
    {
     "name": "stderr",
     "output_type": "stream",
     "text": [
      "100%|##########| 695/695 [00:00<00:00, 26804.24it/s]\n",
      "100%|##########| 695/695 [00:00<00:00, 24891.91it/s]\n"
     ]
    },
    {
     "name": "stdout",
     "output_type": "stream",
     "text": [
      "Generating sparse matrix\n"
     ]
    },
    {
     "name": "stderr",
     "output_type": "stream",
     "text": [
      "100%|##########| 531/531 [00:00<00:00, 33276.19it/s]\n"
     ]
    },
    {
     "name": "stdout",
     "output_type": "stream",
     "text": [
      "Saving sparse matrix data to .npz file\n",
      "Saving bhm_e to .npz file\n",
      "Bicorr hist master bhm_e build complete\n"
     ]
    }
   ],
   "source": [
    "bicorr_e.build_bhm_both(1,3,root_path='../datar')"
   ]
  },
  {
   "cell_type": "code",
   "execution_count": null,
   "metadata": {
    "collapsed": true
   },
   "outputs": [],
   "source": []
  }
 ],
 "metadata": {
  "kernelspec": {
   "display_name": "Python [conda env:Anaconda3]",
   "language": "python",
   "name": "conda-env-Anaconda3-py"
  },
  "language_info": {
   "codemirror_mode": {
    "name": "ipython",
    "version": 3
   },
   "file_extension": ".py",
   "mimetype": "text/x-python",
   "name": "python",
   "nbconvert_exporter": "python",
   "pygments_lexer": "ipython3",
   "version": "3.5.2"
  }
 },
 "nbformat": 4,
 "nbformat_minor": 2
}
