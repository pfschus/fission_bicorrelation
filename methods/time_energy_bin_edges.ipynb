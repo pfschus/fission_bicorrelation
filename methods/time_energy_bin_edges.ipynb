{
 "cells": [
  {
   "cell_type": "markdown",
   "metadata": {},
   "source": [
    "# Selecting bins from time, energy\n",
    "\n",
    "May 2018  \n",
    "Summer on campus. Entire family swimming in the fountain.\n",
    "\n",
    "I need to take sums over ranges in time and energy. The challenge is that I can't simply provide an input energy, because that may not correspond to a bin edge. I need to select the energies that correspond to time bin edges."
   ]
  },
  {
   "cell_type": "code",
   "execution_count": 1,
   "metadata": {
    "collapsed": true
   },
   "outputs": [],
   "source": [
    "import os\n",
    "import sys\n",
    "import matplotlib.pyplot as plt\n",
    "import numpy as np\n",
    "import imageio"
   ]
  },
  {
   "cell_type": "code",
   "execution_count": 2,
   "metadata": {
    "collapsed": true
   },
   "outputs": [],
   "source": [
    "import pandas as pd"
   ]
  },
  {
   "cell_type": "code",
   "execution_count": 3,
   "metadata": {
    "collapsed": true
   },
   "outputs": [],
   "source": [
    "import seaborn as sns\n",
    "sns.set(style='ticks')"
   ]
  },
  {
   "cell_type": "code",
   "execution_count": 4,
   "metadata": {
    "collapsed": true
   },
   "outputs": [],
   "source": [
    "sys.path.append('../scripts/')"
   ]
  },
  {
   "cell_type": "code",
   "execution_count": 5,
   "metadata": {
    "collapsed": true
   },
   "outputs": [],
   "source": [
    "import bicorr as bicorr\n",
    "import bicorr_plot as bicorr_plot"
   ]
  },
  {
   "cell_type": "code",
   "execution_count": 6,
   "metadata": {
    "collapsed": true
   },
   "outputs": [],
   "source": [
    "%load_ext autoreload\n",
    "%autoreload 2"
   ]
  },
  {
   "cell_type": "markdown",
   "metadata": {},
   "source": [
    "# Look at $t \\rightarrow E$ conversion\n",
    "\n",
    "## Look at detector-FC distance distribution\n",
    "\n",
    "Right now in the time to energy conversion, all of the detectors are using $d=1$ as their distance from the fission chamber to the detector. How accurate is this?"
   ]
  },
  {
   "cell_type": "code",
   "execution_count": 7,
   "metadata": {
    "collapsed": false
   },
   "outputs": [
    {
     "name": "stdout",
     "output_type": "stream",
     "text": [
      "Help on function convert_energy_to_time in module bicorr:\n",
      "\n",
      "convert_energy_to_time(energy, distance=1)\n",
      "    Convert energy in MeV to time in ns for neutrons that travel 1 m. From Matthew's `reldist.m` script. \n",
      "    \n",
      "    Parameters\n",
      "    ----------\n",
      "    energy : float\n",
      "        Neutron energy in MeV\n",
      "    distance : float, optional\n",
      "        Neutron flight distance in meters\n",
      "        \n",
      "    Returns\n",
      "    -------\n",
      "    time : float\n",
      "        Time of flight of neutron\n",
      "\n"
     ]
    }
   ],
   "source": [
    "help(bicorr.convert_energy_to_time)"
   ]
  },
  {
   "cell_type": "markdown",
   "metadata": {},
   "source": [
    "Let's look at the distribution of detector distances. This is stored in an excel file `meas_info > detector_distances.xlsx`."
   ]
  },
  {
   "cell_type": "code",
   "execution_count": 8,
   "metadata": {
    "collapsed": false
   },
   "outputs": [
    {
     "data": {
      "text/plain": [
       "['detector_distances.xlsx',\n",
       " 'detector_positions.xlsx',\n",
       " 'det_df.csv',\n",
       " 'det_df.pkl',\n",
       " 'det_df_pairs_angles.csv',\n",
       " 'det_df_pairs_angles.pkl',\n",
       " 'lanl_detector_angles.mat',\n",
       " 'lanl_detector_angles_note.md']"
      ]
     },
     "execution_count": 8,
     "metadata": {},
     "output_type": "execute_result"
    }
   ],
   "source": [
    "os.listdir('../meas_info/')"
   ]
  },
  {
   "cell_type": "code",
   "execution_count": 7,
   "metadata": {
    "collapsed": false
   },
   "outputs": [
    {
     "data": {
      "text/html": [
       "<div>\n",
       "<table border=\"1\" class=\"dataframe\">\n",
       "  <thead>\n",
       "    <tr style=\"text-align: right;\">\n",
       "      <th></th>\n",
       "      <th>Channel</th>\n",
       "      <th>Distance (cm)</th>\n",
       "    </tr>\n",
       "  </thead>\n",
       "  <tbody>\n",
       "    <tr>\n",
       "      <th>0</th>\n",
       "      <td>1</td>\n",
       "      <td>106.5</td>\n",
       "    </tr>\n",
       "    <tr>\n",
       "      <th>1</th>\n",
       "      <td>2</td>\n",
       "      <td>105.1</td>\n",
       "    </tr>\n",
       "    <tr>\n",
       "      <th>2</th>\n",
       "      <td>3</td>\n",
       "      <td>103.8</td>\n",
       "    </tr>\n",
       "    <tr>\n",
       "      <th>3</th>\n",
       "      <td>4</td>\n",
       "      <td>103.3</td>\n",
       "    </tr>\n",
       "    <tr>\n",
       "      <th>4</th>\n",
       "      <td>5</td>\n",
       "      <td>102.5</td>\n",
       "    </tr>\n",
       "  </tbody>\n",
       "</table>\n",
       "</div>"
      ],
      "text/plain": [
       "   Channel  Distance (cm)\n",
       "0        1          106.5\n",
       "1        2          105.1\n",
       "2        3          103.8\n",
       "3        4          103.3\n",
       "4        5          102.5"
      ]
     },
     "execution_count": 7,
     "metadata": {},
     "output_type": "execute_result"
    }
   ],
   "source": [
    "det_distance_df = pd.read_excel('../meas_info/detector_distances.xlsx')\n",
    "det_distance_df.head()"
   ]
  },
  {
   "cell_type": "markdown",
   "metadata": {},
   "source": [
    "Look at a distibution of the detector distances."
   ]
  },
  {
   "cell_type": "code",
   "execution_count": 8,
   "metadata": {
    "collapsed": false
   },
   "outputs": [
    {
     "data": {
      "image/png": "[encoded data removed]",
      "text/plain": [
       "<matplotlib.figure.Figure at 0x181013cec18>"
      ]
     },
     "metadata": {},
     "output_type": "display_data"
    }
   ],
   "source": [
    "plt.figure(figsize=(4,3))\n",
    "plt.hist(det_distance_df['Distance (cm)'])\n",
    "plt.xlabel('Distance (cm)')\n",
    "plt.ylabel('Number of detectors')\n",
    "plt.title('Detector-FC distance distribution')\n",
    "sns.despine(right=False)\n",
    "plt.show()"
   ]
  },
  {
   "cell_type": "markdown",
   "metadata": {},
   "source": [
    "Yikes, so my first observation is that the distances are *not* centered around 100! They are, in fact, all greater than 100. So I think even just changing the default distance in `bicorr.convert_time_to_energy` would improve things. \n",
    "\n",
    "I'm going to use `pandas.DataFrame.describe` to spit out some metrics: http://pandas.pydata.org/pandas-docs/stable/generated/pandas.DataFrame.describe.html"
   ]
  },
  {
   "cell_type": "code",
   "execution_count": 9,
   "metadata": {
    "collapsed": false
   },
   "outputs": [
    {
     "data": {
      "text/plain": [
       "count     45.000000\n",
       "mean     105.522222\n",
       "std        2.114978\n",
       "min      101.800000\n",
       "25%      103.900000\n",
       "50%      105.300000\n",
       "75%      106.800000\n",
       "max      110.300000\n",
       "Name: Distance (cm), dtype: float64"
      ]
     },
     "execution_count": 9,
     "metadata": {},
     "output_type": "execute_result"
    }
   ],
   "source": [
    "det_distance_df.describe()['Distance (cm)']"
   ]
  },
  {
   "cell_type": "code",
   "execution_count": 33,
   "metadata": {
    "collapsed": false
   },
   "outputs": [
    {
     "name": "stderr",
     "output_type": "stream",
     "text": [
      "C:\\Users\\pfsch\\Anaconda3\\lib\\site-packages\\statsmodels\\nonparametric\\kdetools.py:20: VisibleDeprecationWarning: using a non-integer number instead of an integer will result in an error in the future\n",
      "  y = X[:m/2+1] + np.r_[0,X[m/2+1:],0]*1j\n"
     ]
    },
    {
     "data": {
      "image/png": "[encoded data removed]",
      "text/plain": [
       "<matplotlib.figure.Figure at 0x181021ac400>"
      ]
     },
     "metadata": {},
     "output_type": "display_data"
    }
   ],
   "source": [
    "bicorr_plot.histogram_metrics(np.asarray(det_distance_df['Distance (cm)']),'Distance (cm)','Relative number of detectors')\n"
   ]
  },
  {
   "cell_type": "markdown",
   "metadata": {},
   "source": [
    "I don't know where this error is coming from, so I will just continue on...\n",
    "\n",
    "One nice thing about this distribution is that there are not really any \"extremes.\" The"
   ]
  },
  {
   "cell_type": "markdown",
   "metadata": {
    "collapsed": true
   },
   "source": [
    "## Look at energy values for 1 m. vs. average (1.05522 m)"
   ]
  },
  {
   "cell_type": "markdown",
   "metadata": {},
   "source": [
    "Look at 25 ns, which is right in the middle of the neutron distribution. "
   ]
  },
  {
   "cell_type": "code",
   "execution_count": 12,
   "metadata": {
    "collapsed": false
   },
   "outputs": [
    {
     "name": "stdout",
     "output_type": "stream",
     "text": [
      "8.407646446907751\n",
      "9.361823922980244\n",
      "1.1134892484000003\n"
     ]
    }
   ],
   "source": [
    "t = 25\n",
    "print(bicorr.convert_time_to_energy(t,distance=1))\n",
    "print(bicorr.convert_time_to_energy(t,distance=1.05522))\n",
    "print(bicorr.convert_time_to_energy(t,distance=1.05522)/bicorr.convert_time_to_energy(t,distance=1))"
   ]
  },
  {
   "cell_type": "markdown",
   "metadata": {},
   "source": [
    "So the 5.5% change in distance translates to an 11% change in energy for a 25 ns time of flight."
   ]
  },
  {
   "cell_type": "code",
   "execution_count": 13,
   "metadata": {
    "collapsed": false
   },
   "outputs": [
    {
     "name": "stdout",
     "output_type": "stream",
     "text": [
      "2.101911611726938\n",
      "2.340455980745061\n",
      "1.1134892484000003\n"
     ]
    }
   ],
   "source": [
    "t = 50\n",
    "print(bicorr.convert_time_to_energy(t,distance=1))\n",
    "print(bicorr.convert_time_to_energy(t,distance=1.05522))\n",
    "print(bicorr.convert_time_to_energy(t,distance=1.05522)/bicorr.convert_time_to_energy(t,distance=1))"
   ]
  },
  {
   "cell_type": "markdown",
   "metadata": {},
   "source": [
    "Again, an 11% change in energy for a 50 ns time of flight. This is equal to 1.05522^2. "
   ]
  },
  {
   "cell_type": "code",
   "execution_count": 14,
   "metadata": {
    "collapsed": false
   },
   "outputs": [
    {
     "data": {
      "text/plain": [
       "1.1134892484"
      ]
     },
     "execution_count": 14,
     "metadata": {},
     "output_type": "execute_result"
    }
   ],
   "source": [
    "1.05522**2"
   ]
  },
  {
   "cell_type": "markdown",
   "metadata": {},
   "source": [
    "There we go. So whatever the ratio of distances is, the energy calculations will be off by that amount squared.\n",
    "\n",
    "This really makes me think we need to go back to the original cced files, calculate the energies for each interaction, and then remake the `bicorr_hist_master` from that. This will be a lot of work."
   ]
  },
  {
   "cell_type": "markdown",
   "metadata": {},
   "source": [
    "## Consider distribution of energies"
   ]
  },
  {
   "cell_type": "code",
   "execution_count": 19,
   "metadata": {
    "collapsed": false
   },
   "outputs": [
    {
     "data": {
      "text/html": [
       "<div>\n",
       "<table border=\"1\" class=\"dataframe\">\n",
       "  <thead>\n",
       "    <tr style=\"text-align: right;\">\n",
       "      <th></th>\n",
       "      <th>Channel</th>\n",
       "      <th>Distance (cm)</th>\n",
       "    </tr>\n",
       "  </thead>\n",
       "  <tbody>\n",
       "    <tr>\n",
       "      <th>0</th>\n",
       "      <td>1</td>\n",
       "      <td>106.5</td>\n",
       "    </tr>\n",
       "    <tr>\n",
       "      <th>1</th>\n",
       "      <td>2</td>\n",
       "      <td>105.1</td>\n",
       "    </tr>\n",
       "    <tr>\n",
       "      <th>2</th>\n",
       "      <td>3</td>\n",
       "      <td>103.8</td>\n",
       "    </tr>\n",
       "    <tr>\n",
       "      <th>3</th>\n",
       "      <td>4</td>\n",
       "      <td>103.3</td>\n",
       "    </tr>\n",
       "    <tr>\n",
       "      <th>4</th>\n",
       "      <td>5</td>\n",
       "      <td>102.5</td>\n",
       "    </tr>\n",
       "  </tbody>\n",
       "</table>\n",
       "</div>"
      ],
      "text/plain": [
       "   Channel  Distance (cm)\n",
       "0        1          106.5\n",
       "1        2          105.1\n",
       "2        3          103.8\n",
       "3        4          103.3\n",
       "4        5          102.5"
      ]
     },
     "execution_count": 19,
     "metadata": {},
     "output_type": "execute_result"
    }
   ],
   "source": [
    "det_distance_df.head()"
   ]
  },
  {
   "cell_type": "code",
   "execution_count": 30,
   "metadata": {
    "collapsed": false
   },
   "outputs": [
    {
     "name": "stderr",
     "output_type": "stream",
     "text": [
      "C:\\Users\\pfsch\\Anaconda3\\lib\\site-packages\\statsmodels\\nonparametric\\kdetools.py:20: VisibleDeprecationWarning: using a non-integer number instead of an integer will result in an error in the future\n",
      "  y = X[:m/2+1] + np.r_[0,X[m/2+1:],0]*1j\n"
     ]
    },
    {
     "data": {
      "image/png": "[encoded data removed]",
      "text/plain": [
       "<matplotlib.figure.Figure at 0x18101421668>"
      ]
     },
     "metadata": {},
     "output_type": "display_data"
    }
   ],
   "source": [
    "t = 25\n",
    "energies = [bicorr.convert_time_to_energy(t,distance=dist) for dist in det_distance_df['Distance (cm)']/100]\n",
    "bicorr_plot.histogram_metrics(energies, xlabel='Energy (MeV)', ylabel='Counts')"
   ]
  },
  {
   "cell_type": "code",
   "execution_count": 31,
   "metadata": {
    "collapsed": false
   },
   "outputs": [
    {
     "data": {
      "text/html": [
       "<div>\n",
       "<table border=\"1\" class=\"dataframe\">\n",
       "  <thead>\n",
       "    <tr style=\"text-align: right;\">\n",
       "      <th></th>\n",
       "      <th>0</th>\n",
       "    </tr>\n",
       "  </thead>\n",
       "  <tbody>\n",
       "    <tr>\n",
       "      <th>count</th>\n",
       "      <td>45.000000</td>\n",
       "    </tr>\n",
       "    <tr>\n",
       "      <th>mean</th>\n",
       "      <td>9.365541</td>\n",
       "    </tr>\n",
       "    <tr>\n",
       "      <th>std</th>\n",
       "      <td>0.376246</td>\n",
       "    </tr>\n",
       "    <tr>\n",
       "      <th>min</th>\n",
       "      <td>8.713046</td>\n",
       "    </tr>\n",
       "    <tr>\n",
       "      <th>25%</th>\n",
       "      <td>9.076231</td>\n",
       "    </tr>\n",
       "    <tr>\n",
       "      <th>50%</th>\n",
       "      <td>9.322474</td>\n",
       "    </tr>\n",
       "    <tr>\n",
       "      <th>75%</th>\n",
       "      <td>9.589963</td>\n",
       "    </tr>\n",
       "    <tr>\n",
       "      <th>max</th>\n",
       "      <td>10.228818</td>\n",
       "    </tr>\n",
       "  </tbody>\n",
       "</table>\n",
       "</div>"
      ],
      "text/plain": [
       "               0\n",
       "count  45.000000\n",
       "mean    9.365541\n",
       "std     0.376246\n",
       "min     8.713046\n",
       "25%     9.076231\n",
       "50%     9.322474\n",
       "75%     9.589963\n",
       "max    10.228818"
      ]
     },
     "execution_count": 31,
     "metadata": {},
     "output_type": "execute_result"
    }
   ],
   "source": [
    "pd.DataFrame([bicorr.convert_time_to_energy(t,distance=dist) for dist in det_distance_df['Distance (cm)']/100]).describe()"
   ]
  },
  {
   "cell_type": "code",
   "execution_count": 27,
   "metadata": {
    "collapsed": false
   },
   "outputs": [
    {
     "name": "stderr",
     "output_type": "stream",
     "text": [
      "C:\\Users\\pfsch\\Anaconda3\\lib\\site-packages\\statsmodels\\nonparametric\\kdetools.py:20: VisibleDeprecationWarning: using a non-integer number instead of an integer will result in an error in the future\n",
      "  y = X[:m/2+1] + np.r_[0,X[m/2+1:],0]*1j\n"
     ]
    },
    {
     "data": {
      "image/png": "[encoded data removed]",
      "text/plain": [
       "<matplotlib.figure.Figure at 0x181020b0550>"
      ]
     },
     "metadata": {},
     "output_type": "display_data"
    }
   ],
   "source": [
    "t = 50\n",
    "energies = [bicorr.convert_time_to_energy(t,distance=dist) for dist in det_distance_df['Distance (cm)']/100]\n",
    "bicorr_plot.histogram_metrics(energies, xlabel='Energy (MeV)', ylabel='Counts')"
   ]
  },
  {
   "cell_type": "code",
   "execution_count": 29,
   "metadata": {
    "collapsed": false
   },
   "outputs": [
    {
     "data": {
      "text/html": [
       "<div>\n",
       "<table border=\"1\" class=\"dataframe\">\n",
       "  <thead>\n",
       "    <tr style=\"text-align: right;\">\n",
       "      <th></th>\n",
       "      <th>0</th>\n",
       "    </tr>\n",
       "  </thead>\n",
       "  <tbody>\n",
       "    <tr>\n",
       "      <th>count</th>\n",
       "      <td>45.000000</td>\n",
       "    </tr>\n",
       "    <tr>\n",
       "      <th>mean</th>\n",
       "      <td>2.341385</td>\n",
       "    </tr>\n",
       "    <tr>\n",
       "      <th>std</th>\n",
       "      <td>0.094061</td>\n",
       "    </tr>\n",
       "    <tr>\n",
       "      <th>min</th>\n",
       "      <td>2.178261</td>\n",
       "    </tr>\n",
       "    <tr>\n",
       "      <th>25%</th>\n",
       "      <td>2.269058</td>\n",
       "    </tr>\n",
       "    <tr>\n",
       "      <th>50%</th>\n",
       "      <td>2.330619</td>\n",
       "    </tr>\n",
       "    <tr>\n",
       "      <th>75%</th>\n",
       "      <td>2.397491</td>\n",
       "    </tr>\n",
       "    <tr>\n",
       "      <th>max</th>\n",
       "      <td>2.557205</td>\n",
       "    </tr>\n",
       "  </tbody>\n",
       "</table>\n",
       "</div>"
      ],
      "text/plain": [
       "               0\n",
       "count  45.000000\n",
       "mean    2.341385\n",
       "std     0.094061\n",
       "min     2.178261\n",
       "25%     2.269058\n",
       "50%     2.330619\n",
       "75%     2.397491\n",
       "max     2.557205"
      ]
     },
     "execution_count": 29,
     "metadata": {},
     "output_type": "execute_result"
    }
   ],
   "source": [
    "pd.DataFrame([bicorr.convert_time_to_energy(t,distance=dist) for dist in det_distance_df['Distance (cm)']/100]).describe()"
   ]
  },
  {
   "cell_type": "code",
   "execution_count": null,
   "metadata": {
    "collapsed": true
   },
   "outputs": [],
   "source": []
  },
  {
   "cell_type": "code",
   "execution_count": 15,
   "metadata": {
    "collapsed": false
   },
   "outputs": [
    {
     "name": "stdout",
     "output_type": "stream",
     "text": [
      "[  0   2   4   6   8  10  12  14  16  18  20  22  24  26  28  30  32  34\n",
      "  36  38  40  42  44  46  48  50  52  54  56  58  60  62  64  66  68  70\n",
      "  72  74  76  78  80  82  84  86  88  90  92  94  96  98 100 102 104 106\n",
      " 108 110 112 114 116 118 120 122 124 126 128 130 132 134 136 138 140 142\n",
      " 144 146 148 150 152 154 156 158 160 162 164 166 168 170 172 174 176 178\n",
      " 180 182 184 186 188 190 192 194 196 198]\n"
     ]
    }
   ],
   "source": [
    "dt_bin_edges = np.arange(0,200,2)\n",
    "print(dt_bin_edges)"
   ]
  },
  {
   "cell_type": "code",
   "execution_count": 17,
   "metadata": {
    "collapsed": false
   },
   "outputs": [
    {
     "name": "stdout",
     "output_type": "stream",
     "text": [
      "[  1.00000000e+04   1.31369476e+03   3.28423689e+02   1.45966084e+02\n",
      "   8.21059223e+01   5.25477903e+01   3.64915210e+01   2.68100971e+01\n",
      "   2.05264806e+01   1.62184538e+01   1.31369476e+01   1.08569815e+01\n",
      "   9.12288026e+00   7.77334176e+00   6.70252427e+00   5.83864337e+00\n",
      "   5.13162015e+00   4.54565660e+00   4.05461345e+00   3.63904365e+00\n",
      "   3.28423689e+00   2.97889968e+00   2.71424537e+00   2.48335493e+00\n",
      "   2.28072006e+00   2.10191161e+00   1.94333544e+00   1.80205042e+00\n",
      "   1.67563107e+00   1.56206273e+00   1.45966084e+00   1.36700807e+00\n",
      "   1.28290504e+00   1.20633127e+00   1.13641415e+00   1.07240388e+00\n",
      "   1.01365336e+00   9.59601722e-01   9.09760912e-01   8.63704640e-01\n",
      "   8.21059223e-01   7.81495989e-01   7.44724919e-01   7.10489323e-01\n",
      "   6.78561342e-01   6.48738152e-01   6.20838732e-01   5.94701112e-01\n",
      "   5.70180016e-01   5.47144839e-01   5.25477903e-01   5.05072956e-01\n",
      "   4.85833860e-01   4.67673463e-01   4.50512605e-01   4.34279259e-01\n",
      "   4.18907767e-01   4.04338183e-01   3.90515683e-01   3.77390048e-01\n",
      "   3.64915210e-01   3.53048846e-01   3.41752018e-01   3.30988853e-01\n",
      "   3.20726259e-01   3.10933670e-01   3.01582818e-01   2.92647529e-01\n",
      "   2.84103537e-01   2.75928325e-01   2.68100971e-01   2.60602015e-01\n",
      "   2.53413341e-01   2.46518063e-01   2.39900430e-01   2.33545735e-01\n",
      "   2.27440228e-01   2.21571050e-01   2.15926160e-01   2.10494273e-01\n",
      "   2.05264806e-01   2.00227825e-01   1.95373997e-01   1.90694550e-01\n",
      "   1.86181230e-01   1.81826264e-01   1.77622331e-01   1.73562526e-01\n",
      "   1.69640335e-01   1.65849610e-01   1.62184538e-01   1.58639628e-01\n",
      "   1.55209683e-01   1.51889786e-01   1.48675278e-01   1.45561746e-01\n",
      "   1.42545004e-01   1.39621082e-01   1.36786210e-01   1.34036808e-01]\n"
     ]
    }
   ],
   "source": [
    "energy_bin_edges = np.asarray(np.insert([bicorr.convert_time_to_energy(t) for t in dt_bin_edges[1:]],0,10000))\n",
    "print(energy_bin_edges)"
   ]
  },
  {
   "cell_type": "code",
   "execution_count": 18,
   "metadata": {
    "collapsed": false
   },
   "outputs": [
    {
     "data": {
      "image/png": "[encoded data removed]",
      "text/plain": [
       "<matplotlib.figure.Figure at 0xc5c1d30>"
      ]
     },
     "metadata": {},
     "output_type": "display_data"
    }
   ],
   "source": [
    "plt.figure(figsize=(4,3))\n",
    "plt.plot(dt_bin_edges,energy_bin_edges,'.-k',linewidth=.5)\n",
    "plt.axvline(15,color='r')\n",
    "plt.axvline(150,color='r')\n",
    "plt.yscale('log')\n",
    "plt.xlabel('time bin edge (ns)')\n",
    "plt.ylabel('energy bin edge (MeV)')\n",
    "sns.despine(right=False)\n",
    "plt.show()"
   ]
  },
  {
   "cell_type": "markdown",
   "metadata": {},
   "source": [
    "* What is the distribution?\n",
    "* What are the extremes?\n",
    "* For a 25 ns event, what is the corresponding energy distribution?"
   ]
  },
  {
   "cell_type": "markdown",
   "metadata": {},
   "source": [
    "Look at `dt_bin_edges` -> `energy_bin_edges`. How different are the edges for the extreme distances?"
   ]
  },
  {
   "cell_type": "markdown",
   "metadata": {},
   "source": [
    "Evaluate how much would have to go into updating the analysis to incorporate this. \n",
    "\n",
    "* Do I have to go back to the bicorr individual events? Should I just save a second bicorr_hist_master in energy units, specific to each detector?\n",
    "* If energy bin edges are different for each detector, this would make it nearly impossible to add the `bhp` together across pairs. Would have to define energy bin edges for all of them, and then time and energy `bhp` distributions would be different for each."
   ]
  },
  {
   "cell_type": "markdown",
   "metadata": {
    "collapsed": true
   },
   "source": [
    "# Summary\n",
    "\n",
    "The most extreme difference in energy due to different distances is over 17%, so I need to go back to the `bicorr` file and produce a `bhm_e` on an event-by-event basis. \n",
    "\n",
    "See: `methods > build_bhm_with_energy.ipynb`."
   ]
  },
  {
   "cell_type": "code",
   "execution_count": null,
   "metadata": {
    "collapsed": true
   },
   "outputs": [],
   "source": []
  }
 ],
 "metadata": {
  "anaconda-cloud": {},
  "kernelspec": {
   "display_name": "Python [conda env:Anaconda3]",
   "language": "python",
   "name": "conda-env-Anaconda3-py"
  },
  "language_info": {
   "codemirror_mode": {
    "name": "ipython",
    "version": 3
   },
   "file_extension": ".py",
   "mimetype": "text/x-python",
   "name": "python",
   "nbconvert_exporter": "python",
   "pygments_lexer": "ipython3",
   "version": "3.5.2"
  }
 },
 "nbformat": 4,
 "nbformat_minor": 1
}
