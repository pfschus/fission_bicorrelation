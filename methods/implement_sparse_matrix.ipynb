{
 "cells": [
  {
   "cell_type": "markdown",
   "metadata": {},
   "source": [
    "# Goal\n",
    "\n",
    "My `bicorr_hist_master` matrix is enormous, and it takes up 15 GB of space (if 0.25 ns time binning). Most of it is empty, so I could instead convert it to a sparse matrix and store a much smaller matrix to file. Investigate this.\n",
    "\n",
    "Start by loading a `bicorr_hist_master` into memory for this study. \n",
    "\n",
    "Updates\n",
    "-------\n",
    "* 3/22/2017: First version; Implement sparse matrices\n",
    "* 7/5/2017: Implement `det_df` pandas dataframe for loading detector pair indices, angles"
   ]
  },
  {
   "cell_type": "code",
   "execution_count": 1,
   "metadata": {
    "collapsed": true
   },
   "outputs": [],
   "source": [
    "import numpy as np\n",
    "import scipy.io as sio\n",
    "import os\n",
    "import sys\n",
    "import matplotlib\n",
    "import matplotlib.pyplot as plt\n",
    "import matplotlib.colors\n",
    "import inspect\n",
    "from tqdm import tqdm"
   ]
  },
  {
   "cell_type": "code",
   "execution_count": 4,
   "metadata": {
    "collapsed": true
   },
   "outputs": [],
   "source": [
    "sys.path.append('../scripts/')"
   ]
  },
  {
   "cell_type": "code",
   "execution_count": 5,
   "metadata": {
    "collapsed": false
   },
   "outputs": [],
   "source": [
    "import bicorr as bicorr"
   ]
  },
  {
   "cell_type": "code",
   "execution_count": 6,
   "metadata": {
    "collapsed": false
   },
   "outputs": [],
   "source": [
    "%load_ext autoreload\n",
    "%autoreload 2"
   ]
  },
  {
   "cell_type": "markdown",
   "metadata": {},
   "source": [
    "# Generate `bicorr_hist_master` from another dataset\n",
    "\n",
    "Use the function I have already built into my `bicorr.py` functions. I don't have any `bicorr_hist_master` files stored to disk because they are so large, so I will load a `bicorr` text file and build a `bicorr_hist_master` array."
   ]
  },
  {
   "cell_type": "code",
   "execution_count": 7,
   "metadata": {
    "collapsed": false
   },
   "outputs": [
    {
     "name": "stdout",
     "output_type": "stream",
     "text": [
      "Help on function load_bicorr in module bicorr:\n",
      "\n",
      "load_bicorr(folder_number=None, bicorr_path=None, root_path=None)\n",
      "    Load a data matrix of bicorr data into current python session\n",
      "    \n",
      "    Parameters\n",
      "    ----------\n",
      "    folder_number : int, optional\n",
      "        Folder from which to load bicorr file\n",
      "        Bicorr filename will be bicorr# (with folder_number)\n",
      "    bicorr_path : str, optional\n",
      "        Full path of bicorr file, including filename\n",
      "    root_path : int, optional\n",
      "        Relative path to folder where data folders exist (1, 2, 3, etc.). default = cwd\n",
      "    \n",
      "    \n",
      "    Returns\n",
      "    -------\n",
      "    bicorr_data : ndarray\n",
      "        Each element contains the following info for one bicorrelation pair\n",
      "        Columns are 0: event, np.int32\n",
      "                    1: det1ch, np.int8\n",
      "                    2: det1par, np.int8\n",
      "                    3: det1t, np.float16\n",
      "                    4: det2ch, np.int8\n",
      "                    5: det2par, np.int8\n",
      "                    6: det2t, np.float16\n",
      "\n"
     ]
    }
   ],
   "source": [
    "help(bicorr.load_bicorr)"
   ]
  },
  {
   "cell_type": "markdown",
   "metadata": {},
   "source": [
    "Where are the files I want to import? Use the same file that I use in my analysis `build_bicorr_hist_master`."
   ]
  },
  {
   "cell_type": "code",
   "execution_count": 10,
   "metadata": {
    "collapsed": false
   },
   "outputs": [
    {
     "data": {
      "text/plain": [
       "['bicorr1', 'bicorr1_part', 'cced1', 'fig', 'timeOffset.txt']"
      ]
     },
     "execution_count": 10,
     "metadata": {},
     "output_type": "execute_result"
    }
   ],
   "source": [
    "os.listdir('../datar/1')"
   ]
  },
  {
   "cell_type": "markdown",
   "metadata": {},
   "source": [
    "I am going to provide the full `bicorr_path` as input."
   ]
  },
  {
   "cell_type": "code",
   "execution_count": 12,
   "metadata": {
    "collapsed": false
   },
   "outputs": [],
   "source": [
    "bicorr_data = bicorr.load_bicorr(bicorr_path = '../datar/1/bicorr1_part')"
   ]
  },
  {
   "cell_type": "markdown",
   "metadata": {},
   "source": [
    "Now I will build `bicorr_hist_master`."
   ]
  },
  {
   "cell_type": "code",
   "execution_count": 14,
   "metadata": {
    "collapsed": true
   },
   "outputs": [],
   "source": [
    "det_df = bicorr.load_det_df()\n",
    "dt_bin_edges, num_dt_bins = bicorr.build_dt_bin_edges()"
   ]
  },
  {
   "cell_type": "code",
   "execution_count": 15,
   "metadata": {
    "collapsed": true
   },
   "outputs": [],
   "source": [
    "bhm = bicorr.alloc_bhm(len(det_df),4,num_dt_bins)"
   ]
  },
  {
   "cell_type": "code",
   "execution_count": 17,
   "metadata": {
    "collapsed": false
   },
   "outputs": [
    {
     "name": "stderr",
     "output_type": "stream",
     "text": [
      "100%|##########| 10000/10000 [00:00<00:00, 21675.46it/s]\n"
     ]
    }
   ],
   "source": [
    "bhm = bicorr.fill_bhm(bhm, bicorr_data, det_df, dt_bin_edges)"
   ]
  },
  {
   "cell_type": "code",
   "execution_count": 18,
   "metadata": {
    "collapsed": false
   },
   "outputs": [
    {
     "data": {
      "image/png": "[encoded data removed]",
      "text/plain": [
       "<matplotlib.figure.Figure at 0x240758fe048>"
      ]
     },
     "metadata": {},
     "output_type": "display_data"
    }
   ],
   "source": [
    "bhp = bicorr.build_bhp(bhm,dt_bin_edges)[0]\n",
    "bicorr.bicorr_plot(bhp, dt_bin_edges, show_flag = True)"
   ]
  },
  {
   "cell_type": "markdown",
   "metadata": {},
   "source": [
    "# What is a sparse matrix?\n",
    "\n",
    "See documentation on Wikipedia: https://en.wikipedia.org/wiki/Sparse_matrix\n",
    "\n",
    "A **sparse matrix** has most of its elements equal to zero. The number of zero-valued elements divided by the total number of elements is called its **sparsity**, and is equal to 1 minus the **density** of the matrix.\n",
    "\n"
   ]
  },
  {
   "cell_type": "markdown",
   "metadata": {},
   "source": [
    "## How sparse is my matrix?\n",
    "\n",
    "How much of my matrix is empty? "
   ]
  },
  {
   "cell_type": "code",
   "execution_count": 20,
   "metadata": {
    "collapsed": false
   },
   "outputs": [
    {
     "data": {
      "text/plain": [
       "8026"
      ]
     },
     "execution_count": 20,
     "metadata": {},
     "output_type": "execute_result"
    }
   ],
   "source": [
    "np.count_nonzero(bhm)"
   ]
  },
  {
   "cell_type": "code",
   "execution_count": 21,
   "metadata": {
    "collapsed": false
   },
   "outputs": [
    {
     "data": {
      "text/plain": [
       "3960000000"
      ]
     },
     "execution_count": 21,
     "metadata": {},
     "output_type": "execute_result"
    }
   ],
   "source": [
    "bhm.size"
   ]
  },
  {
   "cell_type": "code",
   "execution_count": 23,
   "metadata": {
    "collapsed": false
   },
   "outputs": [
    {
     "data": {
      "text/plain": [
       "0.9999979732323232"
      ]
     },
     "execution_count": 23,
     "metadata": {},
     "output_type": "execute_result"
    }
   ],
   "source": [
    "1-np.count_nonzero(bhm)/bhm.size"
   ]
  },
  {
   "cell_type": "markdown",
   "metadata": {},
   "source": [
    "Wow... My matrix is 98.8% sparse. I should definitely be using a sparse matrix to store the information. "
   ]
  },
  {
   "cell_type": "markdown",
   "metadata": {},
   "source": [
    "## Investigate sparse matrix format with `scipy.sparse`\n",
    "\n",
    "SciPy has a 2-D sparse matrix package for numeric data. Documentation is available here: <https://docs.scipy.org/doc/scipy/reference/sparse.html#usage-information>.  How do I use it? It will not be simple since my numpy array has four dimensions."
   ]
  },
  {
   "cell_type": "code",
   "execution_count": 14,
   "metadata": {
    "collapsed": true
   },
   "outputs": [],
   "source": [
    "from scipy import sparse"
   ]
  },
  {
   "cell_type": "markdown",
   "metadata": {},
   "source": [
    "I am following this StackOverflow for how to convert the array to a sparse matrix: http://stackoverflow.com/questions/7922487/how-to-transform-numpy-matrix-or-array-to-scipy-sparse-matrix"
   ]
  },
  {
   "cell_type": "code",
   "execution_count": 15,
   "metadata": {
    "collapsed": false
   },
   "outputs": [],
   "source": [
    "s_bicorr_hist_Master = sparse.csr_matrix(bicorr_hist_master[0,0,:,:])"
   ]
  },
  {
   "cell_type": "code",
   "execution_count": 16,
   "metadata": {
    "collapsed": false
   },
   "outputs": [
    {
     "name": "stdout",
     "output_type": "stream",
     "text": [
      "  (71, 85)\t1\n",
      "  (72, 82)\t1\n",
      "  (73, 127)\t1\n",
      "  (73, 148)\t1\n",
      "  (74, 77)\t1\n",
      "  (74, 84)\t1\n",
      "  (74, 93)\t2\n",
      "  (75, 94)\t2\n",
      "  (76, 83)\t1\n",
      "  (76, 85)\t1\n",
      "  (76, 88)\t1\n",
      "  (76, 89)\t1\n",
      "  (76, 90)\t1\n",
      "  (76, 91)\t1\n",
      "  (76, 94)\t1\n",
      "  (76, 100)\t1\n",
      "  (76, 106)\t1\n",
      "  (76, 107)\t1\n",
      "  (76, 115)\t1\n",
      "  (77, 81)\t1\n",
      "  (77, 85)\t1\n",
      "  (77, 86)\t1\n",
      "  (77, 89)\t1\n",
      "  (77, 90)\t1\n",
      "  (77, 91)\t1\n",
      "  :\t:\n",
      "  (219, 119)\t1\n",
      "  (219, 120)\t1\n",
      "  (219, 121)\t1\n",
      "  (221, 241)\t1\n",
      "  (222, 94)\t1\n",
      "  (222, 100)\t1\n",
      "  (222, 205)\t1\n",
      "  (223, 104)\t1\n",
      "  (223, 135)\t1\n",
      "  (224, 201)\t1\n",
      "  (227, 104)\t1\n",
      "  (231, 92)\t1\n",
      "  (231, 106)\t1\n",
      "  (232, 84)\t1\n",
      "  (234, 110)\t1\n",
      "  (234, 226)\t1\n",
      "  (236, 93)\t1\n",
      "  (236, 223)\t1\n",
      "  (237, 87)\t1\n",
      "  (238, 82)\t1\n",
      "  (242, 111)\t1\n",
      "  (242, 119)\t1\n",
      "  (244, 116)\t1\n",
      "  (244, 131)\t1\n",
      "  (245, 118)\t1\n"
     ]
    }
   ],
   "source": [
    "print(s_bicorr_hist_Master)"
   ]
  },
  {
   "cell_type": "code",
   "execution_count": 17,
   "metadata": {
    "collapsed": false
   },
   "outputs": [
    {
     "data": {
      "text/plain": [
       "scipy.sparse.csr.csr_matrix"
      ]
     },
     "execution_count": 17,
     "metadata": {},
     "output_type": "execute_result"
    }
   ],
   "source": [
    "type(s_bicorr_hist_Master)"
   ]
  },
  {
   "cell_type": "code",
   "execution_count": 18,
   "metadata": {
    "collapsed": false
   },
   "outputs": [
    {
     "data": {
      "image/png": "[encoded data removed]",
      "text/plain": [
       "<matplotlib.figure.Figure at 0x84d88d0>"
      ]
     },
     "metadata": {},
     "output_type": "display_data"
    }
   ],
   "source": [
    "plt.pcolormesh(dt_bin_edges,dt_bin_edges,bicorr_hist_master[0,0,:,:],norm=matplotlib.colors.LogNorm())\n",
    "plt.colorbar()\n",
    "plt.show()"
   ]
  },
  {
   "cell_type": "markdown",
   "metadata": {},
   "source": [
    "It looks like this scipy sparse matrix function will not suit my needs because it is limited to two-dimensional numpy arrays. I need to be able to store a four-dimensional array as a sparse matrix. I will try to write my own technique in the following section."
   ]
  },
  {
   "cell_type": "markdown",
   "metadata": {},
   "source": [
    "# Build my own sparse matrix generator\n",
    "\n",
    "It looks like the scipy sparse matrix functions are limited to two-dimensional numpy arrays. So I will try building my own function."
   ]
  },
  {
   "cell_type": "markdown",
   "metadata": {},
   "source": [
    "## Set up formatting"
   ]
  },
  {
   "cell_type": "markdown",
   "metadata": {},
   "source": [
    "I am going to build a numpy array with a specified numpy data type (`dType`). There will be five pieces of data for each element in the array.\n",
    "\n",
    "* 4-dimensional index of element\n",
    "    * `pair_i`: Detector pair, length = 990. Use `np.uint16`.\n",
    "    * `type_i`: Interaction type, length 4 (0=nn, 1=np, 2=pn, 3=pp). Use `np.uint8`.\n",
    "    * `det1t_i`: dt bin for detector 1 (up to 1000). Use `np.uint16`.\n",
    "    * `det2t_i`: dt bin for detector 2 (up to 1000). Use `np.uint16`.\n",
    "* `count`: Value of that element. Use `np.uint64`. \n",
    "\n",
    "First establish the formatting of each element in the array."
   ]
  },
  {
   "cell_type": "code",
   "execution_count": 24,
   "metadata": {
    "collapsed": false
   },
   "outputs": [],
   "source": [
    "sparseType = np.dtype([('pair_i', np.uint16), ('type_i', np.uint8), ('det1t_i', np.uint16), ('det2t_i', np.uint16), ('count', np.uint32)])"
   ]
  },
  {
   "cell_type": "markdown",
   "metadata": {},
   "source": [
    "## Access nonzero count information"
   ]
  },
  {
   "cell_type": "code",
   "execution_count": 25,
   "metadata": {
    "collapsed": true
   },
   "outputs": [],
   "source": [
    "num_nonzero = np.count_nonzero(bhm)"
   ]
  },
  {
   "cell_type": "code",
   "execution_count": 26,
   "metadata": {
    "collapsed": false
   },
   "outputs": [
    {
     "name": "stdout",
     "output_type": "stream",
     "text": [
      "8026\n"
     ]
    }
   ],
   "source": [
    "print(num_nonzero)"
   ]
  },
  {
   "cell_type": "markdown",
   "metadata": {},
   "source": [
    "I'm going to ask numpy to make an array of the indices for non-zero values with `np.nonzero`. Numpy will return it as an array of tuples organized somewhat strangely. Explore how the indexing works.\n",
    "\n",
    "First store the indices as tuples using `np.nonzero`. The tuples are stored as four massive tuples of 2767589 elements. They are so large that I can't print them to my screen. How do I extract the four arguments for the position of the $i^{th}$ nonzero value?"
   ]
  },
  {
   "cell_type": "code",
   "execution_count": 28,
   "metadata": {
    "collapsed": false
   },
   "outputs": [],
   "source": [
    "i_nonzero = np.nonzero(bhm)"
   ]
  },
  {
   "cell_type": "code",
   "execution_count": 29,
   "metadata": {
    "collapsed": true
   },
   "outputs": [],
   "source": [
    "counts = bhm[i_nonzero]"
   ]
  },
  {
   "cell_type": "code",
   "execution_count": 30,
   "metadata": {
    "collapsed": false
   },
   "outputs": [
    {
     "data": {
      "text/plain": [
       "array([1, 1, 1, 1, 1, 1, 1, 1, 1, 1, 1, 1, 1, 1, 1, 1, 1, 1, 1, 1, 1, 1, 1,\n",
       "       1, 1, 1, 1, 1, 1, 1, 1, 1, 1, 1, 1, 1, 1, 1, 1, 1, 1, 1, 1, 1, 1, 1,\n",
       "       1, 1, 1, 1, 1, 1, 1, 1, 1, 1, 1, 1, 1, 1, 1, 1, 1, 1, 1, 1, 1, 1, 1,\n",
       "       1, 1, 1, 1, 1, 1, 1, 1, 1, 1, 1, 1, 1, 1, 1, 1, 1, 1, 1, 1, 1, 1, 1,\n",
       "       1, 1, 1, 1, 1, 1, 1, 1, 1, 1, 1, 1, 1, 1, 1, 1, 1, 1, 1, 1, 1, 1, 1,\n",
       "       1, 1, 1, 1, 1, 1, 1, 1, 1, 1, 1, 1, 1, 1, 1, 1, 1, 1, 1, 1, 1, 1, 1,\n",
       "       1, 1, 1, 1, 1, 1, 1, 1, 1, 1, 1, 1, 1, 1, 1, 1, 1, 1, 1, 1, 1, 1, 1,\n",
       "       1, 1, 1, 1, 1, 1, 1, 1, 1, 1, 1, 1, 1, 1, 1, 1, 1, 1, 1, 1, 1, 1, 1,\n",
       "       1, 1, 1, 1, 1, 1, 1, 1, 1, 1, 1, 1, 1, 1, 1, 1], dtype=uint32)"
      ]
     },
     "execution_count": 30,
     "metadata": {},
     "output_type": "execute_result"
    }
   ],
   "source": [
    "counts[600:800]"
   ]
  },
  {
   "cell_type": "markdown",
   "metadata": {},
   "source": [
    "How do I find the element at the top there that is equal to three? It is at the 627$^{th}$ index position in `i_nonzero` and `counts`. How do I find the corresponding indices in `bicorr_hist_master`?"
   ]
  },
  {
   "cell_type": "code",
   "execution_count": 31,
   "metadata": {
    "collapsed": false
   },
   "outputs": [
    {
     "data": {
      "text/plain": [
       "1"
      ]
     },
     "execution_count": 31,
     "metadata": {},
     "output_type": "execute_result"
    }
   ],
   "source": [
    "i = 637\n",
    "counts[637]"
   ]
  },
  {
   "cell_type": "code",
   "execution_count": 32,
   "metadata": {
    "collapsed": false
   },
   "outputs": [
    {
     "data": {
      "text/plain": [
       "1"
      ]
     },
     "execution_count": 32,
     "metadata": {},
     "output_type": "execute_result"
    }
   ],
   "source": [
    "counts[i]"
   ]
  },
  {
   "cell_type": "code",
   "execution_count": 33,
   "metadata": {
    "collapsed": false
   },
   "outputs": [
    {
     "data": {
      "text/plain": [
       "100"
      ]
     },
     "execution_count": 33,
     "metadata": {},
     "output_type": "execute_result"
    }
   ],
   "source": [
    "i_nonzero[0][i]"
   ]
  },
  {
   "cell_type": "code",
   "execution_count": 34,
   "metadata": {
    "collapsed": false
   },
   "outputs": [
    {
     "data": {
      "text/plain": [
       "1"
      ]
     },
     "execution_count": 34,
     "metadata": {},
     "output_type": "execute_result"
    }
   ],
   "source": [
    "i_nonzero[1][i]"
   ]
  },
  {
   "cell_type": "code",
   "execution_count": 35,
   "metadata": {
    "collapsed": false
   },
   "outputs": [
    {
     "data": {
      "text/plain": [
       "219"
      ]
     },
     "execution_count": 35,
     "metadata": {},
     "output_type": "execute_result"
    }
   ],
   "source": [
    "i_nonzero[2][i]"
   ]
  },
  {
   "cell_type": "code",
   "execution_count": 36,
   "metadata": {
    "collapsed": false
   },
   "outputs": [
    {
     "data": {
      "text/plain": [
       "211"
      ]
     },
     "execution_count": 36,
     "metadata": {},
     "output_type": "execute_result"
    }
   ],
   "source": [
    "i_nonzero[3][i]"
   ]
  },
  {
   "cell_type": "markdown",
   "metadata": {},
   "source": [
    "Can I call them all at once? It doesn't seem so..."
   ]
  },
  {
   "cell_type": "code",
   "execution_count": 37,
   "metadata": {
    "collapsed": false
   },
   "outputs": [
    {
     "ename": "IndexError",
     "evalue": "tuple index out of range",
     "output_type": "error",
     "traceback": [
      "\u001b[0;31m---------------------------------------------------------------------------\u001b[0m",
      "\u001b[0;31mIndexError\u001b[0m                                Traceback (most recent call last)",
      "\u001b[0;32m<ipython-input-37-5f89d2a1c688>\u001b[0m in \u001b[0;36m<module>\u001b[0;34m()\u001b[0m\n\u001b[0;32m----> 1\u001b[0;31m \u001b[0mi_nonzero\u001b[0m\u001b[1;33m[\u001b[0m\u001b[1;33m:\u001b[0m\u001b[1;33m]\u001b[0m\u001b[1;33m[\u001b[0m\u001b[0mi\u001b[0m\u001b[1;33m]\u001b[0m\u001b[1;33m\u001b[0m\u001b[0m\n\u001b[0m",
      "\u001b[0;31mIndexError\u001b[0m: tuple index out of range"
     ]
    }
   ],
   "source": [
    "i_nonzero[:][i]"
   ]
  },
  {
   "cell_type": "code",
   "execution_count": 41,
   "metadata": {
    "collapsed": false
   },
   "outputs": [
    {
     "data": {
      "text/plain": [
       "1"
      ]
     },
     "execution_count": 41,
     "metadata": {},
     "output_type": "execute_result"
    }
   ],
   "source": [
    "bhm[100,1,219,211]"
   ]
  },
  {
   "cell_type": "markdown",
   "metadata": {},
   "source": [
    "## Write nonzero count information to sparse array `sparse_bhm`\n",
    "\n",
    "Loop through all nonzero counts and store the information."
   ]
  },
  {
   "cell_type": "code",
   "execution_count": 42,
   "metadata": {
    "collapsed": true
   },
   "outputs": [],
   "source": [
    "sparse_bhm = np.zeros(num_nonzero,dtype=sparseType)"
   ]
  },
  {
   "cell_type": "code",
   "execution_count": 45,
   "metadata": {
    "collapsed": false
   },
   "outputs": [
    {
     "name": "stderr",
     "output_type": "stream",
     "text": [
      "100%|##########| 8026/8026 [00:00<00:00, 92371.46it/s]\n"
     ]
    },
    {
     "name": "stdout",
     "output_type": "stream",
     "text": [
      "[(0, 0, 338, 745, 1) (0, 0, 364, 339, 1) (0, 1, 468, 209, 1)\n",
      " (0, 1, 529, 212, 1) (0, 2, 214, 216, 1) (0, 2, 216, 486, 1)\n",
      " (0, 2, 305, 309, 1) (0, 3, 215, 362, 1) (1, 2, 212, 390, 1)\n",
      " (1, 3, 209, 213, 1) (1, 3, 209, 217, 1) (1, 3, 213, 214, 1)\n",
      " (1, 3, 396, 229, 1) (2, 1, 92, 208, 1) (2, 1, 415, 212, 1)\n",
      " (2, 1, 447, 247, 1) (2, 1, 559, 533, 1) (2, 2, 211, 356, 1)\n",
      " (2, 2, 528, 960, 1) (2, 3, 211, 214, 1)]\n"
     ]
    }
   ],
   "source": [
    "for i in tqdm(np.arange(0,num_nonzero),ascii=True):\n",
    "    sparse_bhm[i]['pair_i']  = i_nonzero[0][i]\n",
    "    sparse_bhm[i]['type_i']  = i_nonzero[1][i]\n",
    "    sparse_bhm[i]['det1t_i'] = i_nonzero[2][i]\n",
    "    sparse_bhm[i]['det2t_i'] = i_nonzero[3][i]\n",
    "    sparse_bhm[i]['count']   = counts[i]\n",
    "              \n",
    "print(sparse_bhm[0:20])"
   ]
  },
  {
   "cell_type": "code",
   "execution_count": 46,
   "metadata": {
    "collapsed": false
   },
   "outputs": [
    {
     "data": {
      "text/plain": [
       "(0, 0, 338, 745, 1)"
      ]
     },
     "execution_count": 46,
     "metadata": {},
     "output_type": "execute_result"
    }
   ],
   "source": [
    "sparse_bhm[0]"
   ]
  },
  {
   "cell_type": "code",
   "execution_count": 47,
   "metadata": {
    "collapsed": false
   },
   "outputs": [
    {
     "data": {
      "text/plain": [
       "1"
      ]
     },
     "execution_count": 47,
     "metadata": {},
     "output_type": "execute_result"
    }
   ],
   "source": [
    "bhm[0,0,338,745]"
   ]
  },
  {
   "cell_type": "markdown",
   "metadata": {},
   "source": [
    "Functionalize this in my `bicorr` module. "
   ]
  },
  {
   "cell_type": "code",
   "execution_count": 48,
   "metadata": {
    "collapsed": false
   },
   "outputs": [
    {
     "name": "stdout",
     "output_type": "stream",
     "text": [
      "def generate_sparse_bhm(bicorr_hist_master, disable_tqdm = False):\n",
      "    \"\"\"\n",
      "    Generate sparse version of bicorr_hist_master for storing to file. \n",
      "    \n",
      "    Parameters\n",
      "    ----------\n",
      "    bicorr_hist_master : ndarray\n",
      "        2d bicorrelation histogram\n",
      "        Dimension 0: detector pair, use dictionary `dict_pair_to_index`  \n",
      "        Dimension 1: interaction type, length 4. (0=nn, 1=np, 2=pn, 3=pp)  \n",
      "        Dimension 2: dt bin for detector 1\n",
      "        Dimension 3: dt bin for detector 2\n",
      "    disable_tqdm : bool, optional\n",
      "        Flag to disable tqdm progress bar\n",
      "        \n",
      "    Returns\n",
      "    -------\n",
      "    sparse_bhm : ndarray\n",
      "        Length is equal to the number of nonzero elements in bicorr_hist_master\n",
      "        dType = ('pair_i', np.uint16)  Indices in bicorr_hist_master\n",
      "                ('type_i', np.uint8)    ''\n",
      "                ('det1t_i', np.uint16)  ''\n",
      "                ('det2t_i', np.uint16)  ''\n",
      "                ('count', np.uint32)]) Number of counts    \n",
      "    \"\"\"\n",
      "    # Which elements in bicorr_hist_master are nonzero?\n",
      "    # Note: These steps are taking a long time. I should do some time tests to see what is the slowest step.\n",
      "    num_nonzero = np.count_nonzero(bicorr_hist_master)\n",
      "    i_nonzero = np.nonzero(bicorr_hist_master)\n",
      "    counts = bicorr_hist_master[i_nonzero]\n",
      "\n",
      "    # Set up sparse_bhm\n",
      "    sparseType = np.dtype([('pair_i', np.uint16), ('type_i', np.uint8), ('det1t_i', np.uint16), ('det2t_i', np.uint16), ('count', np.uint32)])\n",
      "    sparse_bhm = np.zeros(num_nonzero,dtype=sparseType)\n",
      "    \n",
      "    # Fill sparse_bhm\n",
      "    for i in tqdm(np.arange(0,num_nonzero),ascii=True,disable=disable_tqdm):\n",
      "        sparse_bhm[i]['pair_i']  = i_nonzero[0][i]\n",
      "        sparse_bhm[i]['type_i']  = i_nonzero[1][i]\n",
      "        sparse_bhm[i]['det1t_i'] = i_nonzero[2][i]\n",
      "        sparse_bhm[i]['det2t_i'] = i_nonzero[3][i]\n",
      "        sparse_bhm[i]['count']   = counts[i]    \n",
      "    \n",
      "    return sparse_bhm\n",
      "\n"
     ]
    }
   ],
   "source": [
    "print(inspect.getsource(bicorr.generate_sparse_bhm))"
   ]
  },
  {
   "cell_type": "markdown",
   "metadata": {},
   "source": [
    "Start over and try generating `sparse_bhm` from `bicorr_hist_master`. "
   ]
  },
  {
   "cell_type": "code",
   "execution_count": 49,
   "metadata": {
    "collapsed": false
   },
   "outputs": [
    {
     "name": "stderr",
     "output_type": "stream",
     "text": [
      "100%|##########| 8026/8026 [00:00<00:00, 97352.39it/s]\n"
     ]
    }
   ],
   "source": [
    "sparse_bhm = bicorr.generate_sparse_bhm(bhm)"
   ]
  },
  {
   "cell_type": "code",
   "execution_count": 50,
   "metadata": {
    "collapsed": false
   },
   "outputs": [
    {
     "data": {
      "text/plain": [
       "array([(0, 0, 338, 745, 1), (0, 0, 364, 339, 1), (0, 1, 468, 209, 1),\n",
       "       (0, 1, 529, 212, 1), (0, 2, 214, 216, 1), (0, 2, 216, 486, 1),\n",
       "       (0, 2, 305, 309, 1), (0, 3, 215, 362, 1), (1, 2, 212, 390, 1),\n",
       "       (1, 3, 209, 213, 1), (1, 3, 209, 217, 1), (1, 3, 213, 214, 1),\n",
       "       (1, 3, 396, 229, 1), (2, 1, 92, 208, 1), (2, 1, 415, 212, 1),\n",
       "       (2, 1, 447, 247, 1), (2, 1, 559, 533, 1), (2, 2, 211, 356, 1),\n",
       "       (2, 2, 528, 960, 1), (2, 3, 211, 214, 1)], \n",
       "      dtype=[('pair_i', '<u2'), ('type_i', 'u1'), ('det1t_i', '<u2'), ('det2t_i', '<u2'), ('count', '<u4')])"
      ]
     },
     "execution_count": 50,
     "metadata": {},
     "output_type": "execute_result"
    }
   ],
   "source": [
    "sparse_bhm[0:20]"
   ]
  },
  {
   "cell_type": "markdown",
   "metadata": {},
   "source": [
    "## Store `sparse_bhm`, `dt_bin_edges` to disk and reload\n",
    "\n",
    "In order to make this useful, I need a clean and simple way of storing the sparse matrix to disk and reloading it. I used to save the following three variables to disk:\n",
    "\n",
    "* `bicorr_hist_master`\n",
    "* `dict_pair_to_index`\n",
    "* `dt_bin_edges`\n",
    "\n",
    "Instead I will save the following three variables:\n",
    "\n",
    "* `sparse_bhm`\n",
    "* `det_df`\n",
    "* `dt_bin_edges`\n",
    "\n",
    "Use the same `np.save` technique and try it here:"
   ]
  },
  {
   "cell_type": "code",
   "execution_count": 43,
   "metadata": {
    "collapsed": true
   },
   "outputs": [],
   "source": [
    "np.savez('sparse_bhm', det_df = det_df, dt_bin_edges = dt_bin_edges, sparse_bhm=sparse_bhm)"
   ]
  },
  {
   "cell_type": "markdown",
   "metadata": {},
   "source": [
    "This went much faster, as the `bicorr_hist_master` was 15 GB in size and this is only 30 MB in size. What a difference!\n",
    "\n",
    "Write this into a function, and provide an optional destination folder for saving."
   ]
  },
  {
   "cell_type": "code",
   "execution_count": 51,
   "metadata": {
    "collapsed": false
   },
   "outputs": [
    {
     "name": "stdout",
     "output_type": "stream",
     "text": [
      "Help on function save_sparse_bhm in module bicorr:\n",
      "\n",
      "save_sparse_bhm(sparse_bhm, dt_bin_edges, save_folder=None)\n",
      "    Save sparse_bhm, and dt_bin_edges to .npz file in local folder. (Reload using load_sparse_bhm function)\n",
      "    \n",
      "    Parameters\n",
      "    ----------\n",
      "    sparse_bhm : ndarray\n",
      "        Length is equal to the number of nonzero elements in bicorr_hist_master\n",
      "        dType = ('pair_i', np.uint16)  Indices in bicorr_hist_master\n",
      "                ('type_i', np.uint8)    ''\n",
      "                ('det1t_i', np.uint16)  ''\n",
      "                ('det2t_i', np.uint16)  ''\n",
      "                ('count', np.uint32)]) Number of counts \n",
      "    dt_bin_edges : ndarray\n",
      "        Edges of time bin array in ns\n",
      "    save_folder : str, optional\n",
      "        Optional destination folder. If None, then save in current working directory\n",
      "\n"
     ]
    }
   ],
   "source": [
    "help(bicorr.save_sparse_bhm)"
   ]
  },
  {
   "cell_type": "code",
   "execution_count": 53,
   "metadata": {
    "collapsed": false
   },
   "outputs": [],
   "source": [
    "bicorr.save_sparse_bhm(sparse_bhm, dt_bin_edges, '../datar')"
   ]
  },
  {
   "cell_type": "markdown",
   "metadata": {},
   "source": [
    "## Compare size of `sparse_bhm` and `bicorr_hist_master`"
   ]
  },
  {
   "cell_type": "code",
   "execution_count": 54,
   "metadata": {
    "collapsed": false
   },
   "outputs": [
    {
     "data": {
      "text/plain": [
       "15840000144"
      ]
     },
     "execution_count": 54,
     "metadata": {},
     "output_type": "execute_result"
    }
   ],
   "source": [
    "sys.getsizeof(bhm)"
   ]
  },
  {
   "cell_type": "code",
   "execution_count": 55,
   "metadata": {
    "collapsed": false
   },
   "outputs": [
    {
     "data": {
      "text/plain": [
       "88382"
      ]
     },
     "execution_count": 55,
     "metadata": {},
     "output_type": "execute_result"
    }
   ],
   "source": [
    "sys.getsizeof(sparse_bhm)"
   ]
  },
  {
   "cell_type": "code",
   "execution_count": 58,
   "metadata": {
    "collapsed": false
   },
   "outputs": [
    {
     "data": {
      "text/plain": [
       "5.5796716664474295e-06"
      ]
     },
     "execution_count": 58,
     "metadata": {},
     "output_type": "execute_result"
    }
   ],
   "source": [
    "sys.getsizeof(sparse_bhm)/sys.getsizeof(bhm)"
   ]
  },
  {
   "cell_type": "markdown",
   "metadata": {},
   "source": [
    "This is for a partial data set. In a larger data set (tested separately), I reduced my storage needs to 1.5%... hurrah! That is a significant change, and makes it possible to store the data on my local machine."
   ]
  },
  {
   "cell_type": "markdown",
   "metadata": {},
   "source": [
    "# Load `sparse_bhm` and populate `bicorr_hist_master`\n",
    "\n",
    "## Load `sparse_bhm`\n",
    "\n",
    "I am going to try loading `sparse_bhm` from file and producing `bicorr_hist_master`. Use the functions I just created for loading `sparse_bhm`. (Restart Python kernel from here to make sure it works). "
   ]
  },
  {
   "cell_type": "code",
   "execution_count": 49,
   "metadata": {
    "collapsed": false
   },
   "outputs": [
    {
     "data": {
      "text/plain": [
       "['.ipynb_checkpoints',\n",
       " 'implement_sparse_matrix.ipynb',\n",
       " 'sparse_bhm.npz',\n",
       " 'sparse_folder',\n",
       " 'subfolder']"
      ]
     },
     "execution_count": 49,
     "metadata": {},
     "output_type": "execute_result"
    }
   ],
   "source": [
    "os.listdir()"
   ]
  },
  {
   "cell_type": "code",
   "execution_count": 50,
   "metadata": {
    "collapsed": false
   },
   "outputs": [
    {
     "name": "stdout",
     "output_type": "stream",
     "text": [
      "Help on function load_sparse_bhm in module bicorr:\n",
      "\n",
      "load_sparse_bhm(filepath=None)\n",
      "    Load .npz file containing `sparse_bhm`, `dict_pair_to_index`, and `dt_bin_edges`. This file was probably generated by the function `save_sparse_bhm`.\n",
      "    \n",
      "    Parameters\n",
      "    ----------    \n",
      "    filepath : str, optional\n",
      "        Where is the `sparse_bhm.npz` file located? If = none, look for it in the current working directory\n",
      "        \n",
      "    Returns\n",
      "    -------\n",
      "    sparse_bhm : ndarray\n",
      "        Length is equal to the number of nonzero elements in bicorr_hist_master\n",
      "        dType = ('pair_i', np.uint16)  Indices in bicorr_hist_master\n",
      "                ('type_i', np.uint8)    ''\n",
      "                ('det1t_i', np.uint16)  ''\n",
      "                ('det2t_i', np.uint16)  ''\n",
      "                ('count', np.uint32)]) Number of counts \n",
      "    dict_pair_to_index : dict\n",
      "        Maps detector pair index (100*det1ch+det2ch) to the index of that detector pair in bicorr_hist_master \n",
      "    dt_bin_edges : ndarray\n",
      "        Edges of time bin array in ns\n",
      "\n"
     ]
    }
   ],
   "source": [
    "help(bicorr.load_sparse_bhm)"
   ]
  },
  {
   "cell_type": "code",
   "execution_count": 9,
   "metadata": {
    "collapsed": false
   },
   "outputs": [
    {
     "data": {
      "text/plain": [
       "['sparse_bhm.npz']"
      ]
     },
     "execution_count": 9,
     "metadata": {},
     "output_type": "execute_result"
    }
   ],
   "source": [
    "os.listdir('subfolder')"
   ]
  },
  {
   "cell_type": "code",
   "execution_count": 10,
   "metadata": {
    "collapsed": false
   },
   "outputs": [],
   "source": [
    "sparse_bhm, det_df, dt_bin_edges = bicorr.load_sparse_bhm(filepath = \"subfolder\")"
   ]
  },
  {
   "cell_type": "code",
   "execution_count": 12,
   "metadata": {
    "collapsed": false
   },
   "outputs": [
    {
     "name": "stdout",
     "output_type": "stream",
     "text": [
      "bicorr\t det_df\t dt_bin_edges\t inspect\t matplotlib\t np\t os\t plt\t sio\t \n",
      "sparse_bhm\t sys\t tqdm\t \n"
     ]
    }
   ],
   "source": [
    "who"
   ]
  },
  {
   "cell_type": "code",
   "execution_count": 13,
   "metadata": {
    "collapsed": false
   },
   "outputs": [
    {
     "data": {
      "text/plain": [
       "2258910"
      ]
     },
     "execution_count": 13,
     "metadata": {},
     "output_type": "execute_result"
    }
   ],
   "source": [
    "sparse_bhm.size"
   ]
  },
  {
   "cell_type": "code",
   "execution_count": 16,
   "metadata": {
    "collapsed": false
   },
   "outputs": [
    {
     "name": "stdout",
     "output_type": "stream",
     "text": [
      "[(0, 0, 5, 16, 1) (0, 0, 9, 481, 1) (0, 0, 19, 122, 1) (0, 0, 77, 465, 1)\n",
      " (0, 0, 93, 132, 1) (0, 0, 99, 325, 1) (0, 0, 113, 155, 1)\n",
      " (0, 0, 133, 180, 1) (0, 0, 199, 167, 1) (0, 0, 208, 417, 1)]\n"
     ]
    }
   ],
   "source": [
    "print(sparse_bhm[0:10])"
   ]
  },
  {
   "cell_type": "markdown",
   "metadata": {},
   "source": [
    "## Populate `bicorr_hist_master`\n",
    "\n",
    "The only dimension in the size of `bicorr_hist_master` that would change would be the number of time bins. Otherwise, the number of detector pairs and the number of interaction types I am recording will stay the same. Use the functions I have already developed to allocate the array for `bicorr_hist_master`."
   ]
  },
  {
   "cell_type": "code",
   "execution_count": 21,
   "metadata": {
    "collapsed": false
   },
   "outputs": [],
   "source": [
    "bicorr_hist_master = bicorr.alloc_bhm(len(det_df),4,len(dt_bin_edges)-1)"
   ]
  },
  {
   "cell_type": "markdown",
   "metadata": {},
   "source": [
    "Now I need to loop through `sparse_bhm` and fill `bicorr_hist_master` with the count at the corresponding index. What does `sparse_bhm` look like again?"
   ]
  },
  {
   "cell_type": "code",
   "execution_count": 19,
   "metadata": {
    "collapsed": false
   },
   "outputs": [
    {
     "data": {
      "text/plain": [
       "(0, 0, 5, 16, 1)"
      ]
     },
     "execution_count": 19,
     "metadata": {},
     "output_type": "execute_result"
    }
   ],
   "source": [
    "sparse_bhm[0]"
   ]
  },
  {
   "cell_type": "markdown",
   "metadata": {},
   "source": [
    "Fill one element"
   ]
  },
  {
   "cell_type": "code",
   "execution_count": 20,
   "metadata": {
    "collapsed": false
   },
   "outputs": [],
   "source": [
    "i = 0\n",
    "bicorr_hist_master[sparse_bhm[i][0],sparse_bhm[i][1],sparse_bhm[i][2],sparse_bhm[i][3]] = sparse_bhm[i][4]"
   ]
  },
  {
   "cell_type": "code",
   "execution_count": 21,
   "metadata": {
    "collapsed": false
   },
   "outputs": [
    {
     "name": "stdout",
     "output_type": "stream",
     "text": [
      "1\n"
     ]
    }
   ],
   "source": [
    "print(bicorr_hist_master[sparse_bhm[i][0],sparse_bhm[i][1],sparse_bhm[i][2],sparse_bhm[i][3]])"
   ]
  },
  {
   "cell_type": "markdown",
   "metadata": {},
   "source": [
    "Fill all of the elements"
   ]
  },
  {
   "cell_type": "code",
   "execution_count": 22,
   "metadata": {
    "collapsed": false
   },
   "outputs": [
    {
     "name": "stderr",
     "output_type": "stream",
     "text": [
      "100%|██████████| 2258910/2258910 [00:08<00:00, 273449.31it/s]\n"
     ]
    }
   ],
   "source": [
    "for i in tqdm(np.arange(0,sparse_bhm.size)):\n",
    "    bicorr_hist_master[sparse_bhm[i][0],sparse_bhm[i][1],sparse_bhm[i][2],sparse_bhm[i][3]] = sparse_bhm[i][4]\n",
    "    "
   ]
  },
  {
   "cell_type": "code",
   "execution_count": 23,
   "metadata": {
    "collapsed": false
   },
   "outputs": [
    {
     "data": {
      "text/plain": [
       "40"
      ]
     },
     "execution_count": 23,
     "metadata": {},
     "output_type": "execute_result"
    }
   ],
   "source": [
    "np.max(bicorr_hist_master)"
   ]
  },
  {
   "cell_type": "markdown",
   "metadata": {},
   "source": [
    "Plot it to see if that looks correct."
   ]
  },
  {
   "cell_type": "code",
   "execution_count": 25,
   "metadata": {
    "collapsed": false
   },
   "outputs": [
    {
     "data": {
      "image/png": "[encoded data removed]",
      "text/plain": [
       "<matplotlib.figure.Figure at 0xa08a7f0>"
      ]
     },
     "metadata": {},
     "output_type": "display_data"
    }
   ],
   "source": [
    "bicorr_hist_plot = bicorr.build_bicorr_hist_plot(bicorr_hist_master,dt_bin_edges)[0]\n",
    "bicorr.bicorr_plot(bicorr_hist_plot, dt_bin_edges, show_flag = True)"
   ]
  },
  {
   "cell_type": "markdown",
   "metadata": {},
   "source": [
    "## Functionalize this... produce `bicorr_hist_master` from `sparse_bhm`"
   ]
  },
  {
   "cell_type": "code",
   "execution_count": 26,
   "metadata": {
    "collapsed": false
   },
   "outputs": [
    {
     "name": "stdout",
     "output_type": "stream",
     "text": [
      "def revive_sparse_bhm(sparse_bhm, det_df, dt_bin_edges):\n",
      "    \"\"\"\n",
      "    Revive sparse_bhm and generate full-sized bicorr_hist_master\n",
      "    \n",
      "    Parameters\n",
      "    ----------\n",
      "    sparse_bhm : ndarray\n",
      "        Length is equal to the number of nonzero elements in bicorr_hist_master\n",
      "        dType = ('pair_i', np.uint16)  Indices in bicorr_hist_master\n",
      "                ('type_i', np.uint8)    ''\n",
      "                ('det1t_i', np.uint16)  ''\n",
      "                ('det2t_i', np.uint16)  ''\n",
      "                ('count', np.uint32)]) Number of counts \n",
      "    det_df : pandas dataFrame\n",
      "        dataFrame of detector pair indices and angles\n",
      "    dt_bin_edges : ndarray\n",
      "        Edges of time bin array in ns    \n",
      "    \n",
      "    Returns\n",
      "    -------\n",
      "    bicorr_hist_master : ndarray\n",
      "        2d bicorrelation histogram\n",
      "        Dimension 0: detector pair, use dictionary `dict_pair_to_index`  \n",
      "        Dimension 1: interaction type, length 4. (0=nn, 1=np, 2=pn, 3=pp)  \n",
      "        Dimension 2: dt bin for detector 1\n",
      "        Dimension 3: dt bin for detector 2\n",
      "    \"\"\"\n",
      "    bicorr_hist_master = alloc_bhm(len(det_df),4,len(dt_bin_edges))\n",
      "    \n",
      "    for i in np.arange(0,sparse_bhm.size):\n",
      "        bicorr_hist_master[sparse_bhm[i][0],sparse_bhm[i][1],sparse_bhm[i][2],sparse_bhm[i][3]] = sparse_bhm[i][4]    \n",
      "    \n",
      "    return bicorr_hist_master\n",
      "\n"
     ]
    }
   ],
   "source": [
    "print(inspect.getsource(bicorr.revive_sparse_bhm))"
   ]
  },
  {
   "cell_type": "code",
   "execution_count": 11,
   "metadata": {
    "collapsed": true
   },
   "outputs": [],
   "source": [
    "sparse_bhm, det_df, dt_bin_edges = bicorr.load_sparse_bhm(filepath=\"subfolder\")"
   ]
  },
  {
   "cell_type": "code",
   "execution_count": 12,
   "metadata": {
    "collapsed": false
   },
   "outputs": [],
   "source": [
    "bicorr_hist_master_sparse = bicorr.revive_sparse_bhm(sparse_bhm, det_df, dt_bin_edges)"
   ]
  },
  {
   "cell_type": "code",
   "execution_count": 13,
   "metadata": {
    "collapsed": false
   },
   "outputs": [
    {
     "data": {
      "text/plain": [
       "True"
      ]
     },
     "execution_count": 13,
     "metadata": {},
     "output_type": "execute_result"
    }
   ],
   "source": [
    "np.array_equal(bicorr_hist_master,bicorr_hist_master_sparse)"
   ]
  },
  {
   "cell_type": "markdown",
   "metadata": {},
   "source": [
    "Tadaa!"
   ]
  },
  {
   "cell_type": "code",
   "execution_count": null,
   "metadata": {
    "collapsed": true
   },
   "outputs": [],
   "source": []
  }
 ],
 "metadata": {
  "anaconda-cloud": {},
  "kernelspec": {
   "display_name": "Python [conda root]",
   "language": "python",
   "name": "conda-root-py"
  },
  "language_info": {
   "codemirror_mode": {
    "name": "ipython",
    "version": 3
   },
   "file_extension": ".py",
   "mimetype": "text/x-python",
   "name": "python",
   "nbconvert_exporter": "python",
   "pygments_lexer": "ipython3",
   "version": "3.5.2"
  }
 },
 "nbformat": 4,
 "nbformat_minor": 1
}
