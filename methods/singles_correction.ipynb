{
 "cells": [
  {
   "cell_type": "markdown",
   "metadata": {},
   "source": [
    "# Goal: Correct for singles rate with $W$ calculation\n",
    "In order to correct for differences in detection efficiencies and solid angles, we will divide all of the doubles rates by the singles rates of the two detectors as follows:\n",
    "\n",
    "$ W_{i,j} = \\frac{D_{i,j}}{S_i*S_j}$\n",
    "\n",
    "This requires calculating $S_i$ and $S_j$ from the `cced` files. I need to rewrite my analysis from the beginning, or write another function that parses the `cced` file.\n",
    "\n",
    "In this file, I will import the singles and bicorr data and calculate all  $D_{i,j}$, $S_i$, $S_j$, and $W_{i,j}$. "
   ]
  },
  {
   "cell_type": "code",
   "execution_count": 1,
   "metadata": {},
   "outputs": [],
   "source": [
    "import os\n",
    "import sys\n",
    "import matplotlib.pyplot as plt\n",
    "import numpy as np\n",
    "import imageio"
   ]
  },
  {
   "cell_type": "code",
   "execution_count": 2,
   "metadata": {},
   "outputs": [],
   "source": [
    "import pandas as pd"
   ]
  },
  {
   "cell_type": "code",
   "execution_count": 3,
   "metadata": {},
   "outputs": [],
   "source": [
    "import seaborn as sns\n",
    "sns.set(style='ticks')"
   ]
  },
  {
   "cell_type": "code",
   "execution_count": 4,
   "metadata": {},
   "outputs": [],
   "source": [
    "sys.path.append('../scripts/')"
   ]
  },
  {
   "cell_type": "code",
   "execution_count": 5,
   "metadata": {},
   "outputs": [],
   "source": [
    "import bicorr as bicorr\n",
    "import bicorr_e as bicorr_e\n",
    "import bicorr_plot as bicorr_plot\n",
    "import bicorr_sums as bicorr_sums\n",
    "import bicorr_math as bicorr_math"
   ]
  },
  {
   "cell_type": "code",
   "execution_count": 6,
   "metadata": {},
   "outputs": [],
   "source": [
    "%load_ext autoreload\n",
    "%autoreload 2"
   ]
  },
  {
   "cell_type": "markdown",
   "metadata": {},
   "source": [
    "# Load some data\n",
    "\n",
    "I'm going to work with the data from the combined data sets. The analysis for this data set is in `analysis\\Cf072115_to_Cf072215b`.\n",
    "\n",
    "The one limitation here is that this data has already cut out the fission chamber neighbors. "
   ]
  },
  {
   "cell_type": "markdown",
   "metadata": {},
   "source": [
    "## `det_df` without fission chamber neighbors"
   ]
  },
  {
   "cell_type": "code",
   "execution_count": 7,
   "metadata": {},
   "outputs": [
    {
     "data": {
      "text/html": [
       "<div>\n",
       "<style scoped>\n",
       "    .dataframe tbody tr th:only-of-type {\n",
       "        vertical-align: middle;\n",
       "    }\n",
       "\n",
       "    .dataframe tbody tr th {\n",
       "        vertical-align: top;\n",
       "    }\n",
       "\n",
       "    .dataframe thead th {\n",
       "        text-align: right;\n",
       "    }\n",
       "</style>\n",
       "<table border=\"1\" class=\"dataframe\">\n",
       "  <thead>\n",
       "    <tr style=\"text-align: right;\">\n",
       "      <th></th>\n",
       "      <th>index_og</th>\n",
       "      <th>d1</th>\n",
       "      <th>d2</th>\n",
       "      <th>d1d2</th>\n",
       "      <th>angle</th>\n",
       "    </tr>\n",
       "  </thead>\n",
       "  <tbody>\n",
       "    <tr>\n",
       "      <th>0</th>\n",
       "      <td>44</td>\n",
       "      <td>2</td>\n",
       "      <td>3</td>\n",
       "      <td>203</td>\n",
       "      <td>15.0</td>\n",
       "    </tr>\n",
       "    <tr>\n",
       "      <th>1</th>\n",
       "      <td>45</td>\n",
       "      <td>2</td>\n",
       "      <td>4</td>\n",
       "      <td>204</td>\n",
       "      <td>30.0</td>\n",
       "    </tr>\n",
       "    <tr>\n",
       "      <th>2</th>\n",
       "      <td>46</td>\n",
       "      <td>2</td>\n",
       "      <td>5</td>\n",
       "      <td>205</td>\n",
       "      <td>45.0</td>\n",
       "    </tr>\n",
       "    <tr>\n",
       "      <th>3</th>\n",
       "      <td>47</td>\n",
       "      <td>2</td>\n",
       "      <td>6</td>\n",
       "      <td>206</td>\n",
       "      <td>60.0</td>\n",
       "    </tr>\n",
       "    <tr>\n",
       "      <th>4</th>\n",
       "      <td>48</td>\n",
       "      <td>2</td>\n",
       "      <td>7</td>\n",
       "      <td>207</td>\n",
       "      <td>75.0</td>\n",
       "    </tr>\n",
       "  </tbody>\n",
       "</table>\n",
       "</div>"
      ],
      "text/plain": [
       "   index_og  d1  d2  d1d2  angle\n",
       "0        44   2   3   203   15.0\n",
       "1        45   2   4   204   30.0\n",
       "2        46   2   5   205   45.0\n",
       "3        47   2   6   206   60.0\n",
       "4        48   2   7   207   75.0"
      ]
     },
     "execution_count": 7,
     "metadata": {},
     "output_type": "execute_result"
    }
   ],
   "source": [
    "det_df = bicorr.load_det_df('../meas_info/det_df_pairs_angles.csv')\n",
    "pair_is = bicorr.generate_pair_is(det_df,ignore_fc_neighbors_flag=True)\n",
    "det_df = det_df.loc[pair_is].reset_index().rename(columns={'index':'index_og'}).copy()\n",
    "det_df.head()"
   ]
  },
  {
   "cell_type": "markdown",
   "metadata": {},
   "source": [
    "I am going to add in a new optional input parameter in `bicorr.load_det_df` that will let you provide this `det_df` without fission chamber neighbors directly. Try it out. "
   ]
  },
  {
   "cell_type": "code",
   "execution_count": 7,
   "metadata": {},
   "outputs": [
    {
     "data": {
      "text/html": [
       "<div>\n",
       "<style scoped>\n",
       "    .dataframe tbody tr th:only-of-type {\n",
       "        vertical-align: middle;\n",
       "    }\n",
       "\n",
       "    .dataframe tbody tr th {\n",
       "        vertical-align: top;\n",
       "    }\n",
       "\n",
       "    .dataframe thead th {\n",
       "        text-align: right;\n",
       "    }\n",
       "</style>\n",
       "<table border=\"1\" class=\"dataframe\">\n",
       "  <thead>\n",
       "    <tr style=\"text-align: right;\">\n",
       "      <th></th>\n",
       "      <th>index_og</th>\n",
       "      <th>d1</th>\n",
       "      <th>d2</th>\n",
       "      <th>d1d2</th>\n",
       "      <th>angle</th>\n",
       "    </tr>\n",
       "  </thead>\n",
       "  <tbody>\n",
       "    <tr>\n",
       "      <th>0</th>\n",
       "      <td>44</td>\n",
       "      <td>2</td>\n",
       "      <td>3</td>\n",
       "      <td>203</td>\n",
       "      <td>15.0</td>\n",
       "    </tr>\n",
       "    <tr>\n",
       "      <th>1</th>\n",
       "      <td>45</td>\n",
       "      <td>2</td>\n",
       "      <td>4</td>\n",
       "      <td>204</td>\n",
       "      <td>30.0</td>\n",
       "    </tr>\n",
       "    <tr>\n",
       "      <th>2</th>\n",
       "      <td>46</td>\n",
       "      <td>2</td>\n",
       "      <td>5</td>\n",
       "      <td>205</td>\n",
       "      <td>45.0</td>\n",
       "    </tr>\n",
       "    <tr>\n",
       "      <th>3</th>\n",
       "      <td>47</td>\n",
       "      <td>2</td>\n",
       "      <td>6</td>\n",
       "      <td>206</td>\n",
       "      <td>60.0</td>\n",
       "    </tr>\n",
       "    <tr>\n",
       "      <th>4</th>\n",
       "      <td>48</td>\n",
       "      <td>2</td>\n",
       "      <td>7</td>\n",
       "      <td>207</td>\n",
       "      <td>75.0</td>\n",
       "    </tr>\n",
       "  </tbody>\n",
       "</table>\n",
       "</div>"
      ],
      "text/plain": [
       "   index_og  d1  d2  d1d2  angle\n",
       "0        44   2   3   203   15.0\n",
       "1        45   2   4   204   30.0\n",
       "2        46   2   5   205   45.0\n",
       "3        47   2   6   206   60.0\n",
       "4        48   2   7   207   75.0"
      ]
     },
     "execution_count": 7,
     "metadata": {},
     "output_type": "execute_result"
    }
   ],
   "source": [
    "det_df = bicorr.load_det_df('../meas_info/det_df_pairs_angles.csv', remove_fc_neighbors=True)\n",
    "det_df.head()"
   ]
  },
  {
   "cell_type": "code",
   "execution_count": 8,
   "metadata": {},
   "outputs": [],
   "source": [
    "chList, fcList, detList, num_dets, num_det_pairs = bicorr.build_ch_lists()\n",
    "dict_pair_to_index, dict_index_to_pair, dict_pair_to_angle = bicorr.build_dict_det_pair(det_df)"
   ]
  },
  {
   "cell_type": "code",
   "execution_count": 9,
   "metadata": {},
   "outputs": [],
   "source": [
    "num_fissions = 2194651200.00"
   ]
  },
  {
   "cell_type": "markdown",
   "metadata": {},
   "source": [
    "## `singles_hist.npz`"
   ]
  },
  {
   "cell_type": "code",
   "execution_count": 10,
   "metadata": {},
   "outputs": [
    {
     "data": {
      "image/png": "[encoded data removed]",
      "text/plain": [
       "<Figure size 288x216 with 1 Axes>"
      ]
     },
     "metadata": {},
     "output_type": "display_data"
    },
    {
     "data": {
      "text/plain": [
       "<Figure size 576x396 with 0 Axes>"
      ]
     },
     "metadata": {},
     "output_type": "display_data"
    }
   ],
   "source": [
    "singles_hist, dt_bin_edges_sh, dict_det_to_index, dict_index_to_det = bicorr.load_singles_hist(filepath='../analysis/Cf072115_to_Cf072215b/datap',plot_flag=True,show_flag=True)"
   ]
  },
  {
   "cell_type": "markdown",
   "metadata": {},
   "source": [
    "## Load `bhp_nn` for all pairs\n",
    "\n",
    "I'm going to skip a few steps in order to save memory. This data was produced in `analysis_build_bhp_nn_by_pair_1_ns.ipynb` and is stored in `datap\\bhp_nn_by_pair_1ns.npz`. Load it now, as explained in the notebook."
   ]
  },
  {
   "cell_type": "code",
   "execution_count": 11,
   "metadata": {},
   "outputs": [],
   "source": [
    "npzfile = np.load('../analysis/Cf072115_to_Cf072215b/datap/bhp_nn_by_pair_1ns.npz')\n",
    "pair_is = npzfile['pair_is']\n",
    "bhp_nn_pos = npzfile['bhp_nn_pos']\n",
    "bhp_nn_neg = npzfile['bhp_nn_neg']\n",
    "dt_bin_edges = npzfile['dt_bin_edges']"
   ]
  },
  {
   "cell_type": "markdown",
   "metadata": {},
   "source": [
    "The fission chamber neighbors have already been removed"
   ]
  },
  {
   "cell_type": "code",
   "execution_count": 12,
   "metadata": {},
   "outputs": [
    {
     "data": {
      "text/plain": [
       "861"
      ]
     },
     "execution_count": 12,
     "metadata": {},
     "output_type": "execute_result"
    }
   ],
   "source": [
    "len(pair_is)"
   ]
  },
  {
   "cell_type": "markdown",
   "metadata": {},
   "source": [
    "## Specify energy range"
   ]
  },
  {
   "cell_type": "code",
   "execution_count": 12,
   "metadata": {},
   "outputs": [],
   "source": [
    "emin = 0.62\n",
    "emax = 12"
   ]
  },
  {
   "cell_type": "markdown",
   "metadata": {},
   "source": [
    "# Calculate sums\n",
    "\n",
    "## Singles- set up `singles_df`\n",
    "\n",
    "I will store this in a pandas dataframe."
   ]
  },
  {
   "cell_type": "markdown",
   "metadata": {},
   "source": [
    "Columns:\n",
    "\n",
    "* Channel number\n",
    "* `Sp` - Singles counts, positive\n",
    "* `Sn` - Singles counts, negative\n",
    "* `Sd` - Singles counts, br-subtracted\n",
    "* `Sd_err` - Singles counts, br-subtracted, err"
   ]
  },
  {
   "cell_type": "code",
   "execution_count": 15,
   "metadata": {},
   "outputs": [],
   "source": [
    "singles_df = pd.DataFrame.from_dict(dict_index_to_det,orient='index',dtype=np.int8).rename(columns={0:'ch'})\n",
    "chIgnore = [1,17,33]\n",
    "singles_df = singles_df[~singles_df['ch'].isin(chIgnore)].copy()"
   ]
  },
  {
   "cell_type": "code",
   "execution_count": 16,
   "metadata": {
    "collapsed": true
   },
   "outputs": [],
   "source": [
    "singles_df['Sp']= 0.0\n",
    "singles_df['Sn']= 0.0\n",
    "singles_df['Sd']= 0.0\n",
    "singles_df['Sd_err'] = 0.0"
   ]
  },
  {
   "cell_type": "markdown",
   "metadata": {},
   "source": [
    "## Singles- calculate sums"
   ]
  },
  {
   "cell_type": "code",
   "execution_count": 17,
   "metadata": {},
   "outputs": [],
   "source": [
    "for index in singles_df.index.values:\n",
    "    Sp, Sn, Sd, Sd_err = bicorr.calc_n_sum_br(singles_hist, dt_bin_edges_sh, index, emin=emin, emax=emax)\n",
    "    singles_df.loc[index,'Sp'] = Sp\n",
    "    singles_df.loc[index,'Sn'] = Sn\n",
    "    singles_df.loc[index,'Sd'] = Sd\n",
    "    singles_df.loc[index,'Sd_err'] = Sd_err"
   ]
  },
  {
   "cell_type": "code",
   "execution_count": 18,
   "metadata": {},
   "outputs": [
    {
     "data": {
      "text/html": [
       "<div>\n",
       "<table border=\"1\" class=\"dataframe\">\n",
       "  <thead>\n",
       "    <tr style=\"text-align: right;\">\n",
       "      <th></th>\n",
       "      <th>ch</th>\n",
       "      <th>Sp</th>\n",
       "      <th>Sn</th>\n",
       "      <th>Sd</th>\n",
       "      <th>Sd_err</th>\n",
       "    </tr>\n",
       "  </thead>\n",
       "  <tbody>\n",
       "    <tr>\n",
       "      <th>1</th>\n",
       "      <td>2</td>\n",
       "      <td>5150169.0</td>\n",
       "      <td>76920.0</td>\n",
       "      <td>5073249.0</td>\n",
       "      <td>2286.282791</td>\n",
       "    </tr>\n",
       "    <tr>\n",
       "      <th>2</th>\n",
       "      <td>3</td>\n",
       "      <td>5024494.0</td>\n",
       "      <td>73426.0</td>\n",
       "      <td>4951068.0</td>\n",
       "      <td>2257.857391</td>\n",
       "    </tr>\n",
       "    <tr>\n",
       "      <th>3</th>\n",
       "      <td>4</td>\n",
       "      <td>5391714.0</td>\n",
       "      <td>76594.0</td>\n",
       "      <td>5315120.0</td>\n",
       "      <td>2338.441361</td>\n",
       "    </tr>\n",
       "    <tr>\n",
       "      <th>4</th>\n",
       "      <td>5</td>\n",
       "      <td>5717925.0</td>\n",
       "      <td>81136.0</td>\n",
       "      <td>5636789.0</td>\n",
       "      <td>2408.123959</td>\n",
       "    </tr>\n",
       "    <tr>\n",
       "      <th>5</th>\n",
       "      <td>6</td>\n",
       "      <td>5448282.0</td>\n",
       "      <td>71482.0</td>\n",
       "      <td>5376800.0</td>\n",
       "      <td>2349.417800</td>\n",
       "    </tr>\n",
       "  </tbody>\n",
       "</table>\n",
       "</div>"
      ],
      "text/plain": [
       "   ch         Sp       Sn         Sd       Sd_err\n",
       "1   2  5150169.0  76920.0  5073249.0  2286.282791\n",
       "2   3  5024494.0  73426.0  4951068.0  2257.857391\n",
       "3   4  5391714.0  76594.0  5315120.0  2338.441361\n",
       "4   5  5717925.0  81136.0  5636789.0  2408.123959\n",
       "5   6  5448282.0  71482.0  5376800.0  2349.417800"
      ]
     },
     "execution_count": 18,
     "metadata": {},
     "output_type": "execute_result"
    }
   ],
   "source": [
    "singles_df.head()"
   ]
  },
  {
   "cell_type": "code",
   "execution_count": 19,
   "metadata": {},
   "outputs": [
    {
     "data": {
      "text/plain": [
       "<matplotlib.figure.Figure at 0xccde6a0>"
      ]
     },
     "metadata": {},
     "output_type": "display_data"
    },
    {
     "data": {
      "image/png": "[encoded data removed]",
      "text/plain": [
       "<matplotlib.figure.Figure at 0xcb63898>"
      ]
     },
     "metadata": {},
     "output_type": "display_data"
    }
   ],
   "source": [
    "bicorr_plot.Sd_vs_angle_all(singles_df)"
   ]
  },
  {
   "cell_type": "markdown",
   "metadata": {},
   "source": [
    "## Doubles- set up `det_df`"
   ]
  },
  {
   "cell_type": "code",
   "execution_count": 20,
   "metadata": {},
   "outputs": [
    {
     "data": {
      "text/html": [
       "<div>\n",
       "<table border=\"1\" class=\"dataframe\">\n",
       "  <thead>\n",
       "    <tr style=\"text-align: right;\">\n",
       "      <th></th>\n",
       "      <th>index_og</th>\n",
       "      <th>d1</th>\n",
       "      <th>d2</th>\n",
       "      <th>d1d2</th>\n",
       "      <th>angle</th>\n",
       "    </tr>\n",
       "  </thead>\n",
       "  <tbody>\n",
       "    <tr>\n",
       "      <th>0</th>\n",
       "      <td>44</td>\n",
       "      <td>2</td>\n",
       "      <td>3</td>\n",
       "      <td>203</td>\n",
       "      <td>15.0</td>\n",
       "    </tr>\n",
       "    <tr>\n",
       "      <th>1</th>\n",
       "      <td>45</td>\n",
       "      <td>2</td>\n",
       "      <td>4</td>\n",
       "      <td>204</td>\n",
       "      <td>30.0</td>\n",
       "    </tr>\n",
       "    <tr>\n",
       "      <th>2</th>\n",
       "      <td>46</td>\n",
       "      <td>2</td>\n",
       "      <td>5</td>\n",
       "      <td>205</td>\n",
       "      <td>45.0</td>\n",
       "    </tr>\n",
       "    <tr>\n",
       "      <th>3</th>\n",
       "      <td>47</td>\n",
       "      <td>2</td>\n",
       "      <td>6</td>\n",
       "      <td>206</td>\n",
       "      <td>60.0</td>\n",
       "    </tr>\n",
       "    <tr>\n",
       "      <th>4</th>\n",
       "      <td>48</td>\n",
       "      <td>2</td>\n",
       "      <td>7</td>\n",
       "      <td>207</td>\n",
       "      <td>75.0</td>\n",
       "    </tr>\n",
       "  </tbody>\n",
       "</table>\n",
       "</div>"
      ],
      "text/plain": [
       "   index_og  d1  d2  d1d2  angle\n",
       "0        44   2   3   203   15.0\n",
       "1        45   2   4   204   30.0\n",
       "2        46   2   5   205   45.0\n",
       "3        47   2   6   206   60.0\n",
       "4        48   2   7   207   75.0"
      ]
     },
     "execution_count": 20,
     "metadata": {},
     "output_type": "execute_result"
    }
   ],
   "source": [
    "det_df.head()"
   ]
  },
  {
   "cell_type": "code",
   "execution_count": 21,
   "metadata": {
    "collapsed": true
   },
   "outputs": [],
   "source": [
    "det_df['Cp'] = 0.0\n",
    "det_df['Cn'] = 0.0\n",
    "det_df['Cd'] = 0.0\n",
    "det_df['Cd_err'] = 0.0\n",
    "det_df['Np'] = 0.0\n",
    "det_df['Nn'] = 0.0\n",
    "det_df['Nd'] = 0.0\n",
    "det_df['Nd_err'] = 0.0"
   ]
  },
  {
   "cell_type": "code",
   "execution_count": 22,
   "metadata": {},
   "outputs": [
    {
     "data": {
      "text/html": [
       "<div>\n",
       "<table border=\"1\" class=\"dataframe\">\n",
       "  <thead>\n",
       "    <tr style=\"text-align: right;\">\n",
       "      <th></th>\n",
       "      <th>index_og</th>\n",
       "      <th>d1</th>\n",
       "      <th>d2</th>\n",
       "      <th>d1d2</th>\n",
       "      <th>angle</th>\n",
       "      <th>Cp</th>\n",
       "      <th>Cn</th>\n",
       "      <th>Cd</th>\n",
       "      <th>Cd_err</th>\n",
       "      <th>Np</th>\n",
       "      <th>Nn</th>\n",
       "      <th>Nd</th>\n",
       "      <th>Nd_err</th>\n",
       "    </tr>\n",
       "  </thead>\n",
       "  <tbody>\n",
       "    <tr>\n",
       "      <th>0</th>\n",
       "      <td>44</td>\n",
       "      <td>2</td>\n",
       "      <td>3</td>\n",
       "      <td>203</td>\n",
       "      <td>15.0</td>\n",
       "      <td>0.0</td>\n",
       "      <td>0.0</td>\n",
       "      <td>0.0</td>\n",
       "      <td>0.0</td>\n",
       "      <td>0.0</td>\n",
       "      <td>0.0</td>\n",
       "      <td>0.0</td>\n",
       "      <td>0.0</td>\n",
       "    </tr>\n",
       "    <tr>\n",
       "      <th>1</th>\n",
       "      <td>45</td>\n",
       "      <td>2</td>\n",
       "      <td>4</td>\n",
       "      <td>204</td>\n",
       "      <td>30.0</td>\n",
       "      <td>0.0</td>\n",
       "      <td>0.0</td>\n",
       "      <td>0.0</td>\n",
       "      <td>0.0</td>\n",
       "      <td>0.0</td>\n",
       "      <td>0.0</td>\n",
       "      <td>0.0</td>\n",
       "      <td>0.0</td>\n",
       "    </tr>\n",
       "    <tr>\n",
       "      <th>2</th>\n",
       "      <td>46</td>\n",
       "      <td>2</td>\n",
       "      <td>5</td>\n",
       "      <td>205</td>\n",
       "      <td>45.0</td>\n",
       "      <td>0.0</td>\n",
       "      <td>0.0</td>\n",
       "      <td>0.0</td>\n",
       "      <td>0.0</td>\n",
       "      <td>0.0</td>\n",
       "      <td>0.0</td>\n",
       "      <td>0.0</td>\n",
       "      <td>0.0</td>\n",
       "    </tr>\n",
       "    <tr>\n",
       "      <th>3</th>\n",
       "      <td>47</td>\n",
       "      <td>2</td>\n",
       "      <td>6</td>\n",
       "      <td>206</td>\n",
       "      <td>60.0</td>\n",
       "      <td>0.0</td>\n",
       "      <td>0.0</td>\n",
       "      <td>0.0</td>\n",
       "      <td>0.0</td>\n",
       "      <td>0.0</td>\n",
       "      <td>0.0</td>\n",
       "      <td>0.0</td>\n",
       "      <td>0.0</td>\n",
       "    </tr>\n",
       "    <tr>\n",
       "      <th>4</th>\n",
       "      <td>48</td>\n",
       "      <td>2</td>\n",
       "      <td>7</td>\n",
       "      <td>207</td>\n",
       "      <td>75.0</td>\n",
       "      <td>0.0</td>\n",
       "      <td>0.0</td>\n",
       "      <td>0.0</td>\n",
       "      <td>0.0</td>\n",
       "      <td>0.0</td>\n",
       "      <td>0.0</td>\n",
       "      <td>0.0</td>\n",
       "      <td>0.0</td>\n",
       "    </tr>\n",
       "  </tbody>\n",
       "</table>\n",
       "</div>"
      ],
      "text/plain": [
       "   index_og  d1  d2  d1d2  angle   Cp   Cn   Cd  Cd_err   Np   Nn   Nd  Nd_err\n",
       "0        44   2   3   203   15.0  0.0  0.0  0.0     0.0  0.0  0.0  0.0     0.0\n",
       "1        45   2   4   204   30.0  0.0  0.0  0.0     0.0  0.0  0.0  0.0     0.0\n",
       "2        46   2   5   205   45.0  0.0  0.0  0.0     0.0  0.0  0.0  0.0     0.0\n",
       "3        47   2   6   206   60.0  0.0  0.0  0.0     0.0  0.0  0.0  0.0     0.0\n",
       "4        48   2   7   207   75.0  0.0  0.0  0.0     0.0  0.0  0.0  0.0     0.0"
      ]
     },
     "execution_count": 22,
     "metadata": {},
     "output_type": "execute_result"
    }
   ],
   "source": [
    "det_df.head()"
   ]
  },
  {
   "cell_type": "markdown",
   "metadata": {},
   "source": [
    "## Doubles- Calculate sums"
   ]
  },
  {
   "cell_type": "code",
   "execution_count": 23,
   "metadata": {},
   "outputs": [],
   "source": [
    "for index in det_df.index.values:\n",
    "    Cp, Cn, Cd, err_Cd = bicorr.calc_nn_sum_br(bhp_nn_pos[index,:,:],\n",
    "                                               bhp_nn_neg[index,:,:],\n",
    "                                               dt_bin_edges,\n",
    "                                               emin=emin, emax=emax)\n",
    "    det_df.loc[index,'Cp'] = Cp\n",
    "    det_df.loc[index,'Cn'] = Cn\n",
    "    det_df.loc[index,'Cd'] = Cd\n",
    "    det_df.loc[index,'Cd_err'] = err_Cd\n",
    "    Np, Nn, Nd, err_Nd = bicorr.calc_nn_sum_br(bhp_nn_pos[index,:,:],\n",
    "                                               bhp_nn_neg[index,:,:],\n",
    "                                               dt_bin_edges,\n",
    "                                               emin=emin, emax=emax,\n",
    "                                               norm_factor = num_fissions)\n",
    "    det_df.loc[index,'Np'] = Np\n",
    "    det_df.loc[index,'Nn'] = Nn\n",
    "    det_df.loc[index,'Nd'] = Nd\n",
    "    det_df.loc[index,'Nd_err'] = err_Nd"
   ]
  },
  {
   "cell_type": "code",
   "execution_count": 24,
   "metadata": {},
   "outputs": [
    {
     "data": {
      "text/html": [
       "<div>\n",
       "<table border=\"1\" class=\"dataframe\">\n",
       "  <thead>\n",
       "    <tr style=\"text-align: right;\">\n",
       "      <th></th>\n",
       "      <th>index_og</th>\n",
       "      <th>d1</th>\n",
       "      <th>d2</th>\n",
       "      <th>d1d2</th>\n",
       "      <th>angle</th>\n",
       "      <th>Cp</th>\n",
       "      <th>Cn</th>\n",
       "      <th>Cd</th>\n",
       "      <th>Cd_err</th>\n",
       "      <th>Np</th>\n",
       "      <th>Nn</th>\n",
       "      <th>Nd</th>\n",
       "      <th>Nd_err</th>\n",
       "    </tr>\n",
       "  </thead>\n",
       "  <tbody>\n",
       "    <tr>\n",
       "      <th>0</th>\n",
       "      <td>44</td>\n",
       "      <td>2</td>\n",
       "      <td>3</td>\n",
       "      <td>203</td>\n",
       "      <td>15.0</td>\n",
       "      <td>22338.0</td>\n",
       "      <td>229.0</td>\n",
       "      <td>22109.0</td>\n",
       "      <td>150.223167</td>\n",
       "      <td>22338.0</td>\n",
       "      <td>229.0</td>\n",
       "      <td>22109.0</td>\n",
       "      <td>0.003207</td>\n",
       "    </tr>\n",
       "    <tr>\n",
       "      <th>1</th>\n",
       "      <td>45</td>\n",
       "      <td>2</td>\n",
       "      <td>4</td>\n",
       "      <td>204</td>\n",
       "      <td>30.0</td>\n",
       "      <td>14779.0</td>\n",
       "      <td>129.0</td>\n",
       "      <td>14650.0</td>\n",
       "      <td>122.098321</td>\n",
       "      <td>14779.0</td>\n",
       "      <td>129.0</td>\n",
       "      <td>14650.0</td>\n",
       "      <td>0.002606</td>\n",
       "    </tr>\n",
       "    <tr>\n",
       "      <th>2</th>\n",
       "      <td>46</td>\n",
       "      <td>2</td>\n",
       "      <td>5</td>\n",
       "      <td>205</td>\n",
       "      <td>45.0</td>\n",
       "      <td>14042.0</td>\n",
       "      <td>116.0</td>\n",
       "      <td>13926.0</td>\n",
       "      <td>118.987394</td>\n",
       "      <td>14042.0</td>\n",
       "      <td>116.0</td>\n",
       "      <td>13926.0</td>\n",
       "      <td>0.002540</td>\n",
       "    </tr>\n",
       "    <tr>\n",
       "      <th>3</th>\n",
       "      <td>47</td>\n",
       "      <td>2</td>\n",
       "      <td>6</td>\n",
       "      <td>206</td>\n",
       "      <td>60.0</td>\n",
       "      <td>11993.0</td>\n",
       "      <td>121.0</td>\n",
       "      <td>11872.0</td>\n",
       "      <td>110.063618</td>\n",
       "      <td>11993.0</td>\n",
       "      <td>121.0</td>\n",
       "      <td>11872.0</td>\n",
       "      <td>0.002349</td>\n",
       "    </tr>\n",
       "    <tr>\n",
       "      <th>4</th>\n",
       "      <td>48</td>\n",
       "      <td>2</td>\n",
       "      <td>7</td>\n",
       "      <td>207</td>\n",
       "      <td>75.0</td>\n",
       "      <td>11707.0</td>\n",
       "      <td>104.0</td>\n",
       "      <td>11603.0</td>\n",
       "      <td>108.678425</td>\n",
       "      <td>11707.0</td>\n",
       "      <td>104.0</td>\n",
       "      <td>11603.0</td>\n",
       "      <td>0.002320</td>\n",
       "    </tr>\n",
       "  </tbody>\n",
       "</table>\n",
       "</div>"
      ],
      "text/plain": [
       "   index_og  d1  d2  d1d2  angle       Cp     Cn       Cd      Cd_err  \\\n",
       "0        44   2   3   203   15.0  22338.0  229.0  22109.0  150.223167   \n",
       "1        45   2   4   204   30.0  14779.0  129.0  14650.0  122.098321   \n",
       "2        46   2   5   205   45.0  14042.0  116.0  13926.0  118.987394   \n",
       "3        47   2   6   206   60.0  11993.0  121.0  11872.0  110.063618   \n",
       "4        48   2   7   207   75.0  11707.0  104.0  11603.0  108.678425   \n",
       "\n",
       "        Np     Nn       Nd    Nd_err  \n",
       "0  22338.0  229.0  22109.0  0.003207  \n",
       "1  14779.0  129.0  14650.0  0.002606  \n",
       "2  14042.0  116.0  13926.0  0.002540  \n",
       "3  11993.0  121.0  11872.0  0.002349  \n",
       "4  11707.0  104.0  11603.0  0.002320  "
      ]
     },
     "execution_count": 24,
     "metadata": {},
     "output_type": "execute_result"
    }
   ],
   "source": [
    "det_df.head()"
   ]
  },
  {
   "cell_type": "code",
   "execution_count": 25,
   "metadata": {},
   "outputs": [
    {
     "data": {
      "text/plain": [
       "<matplotlib.figure.Figure at 0xc8a2278>"
      ]
     },
     "metadata": {},
     "output_type": "display_data"
    },
    {
     "data": {
      "image/png": "[encoded data removed]",
      "text/plain": [
       "<matplotlib.figure.Figure at 0xbfc4ba8>"
      ]
     },
     "metadata": {},
     "output_type": "display_data"
    },
    {
     "data": {
      "text/plain": [
       "<matplotlib.figure.Figure at 0xbfbd630>"
      ]
     },
     "metadata": {},
     "output_type": "display_data"
    },
    {
     "data": {
      "image/png": "[encoded data removed]",
      "text/plain": [
       "<matplotlib.figure.Figure at 0xbff9550>"
      ]
     },
     "metadata": {},
     "output_type": "display_data"
    },
    {
     "data": {
      "text/plain": [
       "<matplotlib.figure.Figure at 0xcbb1940>"
      ]
     },
     "metadata": {},
     "output_type": "display_data"
    },
    {
     "data": {
      "image/png": "[encoded data removed]",
      "text/plain": [
       "<matplotlib.figure.Figure at 0xcc40ac8>"
      ]
     },
     "metadata": {},
     "output_type": "display_data"
    },
    {
     "name": "stdout",
     "output_type": "stream",
     "text": [
      "yes\n"
     ]
    },
    {
     "data": {
      "text/plain": [
       "<matplotlib.figure.Figure at 0xcb78fd0>"
      ]
     },
     "metadata": {},
     "output_type": "display_data"
    },
    {
     "data": {
      "image/png": "[encoded data removed]",
      "text/plain": [
       "<matplotlib.figure.Figure at 0xc8e8be0>"
      ]
     },
     "metadata": {},
     "output_type": "display_data"
    }
   ],
   "source": [
    "bicorr_plot.counts_vs_angle_all(det_df, normalized=True)"
   ]
  },
  {
   "cell_type": "markdown",
   "metadata": {},
   "source": [
    "# Perform the correction\n",
    "\n",
    "Now I am going to loop through all pairs and calculate $W$."
   ]
  },
  {
   "cell_type": "markdown",
   "metadata": {},
   "source": [
    "* Loop through each pair\n",
    "* Identify $i$, $j$\n",
    "* Fetch $S_i$, $S_j$\n",
    "* Calculate $W$\n",
    "* Propagate error for $W_{err}$\n",
    "* Store in `det_df`"
   ]
  },
  {
   "cell_type": "markdown",
   "metadata": {},
   "source": [
    "## Add `W`, `W_err` columns to `det_df`"
   ]
  },
  {
   "cell_type": "code",
   "execution_count": 26,
   "metadata": {
    "collapsed": true
   },
   "outputs": [],
   "source": [
    "det_df['Sd1']     = 0.0\n",
    "det_df['Sd1_err'] = 0.0\n",
    "det_df['Sd2']     = 0.0\n",
    "det_df['Sd2_err'] = 0.0\n",
    "\n",
    "det_df['W']     = 0.0\n",
    "det_df['W_err'] = 0.0"
   ]
  },
  {
   "cell_type": "code",
   "execution_count": 27,
   "metadata": {},
   "outputs": [
    {
     "data": {
      "text/html": [
       "<div>\n",
       "<table border=\"1\" class=\"dataframe\">\n",
       "  <thead>\n",
       "    <tr style=\"text-align: right;\">\n",
       "      <th></th>\n",
       "      <th>index_og</th>\n",
       "      <th>d1</th>\n",
       "      <th>d2</th>\n",
       "      <th>d1d2</th>\n",
       "      <th>angle</th>\n",
       "      <th>Cp</th>\n",
       "      <th>Cn</th>\n",
       "      <th>Cd</th>\n",
       "      <th>Cd_err</th>\n",
       "      <th>Np</th>\n",
       "      <th>Nn</th>\n",
       "      <th>Nd</th>\n",
       "      <th>Nd_err</th>\n",
       "      <th>Sd1</th>\n",
       "      <th>Sd1_err</th>\n",
       "      <th>Sd2</th>\n",
       "      <th>Sd2_err</th>\n",
       "      <th>W</th>\n",
       "      <th>W_err</th>\n",
       "    </tr>\n",
       "  </thead>\n",
       "  <tbody>\n",
       "    <tr>\n",
       "      <th>0</th>\n",
       "      <td>44</td>\n",
       "      <td>2</td>\n",
       "      <td>3</td>\n",
       "      <td>203</td>\n",
       "      <td>15.0</td>\n",
       "      <td>22338.0</td>\n",
       "      <td>229.0</td>\n",
       "      <td>22109.0</td>\n",
       "      <td>150.223167</td>\n",
       "      <td>22338.0</td>\n",
       "      <td>229.0</td>\n",
       "      <td>22109.0</td>\n",
       "      <td>0.003207</td>\n",
       "      <td>0.0</td>\n",
       "      <td>0.0</td>\n",
       "      <td>0.0</td>\n",
       "      <td>0.0</td>\n",
       "      <td>0.0</td>\n",
       "      <td>0.0</td>\n",
       "    </tr>\n",
       "    <tr>\n",
       "      <th>1</th>\n",
       "      <td>45</td>\n",
       "      <td>2</td>\n",
       "      <td>4</td>\n",
       "      <td>204</td>\n",
       "      <td>30.0</td>\n",
       "      <td>14779.0</td>\n",
       "      <td>129.0</td>\n",
       "      <td>14650.0</td>\n",
       "      <td>122.098321</td>\n",
       "      <td>14779.0</td>\n",
       "      <td>129.0</td>\n",
       "      <td>14650.0</td>\n",
       "      <td>0.002606</td>\n",
       "      <td>0.0</td>\n",
       "      <td>0.0</td>\n",
       "      <td>0.0</td>\n",
       "      <td>0.0</td>\n",
       "      <td>0.0</td>\n",
       "      <td>0.0</td>\n",
       "    </tr>\n",
       "    <tr>\n",
       "      <th>2</th>\n",
       "      <td>46</td>\n",
       "      <td>2</td>\n",
       "      <td>5</td>\n",
       "      <td>205</td>\n",
       "      <td>45.0</td>\n",
       "      <td>14042.0</td>\n",
       "      <td>116.0</td>\n",
       "      <td>13926.0</td>\n",
       "      <td>118.987394</td>\n",
       "      <td>14042.0</td>\n",
       "      <td>116.0</td>\n",
       "      <td>13926.0</td>\n",
       "      <td>0.002540</td>\n",
       "      <td>0.0</td>\n",
       "      <td>0.0</td>\n",
       "      <td>0.0</td>\n",
       "      <td>0.0</td>\n",
       "      <td>0.0</td>\n",
       "      <td>0.0</td>\n",
       "    </tr>\n",
       "    <tr>\n",
       "      <th>3</th>\n",
       "      <td>47</td>\n",
       "      <td>2</td>\n",
       "      <td>6</td>\n",
       "      <td>206</td>\n",
       "      <td>60.0</td>\n",
       "      <td>11993.0</td>\n",
       "      <td>121.0</td>\n",
       "      <td>11872.0</td>\n",
       "      <td>110.063618</td>\n",
       "      <td>11993.0</td>\n",
       "      <td>121.0</td>\n",
       "      <td>11872.0</td>\n",
       "      <td>0.002349</td>\n",
       "      <td>0.0</td>\n",
       "      <td>0.0</td>\n",
       "      <td>0.0</td>\n",
       "      <td>0.0</td>\n",
       "      <td>0.0</td>\n",
       "      <td>0.0</td>\n",
       "    </tr>\n",
       "    <tr>\n",
       "      <th>4</th>\n",
       "      <td>48</td>\n",
       "      <td>2</td>\n",
       "      <td>7</td>\n",
       "      <td>207</td>\n",
       "      <td>75.0</td>\n",
       "      <td>11707.0</td>\n",
       "      <td>104.0</td>\n",
       "      <td>11603.0</td>\n",
       "      <td>108.678425</td>\n",
       "      <td>11707.0</td>\n",
       "      <td>104.0</td>\n",
       "      <td>11603.0</td>\n",
       "      <td>0.002320</td>\n",
       "      <td>0.0</td>\n",
       "      <td>0.0</td>\n",
       "      <td>0.0</td>\n",
       "      <td>0.0</td>\n",
       "      <td>0.0</td>\n",
       "      <td>0.0</td>\n",
       "    </tr>\n",
       "  </tbody>\n",
       "</table>\n",
       "</div>"
      ],
      "text/plain": [
       "   index_og  d1  d2  d1d2  angle       Cp     Cn       Cd      Cd_err  \\\n",
       "0        44   2   3   203   15.0  22338.0  229.0  22109.0  150.223167   \n",
       "1        45   2   4   204   30.0  14779.0  129.0  14650.0  122.098321   \n",
       "2        46   2   5   205   45.0  14042.0  116.0  13926.0  118.987394   \n",
       "3        47   2   6   206   60.0  11993.0  121.0  11872.0  110.063618   \n",
       "4        48   2   7   207   75.0  11707.0  104.0  11603.0  108.678425   \n",
       "\n",
       "        Np     Nn       Nd    Nd_err  Sd1  Sd1_err  Sd2  Sd2_err    W  W_err  \n",
       "0  22338.0  229.0  22109.0  0.003207  0.0      0.0  0.0      0.0  0.0    0.0  \n",
       "1  14779.0  129.0  14650.0  0.002606  0.0      0.0  0.0      0.0  0.0    0.0  \n",
       "2  14042.0  116.0  13926.0  0.002540  0.0      0.0  0.0      0.0  0.0    0.0  \n",
       "3  11993.0  121.0  11872.0  0.002349  0.0      0.0  0.0      0.0  0.0    0.0  \n",
       "4  11707.0  104.0  11603.0  0.002320  0.0      0.0  0.0      0.0  0.0    0.0  "
      ]
     },
     "execution_count": 27,
     "metadata": {},
     "output_type": "execute_result"
    }
   ],
   "source": [
    "det_df.head()"
   ]
  },
  {
   "cell_type": "code",
   "execution_count": 28,
   "metadata": {},
   "outputs": [
    {
     "data": {
      "text/html": [
       "<div>\n",
       "<table border=\"1\" class=\"dataframe\">\n",
       "  <thead>\n",
       "    <tr style=\"text-align: right;\">\n",
       "      <th></th>\n",
       "      <th>ch</th>\n",
       "      <th>Sp</th>\n",
       "      <th>Sn</th>\n",
       "      <th>Sd</th>\n",
       "      <th>Sd_err</th>\n",
       "    </tr>\n",
       "  </thead>\n",
       "  <tbody>\n",
       "    <tr>\n",
       "      <th>1</th>\n",
       "      <td>2</td>\n",
       "      <td>5150169.0</td>\n",
       "      <td>76920.0</td>\n",
       "      <td>5073249.0</td>\n",
       "      <td>2286.282791</td>\n",
       "    </tr>\n",
       "    <tr>\n",
       "      <th>2</th>\n",
       "      <td>3</td>\n",
       "      <td>5024494.0</td>\n",
       "      <td>73426.0</td>\n",
       "      <td>4951068.0</td>\n",
       "      <td>2257.857391</td>\n",
       "    </tr>\n",
       "    <tr>\n",
       "      <th>3</th>\n",
       "      <td>4</td>\n",
       "      <td>5391714.0</td>\n",
       "      <td>76594.0</td>\n",
       "      <td>5315120.0</td>\n",
       "      <td>2338.441361</td>\n",
       "    </tr>\n",
       "    <tr>\n",
       "      <th>4</th>\n",
       "      <td>5</td>\n",
       "      <td>5717925.0</td>\n",
       "      <td>81136.0</td>\n",
       "      <td>5636789.0</td>\n",
       "      <td>2408.123959</td>\n",
       "    </tr>\n",
       "    <tr>\n",
       "      <th>5</th>\n",
       "      <td>6</td>\n",
       "      <td>5448282.0</td>\n",
       "      <td>71482.0</td>\n",
       "      <td>5376800.0</td>\n",
       "      <td>2349.417800</td>\n",
       "    </tr>\n",
       "  </tbody>\n",
       "</table>\n",
       "</div>"
      ],
      "text/plain": [
       "   ch         Sp       Sn         Sd       Sd_err\n",
       "1   2  5150169.0  76920.0  5073249.0  2286.282791\n",
       "2   3  5024494.0  73426.0  4951068.0  2257.857391\n",
       "3   4  5391714.0  76594.0  5315120.0  2338.441361\n",
       "4   5  5717925.0  81136.0  5636789.0  2408.123959\n",
       "5   6  5448282.0  71482.0  5376800.0  2349.417800"
      ]
     },
     "execution_count": 28,
     "metadata": {},
     "output_type": "execute_result"
    }
   ],
   "source": [
    "singles_df.head()"
   ]
  },
  {
   "cell_type": "markdown",
   "metadata": {},
   "source": [
    "## Loop through `det_df`, store singles rates"
   ]
  },
  {
   "cell_type": "markdown",
   "metadata": {},
   "source": [
    "Fill the `S` and `S_err` values for each channel in each detector pair."
   ]
  },
  {
   "cell_type": "code",
   "execution_count": 30,
   "metadata": {},
   "outputs": [],
   "source": [
    "# Fill S columns in det_df\n",
    "for index in singles_df.index.values:\n",
    "    ch = singles_df.loc[index,'ch']\n",
    "    \n",
    "    d1_indices = (det_df[det_df['d1'] == ch]).index.tolist()\n",
    "    d2_indices = (det_df[det_df['d2'] == ch]).index.tolist()\n",
    "    \n",
    "    det_df.loc[d1_indices,'Sd1']     = singles_df.loc[index,'Sd']\n",
    "    det_df.loc[d1_indices,'Sd1_err'] = singles_df.loc[index,'Sd_err']\n",
    "    det_df.loc[d2_indices,'Sd2']     = singles_df.loc[index,'Sd']\n",
    "    det_df.loc[d2_indices,'Sd2_err'] = singles_df.loc[index,'Sd_err']"
   ]
  },
  {
   "cell_type": "code",
   "execution_count": 38,
   "metadata": {},
   "outputs": [],
   "source": [
    "# Calculate W, W_err from S columns\n",
    "det_df['W'] = det_df['Cd']/(det_df['Sd1']*det_df['Sd2'])"
   ]
  },
  {
   "cell_type": "code",
   "execution_count": 39,
   "metadata": {},
   "outputs": [],
   "source": [
    "det_df['W_err'] = det_df['W'] * np.sqrt((det_df['Cd_err']/det_df['Cd'])**2 + \n",
    "                                        (det_df['Sd1_err']/det_df['Sd1'])**2 + \n",
    "                                        (det_df['Sd2_err']/det_df['Sd2'])**2)"
   ]
  },
  {
   "cell_type": "code",
   "execution_count": 40,
   "metadata": {},
   "outputs": [
    {
     "data": {
      "text/html": [
       "<div>\n",
       "<table border=\"1\" class=\"dataframe\">\n",
       "  <thead>\n",
       "    <tr style=\"text-align: right;\">\n",
       "      <th></th>\n",
       "      <th>index_og</th>\n",
       "      <th>d1</th>\n",
       "      <th>d2</th>\n",
       "      <th>d1d2</th>\n",
       "      <th>angle</th>\n",
       "      <th>Cp</th>\n",
       "      <th>Cn</th>\n",
       "      <th>Cd</th>\n",
       "      <th>Cd_err</th>\n",
       "      <th>Np</th>\n",
       "      <th>Nn</th>\n",
       "      <th>Nd</th>\n",
       "      <th>Nd_err</th>\n",
       "      <th>Sd1</th>\n",
       "      <th>Sd1_err</th>\n",
       "      <th>Sd2</th>\n",
       "      <th>Sd2_err</th>\n",
       "      <th>W</th>\n",
       "      <th>W_err</th>\n",
       "    </tr>\n",
       "  </thead>\n",
       "  <tbody>\n",
       "    <tr>\n",
       "      <th>0</th>\n",
       "      <td>44</td>\n",
       "      <td>2</td>\n",
       "      <td>3</td>\n",
       "      <td>203</td>\n",
       "      <td>15.0</td>\n",
       "      <td>22338.0</td>\n",
       "      <td>229.0</td>\n",
       "      <td>22109.0</td>\n",
       "      <td>150.223167</td>\n",
       "      <td>22338.0</td>\n",
       "      <td>229.0</td>\n",
       "      <td>22109.0</td>\n",
       "      <td>0.003207</td>\n",
       "      <td>5073249.0</td>\n",
       "      <td>2286.282791</td>\n",
       "      <td>4951068.0</td>\n",
       "      <td>2257.857391</td>\n",
       "      <td>8.802054e-10</td>\n",
       "      <td>6.007264e-12</td>\n",
       "    </tr>\n",
       "    <tr>\n",
       "      <th>1</th>\n",
       "      <td>45</td>\n",
       "      <td>2</td>\n",
       "      <td>4</td>\n",
       "      <td>204</td>\n",
       "      <td>30.0</td>\n",
       "      <td>14779.0</td>\n",
       "      <td>129.0</td>\n",
       "      <td>14650.0</td>\n",
       "      <td>122.098321</td>\n",
       "      <td>14779.0</td>\n",
       "      <td>129.0</td>\n",
       "      <td>14650.0</td>\n",
       "      <td>0.002606</td>\n",
       "      <td>5073249.0</td>\n",
       "      <td>2286.282791</td>\n",
       "      <td>5315120.0</td>\n",
       "      <td>2338.441361</td>\n",
       "      <td>5.432983e-10</td>\n",
       "      <td>4.540952e-12</td>\n",
       "    </tr>\n",
       "    <tr>\n",
       "      <th>2</th>\n",
       "      <td>46</td>\n",
       "      <td>2</td>\n",
       "      <td>5</td>\n",
       "      <td>205</td>\n",
       "      <td>45.0</td>\n",
       "      <td>14042.0</td>\n",
       "      <td>116.0</td>\n",
       "      <td>13926.0</td>\n",
       "      <td>118.987394</td>\n",
       "      <td>14042.0</td>\n",
       "      <td>116.0</td>\n",
       "      <td>13926.0</td>\n",
       "      <td>0.002540</td>\n",
       "      <td>5073249.0</td>\n",
       "      <td>2286.282791</td>\n",
       "      <td>5636789.0</td>\n",
       "      <td>2408.123959</td>\n",
       "      <td>4.869770e-10</td>\n",
       "      <td>4.171833e-12</td>\n",
       "    </tr>\n",
       "    <tr>\n",
       "      <th>3</th>\n",
       "      <td>47</td>\n",
       "      <td>2</td>\n",
       "      <td>6</td>\n",
       "      <td>206</td>\n",
       "      <td>60.0</td>\n",
       "      <td>11993.0</td>\n",
       "      <td>121.0</td>\n",
       "      <td>11872.0</td>\n",
       "      <td>110.063618</td>\n",
       "      <td>11993.0</td>\n",
       "      <td>121.0</td>\n",
       "      <td>11872.0</td>\n",
       "      <td>0.002349</td>\n",
       "      <td>5073249.0</td>\n",
       "      <td>2286.282791</td>\n",
       "      <td>5376800.0</td>\n",
       "      <td>2349.417800</td>\n",
       "      <td>4.352250e-10</td>\n",
       "      <td>4.044147e-12</td>\n",
       "    </tr>\n",
       "    <tr>\n",
       "      <th>4</th>\n",
       "      <td>48</td>\n",
       "      <td>2</td>\n",
       "      <td>7</td>\n",
       "      <td>207</td>\n",
       "      <td>75.0</td>\n",
       "      <td>11707.0</td>\n",
       "      <td>104.0</td>\n",
       "      <td>11603.0</td>\n",
       "      <td>108.678425</td>\n",
       "      <td>11707.0</td>\n",
       "      <td>104.0</td>\n",
       "      <td>11603.0</td>\n",
       "      <td>0.002320</td>\n",
       "      <td>5073249.0</td>\n",
       "      <td>2286.282791</td>\n",
       "      <td>5564633.0</td>\n",
       "      <td>2394.397419</td>\n",
       "      <td>4.110055e-10</td>\n",
       "      <td>3.858153e-12</td>\n",
       "    </tr>\n",
       "  </tbody>\n",
       "</table>\n",
       "</div>"
      ],
      "text/plain": [
       "   index_og  d1  d2  d1d2  angle       Cp     Cn       Cd      Cd_err  \\\n",
       "0        44   2   3   203   15.0  22338.0  229.0  22109.0  150.223167   \n",
       "1        45   2   4   204   30.0  14779.0  129.0  14650.0  122.098321   \n",
       "2        46   2   5   205   45.0  14042.0  116.0  13926.0  118.987394   \n",
       "3        47   2   6   206   60.0  11993.0  121.0  11872.0  110.063618   \n",
       "4        48   2   7   207   75.0  11707.0  104.0  11603.0  108.678425   \n",
       "\n",
       "        Np     Nn       Nd    Nd_err        Sd1      Sd1_err        Sd2  \\\n",
       "0  22338.0  229.0  22109.0  0.003207  5073249.0  2286.282791  4951068.0   \n",
       "1  14779.0  129.0  14650.0  0.002606  5073249.0  2286.282791  5315120.0   \n",
       "2  14042.0  116.0  13926.0  0.002540  5073249.0  2286.282791  5636789.0   \n",
       "3  11993.0  121.0  11872.0  0.002349  5073249.0  2286.282791  5376800.0   \n",
       "4  11707.0  104.0  11603.0  0.002320  5073249.0  2286.282791  5564633.0   \n",
       "\n",
       "       Sd2_err             W         W_err  \n",
       "0  2257.857391  8.802054e-10  6.007264e-12  \n",
       "1  2338.441361  5.432983e-10  4.540952e-12  \n",
       "2  2408.123959  4.869770e-10  4.171833e-12  \n",
       "3  2349.417800  4.352250e-10  4.044147e-12  \n",
       "4  2394.397419  4.110055e-10  3.858153e-12  "
      ]
     },
     "execution_count": 40,
     "metadata": {},
     "output_type": "execute_result"
    }
   ],
   "source": [
    "det_df.head()"
   ]
  },
  {
   "cell_type": "code",
   "execution_count": 44,
   "metadata": {},
   "outputs": [
    {
     "data": {
      "text/plain": [
       "<matplotlib.figure.Figure at 0xbfbe1d0>"
      ]
     },
     "metadata": {},
     "output_type": "display_data"
    },
    {
     "data": {
      "image/png": "[encoded data removed]",
      "text/plain": [
       "<matplotlib.figure.Figure at 0xcd8b8d0>"
      ]
     },
     "metadata": {},
     "output_type": "display_data"
    }
   ],
   "source": [
    "bicorr_plot.W_vs_angle_all(det_df)"
   ]
  },
  {
   "cell_type": "markdown",
   "metadata": {},
   "source": [
    "This is much \"tighter\" than the raw counts. "
   ]
  },
  {
   "cell_type": "markdown",
   "metadata": {},
   "source": [
    "# Functionalize\n",
    "\n",
    "Write functions to perform all of these calculations. Demo them here. The functions are in a new script called `bicorr_sums.py`. \n",
    "\n",
    "You have to specify `emin`, `emax`."
   ]
  },
  {
   "cell_type": "code",
   "execution_count": 17,
   "metadata": {
    "collapsed": true
   },
   "outputs": [],
   "source": [
    "emin = 0.62\n",
    "emax = 12"
   ]
  },
  {
   "cell_type": "markdown",
   "metadata": {},
   "source": [
    "Data you have to have loaded:\n",
    "\n",
    "* det_df\n",
    "* dict_index_to_det\n",
    "* singles_hist\n",
    "* dt_bin_edges_sh\n",
    "* bhp_nn_pos\n",
    "* bhp_nn_neg\n",
    "* dt_bin_edges\n",
    "* emin\n",
    "* emax\n",
    "* num_fissions\n",
    "* angle_bin_edges"
   ]
  },
  {
   "cell_type": "markdown",
   "metadata": {},
   "source": [
    "## Produce and fill `singles_df`:"
   ]
  },
  {
   "cell_type": "code",
   "execution_count": 15,
   "metadata": {},
   "outputs": [
    {
     "data": {
      "text/html": [
       "<div>\n",
       "<style scoped>\n",
       "    .dataframe tbody tr th:only-of-type {\n",
       "        vertical-align: middle;\n",
       "    }\n",
       "\n",
       "    .dataframe tbody tr th {\n",
       "        vertical-align: top;\n",
       "    }\n",
       "\n",
       "    .dataframe thead th {\n",
       "        text-align: right;\n",
       "    }\n",
       "</style>\n",
       "<table border=\"1\" class=\"dataframe\">\n",
       "  <thead>\n",
       "    <tr style=\"text-align: right;\">\n",
       "      <th></th>\n",
       "      <th>ch</th>\n",
       "      <th>Sp</th>\n",
       "      <th>Sn</th>\n",
       "      <th>Sd</th>\n",
       "      <th>Sd_err</th>\n",
       "    </tr>\n",
       "  </thead>\n",
       "  <tbody>\n",
       "    <tr>\n",
       "      <th>1</th>\n",
       "      <td>2</td>\n",
       "      <td>NaN</td>\n",
       "      <td>NaN</td>\n",
       "      <td>NaN</td>\n",
       "      <td>NaN</td>\n",
       "    </tr>\n",
       "    <tr>\n",
       "      <th>2</th>\n",
       "      <td>3</td>\n",
       "      <td>NaN</td>\n",
       "      <td>NaN</td>\n",
       "      <td>NaN</td>\n",
       "      <td>NaN</td>\n",
       "    </tr>\n",
       "    <tr>\n",
       "      <th>3</th>\n",
       "      <td>4</td>\n",
       "      <td>NaN</td>\n",
       "      <td>NaN</td>\n",
       "      <td>NaN</td>\n",
       "      <td>NaN</td>\n",
       "    </tr>\n",
       "    <tr>\n",
       "      <th>4</th>\n",
       "      <td>5</td>\n",
       "      <td>NaN</td>\n",
       "      <td>NaN</td>\n",
       "      <td>NaN</td>\n",
       "      <td>NaN</td>\n",
       "    </tr>\n",
       "    <tr>\n",
       "      <th>5</th>\n",
       "      <td>6</td>\n",
       "      <td>NaN</td>\n",
       "      <td>NaN</td>\n",
       "      <td>NaN</td>\n",
       "      <td>NaN</td>\n",
       "    </tr>\n",
       "  </tbody>\n",
       "</table>\n",
       "</div>"
      ],
      "text/plain": [
       "   ch  Sp  Sn  Sd  Sd_err\n",
       "1   2 NaN NaN NaN     NaN\n",
       "2   3 NaN NaN NaN     NaN\n",
       "3   4 NaN NaN NaN     NaN\n",
       "4   5 NaN NaN NaN     NaN\n",
       "5   6 NaN NaN NaN     NaN"
      ]
     },
     "execution_count": 15,
     "metadata": {},
     "output_type": "execute_result"
    }
   ],
   "source": [
    "singles_df = bicorr_sums.init_singles_df(dict_index_to_det)\n",
    "singles_df.head()"
   ]
  },
  {
   "cell_type": "code",
   "execution_count": 18,
   "metadata": {},
   "outputs": [
    {
     "data": {
      "text/html": [
       "<div>\n",
       "<style scoped>\n",
       "    .dataframe tbody tr th:only-of-type {\n",
       "        vertical-align: middle;\n",
       "    }\n",
       "\n",
       "    .dataframe tbody tr th {\n",
       "        vertical-align: top;\n",
       "    }\n",
       "\n",
       "    .dataframe thead th {\n",
       "        text-align: right;\n",
       "    }\n",
       "</style>\n",
       "<table border=\"1\" class=\"dataframe\">\n",
       "  <thead>\n",
       "    <tr style=\"text-align: right;\">\n",
       "      <th></th>\n",
       "      <th>ch</th>\n",
       "      <th>Sp</th>\n",
       "      <th>Sn</th>\n",
       "      <th>Sd</th>\n",
       "      <th>Sd_err</th>\n",
       "    </tr>\n",
       "  </thead>\n",
       "  <tbody>\n",
       "    <tr>\n",
       "      <th>1</th>\n",
       "      <td>2</td>\n",
       "      <td>5214283.0</td>\n",
       "      <td>80614.0</td>\n",
       "      <td>5133669.0</td>\n",
       "      <td>2301.064319</td>\n",
       "    </tr>\n",
       "    <tr>\n",
       "      <th>2</th>\n",
       "      <td>3</td>\n",
       "      <td>5081297.0</td>\n",
       "      <td>77135.0</td>\n",
       "      <td>5004162.0</td>\n",
       "      <td>2271.218175</td>\n",
       "    </tr>\n",
       "    <tr>\n",
       "      <th>3</th>\n",
       "      <td>4</td>\n",
       "      <td>5453342.0</td>\n",
       "      <td>80374.0</td>\n",
       "      <td>5372968.0</td>\n",
       "      <td>2352.385173</td>\n",
       "    </tr>\n",
       "    <tr>\n",
       "      <th>4</th>\n",
       "      <td>5</td>\n",
       "      <td>5774814.0</td>\n",
       "      <td>85302.0</td>\n",
       "      <td>5689512.0</td>\n",
       "      <td>2420.767647</td>\n",
       "    </tr>\n",
       "    <tr>\n",
       "      <th>5</th>\n",
       "      <td>6</td>\n",
       "      <td>5497475.0</td>\n",
       "      <td>74890.0</td>\n",
       "      <td>5422585.0</td>\n",
       "      <td>2360.585732</td>\n",
       "    </tr>\n",
       "  </tbody>\n",
       "</table>\n",
       "</div>"
      ],
      "text/plain": [
       "   ch         Sp       Sn         Sd       Sd_err\n",
       "1   2  5214283.0  80614.0  5133669.0  2301.064319\n",
       "2   3  5081297.0  77135.0  5004162.0  2271.218175\n",
       "3   4  5453342.0  80374.0  5372968.0  2352.385173\n",
       "4   5  5774814.0  85302.0  5689512.0  2420.767647\n",
       "5   6  5497475.0  74890.0  5422585.0  2360.585732"
      ]
     },
     "execution_count": 18,
     "metadata": {},
     "output_type": "execute_result"
    }
   ],
   "source": [
    "singles_df = bicorr_sums.fill_singles_df(dict_index_to_det, singles_hist, dt_bin_edges_sh, emin, emax)\n",
    "singles_df.head()"
   ]
  },
  {
   "cell_type": "code",
   "execution_count": 19,
   "metadata": {},
   "outputs": [
    {
     "data": {
      "image/png": "[encoded data removed]",
      "text/plain": [
       "<Figure size 288x216 with 1 Axes>"
      ]
     },
     "metadata": {},
     "output_type": "display_data"
    },
    {
     "data": {
      "text/plain": [
       "<Figure size 576x396 with 0 Axes>"
      ]
     },
     "metadata": {},
     "output_type": "display_data"
    }
   ],
   "source": [
    "bicorr_plot.Sd_vs_angle_all(singles_df)"
   ]
  },
  {
   "cell_type": "markdown",
   "metadata": {},
   "source": [
    "## Expand, fill `det_df`"
   ]
  },
  {
   "cell_type": "code",
   "execution_count": 20,
   "metadata": {},
   "outputs": [
    {
     "data": {
      "text/html": [
       "<div>\n",
       "<style scoped>\n",
       "    .dataframe tbody tr th:only-of-type {\n",
       "        vertical-align: middle;\n",
       "    }\n",
       "\n",
       "    .dataframe tbody tr th {\n",
       "        vertical-align: top;\n",
       "    }\n",
       "\n",
       "    .dataframe thead th {\n",
       "        text-align: right;\n",
       "    }\n",
       "</style>\n",
       "<table border=\"1\" class=\"dataframe\">\n",
       "  <thead>\n",
       "    <tr style=\"text-align: right;\">\n",
       "      <th></th>\n",
       "      <th>index_og</th>\n",
       "      <th>d1</th>\n",
       "      <th>d2</th>\n",
       "      <th>d1d2</th>\n",
       "      <th>angle</th>\n",
       "    </tr>\n",
       "  </thead>\n",
       "  <tbody>\n",
       "    <tr>\n",
       "      <th>0</th>\n",
       "      <td>44</td>\n",
       "      <td>2</td>\n",
       "      <td>3</td>\n",
       "      <td>203</td>\n",
       "      <td>15.0</td>\n",
       "    </tr>\n",
       "    <tr>\n",
       "      <th>1</th>\n",
       "      <td>45</td>\n",
       "      <td>2</td>\n",
       "      <td>4</td>\n",
       "      <td>204</td>\n",
       "      <td>30.0</td>\n",
       "    </tr>\n",
       "    <tr>\n",
       "      <th>2</th>\n",
       "      <td>46</td>\n",
       "      <td>2</td>\n",
       "      <td>5</td>\n",
       "      <td>205</td>\n",
       "      <td>45.0</td>\n",
       "    </tr>\n",
       "    <tr>\n",
       "      <th>3</th>\n",
       "      <td>47</td>\n",
       "      <td>2</td>\n",
       "      <td>6</td>\n",
       "      <td>206</td>\n",
       "      <td>60.0</td>\n",
       "    </tr>\n",
       "    <tr>\n",
       "      <th>4</th>\n",
       "      <td>48</td>\n",
       "      <td>2</td>\n",
       "      <td>7</td>\n",
       "      <td>207</td>\n",
       "      <td>75.0</td>\n",
       "    </tr>\n",
       "  </tbody>\n",
       "</table>\n",
       "</div>"
      ],
      "text/plain": [
       "   index_og  d1  d2  d1d2  angle\n",
       "0        44   2   3   203   15.0\n",
       "1        45   2   4   204   30.0\n",
       "2        46   2   5   205   45.0\n",
       "3        47   2   6   206   60.0\n",
       "4        48   2   7   207   75.0"
      ]
     },
     "execution_count": 20,
     "metadata": {},
     "output_type": "execute_result"
    }
   ],
   "source": [
    "det_df.head()"
   ]
  },
  {
   "cell_type": "code",
   "execution_count": 23,
   "metadata": {},
   "outputs": [
    {
     "data": {
      "text/html": [
       "<div>\n",
       "<style scoped>\n",
       "    .dataframe tbody tr th:only-of-type {\n",
       "        vertical-align: middle;\n",
       "    }\n",
       "\n",
       "    .dataframe tbody tr th {\n",
       "        vertical-align: top;\n",
       "    }\n",
       "\n",
       "    .dataframe thead th {\n",
       "        text-align: right;\n",
       "    }\n",
       "</style>\n",
       "<table border=\"1\" class=\"dataframe\">\n",
       "  <thead>\n",
       "    <tr style=\"text-align: right;\">\n",
       "      <th></th>\n",
       "      <th>index_og</th>\n",
       "      <th>d1</th>\n",
       "      <th>d2</th>\n",
       "      <th>d1d2</th>\n",
       "      <th>angle</th>\n",
       "      <th>Cp</th>\n",
       "      <th>Cn</th>\n",
       "      <th>Cd</th>\n",
       "      <th>Cd_err</th>\n",
       "      <th>Sd1</th>\n",
       "      <th>Sd1_err</th>\n",
       "      <th>Sd2</th>\n",
       "      <th>Sd2_err</th>\n",
       "      <th>W</th>\n",
       "      <th>W_err</th>\n",
       "    </tr>\n",
       "  </thead>\n",
       "  <tbody>\n",
       "    <tr>\n",
       "      <th>0</th>\n",
       "      <td>44</td>\n",
       "      <td>2</td>\n",
       "      <td>3</td>\n",
       "      <td>203</td>\n",
       "      <td>15.0</td>\n",
       "      <td>22602.0</td>\n",
       "      <td>233.0</td>\n",
       "      <td>22369.0</td>\n",
       "      <td>151.112541</td>\n",
       "      <td>5133669.0</td>\n",
       "      <td>2301.064319</td>\n",
       "      <td>5004162.0</td>\n",
       "      <td>2271.218175</td>\n",
       "      <td>8.707377e-10</td>\n",
       "      <td>5.908386e-12</td>\n",
       "    </tr>\n",
       "    <tr>\n",
       "      <th>1</th>\n",
       "      <td>45</td>\n",
       "      <td>2</td>\n",
       "      <td>4</td>\n",
       "      <td>204</td>\n",
       "      <td>30.0</td>\n",
       "      <td>15049.0</td>\n",
       "      <td>138.0</td>\n",
       "      <td>14911.0</td>\n",
       "      <td>123.235547</td>\n",
       "      <td>5133669.0</td>\n",
       "      <td>2301.064319</td>\n",
       "      <td>5372968.0</td>\n",
       "      <td>2352.385173</td>\n",
       "      <td>5.405858e-10</td>\n",
       "      <td>4.480623e-12</td>\n",
       "    </tr>\n",
       "    <tr>\n",
       "      <th>2</th>\n",
       "      <td>46</td>\n",
       "      <td>2</td>\n",
       "      <td>5</td>\n",
       "      <td>205</td>\n",
       "      <td>45.0</td>\n",
       "      <td>14381.0</td>\n",
       "      <td>128.0</td>\n",
       "      <td>14253.0</td>\n",
       "      <td>120.453310</td>\n",
       "      <td>5133669.0</td>\n",
       "      <td>2301.064319</td>\n",
       "      <td>5689512.0</td>\n",
       "      <td>2420.767647</td>\n",
       "      <td>4.879816e-10</td>\n",
       "      <td>4.134986e-12</td>\n",
       "    </tr>\n",
       "    <tr>\n",
       "      <th>3</th>\n",
       "      <td>47</td>\n",
       "      <td>2</td>\n",
       "      <td>6</td>\n",
       "      <td>206</td>\n",
       "      <td>60.0</td>\n",
       "      <td>12284.0</td>\n",
       "      <td>129.0</td>\n",
       "      <td>12155.0</td>\n",
       "      <td>111.413644</td>\n",
       "      <td>5133669.0</td>\n",
       "      <td>2301.064319</td>\n",
       "      <td>5422585.0</td>\n",
       "      <td>2360.585732</td>\n",
       "      <td>4.366372e-10</td>\n",
       "      <td>4.011538e-12</td>\n",
       "    </tr>\n",
       "    <tr>\n",
       "      <th>4</th>\n",
       "      <td>48</td>\n",
       "      <td>2</td>\n",
       "      <td>7</td>\n",
       "      <td>207</td>\n",
       "      <td>75.0</td>\n",
       "      <td>12019.0</td>\n",
       "      <td>113.0</td>\n",
       "      <td>11906.0</td>\n",
       "      <td>110.145359</td>\n",
       "      <td>5133669.0</td>\n",
       "      <td>2301.064319</td>\n",
       "      <td>5631831.0</td>\n",
       "      <td>2410.150410</td>\n",
       "      <td>4.118020e-10</td>\n",
       "      <td>3.818220e-12</td>\n",
       "    </tr>\n",
       "  </tbody>\n",
       "</table>\n",
       "</div>"
      ],
      "text/plain": [
       "   index_og  d1  d2  d1d2  angle       Cp     Cn       Cd      Cd_err  \\\n",
       "0        44   2   3   203   15.0  22602.0  233.0  22369.0  151.112541   \n",
       "1        45   2   4   204   30.0  15049.0  138.0  14911.0  123.235547   \n",
       "2        46   2   5   205   45.0  14381.0  128.0  14253.0  120.453310   \n",
       "3        47   2   6   206   60.0  12284.0  129.0  12155.0  111.413644   \n",
       "4        48   2   7   207   75.0  12019.0  113.0  11906.0  110.145359   \n",
       "\n",
       "         Sd1      Sd1_err        Sd2      Sd2_err             W         W_err  \n",
       "0  5133669.0  2301.064319  5004162.0  2271.218175  8.707377e-10  5.908386e-12  \n",
       "1  5133669.0  2301.064319  5372968.0  2352.385173  5.405858e-10  4.480623e-12  \n",
       "2  5133669.0  2301.064319  5689512.0  2420.767647  4.879816e-10  4.134986e-12  \n",
       "3  5133669.0  2301.064319  5422585.0  2360.585732  4.366372e-10  4.011538e-12  \n",
       "4  5133669.0  2301.064319  5631831.0  2410.150410  4.118020e-10  3.818220e-12  "
      ]
     },
     "execution_count": 23,
     "metadata": {},
     "output_type": "execute_result"
    }
   ],
   "source": [
    "det_df = bicorr_sums.init_det_df_sums(det_df, t_flag = True)\n",
    "det_df = bicorr_sums.fill_det_df_singles_sums(det_df, singles_df)\n",
    "det_df = bicorr_sums.fill_det_df_doubles_t_sums(det_df, bhp_nn_pos, bhp_nn_neg, dt_bin_edges, emin, emax)\n",
    "det_df = bicorr_sums.calc_det_df_W(det_df)\n",
    "det_df.head()"
   ]
  },
  {
   "cell_type": "markdown",
   "metadata": {},
   "source": [
    "## Condense into angle bins"
   ]
  },
  {
   "cell_type": "code",
   "execution_count": 24,
   "metadata": {},
   "outputs": [],
   "source": [
    "angle_bin_edges = np.arange(8,190,10)"
   ]
  },
  {
   "cell_type": "code",
   "execution_count": 26,
   "metadata": {},
   "outputs": [
    {
     "data": {
      "text/html": [
       "<div>\n",
       "<style scoped>\n",
       "    .dataframe tbody tr th:only-of-type {\n",
       "        vertical-align: middle;\n",
       "    }\n",
       "\n",
       "    .dataframe tbody tr th {\n",
       "        vertical-align: top;\n",
       "    }\n",
       "\n",
       "    .dataframe thead th {\n",
       "        text-align: right;\n",
       "    }\n",
       "</style>\n",
       "<table border=\"1\" class=\"dataframe\">\n",
       "  <thead>\n",
       "    <tr style=\"text-align: right;\">\n",
       "      <th></th>\n",
       "      <th>angle_bin_centers</th>\n",
       "      <th>angle_bin_max</th>\n",
       "      <th>angle_bin_min</th>\n",
       "      <th>len pair_is</th>\n",
       "      <th>std_angle</th>\n",
       "      <th>W</th>\n",
       "      <th>W_err</th>\n",
       "      <th>std W</th>\n",
       "    </tr>\n",
       "  </thead>\n",
       "  <tbody>\n",
       "    <tr>\n",
       "      <th>0</th>\n",
       "      <td>13.0</td>\n",
       "      <td>18</td>\n",
       "      <td>8</td>\n",
       "      <td>40.0</td>\n",
       "      <td>0.439220</td>\n",
       "      <td>8.543146e-10</td>\n",
       "      <td>8.983238e-13</td>\n",
       "      <td>2.815420e-11</td>\n",
       "    </tr>\n",
       "    <tr>\n",
       "      <th>1</th>\n",
       "      <td>23.0</td>\n",
       "      <td>28</td>\n",
       "      <td>18</td>\n",
       "      <td>17.0</td>\n",
       "      <td>0.705868</td>\n",
       "      <td>6.372004e-10</td>\n",
       "      <td>1.202704e-12</td>\n",
       "      <td>1.330271e-11</td>\n",
       "    </tr>\n",
       "    <tr>\n",
       "      <th>2</th>\n",
       "      <td>33.0</td>\n",
       "      <td>38</td>\n",
       "      <td>28</td>\n",
       "      <td>84.0</td>\n",
       "      <td>2.934340</td>\n",
       "      <td>5.486453e-10</td>\n",
       "      <td>4.920738e-13</td>\n",
       "      <td>2.081072e-11</td>\n",
       "    </tr>\n",
       "    <tr>\n",
       "      <th>3</th>\n",
       "      <td>43.0</td>\n",
       "      <td>48</td>\n",
       "      <td>38</td>\n",
       "      <td>57.0</td>\n",
       "      <td>1.684873</td>\n",
       "      <td>4.917936e-10</td>\n",
       "      <td>5.634607e-13</td>\n",
       "      <td>1.257825e-11</td>\n",
       "    </tr>\n",
       "    <tr>\n",
       "      <th>4</th>\n",
       "      <td>53.0</td>\n",
       "      <td>58</td>\n",
       "      <td>48</td>\n",
       "      <td>53.0</td>\n",
       "      <td>2.414525</td>\n",
       "      <td>4.648758e-10</td>\n",
       "      <td>5.762423e-13</td>\n",
       "      <td>2.569397e-11</td>\n",
       "    </tr>\n",
       "  </tbody>\n",
       "</table>\n",
       "</div>"
      ],
      "text/plain": [
       "   angle_bin_centers  angle_bin_max  angle_bin_min  len pair_is  std_angle  \\\n",
       "0               13.0             18              8         40.0   0.439220   \n",
       "1               23.0             28             18         17.0   0.705868   \n",
       "2               33.0             38             28         84.0   2.934340   \n",
       "3               43.0             48             38         57.0   1.684873   \n",
       "4               53.0             58             48         53.0   2.414525   \n",
       "\n",
       "              W         W_err         std W  \n",
       "0  8.543146e-10  8.983238e-13  2.815420e-11  \n",
       "1  6.372004e-10  1.202704e-12  1.330271e-11  \n",
       "2  5.486453e-10  4.920738e-13  2.081072e-11  \n",
       "3  4.917936e-10  5.634607e-13  1.257825e-11  \n",
       "4  4.648758e-10  5.762423e-13  2.569397e-11  "
      ]
     },
     "execution_count": 26,
     "metadata": {},
     "output_type": "execute_result"
    }
   ],
   "source": [
    "by_angle_df = bicorr_sums.condense_det_df_by_angle(det_df,angle_bin_edges)\n",
    "by_angle_df.head()"
   ]
  },
  {
   "cell_type": "code",
   "execution_count": 27,
   "metadata": {},
   "outputs": [
    {
     "data": {
      "image/png": "[encoded data removed]",
      "text/plain": [
       "<Figure size 288x216 with 1 Axes>"
      ]
     },
     "metadata": {},
     "output_type": "display_data"
    },
    {
     "data": {
      "text/plain": [
       "<Figure size 576x396 with 0 Axes>"
      ]
     },
     "metadata": {},
     "output_type": "display_data"
    }
   ],
   "source": [
    "bicorr_plot.W_vs_angle(det_df, by_angle_df, save_flag=False)"
   ]
  },
  {
   "cell_type": "markdown",
   "metadata": {},
   "source": [
    "## Put all of this into one function\n",
    "\n",
    "Returns: `singles_df`, `det_df`, `by_angle_df`"
   ]
  },
  {
   "cell_type": "code",
   "execution_count": 14,
   "metadata": {},
   "outputs": [],
   "source": [
    "angle_bin_edges = np.arange(8,190,10)"
   ]
  },
  {
   "cell_type": "code",
   "execution_count": 15,
   "metadata": {},
   "outputs": [],
   "source": [
    "singles_df, det_df, by_angle_df = bicorr_sums.perform_W_calcs(det_df,\n",
    "                    dict_index_to_det, singles_hist, dt_bin_edges_sh,\n",
    "                    bhp_nn_pos, bhp_nn_neg, dt_bin_edges,\n",
    "                    num_fissions, emin, emax, angle_bin_edges)"
   ]
  },
  {
   "cell_type": "code",
   "execution_count": 16,
   "metadata": {},
   "outputs": [
    {
     "data": {
      "text/html": [
       "<div>\n",
       "<style scoped>\n",
       "    .dataframe tbody tr th:only-of-type {\n",
       "        vertical-align: middle;\n",
       "    }\n",
       "\n",
       "    .dataframe tbody tr th {\n",
       "        vertical-align: top;\n",
       "    }\n",
       "\n",
       "    .dataframe thead th {\n",
       "        text-align: right;\n",
       "    }\n",
       "</style>\n",
       "<table border=\"1\" class=\"dataframe\">\n",
       "  <thead>\n",
       "    <tr style=\"text-align: right;\">\n",
       "      <th></th>\n",
       "      <th>index_og</th>\n",
       "      <th>d1</th>\n",
       "      <th>d2</th>\n",
       "      <th>d1d2</th>\n",
       "      <th>angle</th>\n",
       "      <th>Cp</th>\n",
       "      <th>Cn</th>\n",
       "      <th>Cd</th>\n",
       "      <th>Cd_err</th>\n",
       "      <th>Sd1</th>\n",
       "      <th>Sd1_err</th>\n",
       "      <th>Sd2</th>\n",
       "      <th>Sd2_err</th>\n",
       "      <th>W</th>\n",
       "      <th>W_err</th>\n",
       "    </tr>\n",
       "  </thead>\n",
       "  <tbody>\n",
       "    <tr>\n",
       "      <th>0</th>\n",
       "      <td>44</td>\n",
       "      <td>2</td>\n",
       "      <td>3</td>\n",
       "      <td>203</td>\n",
       "      <td>15.0</td>\n",
       "      <td>22602.0</td>\n",
       "      <td>233.0</td>\n",
       "      <td>22369.0</td>\n",
       "      <td>151.112541</td>\n",
       "      <td>5133669.0</td>\n",
       "      <td>2301.064319</td>\n",
       "      <td>5004162.0</td>\n",
       "      <td>2271.218175</td>\n",
       "      <td>8.707377e-10</td>\n",
       "      <td>5.908386e-12</td>\n",
       "    </tr>\n",
       "    <tr>\n",
       "      <th>1</th>\n",
       "      <td>45</td>\n",
       "      <td>2</td>\n",
       "      <td>4</td>\n",
       "      <td>204</td>\n",
       "      <td>30.0</td>\n",
       "      <td>15049.0</td>\n",
       "      <td>138.0</td>\n",
       "      <td>14911.0</td>\n",
       "      <td>123.235547</td>\n",
       "      <td>5133669.0</td>\n",
       "      <td>2301.064319</td>\n",
       "      <td>5372968.0</td>\n",
       "      <td>2352.385173</td>\n",
       "      <td>5.405858e-10</td>\n",
       "      <td>4.480623e-12</td>\n",
       "    </tr>\n",
       "    <tr>\n",
       "      <th>2</th>\n",
       "      <td>46</td>\n",
       "      <td>2</td>\n",
       "      <td>5</td>\n",
       "      <td>205</td>\n",
       "      <td>45.0</td>\n",
       "      <td>14381.0</td>\n",
       "      <td>128.0</td>\n",
       "      <td>14253.0</td>\n",
       "      <td>120.453310</td>\n",
       "      <td>5133669.0</td>\n",
       "      <td>2301.064319</td>\n",
       "      <td>5689512.0</td>\n",
       "      <td>2420.767647</td>\n",
       "      <td>4.879816e-10</td>\n",
       "      <td>4.134986e-12</td>\n",
       "    </tr>\n",
       "    <tr>\n",
       "      <th>3</th>\n",
       "      <td>47</td>\n",
       "      <td>2</td>\n",
       "      <td>6</td>\n",
       "      <td>206</td>\n",
       "      <td>60.0</td>\n",
       "      <td>12284.0</td>\n",
       "      <td>129.0</td>\n",
       "      <td>12155.0</td>\n",
       "      <td>111.413644</td>\n",
       "      <td>5133669.0</td>\n",
       "      <td>2301.064319</td>\n",
       "      <td>5422585.0</td>\n",
       "      <td>2360.585732</td>\n",
       "      <td>4.366372e-10</td>\n",
       "      <td>4.011538e-12</td>\n",
       "    </tr>\n",
       "    <tr>\n",
       "      <th>4</th>\n",
       "      <td>48</td>\n",
       "      <td>2</td>\n",
       "      <td>7</td>\n",
       "      <td>207</td>\n",
       "      <td>75.0</td>\n",
       "      <td>12019.0</td>\n",
       "      <td>113.0</td>\n",
       "      <td>11906.0</td>\n",
       "      <td>110.145359</td>\n",
       "      <td>5133669.0</td>\n",
       "      <td>2301.064319</td>\n",
       "      <td>5631831.0</td>\n",
       "      <td>2410.150410</td>\n",
       "      <td>4.118020e-10</td>\n",
       "      <td>3.818220e-12</td>\n",
       "    </tr>\n",
       "  </tbody>\n",
       "</table>\n",
       "</div>"
      ],
      "text/plain": [
       "   index_og  d1  d2  d1d2  angle       Cp     Cn       Cd      Cd_err  \\\n",
       "0        44   2   3   203   15.0  22602.0  233.0  22369.0  151.112541   \n",
       "1        45   2   4   204   30.0  15049.0  138.0  14911.0  123.235547   \n",
       "2        46   2   5   205   45.0  14381.0  128.0  14253.0  120.453310   \n",
       "3        47   2   6   206   60.0  12284.0  129.0  12155.0  111.413644   \n",
       "4        48   2   7   207   75.0  12019.0  113.0  11906.0  110.145359   \n",
       "\n",
       "         Sd1      Sd1_err        Sd2      Sd2_err             W         W_err  \n",
       "0  5133669.0  2301.064319  5004162.0  2271.218175  8.707377e-10  5.908386e-12  \n",
       "1  5133669.0  2301.064319  5372968.0  2352.385173  5.405858e-10  4.480623e-12  \n",
       "2  5133669.0  2301.064319  5689512.0  2420.767647  4.879816e-10  4.134986e-12  \n",
       "3  5133669.0  2301.064319  5422585.0  2360.585732  4.366372e-10  4.011538e-12  \n",
       "4  5133669.0  2301.064319  5631831.0  2410.150410  4.118020e-10  3.818220e-12  "
      ]
     },
     "execution_count": 16,
     "metadata": {},
     "output_type": "execute_result"
    }
   ],
   "source": [
    "det_df.head()"
   ]
  },
  {
   "cell_type": "code",
   "execution_count": 17,
   "metadata": {},
   "outputs": [
    {
     "data": {
      "image/png": "[encoded data removed]",
      "text/plain": [
       "<Figure size 288x216 with 1 Axes>"
      ]
     },
     "metadata": {},
     "output_type": "display_data"
    },
    {
     "data": {
      "text/plain": [
       "<Figure size 576x396 with 0 Axes>"
      ]
     },
     "metadata": {},
     "output_type": "display_data"
    }
   ],
   "source": [
    "bicorr_plot.W_vs_angle(det_df, by_angle_df, save_flag = False)"
   ]
  },
  {
   "cell_type": "code",
   "execution_count": null,
   "metadata": {
    "collapsed": true
   },
   "outputs": [],
   "source": []
  }
 ],
 "metadata": {
  "anaconda-cloud": {},
  "kernelspec": {
   "display_name": "Python [conda env:Anaconda3]",
   "language": "python",
   "name": "conda-env-Anaconda3-py"
  },
  "language_info": {
   "codemirror_mode": {
    "name": "ipython",
    "version": 3
   },
   "file_extension": ".py",
   "mimetype": "text/x-python",
   "name": "python",
   "nbconvert_exporter": "python",
   "pygments_lexer": "ipython3",
   "version": "3.5.5"
  }
 },
 "nbformat": 4,
 "nbformat_minor": 1
}
