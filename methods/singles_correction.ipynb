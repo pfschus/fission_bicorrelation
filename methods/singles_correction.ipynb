{
 "cells": [
  {
   "cell_type": "markdown",
   "metadata": {},
   "source": [
    "# Goal: Correct for singles rate with $W$ calculation\n",
    "In order to correct for differences in detection efficiencies and solid angles, we will divide all of the doubles rates by the singles rates of the two detectors as follows:\n",
    "\n",
    "$ W_{i,j} = \\frac{D_{i,j}}{S_i*S_j}$\n",
    "\n",
    "This requires calculating $S_i$ and $S_j$ from the `cced` files. I need to rewrite my analysis from the beginning, or write another function that parses the `cced` file.\n",
    "\n",
    "In this file, I will import the singles and bicorr data and calculate all  $D_{i,j}$, $S_i$, $S_j$, and $W_{i,j}$. "
   ]
  },
  {
   "cell_type": "code",
   "execution_count": 1,
   "metadata": {
    "collapsed": true
   },
   "outputs": [],
   "source": [
    "import os\n",
    "import sys\n",
    "import matplotlib.pyplot as plt\n",
    "import numpy as np\n",
    "import imageio"
   ]
  },
  {
   "cell_type": "code",
   "execution_count": 2,
   "metadata": {
    "collapsed": true
   },
   "outputs": [],
   "source": [
    "import pandas as pd"
   ]
  },
  {
   "cell_type": "code",
   "execution_count": 3,
   "metadata": {
    "collapsed": true
   },
   "outputs": [],
   "source": [
    "import seaborn as sns\n",
    "sns.set(style='ticks')"
   ]
  },
  {
   "cell_type": "code",
   "execution_count": 4,
   "metadata": {
    "collapsed": true
   },
   "outputs": [],
   "source": [
    "sys.path.append('../scripts/')"
   ]
  },
  {
   "cell_type": "code",
   "execution_count": 5,
   "metadata": {
    "collapsed": false
   },
   "outputs": [],
   "source": [
    "import bicorr as bicorr\n",
    "import bicorr_plot as bicorr_plot"
   ]
  },
  {
   "cell_type": "code",
   "execution_count": 6,
   "metadata": {
    "collapsed": false
   },
   "outputs": [],
   "source": [
    "%load_ext autoreload\n",
    "%autoreload 2"
   ]
  },
  {
   "cell_type": "markdown",
   "metadata": {},
   "source": [
    "# Load some data\n",
    "\n",
    "I'm going to work with the data from the combined data sets. The analysis for this data set is in `analysis\\Cf072115_to_Cf072215b`.\n",
    "\n",
    "The one limitation here is that this data has already cut out the fission chamber neighbors. "
   ]
  },
  {
   "cell_type": "markdown",
   "metadata": {},
   "source": [
    "## `det_df` without fission chamber neighbors"
   ]
  },
  {
   "cell_type": "code",
   "execution_count": 7,
   "metadata": {
    "collapsed": false
   },
   "outputs": [
    {
     "data": {
      "text/html": [
       "<div>\n",
       "<table border=\"1\" class=\"dataframe\">\n",
       "  <thead>\n",
       "    <tr style=\"text-align: right;\">\n",
       "      <th></th>\n",
       "      <th>index_og</th>\n",
       "      <th>d1</th>\n",
       "      <th>d2</th>\n",
       "      <th>d1d2</th>\n",
       "      <th>angle</th>\n",
       "    </tr>\n",
       "  </thead>\n",
       "  <tbody>\n",
       "    <tr>\n",
       "      <th>0</th>\n",
       "      <td>44</td>\n",
       "      <td>2</td>\n",
       "      <td>3</td>\n",
       "      <td>203</td>\n",
       "      <td>15.0</td>\n",
       "    </tr>\n",
       "    <tr>\n",
       "      <th>1</th>\n",
       "      <td>45</td>\n",
       "      <td>2</td>\n",
       "      <td>4</td>\n",
       "      <td>204</td>\n",
       "      <td>30.0</td>\n",
       "    </tr>\n",
       "    <tr>\n",
       "      <th>2</th>\n",
       "      <td>46</td>\n",
       "      <td>2</td>\n",
       "      <td>5</td>\n",
       "      <td>205</td>\n",
       "      <td>45.0</td>\n",
       "    </tr>\n",
       "    <tr>\n",
       "      <th>3</th>\n",
       "      <td>47</td>\n",
       "      <td>2</td>\n",
       "      <td>6</td>\n",
       "      <td>206</td>\n",
       "      <td>60.0</td>\n",
       "    </tr>\n",
       "    <tr>\n",
       "      <th>4</th>\n",
       "      <td>48</td>\n",
       "      <td>2</td>\n",
       "      <td>7</td>\n",
       "      <td>207</td>\n",
       "      <td>75.0</td>\n",
       "    </tr>\n",
       "  </tbody>\n",
       "</table>\n",
       "</div>"
      ],
      "text/plain": [
       "   index_og  d1  d2  d1d2  angle\n",
       "0        44   2   3   203   15.0\n",
       "1        45   2   4   204   30.0\n",
       "2        46   2   5   205   45.0\n",
       "3        47   2   6   206   60.0\n",
       "4        48   2   7   207   75.0"
      ]
     },
     "execution_count": 7,
     "metadata": {},
     "output_type": "execute_result"
    }
   ],
   "source": [
    "det_df = bicorr.load_det_df('../meas_info/det_df_pairs_angles.csv')\n",
    "pair_is = bicorr.generate_pair_is(det_df,ignore_fc_neighbors_flag=True)\n",
    "det_df = det_df.loc[pair_is].reset_index().rename(columns={'index':'index_og'}).copy()\n",
    "det_df.head()"
   ]
  },
  {
   "cell_type": "code",
   "execution_count": 8,
   "metadata": {
    "collapsed": false
   },
   "outputs": [],
   "source": [
    "chList, fcList, detList, num_dets, num_det_pairs = bicorr.build_ch_lists()\n",
    "dict_pair_to_index, dict_index_to_pair, dict_pair_to_angle = bicorr.build_dict_det_pair(det_df)"
   ]
  },
  {
   "cell_type": "code",
   "execution_count": 9,
   "metadata": {
    "collapsed": true
   },
   "outputs": [],
   "source": [
    "num_fissions = 2194651200.00"
   ]
  },
  {
   "cell_type": "markdown",
   "metadata": {},
   "source": [
    "## `singles_hist.npz`"
   ]
  },
  {
   "cell_type": "code",
   "execution_count": 11,
   "metadata": {
    "collapsed": false
   },
   "outputs": [
    {
     "data": {
      "text/plain": [
       "<matplotlib.figure.Figure at 0xb535f28>"
      ]
     },
     "metadata": {},
     "output_type": "display_data"
    },
    {
     "data": {
      "image/png": "[encoded data removed]",
      "text/plain": [
       "<matplotlib.figure.Figure at 0xb7152b0>"
      ]
     },
     "metadata": {},
     "output_type": "display_data"
    }
   ],
   "source": [
    "singles_hist, dt_bin_edges_sh, dict_det_to_index, dict_index_to_det = bicorr.load_singles_hist(filepath='../analysis/Cf072115_to_Cf072215b/datap',plot_flag=True,show_flag=True)"
   ]
  },
  {
   "cell_type": "markdown",
   "metadata": {},
   "source": [
    "## Load `bhp_nn` for all pairs\n",
    "\n",
    "I'm going to skip a few steps in order to save memory. This data was produced in `analysis_build_bhp_nn_by_pair_1_ns.ipynb` and is stored in `datap\\bhp_nn_by_pair_1ns.npz`. Load it now, as explained in the notebook."
   ]
  },
  {
   "cell_type": "code",
   "execution_count": 12,
   "metadata": {
    "collapsed": false
   },
   "outputs": [],
   "source": [
    "npzfile = np.load('../analysis/Cf072115_to_Cf072215b/datap/bhp_nn_by_pair_1ns.npz')\n",
    "pair_is = npzfile['pair_is']\n",
    "bhp_nn_pos = npzfile['bhp_nn_pos']\n",
    "bhp_nn_neg = npzfile['bhp_nn_neg']\n",
    "dt_bin_edges = npzfile['dt_bin_edges']"
   ]
  },
  {
   "cell_type": "markdown",
   "metadata": {},
   "source": [
    "The fission chamber neighbors have already been removed"
   ]
  },
  {
   "cell_type": "code",
   "execution_count": 13,
   "metadata": {
    "collapsed": false
   },
   "outputs": [
    {
     "data": {
      "text/plain": [
       "861"
      ]
     },
     "execution_count": 13,
     "metadata": {},
     "output_type": "execute_result"
    }
   ],
   "source": [
    "len(pair_is)"
   ]
  },
  {
   "cell_type": "markdown",
   "metadata": {},
   "source": [
    "## Specify energy range"
   ]
  },
  {
   "cell_type": "code",
   "execution_count": 14,
   "metadata": {
    "collapsed": true
   },
   "outputs": [],
   "source": [
    "emin = 0.62\n",
    "emax = 12"
   ]
  },
  {
   "cell_type": "markdown",
   "metadata": {},
   "source": [
    "# Calculate sums\n",
    "\n",
    "## Singles- set up `singles_df`\n",
    "\n",
    "I will store this in a pandas dataframe."
   ]
  },
  {
   "cell_type": "markdown",
   "metadata": {},
   "source": [
    "Columns:\n",
    "\n",
    "* Channel number\n",
    "* `Sp` - Singles counts, positive\n",
    "* `Sn` - Singles counts, negative\n",
    "* `Sd` - Singles counts, br-subtracted\n",
    "* `Sd_err` - Singles counts, br-subtracted, err"
   ]
  },
  {
   "cell_type": "code",
   "execution_count": 15,
   "metadata": {
    "collapsed": false
   },
   "outputs": [],
   "source": [
    "singles_df = pd.DataFrame.from_dict(dict_index_to_det,orient='index',dtype=np.int8).rename(columns={0:'ch'})\n",
    "chIgnore = [1,17,33]\n",
    "singles_df = singles_df[~singles_df['ch'].isin(chIgnore)].copy()"
   ]
  },
  {
   "cell_type": "code",
   "execution_count": 16,
   "metadata": {
    "collapsed": true
   },
   "outputs": [],
   "source": [
    "singles_df['Sp']= 0.0\n",
    "singles_df['Sn']= 0.0\n",
    "singles_df['Sd']= 0.0\n",
    "singles_df['Sd_err'] = 0.0"
   ]
  },
  {
   "cell_type": "markdown",
   "metadata": {},
   "source": [
    "## Singles- calculate sums"
   ]
  },
  {
   "cell_type": "code",
   "execution_count": 17,
   "metadata": {
    "collapsed": false
   },
   "outputs": [],
   "source": [
    "for index in singles_df.index.values:\n",
    "    Sp, Sn, Sd, Sd_err = bicorr.calc_n_sum_br(singles_hist, dt_bin_edges_sh, index, emin=emin, emax=emax)\n",
    "    singles_df.loc[index,'Sp'] = Sp\n",
    "    singles_df.loc[index,'Sn'] = Sn\n",
    "    singles_df.loc[index,'Sd'] = Sd\n",
    "    singles_df.loc[index,'Sd_err'] = Sd_err"
   ]
  },
  {
   "cell_type": "code",
   "execution_count": 18,
   "metadata": {
    "collapsed": false
   },
   "outputs": [
    {
     "data": {
      "text/html": [
       "<div>\n",
       "<table border=\"1\" class=\"dataframe\">\n",
       "  <thead>\n",
       "    <tr style=\"text-align: right;\">\n",
       "      <th></th>\n",
       "      <th>ch</th>\n",
       "      <th>Sp</th>\n",
       "      <th>Sn</th>\n",
       "      <th>Sd</th>\n",
       "      <th>Sd_err</th>\n",
       "    </tr>\n",
       "  </thead>\n",
       "  <tbody>\n",
       "    <tr>\n",
       "      <th>1</th>\n",
       "      <td>2</td>\n",
       "      <td>5150169.0</td>\n",
       "      <td>76920.0</td>\n",
       "      <td>5073249.0</td>\n",
       "      <td>2286.282791</td>\n",
       "    </tr>\n",
       "    <tr>\n",
       "      <th>2</th>\n",
       "      <td>3</td>\n",
       "      <td>5024494.0</td>\n",
       "      <td>73426.0</td>\n",
       "      <td>4951068.0</td>\n",
       "      <td>2257.857391</td>\n",
       "    </tr>\n",
       "    <tr>\n",
       "      <th>3</th>\n",
       "      <td>4</td>\n",
       "      <td>5391714.0</td>\n",
       "      <td>76594.0</td>\n",
       "      <td>5315120.0</td>\n",
       "      <td>2338.441361</td>\n",
       "    </tr>\n",
       "    <tr>\n",
       "      <th>4</th>\n",
       "      <td>5</td>\n",
       "      <td>5717925.0</td>\n",
       "      <td>81136.0</td>\n",
       "      <td>5636789.0</td>\n",
       "      <td>2408.123959</td>\n",
       "    </tr>\n",
       "    <tr>\n",
       "      <th>5</th>\n",
       "      <td>6</td>\n",
       "      <td>5448282.0</td>\n",
       "      <td>71482.0</td>\n",
       "      <td>5376800.0</td>\n",
       "      <td>2349.417800</td>\n",
       "    </tr>\n",
       "  </tbody>\n",
       "</table>\n",
       "</div>"
      ],
      "text/plain": [
       "   ch         Sp       Sn         Sd       Sd_err\n",
       "1   2  5150169.0  76920.0  5073249.0  2286.282791\n",
       "2   3  5024494.0  73426.0  4951068.0  2257.857391\n",
       "3   4  5391714.0  76594.0  5315120.0  2338.441361\n",
       "4   5  5717925.0  81136.0  5636789.0  2408.123959\n",
       "5   6  5448282.0  71482.0  5376800.0  2349.417800"
      ]
     },
     "execution_count": 18,
     "metadata": {},
     "output_type": "execute_result"
    }
   ],
   "source": [
    "singles_df.head()"
   ]
  },
  {
   "cell_type": "code",
   "execution_count": 19,
   "metadata": {
    "collapsed": false
   },
   "outputs": [
    {
     "data": {
      "text/plain": [
       "<matplotlib.figure.Figure at 0xccde6a0>"
      ]
     },
     "metadata": {},
     "output_type": "display_data"
    },
    {
     "data": {
      "image/png": "[encoded data removed]",
      "text/plain": [
       "<matplotlib.figure.Figure at 0xcb63898>"
      ]
     },
     "metadata": {},
     "output_type": "display_data"
    }
   ],
   "source": [
    "bicorr_plot.Sd_vs_angle_all(singles_df)"
   ]
  },
  {
   "cell_type": "markdown",
   "metadata": {},
   "source": [
    "## Doubles- set up `det_df`"
   ]
  },
  {
   "cell_type": "code",
   "execution_count": 20,
   "metadata": {
    "collapsed": false
   },
   "outputs": [
    {
     "data": {
      "text/html": [
       "<div>\n",
       "<table border=\"1\" class=\"dataframe\">\n",
       "  <thead>\n",
       "    <tr style=\"text-align: right;\">\n",
       "      <th></th>\n",
       "      <th>index_og</th>\n",
       "      <th>d1</th>\n",
       "      <th>d2</th>\n",
       "      <th>d1d2</th>\n",
       "      <th>angle</th>\n",
       "    </tr>\n",
       "  </thead>\n",
       "  <tbody>\n",
       "    <tr>\n",
       "      <th>0</th>\n",
       "      <td>44</td>\n",
       "      <td>2</td>\n",
       "      <td>3</td>\n",
       "      <td>203</td>\n",
       "      <td>15.0</td>\n",
       "    </tr>\n",
       "    <tr>\n",
       "      <th>1</th>\n",
       "      <td>45</td>\n",
       "      <td>2</td>\n",
       "      <td>4</td>\n",
       "      <td>204</td>\n",
       "      <td>30.0</td>\n",
       "    </tr>\n",
       "    <tr>\n",
       "      <th>2</th>\n",
       "      <td>46</td>\n",
       "      <td>2</td>\n",
       "      <td>5</td>\n",
       "      <td>205</td>\n",
       "      <td>45.0</td>\n",
       "    </tr>\n",
       "    <tr>\n",
       "      <th>3</th>\n",
       "      <td>47</td>\n",
       "      <td>2</td>\n",
       "      <td>6</td>\n",
       "      <td>206</td>\n",
       "      <td>60.0</td>\n",
       "    </tr>\n",
       "    <tr>\n",
       "      <th>4</th>\n",
       "      <td>48</td>\n",
       "      <td>2</td>\n",
       "      <td>7</td>\n",
       "      <td>207</td>\n",
       "      <td>75.0</td>\n",
       "    </tr>\n",
       "  </tbody>\n",
       "</table>\n",
       "</div>"
      ],
      "text/plain": [
       "   index_og  d1  d2  d1d2  angle\n",
       "0        44   2   3   203   15.0\n",
       "1        45   2   4   204   30.0\n",
       "2        46   2   5   205   45.0\n",
       "3        47   2   6   206   60.0\n",
       "4        48   2   7   207   75.0"
      ]
     },
     "execution_count": 20,
     "metadata": {},
     "output_type": "execute_result"
    }
   ],
   "source": [
    "det_df.head()"
   ]
  },
  {
   "cell_type": "code",
   "execution_count": 21,
   "metadata": {
    "collapsed": true
   },
   "outputs": [],
   "source": [
    "det_df['Cp'] = 0.0\n",
    "det_df['Cn'] = 0.0\n",
    "det_df['Cd'] = 0.0\n",
    "det_df['Cd_err'] = 0.0\n",
    "det_df['Np'] = 0.0\n",
    "det_df['Nn'] = 0.0\n",
    "det_df['Nd'] = 0.0\n",
    "det_df['Nd_err'] = 0.0"
   ]
  },
  {
   "cell_type": "code",
   "execution_count": 22,
   "metadata": {
    "collapsed": false
   },
   "outputs": [
    {
     "data": {
      "text/html": [
       "<div>\n",
       "<table border=\"1\" class=\"dataframe\">\n",
       "  <thead>\n",
       "    <tr style=\"text-align: right;\">\n",
       "      <th></th>\n",
       "      <th>index_og</th>\n",
       "      <th>d1</th>\n",
       "      <th>d2</th>\n",
       "      <th>d1d2</th>\n",
       "      <th>angle</th>\n",
       "      <th>Cp</th>\n",
       "      <th>Cn</th>\n",
       "      <th>Cd</th>\n",
       "      <th>Cd_err</th>\n",
       "      <th>Np</th>\n",
       "      <th>Nn</th>\n",
       "      <th>Nd</th>\n",
       "      <th>Nd_err</th>\n",
       "    </tr>\n",
       "  </thead>\n",
       "  <tbody>\n",
       "    <tr>\n",
       "      <th>0</th>\n",
       "      <td>44</td>\n",
       "      <td>2</td>\n",
       "      <td>3</td>\n",
       "      <td>203</td>\n",
       "      <td>15.0</td>\n",
       "      <td>0.0</td>\n",
       "      <td>0.0</td>\n",
       "      <td>0.0</td>\n",
       "      <td>0.0</td>\n",
       "      <td>0.0</td>\n",
       "      <td>0.0</td>\n",
       "      <td>0.0</td>\n",
       "      <td>0.0</td>\n",
       "    </tr>\n",
       "    <tr>\n",
       "      <th>1</th>\n",
       "      <td>45</td>\n",
       "      <td>2</td>\n",
       "      <td>4</td>\n",
       "      <td>204</td>\n",
       "      <td>30.0</td>\n",
       "      <td>0.0</td>\n",
       "      <td>0.0</td>\n",
       "      <td>0.0</td>\n",
       "      <td>0.0</td>\n",
       "      <td>0.0</td>\n",
       "      <td>0.0</td>\n",
       "      <td>0.0</td>\n",
       "      <td>0.0</td>\n",
       "    </tr>\n",
       "    <tr>\n",
       "      <th>2</th>\n",
       "      <td>46</td>\n",
       "      <td>2</td>\n",
       "      <td>5</td>\n",
       "      <td>205</td>\n",
       "      <td>45.0</td>\n",
       "      <td>0.0</td>\n",
       "      <td>0.0</td>\n",
       "      <td>0.0</td>\n",
       "      <td>0.0</td>\n",
       "      <td>0.0</td>\n",
       "      <td>0.0</td>\n",
       "      <td>0.0</td>\n",
       "      <td>0.0</td>\n",
       "    </tr>\n",
       "    <tr>\n",
       "      <th>3</th>\n",
       "      <td>47</td>\n",
       "      <td>2</td>\n",
       "      <td>6</td>\n",
       "      <td>206</td>\n",
       "      <td>60.0</td>\n",
       "      <td>0.0</td>\n",
       "      <td>0.0</td>\n",
       "      <td>0.0</td>\n",
       "      <td>0.0</td>\n",
       "      <td>0.0</td>\n",
       "      <td>0.0</td>\n",
       "      <td>0.0</td>\n",
       "      <td>0.0</td>\n",
       "    </tr>\n",
       "    <tr>\n",
       "      <th>4</th>\n",
       "      <td>48</td>\n",
       "      <td>2</td>\n",
       "      <td>7</td>\n",
       "      <td>207</td>\n",
       "      <td>75.0</td>\n",
       "      <td>0.0</td>\n",
       "      <td>0.0</td>\n",
       "      <td>0.0</td>\n",
       "      <td>0.0</td>\n",
       "      <td>0.0</td>\n",
       "      <td>0.0</td>\n",
       "      <td>0.0</td>\n",
       "      <td>0.0</td>\n",
       "    </tr>\n",
       "  </tbody>\n",
       "</table>\n",
       "</div>"
      ],
      "text/plain": [
       "   index_og  d1  d2  d1d2  angle   Cp   Cn   Cd  Cd_err   Np   Nn   Nd  Nd_err\n",
       "0        44   2   3   203   15.0  0.0  0.0  0.0     0.0  0.0  0.0  0.0     0.0\n",
       "1        45   2   4   204   30.0  0.0  0.0  0.0     0.0  0.0  0.0  0.0     0.0\n",
       "2        46   2   5   205   45.0  0.0  0.0  0.0     0.0  0.0  0.0  0.0     0.0\n",
       "3        47   2   6   206   60.0  0.0  0.0  0.0     0.0  0.0  0.0  0.0     0.0\n",
       "4        48   2   7   207   75.0  0.0  0.0  0.0     0.0  0.0  0.0  0.0     0.0"
      ]
     },
     "execution_count": 22,
     "metadata": {},
     "output_type": "execute_result"
    }
   ],
   "source": [
    "det_df.head()"
   ]
  },
  {
   "cell_type": "markdown",
   "metadata": {},
   "source": [
    "## Doubles- Calculate sums"
   ]
  },
  {
   "cell_type": "code",
   "execution_count": 23,
   "metadata": {
    "collapsed": false
   },
   "outputs": [],
   "source": [
    "for index in det_df.index.values:\n",
    "    Cp, Cn, Cd, err_Cd = bicorr.calc_nn_sum_br(bhp_nn_pos[index,:,:],\n",
    "                                               bhp_nn_neg[index,:,:],\n",
    "                                               dt_bin_edges,\n",
    "                                               emin=emin, emax=emax)\n",
    "    det_df.loc[index,'Cp'] = Cp\n",
    "    det_df.loc[index,'Cn'] = Cn\n",
    "    det_df.loc[index,'Cd'] = Cd\n",
    "    det_df.loc[index,'Cd_err'] = err_Cd\n",
    "    Np, Nn, Nd, err_Nd = bicorr.calc_nn_sum_br(bhp_nn_pos[index,:,:],\n",
    "                                               bhp_nn_neg[index,:,:],\n",
    "                                               dt_bin_edges,\n",
    "                                               emin=emin, emax=emax,\n",
    "                                               norm_factor = num_fissions)\n",
    "    det_df.loc[index,'Np'] = Np\n",
    "    det_df.loc[index,'Nn'] = Nn\n",
    "    det_df.loc[index,'Nd'] = Nd\n",
    "    det_df.loc[index,'Nd_err'] = err_Nd"
   ]
  },
  {
   "cell_type": "code",
   "execution_count": 24,
   "metadata": {
    "collapsed": false
   },
   "outputs": [
    {
     "data": {
      "text/html": [
       "<div>\n",
       "<table border=\"1\" class=\"dataframe\">\n",
       "  <thead>\n",
       "    <tr style=\"text-align: right;\">\n",
       "      <th></th>\n",
       "      <th>index_og</th>\n",
       "      <th>d1</th>\n",
       "      <th>d2</th>\n",
       "      <th>d1d2</th>\n",
       "      <th>angle</th>\n",
       "      <th>Cp</th>\n",
       "      <th>Cn</th>\n",
       "      <th>Cd</th>\n",
       "      <th>Cd_err</th>\n",
       "      <th>Np</th>\n",
       "      <th>Nn</th>\n",
       "      <th>Nd</th>\n",
       "      <th>Nd_err</th>\n",
       "    </tr>\n",
       "  </thead>\n",
       "  <tbody>\n",
       "    <tr>\n",
       "      <th>0</th>\n",
       "      <td>44</td>\n",
       "      <td>2</td>\n",
       "      <td>3</td>\n",
       "      <td>203</td>\n",
       "      <td>15.0</td>\n",
       "      <td>22338.0</td>\n",
       "      <td>229.0</td>\n",
       "      <td>22109.0</td>\n",
       "      <td>150.223167</td>\n",
       "      <td>22338.0</td>\n",
       "      <td>229.0</td>\n",
       "      <td>22109.0</td>\n",
       "      <td>0.003207</td>\n",
       "    </tr>\n",
       "    <tr>\n",
       "      <th>1</th>\n",
       "      <td>45</td>\n",
       "      <td>2</td>\n",
       "      <td>4</td>\n",
       "      <td>204</td>\n",
       "      <td>30.0</td>\n",
       "      <td>14779.0</td>\n",
       "      <td>129.0</td>\n",
       "      <td>14650.0</td>\n",
       "      <td>122.098321</td>\n",
       "      <td>14779.0</td>\n",
       "      <td>129.0</td>\n",
       "      <td>14650.0</td>\n",
       "      <td>0.002606</td>\n",
       "    </tr>\n",
       "    <tr>\n",
       "      <th>2</th>\n",
       "      <td>46</td>\n",
       "      <td>2</td>\n",
       "      <td>5</td>\n",
       "      <td>205</td>\n",
       "      <td>45.0</td>\n",
       "      <td>14042.0</td>\n",
       "      <td>116.0</td>\n",
       "      <td>13926.0</td>\n",
       "      <td>118.987394</td>\n",
       "      <td>14042.0</td>\n",
       "      <td>116.0</td>\n",
       "      <td>13926.0</td>\n",
       "      <td>0.002540</td>\n",
       "    </tr>\n",
       "    <tr>\n",
       "      <th>3</th>\n",
       "      <td>47</td>\n",
       "      <td>2</td>\n",
       "      <td>6</td>\n",
       "      <td>206</td>\n",
       "      <td>60.0</td>\n",
       "      <td>11993.0</td>\n",
       "      <td>121.0</td>\n",
       "      <td>11872.0</td>\n",
       "      <td>110.063618</td>\n",
       "      <td>11993.0</td>\n",
       "      <td>121.0</td>\n",
       "      <td>11872.0</td>\n",
       "      <td>0.002349</td>\n",
       "    </tr>\n",
       "    <tr>\n",
       "      <th>4</th>\n",
       "      <td>48</td>\n",
       "      <td>2</td>\n",
       "      <td>7</td>\n",
       "      <td>207</td>\n",
       "      <td>75.0</td>\n",
       "      <td>11707.0</td>\n",
       "      <td>104.0</td>\n",
       "      <td>11603.0</td>\n",
       "      <td>108.678425</td>\n",
       "      <td>11707.0</td>\n",
       "      <td>104.0</td>\n",
       "      <td>11603.0</td>\n",
       "      <td>0.002320</td>\n",
       "    </tr>\n",
       "  </tbody>\n",
       "</table>\n",
       "</div>"
      ],
      "text/plain": [
       "   index_og  d1  d2  d1d2  angle       Cp     Cn       Cd      Cd_err  \\\n",
       "0        44   2   3   203   15.0  22338.0  229.0  22109.0  150.223167   \n",
       "1        45   2   4   204   30.0  14779.0  129.0  14650.0  122.098321   \n",
       "2        46   2   5   205   45.0  14042.0  116.0  13926.0  118.987394   \n",
       "3        47   2   6   206   60.0  11993.0  121.0  11872.0  110.063618   \n",
       "4        48   2   7   207   75.0  11707.0  104.0  11603.0  108.678425   \n",
       "\n",
       "        Np     Nn       Nd    Nd_err  \n",
       "0  22338.0  229.0  22109.0  0.003207  \n",
       "1  14779.0  129.0  14650.0  0.002606  \n",
       "2  14042.0  116.0  13926.0  0.002540  \n",
       "3  11993.0  121.0  11872.0  0.002349  \n",
       "4  11707.0  104.0  11603.0  0.002320  "
      ]
     },
     "execution_count": 24,
     "metadata": {},
     "output_type": "execute_result"
    }
   ],
   "source": [
    "det_df.head()"
   ]
  },
  {
   "cell_type": "code",
   "execution_count": 25,
   "metadata": {
    "collapsed": false
   },
   "outputs": [
    {
     "data": {
      "text/plain": [
       "<matplotlib.figure.Figure at 0xc8a2278>"
      ]
     },
     "metadata": {},
     "output_type": "display_data"
    },
    {
     "data": {
      "image/png": "[encoded data removed]",
      "text/plain": [
       "<matplotlib.figure.Figure at 0xbfc4ba8>"
      ]
     },
     "metadata": {},
     "output_type": "display_data"
    },
    {
     "data": {
      "text/plain": [
       "<matplotlib.figure.Figure at 0xbfbd630>"
      ]
     },
     "metadata": {},
     "output_type": "display_data"
    },
    {
     "data": {
      "image/png": "[encoded data removed]",
      "text/plain": [
       "<matplotlib.figure.Figure at 0xbff9550>"
      ]
     },
     "metadata": {},
     "output_type": "display_data"
    },
    {
     "data": {
      "text/plain": [
       "<matplotlib.figure.Figure at 0xcbb1940>"
      ]
     },
     "metadata": {},
     "output_type": "display_data"
    },
    {
     "data": {
      "image/png": "[encoded data removed]",
      "text/plain": [
       "<matplotlib.figure.Figure at 0xcc40ac8>"
      ]
     },
     "metadata": {},
     "output_type": "display_data"
    },
    {
     "name": "stdout",
     "output_type": "stream",
     "text": [
      "yes\n"
     ]
    },
    {
     "data": {
      "text/plain": [
       "<matplotlib.figure.Figure at 0xcb78fd0>"
      ]
     },
     "metadata": {},
     "output_type": "display_data"
    },
    {
     "data": {
      "image/png": "[encoded data removed]",
      "text/plain": [
       "<matplotlib.figure.Figure at 0xc8e8be0>"
      ]
     },
     "metadata": {},
     "output_type": "display_data"
    }
   ],
   "source": [
    "bicorr_plot.counts_vs_angle_all(det_df, normalized=True)"
   ]
  },
  {
   "cell_type": "markdown",
   "metadata": {},
   "source": [
    "# Perform the correction\n",
    "\n",
    "Now I am going to loop through all pairs and calculate $W$."
   ]
  },
  {
   "cell_type": "markdown",
   "metadata": {},
   "source": [
    "* Loop through each pair\n",
    "* Identify $i$, $j$\n",
    "* Fetch $S_i$, $S_j$\n",
    "* Calculate $W$\n",
    "* Propagate error for $W_{err}$\n",
    "* Store in `det_df`"
   ]
  },
  {
   "cell_type": "markdown",
   "metadata": {},
   "source": [
    "## Add `W`, `W_err` columns to `det_df`"
   ]
  },
  {
   "cell_type": "code",
   "execution_count": 26,
   "metadata": {
    "collapsed": true
   },
   "outputs": [],
   "source": [
    "det_df['Sd1']     = 0.0\n",
    "det_df['Sd1_err'] = 0.0\n",
    "det_df['Sd2']     = 0.0\n",
    "det_df['Sd2_err'] = 0.0\n",
    "\n",
    "det_df['W']     = 0.0\n",
    "det_df['W_err'] = 0.0"
   ]
  },
  {
   "cell_type": "code",
   "execution_count": 27,
   "metadata": {
    "collapsed": false
   },
   "outputs": [
    {
     "data": {
      "text/html": [
       "<div>\n",
       "<table border=\"1\" class=\"dataframe\">\n",
       "  <thead>\n",
       "    <tr style=\"text-align: right;\">\n",
       "      <th></th>\n",
       "      <th>index_og</th>\n",
       "      <th>d1</th>\n",
       "      <th>d2</th>\n",
       "      <th>d1d2</th>\n",
       "      <th>angle</th>\n",
       "      <th>Cp</th>\n",
       "      <th>Cn</th>\n",
       "      <th>Cd</th>\n",
       "      <th>Cd_err</th>\n",
       "      <th>Np</th>\n",
       "      <th>Nn</th>\n",
       "      <th>Nd</th>\n",
       "      <th>Nd_err</th>\n",
       "      <th>Sd1</th>\n",
       "      <th>Sd1_err</th>\n",
       "      <th>Sd2</th>\n",
       "      <th>Sd2_err</th>\n",
       "      <th>W</th>\n",
       "      <th>W_err</th>\n",
       "    </tr>\n",
       "  </thead>\n",
       "  <tbody>\n",
       "    <tr>\n",
       "      <th>0</th>\n",
       "      <td>44</td>\n",
       "      <td>2</td>\n",
       "      <td>3</td>\n",
       "      <td>203</td>\n",
       "      <td>15.0</td>\n",
       "      <td>22338.0</td>\n",
       "      <td>229.0</td>\n",
       "      <td>22109.0</td>\n",
       "      <td>150.223167</td>\n",
       "      <td>22338.0</td>\n",
       "      <td>229.0</td>\n",
       "      <td>22109.0</td>\n",
       "      <td>0.003207</td>\n",
       "      <td>0.0</td>\n",
       "      <td>0.0</td>\n",
       "      <td>0.0</td>\n",
       "      <td>0.0</td>\n",
       "      <td>0.0</td>\n",
       "      <td>0.0</td>\n",
       "    </tr>\n",
       "    <tr>\n",
       "      <th>1</th>\n",
       "      <td>45</td>\n",
       "      <td>2</td>\n",
       "      <td>4</td>\n",
       "      <td>204</td>\n",
       "      <td>30.0</td>\n",
       "      <td>14779.0</td>\n",
       "      <td>129.0</td>\n",
       "      <td>14650.0</td>\n",
       "      <td>122.098321</td>\n",
       "      <td>14779.0</td>\n",
       "      <td>129.0</td>\n",
       "      <td>14650.0</td>\n",
       "      <td>0.002606</td>\n",
       "      <td>0.0</td>\n",
       "      <td>0.0</td>\n",
       "      <td>0.0</td>\n",
       "      <td>0.0</td>\n",
       "      <td>0.0</td>\n",
       "      <td>0.0</td>\n",
       "    </tr>\n",
       "    <tr>\n",
       "      <th>2</th>\n",
       "      <td>46</td>\n",
       "      <td>2</td>\n",
       "      <td>5</td>\n",
       "      <td>205</td>\n",
       "      <td>45.0</td>\n",
       "      <td>14042.0</td>\n",
       "      <td>116.0</td>\n",
       "      <td>13926.0</td>\n",
       "      <td>118.987394</td>\n",
       "      <td>14042.0</td>\n",
       "      <td>116.0</td>\n",
       "      <td>13926.0</td>\n",
       "      <td>0.002540</td>\n",
       "      <td>0.0</td>\n",
       "      <td>0.0</td>\n",
       "      <td>0.0</td>\n",
       "      <td>0.0</td>\n",
       "      <td>0.0</td>\n",
       "      <td>0.0</td>\n",
       "    </tr>\n",
       "    <tr>\n",
       "      <th>3</th>\n",
       "      <td>47</td>\n",
       "      <td>2</td>\n",
       "      <td>6</td>\n",
       "      <td>206</td>\n",
       "      <td>60.0</td>\n",
       "      <td>11993.0</td>\n",
       "      <td>121.0</td>\n",
       "      <td>11872.0</td>\n",
       "      <td>110.063618</td>\n",
       "      <td>11993.0</td>\n",
       "      <td>121.0</td>\n",
       "      <td>11872.0</td>\n",
       "      <td>0.002349</td>\n",
       "      <td>0.0</td>\n",
       "      <td>0.0</td>\n",
       "      <td>0.0</td>\n",
       "      <td>0.0</td>\n",
       "      <td>0.0</td>\n",
       "      <td>0.0</td>\n",
       "    </tr>\n",
       "    <tr>\n",
       "      <th>4</th>\n",
       "      <td>48</td>\n",
       "      <td>2</td>\n",
       "      <td>7</td>\n",
       "      <td>207</td>\n",
       "      <td>75.0</td>\n",
       "      <td>11707.0</td>\n",
       "      <td>104.0</td>\n",
       "      <td>11603.0</td>\n",
       "      <td>108.678425</td>\n",
       "      <td>11707.0</td>\n",
       "      <td>104.0</td>\n",
       "      <td>11603.0</td>\n",
       "      <td>0.002320</td>\n",
       "      <td>0.0</td>\n",
       "      <td>0.0</td>\n",
       "      <td>0.0</td>\n",
       "      <td>0.0</td>\n",
       "      <td>0.0</td>\n",
       "      <td>0.0</td>\n",
       "    </tr>\n",
       "  </tbody>\n",
       "</table>\n",
       "</div>"
      ],
      "text/plain": [
       "   index_og  d1  d2  d1d2  angle       Cp     Cn       Cd      Cd_err  \\\n",
       "0        44   2   3   203   15.0  22338.0  229.0  22109.0  150.223167   \n",
       "1        45   2   4   204   30.0  14779.0  129.0  14650.0  122.098321   \n",
       "2        46   2   5   205   45.0  14042.0  116.0  13926.0  118.987394   \n",
       "3        47   2   6   206   60.0  11993.0  121.0  11872.0  110.063618   \n",
       "4        48   2   7   207   75.0  11707.0  104.0  11603.0  108.678425   \n",
       "\n",
       "        Np     Nn       Nd    Nd_err  Sd1  Sd1_err  Sd2  Sd2_err    W  W_err  \n",
       "0  22338.0  229.0  22109.0  0.003207  0.0      0.0  0.0      0.0  0.0    0.0  \n",
       "1  14779.0  129.0  14650.0  0.002606  0.0      0.0  0.0      0.0  0.0    0.0  \n",
       "2  14042.0  116.0  13926.0  0.002540  0.0      0.0  0.0      0.0  0.0    0.0  \n",
       "3  11993.0  121.0  11872.0  0.002349  0.0      0.0  0.0      0.0  0.0    0.0  \n",
       "4  11707.0  104.0  11603.0  0.002320  0.0      0.0  0.0      0.0  0.0    0.0  "
      ]
     },
     "execution_count": 27,
     "metadata": {},
     "output_type": "execute_result"
    }
   ],
   "source": [
    "det_df.head()"
   ]
  },
  {
   "cell_type": "code",
   "execution_count": 28,
   "metadata": {
    "collapsed": false
   },
   "outputs": [
    {
     "data": {
      "text/html": [
       "<div>\n",
       "<table border=\"1\" class=\"dataframe\">\n",
       "  <thead>\n",
       "    <tr style=\"text-align: right;\">\n",
       "      <th></th>\n",
       "      <th>ch</th>\n",
       "      <th>Sp</th>\n",
       "      <th>Sn</th>\n",
       "      <th>Sd</th>\n",
       "      <th>Sd_err</th>\n",
       "    </tr>\n",
       "  </thead>\n",
       "  <tbody>\n",
       "    <tr>\n",
       "      <th>1</th>\n",
       "      <td>2</td>\n",
       "      <td>5150169.0</td>\n",
       "      <td>76920.0</td>\n",
       "      <td>5073249.0</td>\n",
       "      <td>2286.282791</td>\n",
       "    </tr>\n",
       "    <tr>\n",
       "      <th>2</th>\n",
       "      <td>3</td>\n",
       "      <td>5024494.0</td>\n",
       "      <td>73426.0</td>\n",
       "      <td>4951068.0</td>\n",
       "      <td>2257.857391</td>\n",
       "    </tr>\n",
       "    <tr>\n",
       "      <th>3</th>\n",
       "      <td>4</td>\n",
       "      <td>5391714.0</td>\n",
       "      <td>76594.0</td>\n",
       "      <td>5315120.0</td>\n",
       "      <td>2338.441361</td>\n",
       "    </tr>\n",
       "    <tr>\n",
       "      <th>4</th>\n",
       "      <td>5</td>\n",
       "      <td>5717925.0</td>\n",
       "      <td>81136.0</td>\n",
       "      <td>5636789.0</td>\n",
       "      <td>2408.123959</td>\n",
       "    </tr>\n",
       "    <tr>\n",
       "      <th>5</th>\n",
       "      <td>6</td>\n",
       "      <td>5448282.0</td>\n",
       "      <td>71482.0</td>\n",
       "      <td>5376800.0</td>\n",
       "      <td>2349.417800</td>\n",
       "    </tr>\n",
       "  </tbody>\n",
       "</table>\n",
       "</div>"
      ],
      "text/plain": [
       "   ch         Sp       Sn         Sd       Sd_err\n",
       "1   2  5150169.0  76920.0  5073249.0  2286.282791\n",
       "2   3  5024494.0  73426.0  4951068.0  2257.857391\n",
       "3   4  5391714.0  76594.0  5315120.0  2338.441361\n",
       "4   5  5717925.0  81136.0  5636789.0  2408.123959\n",
       "5   6  5448282.0  71482.0  5376800.0  2349.417800"
      ]
     },
     "execution_count": 28,
     "metadata": {},
     "output_type": "execute_result"
    }
   ],
   "source": [
    "singles_df.head()"
   ]
  },
  {
   "cell_type": "markdown",
   "metadata": {},
   "source": [
    "## Loop through `det_df`, store singles rates"
   ]
  },
  {
   "cell_type": "markdown",
   "metadata": {},
   "source": [
    "Fill the `S` and `S_err` values for each channel in each detector pair."
   ]
  },
  {
   "cell_type": "code",
   "execution_count": 30,
   "metadata": {
    "collapsed": false
   },
   "outputs": [],
   "source": [
    "# Fill S columns in det_df\n",
    "for index in singles_df.index.values:\n",
    "    ch = singles_df.loc[index,'ch']\n",
    "    \n",
    "    d1_indices = (det_df[det_df['d1'] == ch]).index.tolist()\n",
    "    d2_indices = (det_df[det_df['d2'] == ch]).index.tolist()\n",
    "    \n",
    "    det_df.loc[d1_indices,'Sd1']     = singles_df.loc[index,'Sd']\n",
    "    det_df.loc[d1_indices,'Sd1_err'] = singles_df.loc[index,'Sd_err']\n",
    "    det_df.loc[d2_indices,'Sd2']     = singles_df.loc[index,'Sd']\n",
    "    det_df.loc[d2_indices,'Sd2_err'] = singles_df.loc[index,'Sd_err']"
   ]
  },
  {
   "cell_type": "code",
   "execution_count": 38,
   "metadata": {
    "collapsed": false
   },
   "outputs": [],
   "source": [
    "# Calculate W, W_err from S columns\n",
    "det_df['W'] = det_df['Cd']/(det_df['Sd1']*det_df['Sd2'])"
   ]
  },
  {
   "cell_type": "code",
   "execution_count": 39,
   "metadata": {
    "collapsed": false
   },
   "outputs": [],
   "source": [
    "det_df['W_err'] = det_df['W'] * np.sqrt((det_df['Cd_err']/det_df['Cd'])**2 + \n",
    "                                        (det_df['Sd1_err']/det_df['Sd1'])**2 + \n",
    "                                        (det_df['Sd2_err']/det_df['Sd2'])**2)"
   ]
  },
  {
   "cell_type": "code",
   "execution_count": 40,
   "metadata": {
    "collapsed": false
   },
   "outputs": [
    {
     "data": {
      "text/html": [
       "<div>\n",
       "<table border=\"1\" class=\"dataframe\">\n",
       "  <thead>\n",
       "    <tr style=\"text-align: right;\">\n",
       "      <th></th>\n",
       "      <th>index_og</th>\n",
       "      <th>d1</th>\n",
       "      <th>d2</th>\n",
       "      <th>d1d2</th>\n",
       "      <th>angle</th>\n",
       "      <th>Cp</th>\n",
       "      <th>Cn</th>\n",
       "      <th>Cd</th>\n",
       "      <th>Cd_err</th>\n",
       "      <th>Np</th>\n",
       "      <th>Nn</th>\n",
       "      <th>Nd</th>\n",
       "      <th>Nd_err</th>\n",
       "      <th>Sd1</th>\n",
       "      <th>Sd1_err</th>\n",
       "      <th>Sd2</th>\n",
       "      <th>Sd2_err</th>\n",
       "      <th>W</th>\n",
       "      <th>W_err</th>\n",
       "    </tr>\n",
       "  </thead>\n",
       "  <tbody>\n",
       "    <tr>\n",
       "      <th>0</th>\n",
       "      <td>44</td>\n",
       "      <td>2</td>\n",
       "      <td>3</td>\n",
       "      <td>203</td>\n",
       "      <td>15.0</td>\n",
       "      <td>22338.0</td>\n",
       "      <td>229.0</td>\n",
       "      <td>22109.0</td>\n",
       "      <td>150.223167</td>\n",
       "      <td>22338.0</td>\n",
       "      <td>229.0</td>\n",
       "      <td>22109.0</td>\n",
       "      <td>0.003207</td>\n",
       "      <td>5073249.0</td>\n",
       "      <td>2286.282791</td>\n",
       "      <td>4951068.0</td>\n",
       "      <td>2257.857391</td>\n",
       "      <td>8.802054e-10</td>\n",
       "      <td>6.007264e-12</td>\n",
       "    </tr>\n",
       "    <tr>\n",
       "      <th>1</th>\n",
       "      <td>45</td>\n",
       "      <td>2</td>\n",
       "      <td>4</td>\n",
       "      <td>204</td>\n",
       "      <td>30.0</td>\n",
       "      <td>14779.0</td>\n",
       "      <td>129.0</td>\n",
       "      <td>14650.0</td>\n",
       "      <td>122.098321</td>\n",
       "      <td>14779.0</td>\n",
       "      <td>129.0</td>\n",
       "      <td>14650.0</td>\n",
       "      <td>0.002606</td>\n",
       "      <td>5073249.0</td>\n",
       "      <td>2286.282791</td>\n",
       "      <td>5315120.0</td>\n",
       "      <td>2338.441361</td>\n",
       "      <td>5.432983e-10</td>\n",
       "      <td>4.540952e-12</td>\n",
       "    </tr>\n",
       "    <tr>\n",
       "      <th>2</th>\n",
       "      <td>46</td>\n",
       "      <td>2</td>\n",
       "      <td>5</td>\n",
       "      <td>205</td>\n",
       "      <td>45.0</td>\n",
       "      <td>14042.0</td>\n",
       "      <td>116.0</td>\n",
       "      <td>13926.0</td>\n",
       "      <td>118.987394</td>\n",
       "      <td>14042.0</td>\n",
       "      <td>116.0</td>\n",
       "      <td>13926.0</td>\n",
       "      <td>0.002540</td>\n",
       "      <td>5073249.0</td>\n",
       "      <td>2286.282791</td>\n",
       "      <td>5636789.0</td>\n",
       "      <td>2408.123959</td>\n",
       "      <td>4.869770e-10</td>\n",
       "      <td>4.171833e-12</td>\n",
       "    </tr>\n",
       "    <tr>\n",
       "      <th>3</th>\n",
       "      <td>47</td>\n",
       "      <td>2</td>\n",
       "      <td>6</td>\n",
       "      <td>206</td>\n",
       "      <td>60.0</td>\n",
       "      <td>11993.0</td>\n",
       "      <td>121.0</td>\n",
       "      <td>11872.0</td>\n",
       "      <td>110.063618</td>\n",
       "      <td>11993.0</td>\n",
       "      <td>121.0</td>\n",
       "      <td>11872.0</td>\n",
       "      <td>0.002349</td>\n",
       "      <td>5073249.0</td>\n",
       "      <td>2286.282791</td>\n",
       "      <td>5376800.0</td>\n",
       "      <td>2349.417800</td>\n",
       "      <td>4.352250e-10</td>\n",
       "      <td>4.044147e-12</td>\n",
       "    </tr>\n",
       "    <tr>\n",
       "      <th>4</th>\n",
       "      <td>48</td>\n",
       "      <td>2</td>\n",
       "      <td>7</td>\n",
       "      <td>207</td>\n",
       "      <td>75.0</td>\n",
       "      <td>11707.0</td>\n",
       "      <td>104.0</td>\n",
       "      <td>11603.0</td>\n",
       "      <td>108.678425</td>\n",
       "      <td>11707.0</td>\n",
       "      <td>104.0</td>\n",
       "      <td>11603.0</td>\n",
       "      <td>0.002320</td>\n",
       "      <td>5073249.0</td>\n",
       "      <td>2286.282791</td>\n",
       "      <td>5564633.0</td>\n",
       "      <td>2394.397419</td>\n",
       "      <td>4.110055e-10</td>\n",
       "      <td>3.858153e-12</td>\n",
       "    </tr>\n",
       "  </tbody>\n",
       "</table>\n",
       "</div>"
      ],
      "text/plain": [
       "   index_og  d1  d2  d1d2  angle       Cp     Cn       Cd      Cd_err  \\\n",
       "0        44   2   3   203   15.0  22338.0  229.0  22109.0  150.223167   \n",
       "1        45   2   4   204   30.0  14779.0  129.0  14650.0  122.098321   \n",
       "2        46   2   5   205   45.0  14042.0  116.0  13926.0  118.987394   \n",
       "3        47   2   6   206   60.0  11993.0  121.0  11872.0  110.063618   \n",
       "4        48   2   7   207   75.0  11707.0  104.0  11603.0  108.678425   \n",
       "\n",
       "        Np     Nn       Nd    Nd_err        Sd1      Sd1_err        Sd2  \\\n",
       "0  22338.0  229.0  22109.0  0.003207  5073249.0  2286.282791  4951068.0   \n",
       "1  14779.0  129.0  14650.0  0.002606  5073249.0  2286.282791  5315120.0   \n",
       "2  14042.0  116.0  13926.0  0.002540  5073249.0  2286.282791  5636789.0   \n",
       "3  11993.0  121.0  11872.0  0.002349  5073249.0  2286.282791  5376800.0   \n",
       "4  11707.0  104.0  11603.0  0.002320  5073249.0  2286.282791  5564633.0   \n",
       "\n",
       "       Sd2_err             W         W_err  \n",
       "0  2257.857391  8.802054e-10  6.007264e-12  \n",
       "1  2338.441361  5.432983e-10  4.540952e-12  \n",
       "2  2408.123959  4.869770e-10  4.171833e-12  \n",
       "3  2349.417800  4.352250e-10  4.044147e-12  \n",
       "4  2394.397419  4.110055e-10  3.858153e-12  "
      ]
     },
     "execution_count": 40,
     "metadata": {},
     "output_type": "execute_result"
    }
   ],
   "source": [
    "det_df.head()"
   ]
  },
  {
   "cell_type": "code",
   "execution_count": 44,
   "metadata": {
    "collapsed": false
   },
   "outputs": [
    {
     "data": {
      "text/plain": [
       "<matplotlib.figure.Figure at 0xbfbe1d0>"
      ]
     },
     "metadata": {},
     "output_type": "display_data"
    },
    {
     "data": {
      "image/png": "[encoded data removed]",
      "text/plain": [
       "<matplotlib.figure.Figure at 0xcd8b8d0>"
      ]
     },
     "metadata": {},
     "output_type": "display_data"
    }
   ],
   "source": [
    "bicorr_plot.W_vs_angle_all(det_df)"
   ]
  },
  {
   "cell_type": "markdown",
   "metadata": {},
   "source": [
    "This is much \"tighter\" than the raw counts. "
   ]
  }
 ],
 "metadata": {
  "anaconda-cloud": {},
  "kernelspec": {
   "display_name": "Python [conda env:Anaconda3]",
   "language": "python",
   "name": "conda-env-Anaconda3-py"
  },
  "language_info": {
   "codemirror_mode": {
    "name": "ipython",
    "version": 3
   },
   "file_extension": ".py",
   "mimetype": "text/x-python",
   "name": "python",
   "nbconvert_exporter": "python",
   "pygments_lexer": "ipython3",
   "version": "3.5.2"
  }
 },
 "nbformat": 4,
 "nbformat_minor": 1
}
