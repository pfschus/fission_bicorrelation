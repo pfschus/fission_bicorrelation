{
 "cells": [
  {
   "cell_type": "markdown",
   "metadata": {},
   "source": [
    "# Goal: Calculate $A_{sym}$ for different energy thresholds or energy bins"
   ]
  },
  {
   "cell_type": "markdown",
   "metadata": {},
   "source": [
    "This is a very simple and straightforward way of demonstrating that higher energy neutrons experience stronger anisotropy. \n",
    "\n",
    "We will calculate the magnitude of anisotropy as a one-dimensional parameter as:\n",
    "\n",
    "$$A_{sym} = \\frac{W(180^\\circ)}{W(90^\\circ)}$$"
   ]
  },
  {
   "cell_type": "markdown",
   "metadata": {},
   "source": [
    "This is the same method as Tony Shin is using in his multiplicity counter work, and the same method that several previous papers have used. "
   ]
  },
  {
   "cell_type": "code",
   "execution_count": 1,
   "metadata": {
    "collapsed": true
   },
   "outputs": [],
   "source": [
    "import os\n",
    "import sys\n",
    "import matplotlib.pyplot as plt\n",
    "import numpy as np\n",
    "import imageio"
   ]
  },
  {
   "cell_type": "code",
   "execution_count": 2,
   "metadata": {
    "collapsed": true
   },
   "outputs": [],
   "source": [
    "import pandas as pd"
   ]
  },
  {
   "cell_type": "code",
   "execution_count": 3,
   "metadata": {
    "collapsed": true
   },
   "outputs": [],
   "source": [
    "import seaborn as sns\n",
    "sns.set(style='ticks')"
   ]
  },
  {
   "cell_type": "code",
   "execution_count": 4,
   "metadata": {
    "collapsed": true
   },
   "outputs": [],
   "source": [
    "sys.path.append('../scripts/')"
   ]
  },
  {
   "cell_type": "code",
   "execution_count": 5,
   "metadata": {
    "collapsed": true
   },
   "outputs": [],
   "source": [
    "import bicorr as bicorr\n",
    "import bicorr_plot as bicorr_plot\n",
    "import bicorr_sums as bicorr_sums\n",
    "import bicorr_math as bicorr_math"
   ]
  },
  {
   "cell_type": "code",
   "execution_count": 6,
   "metadata": {
    "collapsed": true
   },
   "outputs": [],
   "source": [
    "%load_ext autoreload\n",
    "%autoreload 2"
   ]
  },
  {
   "cell_type": "markdown",
   "metadata": {},
   "source": [
    "# Load the data\n",
    "\n",
    "According to the method I laid out at the end of `singles_correction.ipynb`, I need to load the following data:\n",
    "\n",
    "* det_df\n",
    "* dict_index_to_det\n",
    "* singles_hist\n",
    "* dt_bin_edges_sh\n",
    "* bhp_nn_pos\n",
    "* bhp_nn_neg\n",
    "* dt_bin_edges\n",
    "* emin\n",
    "* emax\n",
    "* num_fissions\n",
    "* angle_bin_edges"
   ]
  },
  {
   "cell_type": "markdown",
   "metadata": {},
   "source": [
    "I will work with the data from the combined data sets in `analysis\\Cf072115_to_Cf072215b`."
   ]
  },
  {
   "cell_type": "code",
   "execution_count": 7,
   "metadata": {
    "collapsed": true
   },
   "outputs": [],
   "source": [
    "det_df = bicorr.load_det_df('../meas_info/det_df_pairs_angles.csv', remove_fc_neighbors = True)"
   ]
  },
  {
   "cell_type": "code",
   "execution_count": 8,
   "metadata": {
    "collapsed": false
   },
   "outputs": [],
   "source": [
    "singles_hist, dt_bin_edges_sh, dict_det_to_index, dict_index_to_det = bicorr.load_singles_hist(filepath='../analysis/Cf072115_to_Cf072215b/datap')"
   ]
  },
  {
   "cell_type": "code",
   "execution_count": 9,
   "metadata": {
    "collapsed": true
   },
   "outputs": [],
   "source": [
    "npzfile = np.load('../analysis/Cf072115_to_Cf072215b/datap/bhp_nn_by_pair_1ns.npz')\n",
    "bhp_nn_pos = npzfile['bhp_nn_pos']\n",
    "bhp_nn_neg = npzfile['bhp_nn_neg']\n",
    "dt_bin_edges = npzfile['dt_bin_edges']"
   ]
  },
  {
   "cell_type": "markdown",
   "metadata": {},
   "source": [
    "`emin`, `emax` will be input parameters. I will vary `emin`."
   ]
  },
  {
   "cell_type": "code",
   "execution_count": 10,
   "metadata": {
    "collapsed": false
   },
   "outputs": [],
   "source": [
    "num_fissions = 2194651200.00\n",
    "angle_bin_edges = np.arange(8,190,10)"
   ]
  },
  {
   "cell_type": "markdown",
   "metadata": {},
   "source": [
    "# Calculate $A_{sym}$ in a given energy range\n",
    "\n",
    "Use the all-in-one function for calculating `singles_df`, `det_df`, and `by_angles_df` in one step: `bicorr_sums.perform_W_calcs`.\n",
    "Look at what has been our default energy range."
   ]
  },
  {
   "cell_type": "markdown",
   "metadata": {},
   "source": [
    "## Produce all of the relevant dataframes"
   ]
  },
  {
   "cell_type": "code",
   "execution_count": 22,
   "metadata": {
    "collapsed": true
   },
   "outputs": [],
   "source": [
    "emin = .62\n",
    "emax = 12"
   ]
  },
  {
   "cell_type": "markdown",
   "metadata": {},
   "source": [
    "The code will produce the sum across energy ranges that are rounded down from these values to find the bin edges. Where should I get them back from?\n",
    "\n",
    "Add optional flag to return `energies_real`. This way it won't break all my old notebooks. Note that energies_real is `[emax_real,emin_real]`."
   ]
  },
  {
   "cell_type": "code",
   "execution_count": 23,
   "metadata": {
    "collapsed": false
   },
   "outputs": [
    {
     "name": "stdout",
     "output_type": "stream",
     "text": [
      "[11.915598705935022, 0.60755914317462678]\n"
     ]
    }
   ],
   "source": [
    "singles_df, det_df, by_angle_df, energies_real = bicorr_sums.perform_W_calcs(det_df,\n",
    "                    dict_index_to_det, singles_hist, dt_bin_edges_sh,\n",
    "                    bhp_nn_pos, bhp_nn_neg, dt_bin_edges,\n",
    "                    num_fissions, emin, emax, angle_bin_edges, return_real_energies_flag = True)\n",
    "print(energies_real)"
   ]
  },
  {
   "cell_type": "markdown",
   "metadata": {},
   "source": [
    "## Store information at $180^\\circ$ and $90^\\circ$\n",
    "\n",
    "Find the bins in `by_angle_df` that contain $180^\\circ$ and $90^\\circ$."
   ]
  },
  {
   "cell_type": "code",
   "execution_count": 24,
   "metadata": {
    "collapsed": false
   },
   "outputs": [
    {
     "data": {
      "text/plain": [
       "array([  8,  18,  28,  38,  48,  58,  68,  78,  88,  98, 108, 118, 128,\n",
       "       138, 148, 158, 168, 178, 188])"
      ]
     },
     "execution_count": 24,
     "metadata": {},
     "output_type": "execute_result"
    }
   ],
   "source": [
    "angle_bin_edges"
   ]
  },
  {
   "cell_type": "code",
   "execution_count": 25,
   "metadata": {
    "collapsed": false
   },
   "outputs": [],
   "source": [
    "series_180 = by_angle_df.loc[np.int(np.digitize(180,angle_bin_edges))-1]"
   ]
  },
  {
   "cell_type": "code",
   "execution_count": 26,
   "metadata": {
    "collapsed": false
   },
   "outputs": [],
   "source": [
    "series_90 = by_angle_df.loc[np.int(np.digitize(90,angle_bin_edges))-1]"
   ]
  },
  {
   "cell_type": "code",
   "execution_count": 27,
   "metadata": {
    "collapsed": false
   },
   "outputs": [
    {
     "data": {
      "text/plain": [
       "1.5249435107256457"
      ]
     },
     "execution_count": 27,
     "metadata": {},
     "output_type": "execute_result"
    }
   ],
   "source": [
    "series_180['W']/series_90['W']"
   ]
  },
  {
   "cell_type": "code",
   "execution_count": 28,
   "metadata": {
    "collapsed": true
   },
   "outputs": [],
   "source": [
    "num = series_180['W']\n",
    "num_err = series_180['W_err']\n",
    "denom = series_90['W']\n",
    "denom_err = series_90['W_err']\n",
    "\n",
    "Asym, Asym_err = bicorr_math.prop_err_division(num,num_err,denom,denom_err)"
   ]
  },
  {
   "cell_type": "code",
   "execution_count": 29,
   "metadata": {
    "collapsed": false
   },
   "outputs": [
    {
     "data": {
      "text/plain": [
       "1.5249435107256457"
      ]
     },
     "execution_count": 29,
     "metadata": {},
     "output_type": "execute_result"
    }
   ],
   "source": [
    "Asym"
   ]
  },
  {
   "cell_type": "markdown",
   "metadata": {},
   "source": [
    "## Functionalize this"
   ]
  },
  {
   "cell_type": "code",
   "execution_count": 30,
   "metadata": {
    "collapsed": false
   },
   "outputs": [
    {
     "data": {
      "text/plain": [
       "(1.5249435107256457, 0.033908127615987806)"
      ]
     },
     "execution_count": 30,
     "metadata": {},
     "output_type": "execute_result"
    }
   ],
   "source": [
    "bicorr_sums.calc_Asym(by_angle_df)"
   ]
  },
  {
   "cell_type": "markdown",
   "metadata": {},
   "source": [
    "# Calculate for variable `emin`\n",
    "\n",
    "## Create `Asym_df` for storing results"
   ]
  },
  {
   "cell_type": "markdown",
   "metadata": {},
   "source": [
    "Create a dataframe for storing these values, because I like dataframes now. "
   ]
  },
  {
   "cell_type": "code",
   "execution_count": 31,
   "metadata": {
    "collapsed": false
   },
   "outputs": [
    {
     "name": "stdout",
     "output_type": "stream",
     "text": [
      "[ 0.5  0.7  0.9  1.1  1.3  1.5  1.7  1.9  2.1  2.3  2.5  2.7  2.9  3.1  3.3\n",
      "  3.5  3.7  3.9  4.1  4.3  4.5  4.7  4.9]\n"
     ]
    }
   ],
   "source": [
    "emins = np.arange(0.5,5,.2)\n",
    "print(emins)\n",
    "emax = 12"
   ]
  },
  {
   "cell_type": "code",
   "execution_count": 49,
   "metadata": {
    "collapsed": false
   },
   "outputs": [],
   "source": [
    "Asym_df = pd.DataFrame(data = emins, columns = {'emin'})\n",
    "Asym_df['emax'] = emax\n",
    "Asym_df['Asym'] = np.nan\n",
    "Asym_df['Asym_err'] = np.nan"
   ]
  },
  {
   "cell_type": "code",
   "execution_count": 50,
   "metadata": {
    "collapsed": false
   },
   "outputs": [
    {
     "data": {
      "text/html": [
       "<div>\n",
       "<table border=\"1\" class=\"dataframe\">\n",
       "  <thead>\n",
       "    <tr style=\"text-align: right;\">\n",
       "      <th></th>\n",
       "      <th>emin</th>\n",
       "      <th>emax</th>\n",
       "      <th>Asym</th>\n",
       "      <th>Asym_err</th>\n",
       "    </tr>\n",
       "  </thead>\n",
       "  <tbody>\n",
       "    <tr>\n",
       "      <th>0</th>\n",
       "      <td>0.5</td>\n",
       "      <td>12</td>\n",
       "      <td>NaN</td>\n",
       "      <td>NaN</td>\n",
       "    </tr>\n",
       "    <tr>\n",
       "      <th>1</th>\n",
       "      <td>0.7</td>\n",
       "      <td>12</td>\n",
       "      <td>NaN</td>\n",
       "      <td>NaN</td>\n",
       "    </tr>\n",
       "    <tr>\n",
       "      <th>2</th>\n",
       "      <td>0.9</td>\n",
       "      <td>12</td>\n",
       "      <td>NaN</td>\n",
       "      <td>NaN</td>\n",
       "    </tr>\n",
       "    <tr>\n",
       "      <th>3</th>\n",
       "      <td>1.1</td>\n",
       "      <td>12</td>\n",
       "      <td>NaN</td>\n",
       "      <td>NaN</td>\n",
       "    </tr>\n",
       "    <tr>\n",
       "      <th>4</th>\n",
       "      <td>1.3</td>\n",
       "      <td>12</td>\n",
       "      <td>NaN</td>\n",
       "      <td>NaN</td>\n",
       "    </tr>\n",
       "  </tbody>\n",
       "</table>\n",
       "</div>"
      ],
      "text/plain": [
       "   emin  emax  Asym  Asym_err\n",
       "0   0.5    12   NaN       NaN\n",
       "1   0.7    12   NaN       NaN\n",
       "2   0.9    12   NaN       NaN\n",
       "3   1.1    12   NaN       NaN\n",
       "4   1.3    12   NaN       NaN"
      ]
     },
     "execution_count": 50,
     "metadata": {},
     "output_type": "execute_result"
    }
   ],
   "source": [
    "Asym_df.head()"
   ]
  },
  {
   "cell_type": "markdown",
   "metadata": {},
   "source": [
    "## Fill `Asym_df`"
   ]
  },
  {
   "cell_type": "code",
   "execution_count": 69,
   "metadata": {
    "collapsed": false
   },
   "outputs": [],
   "source": [
    "for index, row in Asym_df.iterrows():    \n",
    "    singles_df, det_df, by_angle_df = bicorr_sums.perform_W_calcs(det_df,\n",
    "                    dict_index_to_det, singles_hist, dt_bin_edges_sh,\n",
    "                    bhp_nn_pos, bhp_nn_neg, dt_bin_edges,\n",
    "                    num_fissions, row['emin'], row['emax'], angle_bin_edges)\n",
    "    Asym, Asym_err = bicorr_sums.calc_Asym(by_angle_df)\n",
    "    \n",
    "    Asym_df.loc[index,'Asym'] = Asym\n",
    "    Asym_df.loc[index,'Asym_err'] = Asym_err"
   ]
  },
  {
   "cell_type": "code",
   "execution_count": 66,
   "metadata": {
    "collapsed": false
   },
   "outputs": [
    {
     "data": {
      "image/png": "[encoded data removed]",
      "text/plain": [
       "<matplotlib.figure.Figure at 0xc177278>"
      ]
     },
     "metadata": {},
     "output_type": "display_data"
    }
   ],
   "source": [
    "plt.figure(figsize=(4,3))\n",
    "plt.errorbar(Asym_df['emin'],Asym_df['Asym'],yerr=Asym_df['Asym_err'],fmt='.',color='k')\n",
    "plt.xlabel('$E_{min}$ (MeV)')\n",
    "plt.ylabel('$A_{sym}$')\n",
    "plt.title('Errors from std(W)')\n",
    "sns.despine(right=True)\n",
    "bicorr_plot.save_fig_to_folder('Asym_vs_angle_std_W')\n",
    "plt.show()"
   ]
  },
  {
   "cell_type": "markdown",
   "metadata": {},
   "source": [
    "If instead I want to propagate errors from `W_err` (statistical error):"
   ]
  },
  {
   "cell_type": "code",
   "execution_count": 67,
   "metadata": {
    "collapsed": true
   },
   "outputs": [],
   "source": [
    "for index, row in Asym_df.iterrows():    \n",
    "    singles_df, det_df, by_angle_df = bicorr_sums.perform_W_calcs(det_df,\n",
    "                    dict_index_to_det, singles_hist, dt_bin_edges_sh,\n",
    "                    bhp_nn_pos, bhp_nn_neg, dt_bin_edges,\n",
    "                    num_fissions, row['emin'], row['emax'], angle_bin_edges)\n",
    "    Asym, Asym_err = bicorr_sums.calc_Asym(by_angle_df, std_flag=False)\n",
    "    \n",
    "    Asym_df.loc[index,'Asym'] = Asym\n",
    "    Asym_df.loc[index,'Asym_err'] = Asym_err"
   ]
  },
  {
   "cell_type": "markdown",
   "metadata": {},
   "source": [
    "## Plot, save figure"
   ]
  },
  {
   "cell_type": "code",
   "execution_count": 68,
   "metadata": {
    "collapsed": false
   },
   "outputs": [
    {
     "data": {
      "image/png": "[encoded data removed]",
      "text/plain": [
       "<matplotlib.figure.Figure at 0xbe325f8>"
      ]
     },
     "metadata": {},
     "output_type": "display_data"
    }
   ],
   "source": [
    "plt.figure(figsize=(4,3))\n",
    "plt.errorbar(Asym_df['emin'],Asym_df['Asym'],yerr=Asym_df['Asym_err'],fmt='.',color='k')\n",
    "plt.xlabel('$E_{min}$ (MeV)')\n",
    "plt.ylabel('$A_{sym}$')\n",
    "plt.title('Errors from W_err')\n",
    "sns.despine(right=True)\n",
    "bicorr_plot.save_fig_to_folder('Asym_vs_angle_W_err')\n",
    "plt.show()"
   ]
  },
  {
   "cell_type": "markdown",
   "metadata": {},
   "source": [
    "## Functionalize this"
   ]
  },
  {
   "cell_type": "code",
   "execution_count": 72,
   "metadata": {
    "collapsed": false
   },
   "outputs": [
    {
     "data": {
      "image/png": "[encoded data removed]",
      "text/plain": [
       "<matplotlib.figure.Figure at 0xd5ad6a0>"
      ]
     },
     "metadata": {},
     "output_type": "display_data"
    },
    {
     "data": {
      "text/html": [
       "<div>\n",
       "<table border=\"1\" class=\"dataframe\">\n",
       "  <thead>\n",
       "    <tr style=\"text-align: right;\">\n",
       "      <th></th>\n",
       "      <th>emin</th>\n",
       "      <th>emax</th>\n",
       "      <th>Asym</th>\n",
       "      <th>Asym_err</th>\n",
       "    </tr>\n",
       "  </thead>\n",
       "  <tbody>\n",
       "    <tr>\n",
       "      <th>0</th>\n",
       "      <td>0.5</td>\n",
       "      <td>12</td>\n",
       "      <td>1.502363</td>\n",
       "      <td>0.033244</td>\n",
       "    </tr>\n",
       "    <tr>\n",
       "      <th>1</th>\n",
       "      <td>0.7</td>\n",
       "      <td>12</td>\n",
       "      <td>1.545859</td>\n",
       "      <td>0.035890</td>\n",
       "    </tr>\n",
       "    <tr>\n",
       "      <th>2</th>\n",
       "      <td>0.9</td>\n",
       "      <td>12</td>\n",
       "      <td>1.604191</td>\n",
       "      <td>0.038897</td>\n",
       "    </tr>\n",
       "    <tr>\n",
       "      <th>3</th>\n",
       "      <td>1.1</td>\n",
       "      <td>12</td>\n",
       "      <td>1.668908</td>\n",
       "      <td>0.042293</td>\n",
       "    </tr>\n",
       "    <tr>\n",
       "      <th>4</th>\n",
       "      <td>1.3</td>\n",
       "      <td>12</td>\n",
       "      <td>1.749523</td>\n",
       "      <td>0.046560</td>\n",
       "    </tr>\n",
       "  </tbody>\n",
       "</table>\n",
       "</div>"
      ],
      "text/plain": [
       "   emin  emax      Asym  Asym_err\n",
       "0   0.5    12  1.502363  0.033244\n",
       "1   0.7    12  1.545859  0.035890\n",
       "2   0.9    12  1.604191  0.038897\n",
       "3   1.1    12  1.668908  0.042293\n",
       "4   1.3    12  1.749523  0.046560"
      ]
     },
     "execution_count": 72,
     "metadata": {},
     "output_type": "execute_result"
    }
   ],
   "source": [
    "Asym_df = bicorr_sums.calc_Asym_vs_emin(det_df,\n",
    "                    dict_index_to_det, singles_hist, dt_bin_edges_sh,\n",
    "                    bhp_nn_pos, bhp_nn_neg, dt_bin_edges,\n",
    "                    num_fissions, emins, emax, angle_bin_edges,\n",
    "                    plot_flag=True, save_flag=False)\n",
    "Asym_df.head()"
   ]
  },
  {
   "cell_type": "markdown",
   "metadata": {},
   "source": [
    "I'm updating this to return `emin_real` and `emax_real`, which are slightly different than `emin` and `emax` due to discrete binning. "
   ]
  },
  {
   "cell_type": "code",
   "execution_count": 32,
   "metadata": {
    "collapsed": false
   },
   "outputs": [
    {
     "data": {
      "image/png": "[encoded data removed]",
      "text/plain": [
       "<matplotlib.figure.Figure at 0x2cfbe860>"
      ]
     },
     "metadata": {},
     "output_type": "display_data"
    },
    {
     "data": {
      "text/html": [
       "<div>\n",
       "<table border=\"1\" class=\"dataframe\">\n",
       "  <thead>\n",
       "    <tr style=\"text-align: right;\">\n",
       "      <th></th>\n",
       "      <th>emin</th>\n",
       "      <th>emax</th>\n",
       "      <th>emin_real</th>\n",
       "      <th>emax_real</th>\n",
       "      <th>Asym</th>\n",
       "      <th>Asym_err</th>\n",
       "    </tr>\n",
       "  </thead>\n",
       "  <tbody>\n",
       "    <tr>\n",
       "      <th>0</th>\n",
       "      <td>0.5</td>\n",
       "      <td>12</td>\n",
       "      <td>0.495313</td>\n",
       "      <td>11.915599</td>\n",
       "      <td>1.502363</td>\n",
       "      <td>0.033244</td>\n",
       "    </tr>\n",
       "    <tr>\n",
       "      <th>1</th>\n",
       "      <td>0.7</td>\n",
       "      <td>12</td>\n",
       "      <td>0.694250</td>\n",
       "      <td>11.915599</td>\n",
       "      <td>1.545859</td>\n",
       "      <td>0.035890</td>\n",
       "    </tr>\n",
       "    <tr>\n",
       "      <th>2</th>\n",
       "      <td>0.9</td>\n",
       "      <td>12</td>\n",
       "      <td>0.886284</td>\n",
       "      <td>11.915599</td>\n",
       "      <td>1.604191</td>\n",
       "      <td>0.038897</td>\n",
       "    </tr>\n",
       "    <tr>\n",
       "      <th>3</th>\n",
       "      <td>1.1</td>\n",
       "      <td>12</td>\n",
       "      <td>1.072404</td>\n",
       "      <td>11.915599</td>\n",
       "      <td>1.668908</td>\n",
       "      <td>0.042293</td>\n",
       "    </tr>\n",
       "    <tr>\n",
       "      <th>4</th>\n",
       "      <td>1.3</td>\n",
       "      <td>12</td>\n",
       "      <td>1.282905</td>\n",
       "      <td>11.915599</td>\n",
       "      <td>1.749523</td>\n",
       "      <td>0.046560</td>\n",
       "    </tr>\n",
       "  </tbody>\n",
       "</table>\n",
       "</div>"
      ],
      "text/plain": [
       "   emin  emax  emin_real  emax_real      Asym  Asym_err\n",
       "0   0.5    12   0.495313  11.915599  1.502363  0.033244\n",
       "1   0.7    12   0.694250  11.915599  1.545859  0.035890\n",
       "2   0.9    12   0.886284  11.915599  1.604191  0.038897\n",
       "3   1.1    12   1.072404  11.915599  1.668908  0.042293\n",
       "4   1.3    12   1.282905  11.915599  1.749523  0.046560"
      ]
     },
     "execution_count": 32,
     "metadata": {},
     "output_type": "execute_result"
    }
   ],
   "source": [
    "Asym_df = bicorr_sums.calc_Asym_vs_emin(det_df,\n",
    "                    dict_index_to_det, singles_hist, dt_bin_edges_sh,\n",
    "                    bhp_nn_pos, bhp_nn_neg, dt_bin_edges,\n",
    "                    num_fissions, emins, emax, angle_bin_edges,\n",
    "                    plot_flag=True, save_flag=False)\n",
    "Asym_df.head()"
   ]
  },
  {
   "cell_type": "markdown",
   "metadata": {},
   "source": [
    "# Calculate for variable `ebin`\n",
    "\n",
    "Instead of varying energy threshold, only select events within a given energy bin, bound by emin, emax.\n",
    "\n",
    "The only thing I really need to change is how I initialize `Asym_df`."
   ]
  },
  {
   "cell_type": "code",
   "execution_count": 13,
   "metadata": {
    "collapsed": true
   },
   "outputs": [],
   "source": [
    "e_bin_edges = np.arange(0.5,5,.2)"
   ]
  },
  {
   "cell_type": "code",
   "execution_count": 17,
   "metadata": {
    "collapsed": false
   },
   "outputs": [
    {
     "data": {
      "text/html": [
       "<div>\n",
       "<table border=\"1\" class=\"dataframe\">\n",
       "  <thead>\n",
       "    <tr style=\"text-align: right;\">\n",
       "      <th></th>\n",
       "      <th>emax</th>\n",
       "      <th>emin</th>\n",
       "    </tr>\n",
       "  </thead>\n",
       "  <tbody>\n",
       "    <tr>\n",
       "      <th>0</th>\n",
       "      <td>0.7</td>\n",
       "      <td>0.5</td>\n",
       "    </tr>\n",
       "    <tr>\n",
       "      <th>1</th>\n",
       "      <td>0.9</td>\n",
       "      <td>0.7</td>\n",
       "    </tr>\n",
       "    <tr>\n",
       "      <th>2</th>\n",
       "      <td>1.1</td>\n",
       "      <td>0.9</td>\n",
       "    </tr>\n",
       "    <tr>\n",
       "      <th>3</th>\n",
       "      <td>1.3</td>\n",
       "      <td>1.1</td>\n",
       "    </tr>\n",
       "    <tr>\n",
       "      <th>4</th>\n",
       "      <td>1.5</td>\n",
       "      <td>1.3</td>\n",
       "    </tr>\n",
       "  </tbody>\n",
       "</table>\n",
       "</div>"
      ],
      "text/plain": [
       "   emax  emin\n",
       "0   0.7   0.5\n",
       "1   0.9   0.7\n",
       "2   1.1   0.9\n",
       "3   1.3   1.1\n",
       "4   1.5   1.3"
      ]
     },
     "execution_count": 17,
     "metadata": {},
     "output_type": "execute_result"
    }
   ],
   "source": [
    "Asym_df = pd.DataFrame(data = {'emin':e_bin_edges[:-1],'emax':e_bin_edges[1:]})\n",
    "Asym_df.head()"
   ]
  },
  {
   "cell_type": "markdown",
   "metadata": {},
   "source": [
    "I updated this method in a new function called `bicorr_sums.calc_Asym_vs_ebin`. The rest of the function is the same as `calc_Asym_vs_emin`."
   ]
  },
  {
   "cell_type": "code",
   "execution_count": 20,
   "metadata": {
    "collapsed": false
   },
   "outputs": [
    {
     "name": "stderr",
     "output_type": "stream",
     "text": [
      "../scripts\\bicorr_math.py:28: RuntimeWarning: invalid value encountered in double_scalars\n",
      "  A = num/denom\n",
      "../scripts\\bicorr_math.py:30: RuntimeWarning: invalid value encountered in double_scalars\n",
      "  A_err = A*np.sqrt((num_err/num)**2+(denom_err/denom)**2)\n"
     ]
    },
    {
     "data": {
      "image/png": "[encoded data removed]",
      "text/plain": [
       "<matplotlib.figure.Figure at 0xb378668>"
      ]
     },
     "metadata": {},
     "output_type": "display_data"
    },
    {
     "data": {
      "text/html": [
       "<div>\n",
       "<table border=\"1\" class=\"dataframe\">\n",
       "  <thead>\n",
       "    <tr style=\"text-align: right;\">\n",
       "      <th></th>\n",
       "      <th>emax</th>\n",
       "      <th>emin</th>\n",
       "      <th>Asym</th>\n",
       "      <th>Asym_err</th>\n",
       "    </tr>\n",
       "  </thead>\n",
       "  <tbody>\n",
       "    <tr>\n",
       "      <th>0</th>\n",
       "      <td>0.7</td>\n",
       "      <td>0.5</td>\n",
       "      <td>1.174629</td>\n",
       "      <td>0.331594</td>\n",
       "    </tr>\n",
       "    <tr>\n",
       "      <th>1</th>\n",
       "      <td>0.9</td>\n",
       "      <td>0.7</td>\n",
       "      <td>1.050754</td>\n",
       "      <td>0.167779</td>\n",
       "    </tr>\n",
       "    <tr>\n",
       "      <th>2</th>\n",
       "      <td>1.1</td>\n",
       "      <td>0.9</td>\n",
       "      <td>1.172604</td>\n",
       "      <td>0.167299</td>\n",
       "    </tr>\n",
       "    <tr>\n",
       "      <th>3</th>\n",
       "      <td>1.3</td>\n",
       "      <td>1.1</td>\n",
       "      <td>1.243500</td>\n",
       "      <td>0.190377</td>\n",
       "    </tr>\n",
       "    <tr>\n",
       "      <th>4</th>\n",
       "      <td>1.5</td>\n",
       "      <td>1.3</td>\n",
       "      <td>1.243286</td>\n",
       "      <td>0.257328</td>\n",
       "    </tr>\n",
       "  </tbody>\n",
       "</table>\n",
       "</div>"
      ],
      "text/plain": [
       "   emax  emin      Asym  Asym_err\n",
       "0   0.7   0.5  1.174629  0.331594\n",
       "1   0.9   0.7  1.050754  0.167779\n",
       "2   1.1   0.9  1.172604  0.167299\n",
       "3   1.3   1.1  1.243500  0.190377\n",
       "4   1.5   1.3  1.243286  0.257328"
      ]
     },
     "execution_count": 20,
     "metadata": {},
     "output_type": "execute_result"
    }
   ],
   "source": [
    "Asym_df = bicorr_sums.calc_Asym_vs_ebin(det_df,\n",
    "                    dict_index_to_det, singles_hist, dt_bin_edges_sh,\n",
    "                    bhp_nn_pos, bhp_nn_neg, dt_bin_edges,\n",
    "                    num_fissions, e_bin_edges, angle_bin_edges,\n",
    "                    plot_flag=True, save_flag=False)\n",
    "Asym_df.head()"
   ]
  },
  {
   "cell_type": "code",
   "execution_count": null,
   "metadata": {
    "collapsed": true
   },
   "outputs": [],
   "source": []
  }
 ],
 "metadata": {
  "kernelspec": {
   "display_name": "Python [conda env:Anaconda3]",
   "language": "python",
   "name": "conda-env-Anaconda3-py"
  },
  "language_info": {
   "codemirror_mode": {
    "name": "ipython",
    "version": 3
   },
   "file_extension": ".py",
   "mimetype": "text/x-python",
   "name": "python",
   "nbconvert_exporter": "python",
   "pygments_lexer": "ipython3",
   "version": "3.5.2"
  }
 },
 "nbformat": 4,
 "nbformat_minor": 1
}
