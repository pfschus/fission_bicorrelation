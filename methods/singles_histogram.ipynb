{
 "cells": [
  {
   "cell_type": "markdown",
   "metadata": {},
   "source": [
    "# Goal: Build singles rate histogram\n",
    "\n",
    "In order to correct for differences in detection efficiencies and solid angles, we will divide all of the doubles rates by the singles rates of the two detectors as follows:\n",
    "\n",
    "$ W_{i,j} = \\frac{D_{i,j}}{S_i*S_j}$\n",
    "\n",
    "This requires calculating $S_i$ and $S_j$ from the `cced` files. I need to rewrite my analysis from the beginning, or write another function that parses the `cced` file.\n",
    "\n",
    "I want to produce a histogram of event rates for each detector vs. $\\Delta t$."
   ]
  },
  {
   "cell_type": "code",
   "execution_count": 1,
   "metadata": {
    "collapsed": true
   },
   "outputs": [],
   "source": [
    "import numpy as np\n",
    "import matplotlib.pyplot as plt\n",
    "import os\n",
    "import sys\n",
    "import scipy.io as sio"
   ]
  },
  {
   "cell_type": "code",
   "execution_count": 2,
   "metadata": {
    "collapsed": false
   },
   "outputs": [],
   "source": [
    "sys.path.append('../scripts/')"
   ]
  },
  {
   "cell_type": "code",
   "execution_count": 3,
   "metadata": {
    "collapsed": false
   },
   "outputs": [],
   "source": [
    "import bicorr as bicorr"
   ]
  },
  {
   "cell_type": "code",
   "execution_count": 4,
   "metadata": {
    "collapsed": true
   },
   "outputs": [],
   "source": [
    "%load_ext autoreload\n",
    "%autoreload 2"
   ]
  },
  {
   "cell_type": "markdown",
   "metadata": {},
   "source": [
    "# Look at what I did before\n",
    "\n",
    "In generating the `bicorr` file, I had to parse `cced` and calculate `\\Delta t` for all detectors in a bicorrelation event. I want to repeat the process now, but on all events rather than on bicorrelation events only.\n",
    "\n",
    "Is there any way I can use `pandas` to organize the data better?\n",
    "\n",
    "I am going to work with the data that I used in the `generate_bicorr` analysis. Store the folder path for convenience. Note: This is a tiny file with only 10,000 lines of data, so the plots here will not look smooth at all. "
   ]
  },
  {
   "cell_type": "code",
   "execution_count": 5,
   "metadata": {
    "collapsed": true
   },
   "outputs": [],
   "source": [
    "data_path = '../datar'"
   ]
  },
  {
   "cell_type": "code",
   "execution_count": 6,
   "metadata": {
    "collapsed": false
   },
   "outputs": [
    {
     "data": {
      "text/plain": [
       "['1',\n",
       " '2',\n",
       " 'cced1',\n",
       " 'cced1_note.md',\n",
       " 'cced1_part',\n",
       " 'cced1_part_note.md',\n",
       " 'singles_hist.npz',\n",
       " 'sparse_bhm.npz',\n",
       " 'timeOffset.txt',\n",
       " 'timeOffset_note.txt']"
      ]
     },
     "execution_count": 6,
     "metadata": {},
     "output_type": "execute_result"
    }
   ],
   "source": [
    "os.listdir(data_path)"
   ]
  },
  {
   "cell_type": "markdown",
   "metadata": {},
   "source": [
    "# Import time offset data, build channel lists\n",
    "\n",
    "I am going to follow the process that I developed in `generate_bicorr`, which is available online: <https://github.com/pfschus/fission_bicorrelation/blob/master/analysis/generate_bicorr_from_cced.ipynb>"
   ]
  },
  {
   "cell_type": "code",
   "execution_count": 12,
   "metadata": {
    "collapsed": false
   },
   "outputs": [
    {
     "data": {
      "text/plain": [
       "['detector_positions.xlsx',\n",
       " 'det_df.csv',\n",
       " 'det_df.pkl',\n",
       " 'det_df_pairs_angles.csv',\n",
       " 'det_df_pairs_angles.pkl',\n",
       " 'lanl_detector_angles.mat',\n",
       " 'lanl_detector_angles_note.md']"
      ]
     },
     "execution_count": 12,
     "metadata": {},
     "output_type": "execute_result"
    }
   ],
   "source": [
    "os.listdir('../meas_info/')"
   ]
  },
  {
   "cell_type": "code",
   "execution_count": 13,
   "metadata": {
    "collapsed": false
   },
   "outputs": [
    {
     "data": {
      "text/plain": [
       "'../datar\\\\timeOffset.txt'"
      ]
     },
     "execution_count": 13,
     "metadata": {},
     "output_type": "execute_result"
    }
   ],
   "source": [
    "os.path.join(data_path,'timeOffset.txt')"
   ]
  },
  {
   "cell_type": "code",
   "execution_count": 14,
   "metadata": {
    "collapsed": true
   },
   "outputs": [],
   "source": [
    "timeOffsetData = np.genfromtxt(os.path.join(data_path,'timeOffset.txt'))"
   ]
  },
  {
   "cell_type": "code",
   "execution_count": 16,
   "metadata": {
    "collapsed": false
   },
   "outputs": [
    {
     "name": "stdout",
     "output_type": "stream",
     "text": [
      "Fission chamber channels: [ 0 16 32]\n",
      "Detector channels: [ 1  2  3  4  5  6  7  8  9 10 11 12 13 14 15 17 18 19 20 21 22 23 24 25 26\n",
      " 27 28 29 30 31 33 34 35 36 37 38 39 40 41 42 43 44 45 46 47]\n",
      "Number of detectors: 45\n",
      "Number of detector pairs: 990\n"
     ]
    }
   ],
   "source": [
    "chList, fcList, detList, num_dets, num_det_pairs = bicorr.build_ch_lists(print_flag=True)"
   ]
  },
  {
   "cell_type": "code",
   "execution_count": 22,
   "metadata": {
    "collapsed": true
   },
   "outputs": [],
   "source": [
    "X, Y = np.meshgrid(chList, chList)"
   ]
  },
  {
   "cell_type": "code",
   "execution_count": 34,
   "metadata": {
    "collapsed": false
   },
   "outputs": [
    {
     "data": {
      "image/png": "[encoded data removed]",
      "text/plain": [
       "<matplotlib.figure.Figure at 0xc0651d0>"
      ]
     },
     "metadata": {},
     "output_type": "display_data"
    }
   ],
   "source": [
    "plt.scatter(X, Y, c=timeOffsetData, s=14,edgecolor='none', marker='s')\n",
    "cbar = plt.colorbar()\n",
    "cbar.set_label('Time offset (ns)')\n",
    "plt.axes().set_aspect('equal')\n",
    "plt.xlabel('Detector channel 1')\n",
    "plt.ylabel('Detector channel 2')\n",
    "plt.title('Time offset values')\n",
    "plt.show()"
   ]
  },
  {
   "cell_type": "markdown",
   "metadata": {},
   "source": [
    "The syntax for calling a value from timeOffsetData is:\n",
    "`timeOffsetData[d1][d2]`\n",
    "\n",
    "where `d1` is the first detector channel number and `d2` is the second detector channel number. In all cases, `d1` must be less than `d2`. The indices where `d1` is greater than `d2` are empty in `timeDataOffset`."
   ]
  },
  {
   "cell_type": "markdown",
   "metadata": {},
   "source": [
    "# Start with the `cced` file\n",
    "\n",
    "Go back to one I did in the process of generating the `bicorr` file. Borrowing techniques from `bicorr.generate_bicorr`. \n",
    "\n",
    "The columns in the `cced` file are:\n",
    "\n",
    "* 1) event number, `event`\n",
    "* 2) channel number, `detector`\n",
    "* 3) particle (1=n, 2=g) `particle_type`\n",
    "* 4) time, $ns$ `time`\n",
    "* 5) PSD total integral `totint`\n",
    "* 6) pulse height `height`\n",
    "\n",
    "## Load `cced` file\n",
    "\n",
    "I'm going to work with the `cced` file in the folder `../2016_11_30_pfs_generate_bicorr_from_cced/1`. "
   ]
  },
  {
   "cell_type": "code",
   "execution_count": 35,
   "metadata": {
    "collapsed": true
   },
   "outputs": [],
   "source": [
    "ccedType = np.dtype([('event', np.int32), ('detector', np.int8), ('particle_type', np.int8), ('time', np.float16), ('integral', np.float32), ('height', np.float32)])"
   ]
  },
  {
   "cell_type": "code",
   "execution_count": 36,
   "metadata": {
    "collapsed": false
   },
   "outputs": [],
   "source": [
    "data = np.genfromtxt(os.path.join(data_path,'cced1'),dtype=ccedType)"
   ]
  },
  {
   "cell_type": "code",
   "execution_count": 37,
   "metadata": {
    "collapsed": false
   },
   "outputs": [
    {
     "data": {
      "text/plain": [
       "(1, 7, 2, 60.4375, 1.6517200469970703, 0.2016499936580658)"
      ]
     },
     "execution_count": 37,
     "metadata": {},
     "output_type": "execute_result"
    }
   ],
   "source": [
    "data[0]"
   ]
  },
  {
   "cell_type": "markdown",
   "metadata": {},
   "source": [
    "## Loop through each event\n",
    "\n",
    "* Store each cced event's contents\n",
    "* Identify detector channels\n",
    "* Are corresponding fc channels present?\n",
    "* For those that are ^, calculate $\\Delta t$"
   ]
  },
  {
   "cell_type": "code",
   "execution_count": 38,
   "metadata": {
    "collapsed": false
   },
   "outputs": [],
   "source": [
    "print_flag = False\n",
    "\n",
    "# l is the line number of the current line, starting at 0.\n",
    "# e is the event number of the current line, starting at 1\n",
    "\n",
    "# eventNum is the current event number, extending from lines i to j.\n",
    "eventNum = data[0]['event']; # Start with the first event in the data chunk.\n",
    "                             # If reading entire file, this is 1. \n",
    "                             # If reading a chunk, this may be higher.\n",
    "i = 0;                       # First line number of first event is always 0\n",
    "\n",
    "# This is a clever way of keeping track what line you're on. Enumerate through the event numbers, `e`, and python also keeps track of the line number `l`.\n",
    "for l, e in enumerate(data[:200]['event']):\n",
    "    if print_flag: print(\"Reading line: \",l,\"; event: \",e)\n",
    "    \n",
    "    if e == eventNum: # Still on the same event\n",
    "        pass\n",
    "    if e != eventNum: # Store info from current event, move onto next event.\n",
    "        j = l         # Store line number\n",
    "        n_ints = j-i  # Number interactions in current event\n",
    "        if print_flag: print(n_ints)\n",
    "            \n",
    "        if n_ints >= 2:# At least two channels\n",
    "            ccedEvent = data[i:j][:]   # Data in this event\n",
    "            chs_present = ccedEvent[:]['detector']   # What channels triggered?\n",
    "            chs_bool = np.in1d(chs_present,detList)  # True = detector, False = fission chamber\n",
    "            dets_present = chs_present[chs_bool]\n",
    "            fc_corr = (16*np.floor(dets_present/16)).astype(int) # Corr fc for each det ch\n",
    "            fc_bool = np.in1d(fc_corr, chs_present) # Did fc corr trigger?\n",
    "            \n",
    "            if print_flag: print(i,j,ccedEvent)\n",
    "            if print_flag: print('Chs:', chs_present,chs_bool,'Dets:',dets_present,fc_corr,fc_bool)\n",
    "            \n",
    "            if sum(fc_bool) >=1 : # At least one det-fc pair triggered\n",
    "                dets_present = dets_present[fc_bool]\n",
    "                fc_corr = fc_corr[fc_bool]\n",
    "                if print_flag: print(e-1, dets_present, fc_corr)\n",
    "            \n",
    "                # Set up vectors\n",
    "                det_indices = np.zeros(len(dets_present),dtype=np.int8) # det in chs_present\n",
    "                fc_indices  = np.zeros(len(fc_corr),dtype=np.int8) # fc in chs_present\n",
    "                time_offset = np.zeros(len(dets_present),dtype=np.float16) # time offset\n",
    "                \n",
    "                for d in range(0,len(dets_present),1):\n",
    "                    det_indices = np.where(chs_present == dets_present[d])[0]\n",
    "                    fc_indices = np.where(chs_present == fc_corr[d])[0]\n",
    "                    time_offset[d] = timeOffsetData[fc_corr[d]][dets_present[d]]\n",
    "                    if print_flag: print(det_indices, fc_indices, time_offset)\n",
    "                \n",
    "                # Store dt and particle type for each detector event\n",
    "                dt       = ccedEvent[det_indices]['time']-ccedEvent[fc_indices]['time']+time_offset\n",
    "                par_type = ccedEvent[det_indices]['particle_type']\n",
    "                if print_flag: print(dt, par_type)\n",
    "                \n",
    "                # Store to histogram here! (Filled in later section)\n",
    "            \n",
    "        \n",
    "        eventNum = e      # Move onto the next event\n",
    "        i = l             # Current line is the first line for next event\n",
    "        "
   ]
  },
  {
   "cell_type": "markdown",
   "metadata": {},
   "source": [
    "# Set up histogram\n",
    "\n",
    "I need to store a histogram of counts vs. $\\Delta t$ for each detector channel. Set it up."
   ]
  },
  {
   "cell_type": "code",
   "execution_count": 39,
   "metadata": {
    "collapsed": false
   },
   "outputs": [
    {
     "data": {
      "text/plain": [
       "45"
      ]
     },
     "execution_count": 39,
     "metadata": {},
     "output_type": "execute_result"
    }
   ],
   "source": [
    "num_dets"
   ]
  },
  {
   "cell_type": "markdown",
   "metadata": {},
   "source": [
    "What should my time bins be? I want to store more information than I need but not take up too much disk space. This is only a 2D array, so that should not be a problem."
   ]
  },
  {
   "cell_type": "code",
   "execution_count": 40,
   "metadata": {
    "collapsed": false
   },
   "outputs": [
    {
     "name": "stdout",
     "output_type": "stream",
     "text": [
      "Built array of dt bin edges from -300 to 300 in 2400 steps of 0.25 ns.\n"
     ]
    }
   ],
   "source": [
    "dt_bin_edges, num_dt_bins = bicorr.build_dt_bin_edges(-300,300,0.25,True)"
   ]
  },
  {
   "cell_type": "markdown",
   "metadata": {},
   "source": [
    "## Allocate memory\n",
    "* Dimension 0: particle type (0=n,1=g)\n",
    "* Dimension 1: detector channel (need to build a dict_det_to_index for this)  \n",
    "* Dimension 2: dt bin for detector"
   ]
  },
  {
   "cell_type": "code",
   "execution_count": 41,
   "metadata": {
    "collapsed": false
   },
   "outputs": [],
   "source": [
    "singles_hist = np.zeros((2,num_dets,num_dt_bins),dtype=np.uint64)"
   ]
  },
  {
   "cell_type": "code",
   "execution_count": 42,
   "metadata": {
    "collapsed": false
   },
   "outputs": [
    {
     "data": {
      "text/plain": [
       "(2, 45, 2400)"
      ]
     },
     "execution_count": 42,
     "metadata": {},
     "output_type": "execute_result"
    }
   ],
   "source": [
    "singles_hist.shape"
   ]
  },
  {
   "cell_type": "markdown",
   "metadata": {},
   "source": [
    "## Implement det # -> channel index\n",
    "\n",
    "I have already built the channel lists, so I can use that. \n",
    "\n",
    "`det_df` does not apply here because that is looking at detector pairs. I am looking at singles events now."
   ]
  },
  {
   "cell_type": "code",
   "execution_count": 47,
   "metadata": {
    "collapsed": false
   },
   "outputs": [
    {
     "data": {
      "text/html": [
       "<div>\n",
       "<table border=\"1\" class=\"dataframe\">\n",
       "  <thead>\n",
       "    <tr style=\"text-align: right;\">\n",
       "      <th></th>\n",
       "      <th>d1</th>\n",
       "      <th>d2</th>\n",
       "      <th>d1d2</th>\n",
       "      <th>angle</th>\n",
       "    </tr>\n",
       "  </thead>\n",
       "  <tbody>\n",
       "    <tr>\n",
       "      <th>0</th>\n",
       "      <td>1</td>\n",
       "      <td>2</td>\n",
       "      <td>102</td>\n",
       "      <td>15.0</td>\n",
       "    </tr>\n",
       "    <tr>\n",
       "      <th>1</th>\n",
       "      <td>1</td>\n",
       "      <td>3</td>\n",
       "      <td>103</td>\n",
       "      <td>30.0</td>\n",
       "    </tr>\n",
       "    <tr>\n",
       "      <th>2</th>\n",
       "      <td>1</td>\n",
       "      <td>4</td>\n",
       "      <td>104</td>\n",
       "      <td>45.0</td>\n",
       "    </tr>\n",
       "    <tr>\n",
       "      <th>3</th>\n",
       "      <td>1</td>\n",
       "      <td>5</td>\n",
       "      <td>105</td>\n",
       "      <td>60.0</td>\n",
       "    </tr>\n",
       "    <tr>\n",
       "      <th>4</th>\n",
       "      <td>1</td>\n",
       "      <td>6</td>\n",
       "      <td>106</td>\n",
       "      <td>75.0</td>\n",
       "    </tr>\n",
       "  </tbody>\n",
       "</table>\n",
       "</div>"
      ],
      "text/plain": [
       "   d1  d2  d1d2  angle\n",
       "0   1   2   102   15.0\n",
       "1   1   3   103   30.0\n",
       "2   1   4   104   45.0\n",
       "3   1   5   105   60.0\n",
       "4   1   6   106   75.0"
      ]
     },
     "execution_count": 47,
     "metadata": {},
     "output_type": "execute_result"
    }
   ],
   "source": [
    "det_df.head()dd"
   ]
  },
  {
   "cell_type": "code",
   "execution_count": 48,
   "metadata": {
    "collapsed": false
   },
   "outputs": [],
   "source": [
    "det_indices = np.arange(num_dets)"
   ]
  },
  {
   "cell_type": "code",
   "execution_count": 49,
   "metadata": {
    "collapsed": true
   },
   "outputs": [],
   "source": [
    "dict_det_to_index = dict(zip(detList,det_indices))\n",
    "dict_index_to_det = dict(zip(det_indices,detList))"
   ]
  },
  {
   "cell_type": "code",
   "execution_count": 50,
   "metadata": {
    "collapsed": false
   },
   "outputs": [
    {
     "data": {
      "text/plain": [
       "41"
      ]
     },
     "execution_count": 50,
     "metadata": {},
     "output_type": "execute_result"
    }
   ],
   "source": [
    "dict_det_to_index[44]"
   ]
  },
  {
   "cell_type": "markdown",
   "metadata": {},
   "source": [
    "Actually... can I just use the channel list directly?"
   ]
  },
  {
   "cell_type": "code",
   "execution_count": 39,
   "metadata": {
    "collapsed": false
   },
   "outputs": [
    {
     "data": {
      "text/plain": [
       "array([ 1,  2,  3,  4,  5,  6,  7,  8,  9, 10, 11, 12, 13, 14, 15, 17, 18,\n",
       "       19, 20, 21, 22, 23, 24, 25, 26, 27, 28, 29, 30, 31, 33, 34, 35, 36,\n",
       "       37, 38, 39, 40, 41, 42, 43, 44, 45, 46, 47])"
      ]
     },
     "execution_count": 39,
     "metadata": {},
     "output_type": "execute_result"
    }
   ],
   "source": [
    "detList"
   ]
  },
  {
   "cell_type": "code",
   "execution_count": 40,
   "metadata": {
    "collapsed": false
   },
   "outputs": [
    {
     "data": {
      "text/plain": [
       "array([[0]], dtype=int64)"
      ]
     },
     "execution_count": 40,
     "metadata": {},
     "output_type": "execute_result"
    }
   ],
   "source": [
    "np.argwhere(detList==1)"
   ]
  },
  {
   "cell_type": "markdown",
   "metadata": {},
   "source": [
    "Do a quick time test to compare the two."
   ]
  },
  {
   "cell_type": "code",
   "execution_count": 41,
   "metadata": {
    "collapsed": false
   },
   "outputs": [
    {
     "name": "stdout",
     "output_type": "stream",
     "text": [
      "The slowest run took 34.64 times longer than the fastest. This could mean that an intermediate result is being cached.\n",
      "10000000 loops, best of 3: 92.8 ns per loop\n"
     ]
    }
   ],
   "source": [
    "%timeit dict_det_to_index[44]"
   ]
  },
  {
   "cell_type": "code",
   "execution_count": 42,
   "metadata": {
    "collapsed": false
   },
   "outputs": [
    {
     "name": "stdout",
     "output_type": "stream",
     "text": [
      "The slowest run took 7.13 times longer than the fastest. This could mean that an intermediate result is being cached.\n",
      "100000 loops, best of 3: 4.8 µs per loop\n"
     ]
    }
   ],
   "source": [
    "%timeit np.argwhere(detList==44)"
   ]
  },
  {
   "cell_type": "markdown",
   "metadata": {},
   "source": [
    "The dictionary is much faster by 50x. Go with that."
   ]
  },
  {
   "cell_type": "markdown",
   "metadata": {},
   "source": [
    "# Fill histogram\n",
    "\n",
    "Add code within the loop to store events to the histogram.\n",
    "\n",
    "I will calculate which bin the `dt` value falls into, and increment the count in that bin by 1. I must also account for the particle type. Copy the loop from earlier and figure out the code. "
   ]
  },
  {
   "cell_type": "code",
   "execution_count": 51,
   "metadata": {
    "collapsed": false
   },
   "outputs": [],
   "source": [
    "print_flag = False\n",
    "\n",
    "# l is the line number of the current line, starting at 0.\n",
    "# e is the event number of the current line, starting at 1\n",
    "\n",
    "# eventNum is the current event number, extending from lines i to j.\n",
    "eventNum = data[0]['event']; # Start with the first event in the data chunk.\n",
    "                             # If reading entire file, this is 1. \n",
    "                             # If reading a chunk, this may be higher.\n",
    "i = 0;                       # First line number of first event is always 0\n",
    "\n",
    "# Calculate important things about dt_bin_edges\n",
    "# Time indices\n",
    "dt_min = np.min(dt_bin_edges); dt_max = np.max(dt_bin_edges)\n",
    "dt_step = dt_bin_edges[1]-dt_bin_edges[0]\n",
    "num_dt_bins = len(dt_bin_edges)-1\n",
    "\n",
    "# This is a clever way of keeping track what line you're on. Enumerate through the event numbers, `e`, and python also keeps track of the line number `l`.\n",
    "for l, e in enumerate(data['event']):\n",
    "    if print_flag: print(\"Reading line: \",l,\"; event: \",e)\n",
    "    \n",
    "    if e == eventNum: # Still on the same event\n",
    "        pass\n",
    "    if e != eventNum: # Store info from current event, move onto next event.\n",
    "        j = l         # Store line number\n",
    "        n_ints = j-i  # Number interactions in current event\n",
    "        if print_flag: print(n_ints)\n",
    "            \n",
    "        if n_ints >= 2:# At least two channels\n",
    "            ccedEvent = data[i:j][:]   # Data in this event\n",
    "            chs_present = ccedEvent[:]['detector']   # What channels triggered?\n",
    "            chs_bool = np.in1d(chs_present,detList)  # True = detector, False = fission chamber\n",
    "            dets_present = chs_present[chs_bool]\n",
    "            fc_corr = (16*np.floor(dets_present/16)).astype(int) # Corr fc for each det ch\n",
    "            fc_bool = np.in1d(fc_corr, chs_present) # Did fc corr trigger?\n",
    "            \n",
    "            if print_flag: print(i,j,ccedEvent)\n",
    "            if print_flag: print('Chs:', chs_present,chs_bool,'Dets:',dets_present,fc_corr,fc_bool)\n",
    "            \n",
    "            if sum(fc_bool) >=1 : # At least one det-fc pair triggered\n",
    "                dets_present = dets_present[fc_bool]\n",
    "                fc_corr = fc_corr[fc_bool]\n",
    "                if print_flag: print(e-1, dets_present, fc_corr)\n",
    "            \n",
    "                # Set up vectors\n",
    "                det_indices = np.zeros(len(dets_present),dtype=np.int8) # det in chs_present\n",
    "                fc_indices  = np.zeros(len(fc_corr),dtype=np.int8) # fc in chs_present\n",
    "                time_offset = np.zeros(len(dets_present),dtype=np.float16) # time offset\n",
    "                \n",
    "                for d in range(0,len(dets_present),1):\n",
    "                    det_indices[d] = np.where(chs_present == dets_present[d])[0]\n",
    "                    fc_indices[d] = np.where(chs_present == fc_corr[d])[0]\n",
    "                    time_offset[d] = timeOffsetData[fc_corr[d]][dets_present[d]]\n",
    "                    if print_flag: print(det_indices, fc_indices, time_offset)\n",
    "                \n",
    "                # Store dt and particle type for each detector event\n",
    "                dt       = ccedEvent[det_indices]['time']-ccedEvent[fc_indices]['time']+time_offset\n",
    "                par_type = ccedEvent[det_indices]['particle_type']\n",
    "                if print_flag: pass\n",
    "                \n",
    "                # Store to histogram here! (Filled in later section)\n",
    "                for d in np.arange(len(dets_present)): # Loop through verified singles\n",
    "                    if print_flag: print(d,'of:',len(dt))\n",
    "                    if print_flag: print(dt[d])\n",
    "                    if print_flag: print(par_type[d])\n",
    "                    t_i = int(np.floor((dt[d]-dt_min)/dt_step))\n",
    "                    t_i_check = np.logical_and(t_i>=0, t_i<num_dt_bins) # Within range?\n",
    "                    if print_flag: print('t_i:',t_i)\n",
    "                    \n",
    "                    if t_i_check:\n",
    "                        singles_hist[par_type[d]-1,dict_det_to_index[dets_present[d]],t_i]+= 1\n",
    "                        \n",
    "        eventNum = e      # Move onto the next event\n",
    "        i = l             # Current line is the first line for next event\n",
    "        "
   ]
  },
  {
   "cell_type": "code",
   "execution_count": 52,
   "metadata": {
    "collapsed": false
   },
   "outputs": [
    {
     "data": {
      "text/plain": [
       "2219"
      ]
     },
     "execution_count": 52,
     "metadata": {},
     "output_type": "execute_result"
    }
   ],
   "source": [
    "np.sum(singles_hist)"
   ]
  },
  {
   "cell_type": "code",
   "execution_count": 53,
   "metadata": {
    "collapsed": false
   },
   "outputs": [
    {
     "data": {
      "text/plain": [
       "(2, 45, 2400)"
      ]
     },
     "execution_count": 53,
     "metadata": {},
     "output_type": "execute_result"
    }
   ],
   "source": [
    "singles_hist.shape"
   ]
  },
  {
   "cell_type": "code",
   "execution_count": 54,
   "metadata": {
    "collapsed": false
   },
   "outputs": [
    {
     "data": {
      "image/png": "[encoded data removed]",
      "text/plain": [
       "<matplotlib.figure.Figure at 0xbfc9ef0>"
      ]
     },
     "metadata": {},
     "output_type": "display_data"
    }
   ],
   "source": [
    "dt_bin_centers = (dt_bin_edges[:-1]+dt_bin_edges[1:])/2\n",
    "plt.plot(dt_bin_centers,np.sum(singles_hist,axis=(0,1)))\n",
    "plt.xlabel('Time (ns)')\n",
    "plt.ylabel('Number of events')\n",
    "plt.title('TOF distribution, all events')\n",
    "plt.yscale('log')\n",
    "plt.show()"
   ]
  },
  {
   "cell_type": "code",
   "execution_count": 55,
   "metadata": {
    "collapsed": false
   },
   "outputs": [
    {
     "data": {
      "text/plain": [
       "(45, 2400)"
      ]
     },
     "execution_count": 55,
     "metadata": {},
     "output_type": "execute_result"
    }
   ],
   "source": [
    "singles_hist[0,:,:].shape"
   ]
  },
  {
   "cell_type": "code",
   "execution_count": 56,
   "metadata": {
    "collapsed": false
   },
   "outputs": [
    {
     "data": {
      "image/png": "[encoded data removed]",
      "text/plain": [
       "<matplotlib.figure.Figure at 0xbea5278>"
      ]
     },
     "metadata": {},
     "output_type": "display_data"
    }
   ],
   "source": [
    "dt_bin_centers = (dt_bin_edges[:-1]+dt_bin_edges[1:])/2\n",
    "plt.plot(dt_bin_centers,np.sum(singles_hist[0,:,:],axis=(0)))\n",
    "plt.plot(dt_bin_centers,np.sum(singles_hist[1,:,:],axis=(0)))\n",
    "plt.xlabel('Time (ns)')\n",
    "plt.ylabel('Number of events')\n",
    "plt.title('TOF distribution, all detectors')\n",
    "plt.legend(['N','G'])\n",
    "plt.yscale('log')\n",
    "plt.show()"
   ]
  },
  {
   "cell_type": "markdown",
   "metadata": {},
   "source": [
    "This looks good to me. This is only a few events, so I want to functionalize this and run it on the larger data sets on the cluster."
   ]
  },
  {
   "cell_type": "markdown",
   "metadata": {},
   "source": [
    "# Store histogram to file\n",
    "\n",
    "Save histogram and dt_bin_edges. These should be small enough to save to a .mat file, but I'll use the `npz` format to keep things consistent. How large will `singles_hist` be?"
   ]
  },
  {
   "cell_type": "code",
   "execution_count": 49,
   "metadata": {
    "collapsed": false
   },
   "outputs": [
    {
     "data": {
      "text/plain": [
       "1728000"
      ]
     },
     "execution_count": 49,
     "metadata": {},
     "output_type": "execute_result"
    }
   ],
   "source": [
    "singles_hist.nbytes"
   ]
  },
  {
   "cell_type": "markdown",
   "metadata": {},
   "source": [
    "So approximately 1.7 MB. That is perfectly acceptable."
   ]
  },
  {
   "cell_type": "code",
   "execution_count": 50,
   "metadata": {
    "collapsed": true
   },
   "outputs": [],
   "source": [
    "np.savez(os.path.join(data_path,'singles_hist'),singles_hist=singles_hist, dict_det_to_index=dict_det_to_index, dt_bin_edges = dt_bin_edges)"
   ]
  },
  {
   "cell_type": "markdown",
   "metadata": {},
   "source": [
    "# Functionalize this"
   ]
  },
  {
   "cell_type": "code",
   "execution_count": 60,
   "metadata": {
    "collapsed": false
   },
   "outputs": [
    {
     "name": "stdout",
     "output_type": "stream",
     "text": [
      "Help on function build_singles_hist in module bicorr:\n",
      "\n",
      "build_singles_hist(cced_filename, cced_path, plot_flag=True, fig_folder='fig', show_flag=False, save_flag=False)\n",
      "    Parse cced file and generate histogram of singles timing information.\n",
      "    \n",
      "    Parameters\n",
      "    ----------\n",
      "    cced_filename : str\n",
      "    cced_path : str\n",
      "    plot_flag : bool, optional\n",
      "    fig_folder : str, optional\n",
      "    show_flag : bool, optional\n",
      "    save_flag : bool, optional\n",
      "    \n",
      "    Returns\n",
      "    -------\n",
      "    singles_hist : ndarray\n",
      "        Histogram of singles timing information\n",
      "        Dimension 0: particle type, 0=n, 1=g\n",
      "        Dimension 1: detector channel\n",
      "        Dimension 2: dt bin\n",
      "    dt_bin_edges : ndarray\n",
      "        Time bin array\n",
      "    dict_det_to_index : dict\n",
      "        Dict from detector channel number to index in singles_hist\n",
      "\n"
     ]
    }
   ],
   "source": [
    "help(bicorr.build_singles_hist)"
   ]
  },
  {
   "cell_type": "code",
   "execution_count": 78,
   "metadata": {
    "collapsed": false
   },
   "outputs": [],
   "source": [
    "os.chdir('../methods/')"
   ]
  },
  {
   "cell_type": "code",
   "execution_count": 82,
   "metadata": {
    "collapsed": false
   },
   "outputs": [
    {
     "name": "stderr",
     "output_type": "stream",
     "text": [
      "100%|##########| 10000/10000 [00:00<00:00, 29498.53it/s]\n"
     ]
    },
    {
     "data": {
      "image/png": "[encoded data removed]",
      "text/plain": [
       "<matplotlib.figure.Figure at 0xbd6ae10>"
      ]
     },
     "metadata": {},
     "output_type": "display_data"
    }
   ],
   "source": [
    "singles_hist, dt_bin_edges, dict_det_to_index = bicorr.build_singles_hist('cced1',data_path,True,show_flag=True, save_flag = True)"
   ]
  },
  {
   "cell_type": "code",
   "execution_count": 83,
   "metadata": {
    "collapsed": false
   },
   "outputs": [
    {
     "data": {
      "text/plain": [
       "8"
      ]
     },
     "execution_count": 83,
     "metadata": {},
     "output_type": "execute_result"
    }
   ],
   "source": [
    "np.max(singles_hist)"
   ]
  },
  {
   "cell_type": "markdown",
   "metadata": {},
   "source": [
    "I don't understand why the max here is only 8. It looks more like over 100 in the plot. What is the deal? Oh... it's because the plot calculates the sum across all detector channels. What is the max of that?"
   ]
  },
  {
   "cell_type": "code",
   "execution_count": 84,
   "metadata": {
    "collapsed": false
   },
   "outputs": [
    {
     "data": {
      "text/plain": [
       "128"
      ]
     },
     "execution_count": 84,
     "metadata": {},
     "output_type": "execute_result"
    }
   ],
   "source": [
    "np.max(np.sum(singles_hist[1,:,:],axis=0))"
   ]
  },
  {
   "cell_type": "markdown",
   "metadata": {},
   "source": [
    "Try directly adding the output from singles_hist to the existing singles_hist"
   ]
  },
  {
   "cell_type": "code",
   "execution_count": 85,
   "metadata": {
    "collapsed": false
   },
   "outputs": [
    {
     "name": "stderr",
     "output_type": "stream",
     "text": [
      "100%|##########| 10000/10000 [00:00<00:00, 30680.97it/s]\n"
     ]
    },
    {
     "data": {
      "image/png": "[encoded data removed]",
      "text/plain": [
       "<matplotlib.figure.Figure at 0xbbda4a8>"
      ]
     },
     "metadata": {},
     "output_type": "display_data"
    }
   ],
   "source": [
    "singles_hist += bicorr.build_singles_hist('cced1',data_path,True,show_flag=True, save_flag = True)[0]"
   ]
  },
  {
   "cell_type": "code",
   "execution_count": 86,
   "metadata": {
    "collapsed": false
   },
   "outputs": [
    {
     "data": {
      "text/plain": [
       "16"
      ]
     },
     "execution_count": 86,
     "metadata": {},
     "output_type": "execute_result"
    }
   ],
   "source": [
    "np.max(singles_hist)"
   ]
  },
  {
   "cell_type": "code",
   "execution_count": 87,
   "metadata": {
    "collapsed": false
   },
   "outputs": [
    {
     "data": {
      "text/plain": [
       "256"
      ]
     },
     "execution_count": 87,
     "metadata": {},
     "output_type": "execute_result"
    }
   ],
   "source": [
    "np.max(np.sum(singles_hist[1,:,:],axis=0))"
   ]
  },
  {
   "cell_type": "markdown",
   "metadata": {},
   "source": [
    "That seems to have worked."
   ]
  },
  {
   "cell_type": "markdown",
   "metadata": {},
   "source": [
    "# Loop through folders\n",
    "\n",
    "For this, I'm going to move to the working directory where I'll actually run the code because all of my scripts are set up for that."
   ]
  },
  {
   "cell_type": "code",
   "execution_count": 7,
   "metadata": {
    "collapsed": true
   },
   "outputs": [],
   "source": [
    "os.chdir('../datar')"
   ]
  },
  {
   "cell_type": "code",
   "execution_count": 8,
   "metadata": {
    "collapsed": false
   },
   "outputs": [
    {
     "name": "stdout",
     "output_type": "stream",
     "text": [
      "Help on function generate_singles_hist in module bicorr:\n",
      "\n",
      "generate_singles_hist(folder_start=1, folder_end=2, save_flag=True, print_flag=True)\n",
      "    Build and store singles histogram for cced# files in folders. Add the histograms together across all of the folders.\n",
      "    \n",
      "    Parameters\n",
      "    ----------\n",
      "    folder_start : int, optional\n",
      "        First folder\n",
      "    folder_end : int, optional\n",
      "        Last folder + 1 (for example, folder_end = 2 will end at folder 1)\n",
      "    save_flag : bool, optional\n",
      "        Save singles_hist, dt_bin_edges, and dict_det_to_index to .npz file?\n",
      "    print_flag : bool, optional\n",
      "        Print status updates?        \n",
      "        \n",
      "    Returns\n",
      "    -------\n",
      "    singles_hist : ndarray\n",
      "        Histogram of singles timing information\n",
      "        Dimension 0: particle type, 0=n, 1=g\n",
      "        Dimension 1: detector channel\n",
      "        Dimension 2: dt bin\n",
      "    dt_bin_edges : ndarray\n",
      "        Time bin array\n",
      "    dict_det_to_index : dict\n",
      "        Dict from detector channel number to index in singles_hist\n",
      "\n"
     ]
    }
   ],
   "source": [
    "help(bicorr.generate_singles_hist)"
   ]
  },
  {
   "cell_type": "code",
   "execution_count": 9,
   "metadata": {
    "collapsed": false
   },
   "outputs": [
    {
     "name": "stdout",
     "output_type": "stream",
     "text": [
      "Generating singles histogram for cced data in folders:  [1 2]\n",
      "Processing singles hist in folder 1\n",
      "Loading data from:  1\\cced1\n"
     ]
    },
    {
     "name": "stderr",
     "output_type": "stream",
     "text": [
      "100%|##########| 10000/10000 [00:00<00:00, 32154.33it/s]\n"
     ]
    },
    {
     "name": "stdout",
     "output_type": "stream",
     "text": [
      "Processing singles hist in folder 2\n",
      "Loading data from:  2\\cced2\n"
     ]
    },
    {
     "name": "stderr",
     "output_type": "stream",
     "text": [
      "100%|##########| 10000/10000 [00:00<00:00, 30211.49it/s]\n"
     ]
    },
    {
     "name": "stdout",
     "output_type": "stream",
     "text": [
      "Saving singles_hist.npz\n"
     ]
    }
   ],
   "source": [
    "singles_hist, dt_bin_edges, dict_det_to_index = bicorr.generate_singles_hist(1,3);"
   ]
  },
  {
   "cell_type": "markdown",
   "metadata": {},
   "source": [
    "Now try reloading the data using `bicorr.load_singles_hist`."
   ]
  },
  {
   "cell_type": "code",
   "execution_count": 10,
   "metadata": {
    "collapsed": false
   },
   "outputs": [
    {
     "name": "stdout",
     "output_type": "stream",
     "text": [
      "Help on function load_singles_hist in module bicorr:\n",
      "\n",
      "load_singles_hist(filename='singles_hist.npz', filepath=None)\n",
      "    Load existing singles histogram data.\n",
      "    \n",
      "    Parameters\n",
      "    ----------\n",
      "    filename : str, optional\n",
      "        filename of singles_hist data\n",
      "    filepath : str, optional\n",
      "        location of singles_hist data. If None, in cwd\n",
      "        \n",
      "    Returns\n",
      "    -------\n",
      "    singles_hist : ndarray\n",
      "        Histogram of singles timing information\n",
      "        Dimension 0: particle type, 0=n, 1=g\n",
      "        Dimension 1: detector channel\n",
      "        Dimension 2: dt bin\n",
      "    dt_bin_edges : ndarray\n",
      "        Time bin array\n",
      "    dict_det_to_index : dict\n",
      "        Dict from detector channel number to index in singles_hist\n",
      "\n"
     ]
    }
   ],
   "source": [
    "help(bicorr.load_singles_hist)"
   ]
  },
  {
   "cell_type": "code",
   "execution_count": 11,
   "metadata": {
    "collapsed": false
   },
   "outputs": [
    {
     "data": {
      "text/plain": [
       "'C:\\\\Users\\\\pfschus\\\\Box Sync\\\\Projects\\\\fnpc\\\\datar'"
      ]
     },
     "execution_count": 11,
     "metadata": {},
     "output_type": "execute_result"
    }
   ],
   "source": [
    "os.getcwd()"
   ]
  },
  {
   "cell_type": "code",
   "execution_count": 12,
   "metadata": {
    "collapsed": false
   },
   "outputs": [],
   "source": [
    "singles_hist, dt_bin_edges, dict_det_to_index = bicorr.load_singles_hist()"
   ]
  },
  {
   "cell_type": "code",
   "execution_count": 13,
   "metadata": {
    "collapsed": false
   },
   "outputs": [
    {
     "data": {
      "text/plain": [
       "16"
      ]
     },
     "execution_count": 13,
     "metadata": {},
     "output_type": "execute_result"
    }
   ],
   "source": [
    "np.max(singles_hist)"
   ]
  },
  {
   "cell_type": "code",
   "execution_count": 14,
   "metadata": {
    "collapsed": false
   },
   "outputs": [
    {
     "data": {
      "text/plain": [
       "256"
      ]
     },
     "execution_count": 14,
     "metadata": {},
     "output_type": "execute_result"
    }
   ],
   "source": [
    "np.max(np.sum(singles_hist[1,:,:],axis=0))"
   ]
  },
  {
   "cell_type": "markdown",
   "metadata": {},
   "source": [
    "Looks like it saved and reloaded properly. "
   ]
  },
  {
   "cell_type": "code",
   "execution_count": 15,
   "metadata": {
    "collapsed": false
   },
   "outputs": [
    {
     "data": {
      "image/png": "[encoded data removed]",
      "text/plain": [
       "<matplotlib.figure.Figure at 0xb77a080>"
      ]
     },
     "metadata": {},
     "output_type": "display_data"
    }
   ],
   "source": [
    "dt_bin_centers = (dt_bin_edges[:-1]+dt_bin_edges[1:])/2\n",
    "plt.plot(dt_bin_centers,np.sum(singles_hist[0,:,:],axis=(0)))\n",
    "plt.plot(dt_bin_centers,np.sum(singles_hist[1,:,:],axis=(0)))\n",
    "plt.xlabel('Time (ns)')\n",
    "plt.ylabel('Number of events')\n",
    "plt.title('TOF distribution, all detectors')\n",
    "plt.legend(['N','G'])\n",
    "plt.yscale('log')\n",
    "plt.show()"
   ]
  },
  {
   "cell_type": "markdown",
   "metadata": {},
   "source": [
    "I think it is ready to deploy on flux data. "
   ]
  }
 ],
 "metadata": {
  "anaconda-cloud": {},
  "kernelspec": {
   "display_name": "Python [conda root]",
   "language": "python",
   "name": "conda-root-py"
  },
  "language_info": {
   "codemirror_mode": {
    "name": "ipython",
    "version": 3
   },
   "file_extension": ".py",
   "mimetype": "text/x-python",
   "name": "python",
   "nbconvert_exporter": "python",
   "pygments_lexer": "ipython3",
   "version": "3.5.2"
  }
 },
 "nbformat": 4,
 "nbformat_minor": 1
}
