{
 "cells": [
  {
   "cell_type": "markdown",
   "metadata": {
    "collapsed": true
   },
   "source": [
    "Figure out this circular import thing."
   ]
  },
  {
   "cell_type": "code",
   "execution_count": 1,
   "metadata": {},
   "outputs": [],
   "source": [
    "import os\n",
    "import sys"
   ]
  },
  {
   "cell_type": "code",
   "execution_count": 2,
   "metadata": {},
   "outputs": [],
   "source": [
    "sys.path.append('../scripts')"
   ]
  },
  {
   "cell_type": "code",
   "execution_count": 3,
   "metadata": {},
   "outputs": [],
   "source": [
    "%load_ext autoreload\n",
    "%autoreload 2"
   ]
  },
  {
   "cell_type": "code",
   "execution_count": 4,
   "metadata": {},
   "outputs": [],
   "source": [
    "import bicorr as bicorr\n",
    "import bicorr_sim as bicorr_sim"
   ]
  },
  {
   "cell_type": "code",
   "execution_count": 7,
   "metadata": {},
   "outputs": [],
   "source": [
    "det_df = bicorr.load_det_df()\n",
    "dict_det_dist = bicorr.build_dict_det_dist()"
   ]
  },
  {
   "cell_type": "code",
   "execution_count": 8,
   "metadata": {},
   "outputs": [
    {
     "data": {
      "text/plain": [
       "['bicorrCGMF_slice',\n",
       " 'ccedCGMF_slice',\n",
       " 'fig',\n",
       " 'singles_hist.npz',\n",
       " 'singles_hist_e_n.npz']"
      ]
     },
     "execution_count": 8,
     "metadata": {},
     "output_type": "execute_result"
    }
   ],
   "source": [
    "cced_filename = 'ccedCGMF_slice'\n",
    "cced_path = '../analysis/cgmf/datar'\n",
    "\n",
    "os.listdir(cced_path)"
   ]
  },
  {
   "cell_type": "code",
   "execution_count": 9,
   "metadata": {},
   "outputs": [],
   "source": [
    "fig_folder = '../analysis/cgmf/fig'"
   ]
  },
  {
   "cell_type": "code",
   "execution_count": 12,
   "metadata": {},
   "outputs": [
    {
     "name": "stdout",
     "output_type": "stream",
     "text": [
      "write bicorr to: ../analysis/cgmf/datar\\bicorr_test\n"
     ]
    },
    {
     "name": "stderr",
     "output_type": "stream",
     "text": [
      "100%|##########| 10000/10000 [00:00<00:00, 416663.75it/s]\n"
     ]
    }
   ],
   "source": [
    "bicorr_sim.generate_bicorr_sim(os.path.join(cced_path,cced_filename),os.path.join(cced_path,'bicorr_test'))"
   ]
  },
  {
   "cell_type": "code",
   "execution_count": null,
   "metadata": {},
   "outputs": [],
   "source": []
  },
  {
   "cell_type": "code",
   "execution_count": null,
   "metadata": {},
   "outputs": [],
   "source": []
  },
  {
   "cell_type": "code",
   "execution_count": 6,
   "metadata": {},
   "outputs": [
    {
     "data": {
      "text/plain": [
       "['.ipynb_checkpoints',\n",
       " 'build_bhm_both.ipynb',\n",
       " 'build_bhm_with_energy.html',\n",
       " 'build_bhm_with_energy.ipynb',\n",
       " 'build_bicorr_hist_master.html',\n",
       " 'build_bicorr_hist_master.ipynb',\n",
       " 'build_det_df_angles_pairs.html',\n",
       " 'build_det_df_angles_pairs.ipynb',\n",
       " 'build_plot_bhp_e.html',\n",
       " 'build_plot_bhp_e.ipynb',\n",
       " 'calculate_Asym_energy_space.ipynb',\n",
       " 'calculate_Asym_vs_emin_ebin.html',\n",
       " 'calculate_Asym_vs_emin_ebin.ipynb',\n",
       " 'calc_mean_from_histogram.html',\n",
       " 'calc_mean_from_histogram.ipynb',\n",
       " 'coarsen_time_and_normalization.html',\n",
       " 'coarsen_time_and_normalization.ipynb',\n",
       " 'detector_pair_angles.ipynb',\n",
       " 'fig',\n",
       " 'generate_bicorr_from_cced.html',\n",
       " 'generate_bicorr_from_cced.ipynb',\n",
       " 'generate_pair_is.html',\n",
       " 'generate_pair_is.ipynb',\n",
       " 'implement_sparse_matrix.html',\n",
       " 'implement_sparse_matrix.ipynb',\n",
       " 'nn_sum_and_br_subtraction.html',\n",
       " 'nn_sum_and_br_subtraction.ipynb',\n",
       " 'plot_bicorr_hist.html',\n",
       " 'plot_bicorr_hist.ipynb',\n",
       " 'singles_correction.html',\n",
       " 'singles_correction.ipynb',\n",
       " 'singles_correction_e.html',\n",
       " 'singles_correction_e.ipynb',\n",
       " 'singles_histogram.html',\n",
       " 'singles_histogram.ipynb',\n",
       " 'singles_hist_sim_e.html',\n",
       " 'singles_hist_sim_e.ipynb',\n",
       " 'singles_n_sum.html',\n",
       " 'singles_n_sum.ipynb',\n",
       " 'slices_bhp_by_t.html',\n",
       " 'slices_bhp_by_t.ipynb',\n",
       " 'slices_bhp_e.ipynb',\n",
       " 'time_energy_bin_edges.html',\n",
       " 'time_energy_bin_edges.ipynb',\n",
       " 'tinker.ipynb']"
      ]
     },
     "execution_count": 6,
     "metadata": {},
     "output_type": "execute_result"
    }
   ],
   "source": [
    "os.listdir('../')"
   ]
  },
  {
   "cell_type": "code",
   "execution_count": 8,
   "metadata": {},
   "outputs": [
    {
     "name": "stdout",
     "output_type": "stream",
     "text": [
      "Run for test\n"
     ]
    }
   ],
   "source": [
    "bicorr_test()"
   ]
  },
  {
   "cell_type": "code",
   "execution_count": 11,
   "metadata": {},
   "outputs": [
    {
     "name": "stdout",
     "output_type": "stream",
     "text": [
      "Help on function calc_centers in module bicorr_math:\n",
      "\n",
      "calc_centers(edges)\n",
      "    Simple method for returning centers from an array of bin edges. Calculates center between each point as difference between containing edges. \n",
      "    Example, plt.plot(bicorr.centers(edges),counts,'.k')\n",
      "    Serves as a shortcode to first producing array of bin centers.\n",
      "    \n",
      "    Parameters\n",
      "    ----------\n",
      "    edges : ndarray\n",
      "        Array of bin edges\n",
      "    \n",
      "    Returns\n",
      "    -------\n",
      "    centers : ndarray\n",
      "        Array of bin edges\n",
      "\n"
     ]
    }
   ],
   "source": [
    "help(calc_centers)"
   ]
  },
  {
   "cell_type": "code",
   "execution_count": null,
   "metadata": {
    "collapsed": true
   },
   "outputs": [],
   "source": []
  }
 ],
 "metadata": {
  "anaconda-cloud": {},
  "kernelspec": {
   "display_name": "Python [conda root]",
   "language": "python",
   "name": "conda-root-py"
  },
  "language_info": {
   "codemirror_mode": {
    "name": "ipython",
    "version": 3
   },
   "file_extension": ".py",
   "mimetype": "text/x-python",
   "name": "python",
   "nbconvert_exporter": "python",
   "pygments_lexer": "ipython3",
   "version": "3.5.5"
  }
 },
 "nbformat": 4,
 "nbformat_minor": 1
}
