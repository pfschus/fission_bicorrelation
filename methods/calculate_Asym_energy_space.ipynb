{
 "cells": [
  {
   "cell_type": "markdown",
   "metadata": {},
   "source": [
    "# Calculate `Asym` vs. `Emin` from `bhm_e`\n",
    "\n",
    "Rewriting `calc_Asym_vs_emin_energies` for `bhm_e`.\n",
    "\n",
    "P. Schuster  \n",
    "July 18, 2018  "
   ]
  },
  {
   "cell_type": "code",
   "execution_count": 2,
   "metadata": {},
   "outputs": [],
   "source": [
    "import matplotlib\n",
    "import matplotlib.pyplot as plt\n",
    "import seaborn as sns\n",
    "sns.set(style='ticks')\n",
    "\n",
    "import sys\n",
    "import os\n",
    "import os.path\n",
    "import scipy.io as sio\n",
    "\n",
    "import time\n",
    "import numpy as np\n",
    "np.set_printoptions(threshold=np.nan) # print entire matrices\n",
    "import pandas as pd\n",
    "from tqdm import *"
   ]
  },
  {
   "cell_type": "code",
   "execution_count": 3,
   "metadata": {},
   "outputs": [],
   "source": [
    "sys.path.append('../scripts/')"
   ]
  },
  {
   "cell_type": "code",
   "execution_count": 19,
   "metadata": {},
   "outputs": [],
   "source": [
    "import bicorr as bicorr\n",
    "import bicorr_math as bicorr_math\n",
    "import bicorr_plot as bicorr_plot\n",
    "import bicorr_e as bicorr_e\n",
    "import bicorr_sums as bicorr_sums"
   ]
  },
  {
   "cell_type": "code",
   "execution_count": 5,
   "metadata": {},
   "outputs": [],
   "source": [
    "%load_ext autoreload\n",
    "%autoreload 2"
   ]
  },
  {
   "cell_type": "markdown",
   "metadata": {},
   "source": [
    "# Load data"
   ]
  },
  {
   "cell_type": "code",
   "execution_count": 6,
   "metadata": {},
   "outputs": [],
   "source": [
    "det_df = bicorr.load_det_df()"
   ]
  },
  {
   "cell_type": "code",
   "execution_count": 8,
   "metadata": {},
   "outputs": [],
   "source": [
    "chList, fcList, detList, num_dets, num_det_pairs = bicorr.build_ch_lists()\n",
    "dict_pair_to_index, dict_index_to_pair, dict_pair_to_angle = bicorr.build_dict_det_pair(det_df)"
   ]
  },
  {
   "cell_type": "code",
   "execution_count": 11,
   "metadata": {},
   "outputs": [
    {
     "data": {
      "text/plain": [
       "<Figure size 288x216 with 0 Axes>"
      ]
     },
     "metadata": {},
     "output_type": "display_data"
    }
   ],
   "source": [
    "singles_hist_e_n, e_bin_edges, dict_det_to_index, dict_index_to_det = bicorr_e.load_singles_hist_both(filepath = '../analysis/Cf072115_to_Cf072215b/datap/',plot_flag=True, save_flag=True)"
   ]
  },
  {
   "cell_type": "code",
   "execution_count": 12,
   "metadata": {},
   "outputs": [],
   "source": [
    "bhm_e, e_bin_edges, note = bicorr_e.load_bhm_e('../analysis/Cf072115_to_Cf072215b/datap')"
   ]
  },
  {
   "cell_type": "code",
   "execution_count": 39,
   "metadata": {},
   "outputs": [],
   "source": [
    "bhp_e = np.zeros((len(det_df),len(e_bin_edges)-1,len(e_bin_edges)-1))\n",
    "for index in det_df.index.values: # index is same as in `bhm`\n",
    "    bhp_e[index,:,:] = bicorr_e.build_bhp_e(bhm_e,e_bin_edges,pair_is=[index])[0]"
   ]
  },
  {
   "cell_type": "code",
   "execution_count": 40,
   "metadata": {},
   "outputs": [
    {
     "name": "stdout",
     "output_type": "stream",
     "text": [
      "[0.5 0.7 0.9 1.1 1.3 1.5 1.7 1.9 2.1 2.3 2.5 2.7 2.9 3.1 3.3 3.5 3.7 3.9\n",
      " 4.1 4.3 4.5 4.7 4.9]\n",
      "[  8  18  28  38  48  58  68  78  88  98 108 118 128 138 148 158 168 178\n",
      " 188]\n"
     ]
    }
   ],
   "source": [
    "emins = np.arange(0.5,5,.2)\n",
    "emax = 12\n",
    "print(emins)\n",
    "\n",
    "angle_bin_edges = np.arange(8,190,10)\n",
    "print(angle_bin_edges)"
   ]
  },
  {
   "cell_type": "code",
   "execution_count": 43,
   "metadata": {},
   "outputs": [
    {
     "data": {
      "image/png": "[encoded data removed]",
      "text/plain": [
       "<Figure size 288x216 with 1 Axes>"
      ]
     },
     "metadata": {},
     "output_type": "display_data"
    },
    {
     "data": {
      "text/html": [
       "<div>\n",
       "<style scoped>\n",
       "    .dataframe tbody tr th:only-of-type {\n",
       "        vertical-align: middle;\n",
       "    }\n",
       "\n",
       "    .dataframe tbody tr th {\n",
       "        vertical-align: top;\n",
       "    }\n",
       "\n",
       "    .dataframe thead th {\n",
       "        text-align: right;\n",
       "    }\n",
       "</style>\n",
       "<table border=\"1\" class=\"dataframe\">\n",
       "  <thead>\n",
       "    <tr style=\"text-align: right;\">\n",
       "      <th></th>\n",
       "      <th>emin</th>\n",
       "      <th>emax</th>\n",
       "      <th>emin_real</th>\n",
       "      <th>emax_real</th>\n",
       "      <th>Asym</th>\n",
       "      <th>Asym_err</th>\n",
       "    </tr>\n",
       "  </thead>\n",
       "  <tbody>\n",
       "    <tr>\n",
       "      <th>0</th>\n",
       "      <td>0.5</td>\n",
       "      <td>12</td>\n",
       "      <td>12.0</td>\n",
       "      <td>0.500</td>\n",
       "      <td>1.492205</td>\n",
       "      <td>0.031472</td>\n",
       "    </tr>\n",
       "    <tr>\n",
       "      <th>1</th>\n",
       "      <td>0.7</td>\n",
       "      <td>12</td>\n",
       "      <td>12.0</td>\n",
       "      <td>0.675</td>\n",
       "      <td>1.524052</td>\n",
       "      <td>0.032641</td>\n",
       "    </tr>\n",
       "    <tr>\n",
       "      <th>2</th>\n",
       "      <td>0.9</td>\n",
       "      <td>12</td>\n",
       "      <td>12.0</td>\n",
       "      <td>0.875</td>\n",
       "      <td>1.571432</td>\n",
       "      <td>0.036405</td>\n",
       "    </tr>\n",
       "    <tr>\n",
       "      <th>3</th>\n",
       "      <td>1.1</td>\n",
       "      <td>12</td>\n",
       "      <td>12.0</td>\n",
       "      <td>1.075</td>\n",
       "      <td>1.630173</td>\n",
       "      <td>0.037786</td>\n",
       "    </tr>\n",
       "    <tr>\n",
       "      <th>4</th>\n",
       "      <td>1.3</td>\n",
       "      <td>12</td>\n",
       "      <td>12.0</td>\n",
       "      <td>1.275</td>\n",
       "      <td>1.693321</td>\n",
       "      <td>0.040823</td>\n",
       "    </tr>\n",
       "    <tr>\n",
       "      <th>5</th>\n",
       "      <td>1.5</td>\n",
       "      <td>12</td>\n",
       "      <td>12.0</td>\n",
       "      <td>1.475</td>\n",
       "      <td>1.763447</td>\n",
       "      <td>0.045395</td>\n",
       "    </tr>\n",
       "    <tr>\n",
       "      <th>6</th>\n",
       "      <td>1.7</td>\n",
       "      <td>12</td>\n",
       "      <td>12.0</td>\n",
       "      <td>1.675</td>\n",
       "      <td>1.836689</td>\n",
       "      <td>0.050492</td>\n",
       "    </tr>\n",
       "    <tr>\n",
       "      <th>7</th>\n",
       "      <td>1.9</td>\n",
       "      <td>12</td>\n",
       "      <td>12.0</td>\n",
       "      <td>1.875</td>\n",
       "      <td>1.899845</td>\n",
       "      <td>0.054757</td>\n",
       "    </tr>\n",
       "    <tr>\n",
       "      <th>8</th>\n",
       "      <td>2.1</td>\n",
       "      <td>12</td>\n",
       "      <td>12.0</td>\n",
       "      <td>2.075</td>\n",
       "      <td>1.967692</td>\n",
       "      <td>0.060244</td>\n",
       "    </tr>\n",
       "    <tr>\n",
       "      <th>9</th>\n",
       "      <td>2.3</td>\n",
       "      <td>12</td>\n",
       "      <td>12.0</td>\n",
       "      <td>2.275</td>\n",
       "      <td>2.028775</td>\n",
       "      <td>0.062086</td>\n",
       "    </tr>\n",
       "    <tr>\n",
       "      <th>10</th>\n",
       "      <td>2.5</td>\n",
       "      <td>12</td>\n",
       "      <td>12.0</td>\n",
       "      <td>2.475</td>\n",
       "      <td>2.101534</td>\n",
       "      <td>0.066250</td>\n",
       "    </tr>\n",
       "    <tr>\n",
       "      <th>11</th>\n",
       "      <td>2.7</td>\n",
       "      <td>12</td>\n",
       "      <td>12.0</td>\n",
       "      <td>2.675</td>\n",
       "      <td>2.163055</td>\n",
       "      <td>0.074715</td>\n",
       "    </tr>\n",
       "    <tr>\n",
       "      <th>12</th>\n",
       "      <td>2.9</td>\n",
       "      <td>12</td>\n",
       "      <td>12.0</td>\n",
       "      <td>2.875</td>\n",
       "      <td>2.215265</td>\n",
       "      <td>0.087998</td>\n",
       "    </tr>\n",
       "    <tr>\n",
       "      <th>13</th>\n",
       "      <td>3.1</td>\n",
       "      <td>12</td>\n",
       "      <td>12.0</td>\n",
       "      <td>3.075</td>\n",
       "      <td>2.280937</td>\n",
       "      <td>0.100838</td>\n",
       "    </tr>\n",
       "    <tr>\n",
       "      <th>14</th>\n",
       "      <td>3.3</td>\n",
       "      <td>12</td>\n",
       "      <td>12.0</td>\n",
       "      <td>3.275</td>\n",
       "      <td>2.335835</td>\n",
       "      <td>0.110400</td>\n",
       "    </tr>\n",
       "    <tr>\n",
       "      <th>15</th>\n",
       "      <td>3.5</td>\n",
       "      <td>12</td>\n",
       "      <td>12.0</td>\n",
       "      <td>3.475</td>\n",
       "      <td>2.370635</td>\n",
       "      <td>0.129771</td>\n",
       "    </tr>\n",
       "    <tr>\n",
       "      <th>16</th>\n",
       "      <td>3.7</td>\n",
       "      <td>12</td>\n",
       "      <td>12.0</td>\n",
       "      <td>3.675</td>\n",
       "      <td>2.408309</td>\n",
       "      <td>0.147256</td>\n",
       "    </tr>\n",
       "    <tr>\n",
       "      <th>17</th>\n",
       "      <td>3.9</td>\n",
       "      <td>12</td>\n",
       "      <td>12.0</td>\n",
       "      <td>3.875</td>\n",
       "      <td>2.443531</td>\n",
       "      <td>0.166581</td>\n",
       "    </tr>\n",
       "    <tr>\n",
       "      <th>18</th>\n",
       "      <td>4.1</td>\n",
       "      <td>12</td>\n",
       "      <td>12.0</td>\n",
       "      <td>4.075</td>\n",
       "      <td>2.483644</td>\n",
       "      <td>0.206324</td>\n",
       "    </tr>\n",
       "    <tr>\n",
       "      <th>19</th>\n",
       "      <td>4.3</td>\n",
       "      <td>12</td>\n",
       "      <td>12.0</td>\n",
       "      <td>4.275</td>\n",
       "      <td>2.478663</td>\n",
       "      <td>0.221910</td>\n",
       "    </tr>\n",
       "    <tr>\n",
       "      <th>20</th>\n",
       "      <td>4.5</td>\n",
       "      <td>12</td>\n",
       "      <td>12.0</td>\n",
       "      <td>4.475</td>\n",
       "      <td>2.516466</td>\n",
       "      <td>0.234653</td>\n",
       "    </tr>\n",
       "    <tr>\n",
       "      <th>21</th>\n",
       "      <td>4.7</td>\n",
       "      <td>12</td>\n",
       "      <td>12.0</td>\n",
       "      <td>4.675</td>\n",
       "      <td>2.582159</td>\n",
       "      <td>0.284337</td>\n",
       "    </tr>\n",
       "    <tr>\n",
       "      <th>22</th>\n",
       "      <td>4.9</td>\n",
       "      <td>12</td>\n",
       "      <td>12.0</td>\n",
       "      <td>4.875</td>\n",
       "      <td>2.606595</td>\n",
       "      <td>0.320648</td>\n",
       "    </tr>\n",
       "  </tbody>\n",
       "</table>\n",
       "</div>"
      ],
      "text/plain": [
       "    emin  emax  emin_real  emax_real      Asym  Asym_err\n",
       "0    0.5    12       12.0      0.500  1.492205  0.031472\n",
       "1    0.7    12       12.0      0.675  1.524052  0.032641\n",
       "2    0.9    12       12.0      0.875  1.571432  0.036405\n",
       "3    1.1    12       12.0      1.075  1.630173  0.037786\n",
       "4    1.3    12       12.0      1.275  1.693321  0.040823\n",
       "5    1.5    12       12.0      1.475  1.763447  0.045395\n",
       "6    1.7    12       12.0      1.675  1.836689  0.050492\n",
       "7    1.9    12       12.0      1.875  1.899845  0.054757\n",
       "8    2.1    12       12.0      2.075  1.967692  0.060244\n",
       "9    2.3    12       12.0      2.275  2.028775  0.062086\n",
       "10   2.5    12       12.0      2.475  2.101534  0.066250\n",
       "11   2.7    12       12.0      2.675  2.163055  0.074715\n",
       "12   2.9    12       12.0      2.875  2.215265  0.087998\n",
       "13   3.1    12       12.0      3.075  2.280937  0.100838\n",
       "14   3.3    12       12.0      3.275  2.335835  0.110400\n",
       "15   3.5    12       12.0      3.475  2.370635  0.129771\n",
       "16   3.7    12       12.0      3.675  2.408309  0.147256\n",
       "17   3.9    12       12.0      3.875  2.443531  0.166581\n",
       "18   4.1    12       12.0      4.075  2.483644  0.206324\n",
       "19   4.3    12       12.0      4.275  2.478663  0.221910\n",
       "20   4.5    12       12.0      4.475  2.516466  0.234653\n",
       "21   4.7    12       12.0      4.675  2.582159  0.284337\n",
       "22   4.9    12       12.0      4.875  2.606595  0.320648"
      ]
     },
     "execution_count": 43,
     "metadata": {},
     "output_type": "execute_result"
    }
   ],
   "source": [
    "bicorr_sums.calc_Asym_vs_emin_energies(det_df, dict_index_to_det, singles_hist_e_n, e_bin_edges, bhp_e, e_bin_edges, emins, emax, angle_bin_edges, save_flag=False)"
   ]
  },
  {
   "cell_type": "code",
   "execution_count": null,
   "metadata": {},
   "outputs": [],
   "source": []
  }
 ],
 "metadata": {
  "kernelspec": {
   "display_name": "Python [conda env:Anaconda3]",
   "language": "python",
   "name": "conda-env-Anaconda3-py"
  },
  "language_info": {
   "codemirror_mode": {
    "name": "ipython",
    "version": 3
   },
   "file_extension": ".py",
   "mimetype": "text/x-python",
   "name": "python",
   "nbconvert_exporter": "python",
   "pygments_lexer": "ipython3",
   "version": "3.5.5"
  }
 },
 "nbformat": 4,
 "nbformat_minor": 2
}
